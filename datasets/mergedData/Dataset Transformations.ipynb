{
 "cells": [
  {
   "cell_type": "markdown",
   "id": "087e9e46",
   "metadata": {},
   "source": [
    "## Import Libraries & Load Datasets"
   ]
  },
  {
   "cell_type": "code",
   "execution_count": 35,
   "id": "9323bfd3",
   "metadata": {
    "tags": []
   },
   "outputs": [],
   "source": [
    "import pandas as pd\n",
    "import numpy as np\n",
    "import random\n",
    "import boto3"
   ]
  },
  {
   "cell_type": "code",
   "execution_count": 36,
   "id": "a232ac7e",
   "metadata": {
    "tags": []
   },
   "outputs": [],
   "source": [
    "# Load the cleaned datasets from S3\n",
    "# Load cust_seg_df from S3\n",
    "custseg_clean = pd.read_csv('s3://team6datasets/cleanedData/custseg_clean.csv')\n",
    "\n",
    "# Load markcamp_clean from S3\n",
    "markcamp_clean = pd.read_csv('s3://team6datasets/cleanedData/markcamp_clean.csv')\n",
    "\n",
    "# Load onlineretal_clean from S3\n",
    "onlineretail_clean = pd.read_csv('s3://team6datasets/cleanedData/onlineretail_clean.csv')"
   ]
  },
  {
   "cell_type": "markdown",
   "id": "1ebda33e",
   "metadata": {},
   "source": [
    "## Ensure CustomerID column contains sales from actual customers"
   ]
  },
  {
   "cell_type": "code",
   "execution_count": 37,
   "id": "c315d32f",
   "metadata": {
    "tags": []
   },
   "outputs": [],
   "source": [
    "# Extract the list of IDs from markcamp_clean\n",
    "ids = markcamp_clean['ID'].tolist()\n",
    "\n",
    "# Replace 'CustomerID' in 'onlineretail_clean' with 'CustomerIDs' from the 'markcamp_clean' data set\n",
    "onlineretail_clean['CustomerID'] = onlineretail_clean['CustomerID'].apply(lambda x: random.choice(ids))"
   ]
  },
  {
   "cell_type": "code",
   "execution_count": 38,
   "id": "0ad8d38a",
   "metadata": {
    "tags": []
   },
   "outputs": [],
   "source": [
    "# Rename ID column\n",
    "markcamp_clean.rename(columns={'ID': 'CustomerID'}, inplace=True)"
   ]
  },
  {
   "cell_type": "markdown",
   "id": "e0f8cb53",
   "metadata": {},
   "source": [
    "## Add 'CustomerID' column to 'custseg_clean' "
   ]
  },
  {
   "cell_type": "code",
   "execution_count": 39,
   "id": "807b0f4c",
   "metadata": {
    "tags": []
   },
   "outputs": [],
   "source": [
    "# Shuffle the list of IDs to ensure uniqueness\n",
    "unique_ids = np.random.permutation(markcamp_clean['CustomerID'].tolist())\n",
    "\n",
    "# Calculate the number of additional IDs needed\n",
    "num_additional_ids = 51000 - len(unique_ids)\n",
    "\n",
    "# Generate additional fake IDs\n",
    "additional_fake_ids = np.arange(1, num_additional_ids + 1) + np.max(unique_ids)\n",
    "\n",
    "# Combine unique IDs from markcamp_clean['ID'] with additional system-generated IDs\n",
    "all_ids = np.concatenate((unique_ids, additional_fake_ids))\n",
    "\n",
    "# Shuffle all_ids to ensure randomness\n",
    "shuffled_ids = np.random.permutation(all_ids)\n",
    "\n",
    "# Assign the shuffled CustomerIDs to a new column in custseg_clean\n",
    "custseg_clean.insert(0, 'CustomerID', shuffled_ids)"
   ]
  },
  {
   "cell_type": "markdown",
   "id": "ae7289d6",
   "metadata": {},
   "source": [
    "## Merge 'markcamp_clean' & 'custseg_clean' datasets"
   ]
  },
  {
   "cell_type": "code",
   "execution_count": 40,
   "id": "1c1cf6ec",
   "metadata": {
    "tags": []
   },
   "outputs": [
    {
     "name": "stdout",
     "output_type": "stream",
     "text": [
      "Unique Customer Count: 51000\n"
     ]
    }
   ],
   "source": [
    "# Verify individual unique IDs have been assigned to each customer\n",
    "unique_customerseg_count = custseg_clean['CustomerID'].nunique()\n",
    "print(\"Unique Customer Count:\", unique_customerseg_count)\n"
   ]
  },
  {
   "cell_type": "code",
   "execution_count": 41,
   "id": "c38b0cf4",
   "metadata": {
    "tags": []
   },
   "outputs": [
    {
     "name": "stdout",
     "output_type": "stream",
     "text": [
      "Unique Customer Count: 2216\n"
     ]
    }
   ],
   "source": [
    "unique_customer_count = onlineretail_clean['CustomerID'].nunique()\n",
    "print(\"Unique Customer Count:\", unique_customer_count)"
   ]
  },
  {
   "cell_type": "code",
   "execution_count": 42,
   "id": "1e4592ca",
   "metadata": {
    "tags": []
   },
   "outputs": [],
   "source": [
    "# Merge custseg_clean with markcamp_clean on 'CustomerID'\n",
    "custseg_clean = pd.merge(custseg_clean, markcamp_clean, on='CustomerID', how='left')"
   ]
  },
  {
   "cell_type": "code",
   "execution_count": 43,
   "id": "9bdaaeea",
   "metadata": {
    "tags": []
   },
   "outputs": [
    {
     "data": {
      "text/plain": [
       "(51000, 45)"
      ]
     },
     "execution_count": 43,
     "metadata": {},
     "output_type": "execute_result"
    }
   ],
   "source": [
    "custseg_clean.shape"
   ]
  },
  {
   "cell_type": "markdown",
   "id": "54206a92",
   "metadata": {},
   "source": [
    "## Fill profile data to ensure dataset is complete "
   ]
  },
  {
   "cell_type": "code",
   "execution_count": 44,
   "id": "78669527",
   "metadata": {
    "tags": []
   },
   "outputs": [],
   "source": [
    "# Delete unwanted columns\n",
    "columns_to_delete = [\n",
    "    'MntFishProducts', 'MntFruits', 'MntGoldProds', 'MntMeatProducts', \n",
    "    'MntSweetProducts', 'MntWines', 'NumCatalogPurchases', 'NumDealsPurchases',\n",
    "    'NumStorePurchases', 'NumWebPurchases']\n",
    "\n",
    "# Drop the specified columns\n",
    "custseg_clean.drop(columns=columns_to_delete, inplace=True)"
   ]
  },
  {
   "cell_type": "code",
   "execution_count": 45,
   "id": "91dfdbc4",
   "metadata": {
    "tags": []
   },
   "outputs": [],
   "source": [
    "# Define data ranges for each column\n",
    "data_ranges = {\n",
    "    'Education': ['2n Cycle', 'Basic', 'Graduation', 'Master', 'PhD'],\n",
    "    'Income': range(1500, 750001),\n",
    "    'Kidhome': range(3),\n",
    "    'Marital_Status': ['Absurd', 'Alone', 'Divorced', 'Married', 'Single', 'Together', 'Widow', 'YOLO'],\n",
    "    'NumWebVisitsMonth': range(21),  \n",
    "    'Recency': range(100),\n",
    "    'Response': [0, 1],\n",
    "    'Teenhome': range(3),\n",
    "    'Year_Birth': range(1940, 1997)\n",
    "}\n",
    "\n",
    "# Iterate over each column and populate with random data\n",
    "for column, values in data_ranges.items():\n",
    "    custseg_clean[column] = np.random.choice(values, size=len(custseg_clean))"
   ]
  },
  {
   "cell_type": "markdown",
   "id": "cc754f45",
   "metadata": {},
   "source": [
    "## Create 'demographic_data' & 'geographic_data' datasets from 'custseg_clean' dataset"
   ]
  },
  {
   "cell_type": "code",
   "execution_count": 46,
   "id": "0c585ceb",
   "metadata": {
    "tags": []
   },
   "outputs": [
    {
     "name": "stdout",
     "output_type": "stream",
     "text": [
      "Demographic Data Set:\n",
      "(51000, 19)\n",
      "\n",
      "Geographic Data Set:\n",
      "(51000, 14)\n"
     ]
    }
   ],
   "source": [
    "# Demographic Data Set\n",
    "demographic_columns = ['CustomerID', 'first_name', 'last_name', 'title', 'gender', 'email',\n",
    "                       'company_name', 'department', 'job_title','job_category', 'language', \n",
    "                       'university', 'linkedin_skill', 'Education', 'Income', 'Kidhome', \n",
    "                       'Marital_Status', 'Teenhome', 'Year_Birth']\n",
    "\n",
    "demographic_data = custseg_clean[demographic_columns]\n",
    "\n",
    "# Geographic Data Set\n",
    "geographic_columns = ['CustomerID', 'city', 'country', 'country_code', 'region', 'latitude', 'longitude',\n",
    "                      'phone', 'street_address', 'street_name', 'street_number','street_suffix', \n",
    "                      'time_zone', 'ip_address']\n",
    "\n",
    "geographic_data = custseg_clean[geographic_columns]\n",
    "\n",
    "# Printing first few rows of each set\n",
    "print(\"Demographic Data Set:\")\n",
    "print(demographic_data.shape)\n",
    "\n",
    "print(\"\\nGeographic Data Set:\")\n",
    "print(geographic_data.shape)"
   ]
  },
  {
   "cell_type": "markdown",
   "id": "b0dad490",
   "metadata": {},
   "source": [
    "## Validate Transformations"
   ]
  },
  {
   "cell_type": "code",
   "execution_count": 47,
   "id": "0a7dab55",
   "metadata": {
    "tags": []
   },
   "outputs": [
    {
     "name": "stdout",
     "output_type": "stream",
     "text": [
      "InvoiceNo      0\n",
      "StockCode      0\n",
      "Description    0\n",
      "Quantity       0\n",
      "InvoiceDate    0\n",
      "UnitPrice      0\n",
      "CustomerID     0\n",
      "Country        0\n",
      "TotalPrice     0\n",
      "dtype: int64\n"
     ]
    }
   ],
   "source": [
    "# Count null values in each column\n",
    "null_counts_online = onlineretail_clean.isnull().sum()\n",
    "\n",
    "# Display the null counts\n",
    "print(null_counts_online)"
   ]
  },
  {
   "cell_type": "code",
   "execution_count": 48,
   "id": "57b15145",
   "metadata": {
    "tags": []
   },
   "outputs": [
    {
     "name": "stdout",
     "output_type": "stream",
     "text": [
      "CustomerID          0\n",
      "first_name          0\n",
      "last_name           0\n",
      "title               0\n",
      "gender              0\n",
      "email               0\n",
      "company_name        0\n",
      "department          0\n",
      "job_title           0\n",
      "job_category      445\n",
      "language            0\n",
      "university          0\n",
      "linkedin_skill      0\n",
      "Education           0\n",
      "Income              0\n",
      "Kidhome             0\n",
      "Marital_Status      0\n",
      "Teenhome            0\n",
      "Year_Birth          0\n",
      "dtype: int64\n"
     ]
    }
   ],
   "source": [
    "# Count null values in each column\n",
    "null_counts_demographic = demographic_data.isnull().sum()\n",
    "\n",
    "# Display the null counts\n",
    "print(null_counts_demographic)"
   ]
  },
  {
   "cell_type": "code",
   "execution_count": 49,
   "id": "452834d5",
   "metadata": {
    "tags": []
   },
   "outputs": [
    {
     "name": "stdout",
     "output_type": "stream",
     "text": [
      "CustomerID         0\n",
      "city               0\n",
      "country            0\n",
      "country_code      34\n",
      "region             0\n",
      "latitude           0\n",
      "longitude          0\n",
      "phone              0\n",
      "street_address     0\n",
      "street_name        0\n",
      "street_number      0\n",
      "street_suffix      0\n",
      "time_zone          0\n",
      "ip_address         0\n",
      "dtype: int64\n"
     ]
    }
   ],
   "source": [
    "# Count null values in each column\n",
    "null_counts_geographic = geographic_data.isnull().sum()\n",
    "\n",
    "# Display the null counts\n",
    "print(null_counts_geographic)"
   ]
  },
  {
   "cell_type": "code",
   "execution_count": 50,
   "id": "657852bd",
   "metadata": {
    "tags": []
   },
   "outputs": [
    {
     "name": "stdout",
     "output_type": "stream",
     "text": [
      "Number of unique CustomerIDs: 2216\n"
     ]
    }
   ],
   "source": [
    "unique_customer_count = onlineretail_clean['CustomerID'].nunique()\n",
    "print(\"Number of unique CustomerIDs:\", unique_customer_count)"
   ]
  },
  {
   "cell_type": "code",
   "execution_count": 51,
   "id": "5a6bbfcc",
   "metadata": {
    "tags": []
   },
   "outputs": [
    {
     "name": "stdout",
     "output_type": "stream",
     "text": [
      "Number of unique CustomerIDs: 51000\n"
     ]
    }
   ],
   "source": [
    "unique_customer_count = demographic_data['CustomerID'].nunique()\n",
    "print(\"Number of unique CustomerIDs:\", unique_customer_count)"
   ]
  },
  {
   "cell_type": "code",
   "execution_count": 52,
   "id": "832b532e",
   "metadata": {
    "tags": []
   },
   "outputs": [
    {
     "name": "stdout",
     "output_type": "stream",
     "text": [
      "Number of unique CustomerIDs: 51000\n"
     ]
    }
   ],
   "source": [
    "unique_customer_count = geographic_data['CustomerID'].nunique()\n",
    "print(\"Number of unique CustomerIDs:\", unique_customer_count)"
   ]
  },
  {
   "cell_type": "code",
   "execution_count": 53,
   "id": "e8d3d85f",
   "metadata": {
    "tags": []
   },
   "outputs": [],
   "source": [
    "# Write dataframes to csv files\n",
    "geographic_data.to_csv('transformedDatasets/markcamp_trans.csv', index=False)\n",
    "\n",
    "demographic_data.to_csv('transformedDatasets/custseg_trans.csv', index=False)\n",
    "\n",
    "onlineretail_clean.to_csv('transformedDatasets/onlineretail_trans.csv', index=False)"
   ]
  },
  {
   "cell_type": "code",
   "execution_count": 55,
   "id": "51813837-5acd-47a4-9413-0b0e1576ea8c",
   "metadata": {
    "tags": []
   },
   "outputs": [
    {
     "name": "stdout",
     "output_type": "stream",
     "text": [
      "File transformedDatasets/markcamp_trans.csv uploaded to S3 as transformedDatasets/markcamp_trans.csv\n",
      "File transformedDatasets/custseg_trans.csv uploaded to S3 as transformedDatasets/custseg_trans.csv\n",
      "File transformedDatasets/onlineretail_trans.csv uploaded to S3 as transformedDatasets/onlineretail_trans.csv\n"
     ]
    }
   ],
   "source": [
    "# List of file paths and corresponding S3 keys\n",
    "files_to_upload = [\n",
    "    ('transformedDatasets/markcamp_trans.csv', 'transformedDatasets/markcamp_trans.csv'),\n",
    "    ('transformedDatasets/custseg_trans.csv', 'transformedDatasets/custseg_trans.csv'),\n",
    "    ('transformedDatasets/onlineretail_trans.csv', 'transformedDatasets/onlineretail_trans.csv')\n",
    "]\n",
    "\n",
    "\n",
    "# initializing s3 client\n",
    "s3_client = boto3.client('s3')\n",
    "\n",
    "# Define the bucket name \n",
    "bucket = 'team6datasets' \n",
    "\n",
    "for file_path, s3_key in files_to_upload:\n",
    "    # Upload the file to S3\n",
    "    s3_client.upload_file(Filename=file_path, Bucket=bucket, Key=s3_key)\n",
    "    \n",
    "    # Print confirmation message\n",
    "    print(f\"File {file_path} uploaded to S3 as {s3_key}\")\n"
   ]
  }
 ],
 "metadata": {
  "availableInstances": [
   {
    "_defaultOrder": 0,
    "_isFastLaunch": true,
    "category": "General purpose",
    "gpuNum": 0,
    "hideHardwareSpecs": false,
    "memoryGiB": 4,
    "name": "ml.t3.medium",
    "vcpuNum": 2
   },
   {
    "_defaultOrder": 1,
    "_isFastLaunch": false,
    "category": "General purpose",
    "gpuNum": 0,
    "hideHardwareSpecs": false,
    "memoryGiB": 8,
    "name": "ml.t3.large",
    "vcpuNum": 2
   },
   {
    "_defaultOrder": 2,
    "_isFastLaunch": false,
    "category": "General purpose",
    "gpuNum": 0,
    "hideHardwareSpecs": false,
    "memoryGiB": 16,
    "name": "ml.t3.xlarge",
    "vcpuNum": 4
   },
   {
    "_defaultOrder": 3,
    "_isFastLaunch": false,
    "category": "General purpose",
    "gpuNum": 0,
    "hideHardwareSpecs": false,
    "memoryGiB": 32,
    "name": "ml.t3.2xlarge",
    "vcpuNum": 8
   },
   {
    "_defaultOrder": 4,
    "_isFastLaunch": true,
    "category": "General purpose",
    "gpuNum": 0,
    "hideHardwareSpecs": false,
    "memoryGiB": 8,
    "name": "ml.m5.large",
    "vcpuNum": 2
   },
   {
    "_defaultOrder": 5,
    "_isFastLaunch": false,
    "category": "General purpose",
    "gpuNum": 0,
    "hideHardwareSpecs": false,
    "memoryGiB": 16,
    "name": "ml.m5.xlarge",
    "vcpuNum": 4
   },
   {
    "_defaultOrder": 6,
    "_isFastLaunch": false,
    "category": "General purpose",
    "gpuNum": 0,
    "hideHardwareSpecs": false,
    "memoryGiB": 32,
    "name": "ml.m5.2xlarge",
    "vcpuNum": 8
   },
   {
    "_defaultOrder": 7,
    "_isFastLaunch": false,
    "category": "General purpose",
    "gpuNum": 0,
    "hideHardwareSpecs": false,
    "memoryGiB": 64,
    "name": "ml.m5.4xlarge",
    "vcpuNum": 16
   },
   {
    "_defaultOrder": 8,
    "_isFastLaunch": false,
    "category": "General purpose",
    "gpuNum": 0,
    "hideHardwareSpecs": false,
    "memoryGiB": 128,
    "name": "ml.m5.8xlarge",
    "vcpuNum": 32
   },
   {
    "_defaultOrder": 9,
    "_isFastLaunch": false,
    "category": "General purpose",
    "gpuNum": 0,
    "hideHardwareSpecs": false,
    "memoryGiB": 192,
    "name": "ml.m5.12xlarge",
    "vcpuNum": 48
   },
   {
    "_defaultOrder": 10,
    "_isFastLaunch": false,
    "category": "General purpose",
    "gpuNum": 0,
    "hideHardwareSpecs": false,
    "memoryGiB": 256,
    "name": "ml.m5.16xlarge",
    "vcpuNum": 64
   },
   {
    "_defaultOrder": 11,
    "_isFastLaunch": false,
    "category": "General purpose",
    "gpuNum": 0,
    "hideHardwareSpecs": false,
    "memoryGiB": 384,
    "name": "ml.m5.24xlarge",
    "vcpuNum": 96
   },
   {
    "_defaultOrder": 12,
    "_isFastLaunch": false,
    "category": "General purpose",
    "gpuNum": 0,
    "hideHardwareSpecs": false,
    "memoryGiB": 8,
    "name": "ml.m5d.large",
    "vcpuNum": 2
   },
   {
    "_defaultOrder": 13,
    "_isFastLaunch": false,
    "category": "General purpose",
    "gpuNum": 0,
    "hideHardwareSpecs": false,
    "memoryGiB": 16,
    "name": "ml.m5d.xlarge",
    "vcpuNum": 4
   },
   {
    "_defaultOrder": 14,
    "_isFastLaunch": false,
    "category": "General purpose",
    "gpuNum": 0,
    "hideHardwareSpecs": false,
    "memoryGiB": 32,
    "name": "ml.m5d.2xlarge",
    "vcpuNum": 8
   },
   {
    "_defaultOrder": 15,
    "_isFastLaunch": false,
    "category": "General purpose",
    "gpuNum": 0,
    "hideHardwareSpecs": false,
    "memoryGiB": 64,
    "name": "ml.m5d.4xlarge",
    "vcpuNum": 16
   },
   {
    "_defaultOrder": 16,
    "_isFastLaunch": false,
    "category": "General purpose",
    "gpuNum": 0,
    "hideHardwareSpecs": false,
    "memoryGiB": 128,
    "name": "ml.m5d.8xlarge",
    "vcpuNum": 32
   },
   {
    "_defaultOrder": 17,
    "_isFastLaunch": false,
    "category": "General purpose",
    "gpuNum": 0,
    "hideHardwareSpecs": false,
    "memoryGiB": 192,
    "name": "ml.m5d.12xlarge",
    "vcpuNum": 48
   },
   {
    "_defaultOrder": 18,
    "_isFastLaunch": false,
    "category": "General purpose",
    "gpuNum": 0,
    "hideHardwareSpecs": false,
    "memoryGiB": 256,
    "name": "ml.m5d.16xlarge",
    "vcpuNum": 64
   },
   {
    "_defaultOrder": 19,
    "_isFastLaunch": false,
    "category": "General purpose",
    "gpuNum": 0,
    "hideHardwareSpecs": false,
    "memoryGiB": 384,
    "name": "ml.m5d.24xlarge",
    "vcpuNum": 96
   },
   {
    "_defaultOrder": 20,
    "_isFastLaunch": false,
    "category": "General purpose",
    "gpuNum": 0,
    "hideHardwareSpecs": true,
    "memoryGiB": 0,
    "name": "ml.geospatial.interactive",
    "supportedImageNames": [
     "sagemaker-geospatial-v1-0"
    ],
    "vcpuNum": 0
   },
   {
    "_defaultOrder": 21,
    "_isFastLaunch": true,
    "category": "Compute optimized",
    "gpuNum": 0,
    "hideHardwareSpecs": false,
    "memoryGiB": 4,
    "name": "ml.c5.large",
    "vcpuNum": 2
   },
   {
    "_defaultOrder": 22,
    "_isFastLaunch": false,
    "category": "Compute optimized",
    "gpuNum": 0,
    "hideHardwareSpecs": false,
    "memoryGiB": 8,
    "name": "ml.c5.xlarge",
    "vcpuNum": 4
   },
   {
    "_defaultOrder": 23,
    "_isFastLaunch": false,
    "category": "Compute optimized",
    "gpuNum": 0,
    "hideHardwareSpecs": false,
    "memoryGiB": 16,
    "name": "ml.c5.2xlarge",
    "vcpuNum": 8
   },
   {
    "_defaultOrder": 24,
    "_isFastLaunch": false,
    "category": "Compute optimized",
    "gpuNum": 0,
    "hideHardwareSpecs": false,
    "memoryGiB": 32,
    "name": "ml.c5.4xlarge",
    "vcpuNum": 16
   },
   {
    "_defaultOrder": 25,
    "_isFastLaunch": false,
    "category": "Compute optimized",
    "gpuNum": 0,
    "hideHardwareSpecs": false,
    "memoryGiB": 72,
    "name": "ml.c5.9xlarge",
    "vcpuNum": 36
   },
   {
    "_defaultOrder": 26,
    "_isFastLaunch": false,
    "category": "Compute optimized",
    "gpuNum": 0,
    "hideHardwareSpecs": false,
    "memoryGiB": 96,
    "name": "ml.c5.12xlarge",
    "vcpuNum": 48
   },
   {
    "_defaultOrder": 27,
    "_isFastLaunch": false,
    "category": "Compute optimized",
    "gpuNum": 0,
    "hideHardwareSpecs": false,
    "memoryGiB": 144,
    "name": "ml.c5.18xlarge",
    "vcpuNum": 72
   },
   {
    "_defaultOrder": 28,
    "_isFastLaunch": false,
    "category": "Compute optimized",
    "gpuNum": 0,
    "hideHardwareSpecs": false,
    "memoryGiB": 192,
    "name": "ml.c5.24xlarge",
    "vcpuNum": 96
   },
   {
    "_defaultOrder": 29,
    "_isFastLaunch": true,
    "category": "Accelerated computing",
    "gpuNum": 1,
    "hideHardwareSpecs": false,
    "memoryGiB": 16,
    "name": "ml.g4dn.xlarge",
    "vcpuNum": 4
   },
   {
    "_defaultOrder": 30,
    "_isFastLaunch": false,
    "category": "Accelerated computing",
    "gpuNum": 1,
    "hideHardwareSpecs": false,
    "memoryGiB": 32,
    "name": "ml.g4dn.2xlarge",
    "vcpuNum": 8
   },
   {
    "_defaultOrder": 31,
    "_isFastLaunch": false,
    "category": "Accelerated computing",
    "gpuNum": 1,
    "hideHardwareSpecs": false,
    "memoryGiB": 64,
    "name": "ml.g4dn.4xlarge",
    "vcpuNum": 16
   },
   {
    "_defaultOrder": 32,
    "_isFastLaunch": false,
    "category": "Accelerated computing",
    "gpuNum": 1,
    "hideHardwareSpecs": false,
    "memoryGiB": 128,
    "name": "ml.g4dn.8xlarge",
    "vcpuNum": 32
   },
   {
    "_defaultOrder": 33,
    "_isFastLaunch": false,
    "category": "Accelerated computing",
    "gpuNum": 4,
    "hideHardwareSpecs": false,
    "memoryGiB": 192,
    "name": "ml.g4dn.12xlarge",
    "vcpuNum": 48
   },
   {
    "_defaultOrder": 34,
    "_isFastLaunch": false,
    "category": "Accelerated computing",
    "gpuNum": 1,
    "hideHardwareSpecs": false,
    "memoryGiB": 256,
    "name": "ml.g4dn.16xlarge",
    "vcpuNum": 64
   },
   {
    "_defaultOrder": 35,
    "_isFastLaunch": false,
    "category": "Accelerated computing",
    "gpuNum": 1,
    "hideHardwareSpecs": false,
    "memoryGiB": 61,
    "name": "ml.p3.2xlarge",
    "vcpuNum": 8
   },
   {
    "_defaultOrder": 36,
    "_isFastLaunch": false,
    "category": "Accelerated computing",
    "gpuNum": 4,
    "hideHardwareSpecs": false,
    "memoryGiB": 244,
    "name": "ml.p3.8xlarge",
    "vcpuNum": 32
   },
   {
    "_defaultOrder": 37,
    "_isFastLaunch": false,
    "category": "Accelerated computing",
    "gpuNum": 8,
    "hideHardwareSpecs": false,
    "memoryGiB": 488,
    "name": "ml.p3.16xlarge",
    "vcpuNum": 64
   },
   {
    "_defaultOrder": 38,
    "_isFastLaunch": false,
    "category": "Accelerated computing",
    "gpuNum": 8,
    "hideHardwareSpecs": false,
    "memoryGiB": 768,
    "name": "ml.p3dn.24xlarge",
    "vcpuNum": 96
   },
   {
    "_defaultOrder": 39,
    "_isFastLaunch": false,
    "category": "Memory Optimized",
    "gpuNum": 0,
    "hideHardwareSpecs": false,
    "memoryGiB": 16,
    "name": "ml.r5.large",
    "vcpuNum": 2
   },
   {
    "_defaultOrder": 40,
    "_isFastLaunch": false,
    "category": "Memory Optimized",
    "gpuNum": 0,
    "hideHardwareSpecs": false,
    "memoryGiB": 32,
    "name": "ml.r5.xlarge",
    "vcpuNum": 4
   },
   {
    "_defaultOrder": 41,
    "_isFastLaunch": false,
    "category": "Memory Optimized",
    "gpuNum": 0,
    "hideHardwareSpecs": false,
    "memoryGiB": 64,
    "name": "ml.r5.2xlarge",
    "vcpuNum": 8
   },
   {
    "_defaultOrder": 42,
    "_isFastLaunch": false,
    "category": "Memory Optimized",
    "gpuNum": 0,
    "hideHardwareSpecs": false,
    "memoryGiB": 128,
    "name": "ml.r5.4xlarge",
    "vcpuNum": 16
   },
   {
    "_defaultOrder": 43,
    "_isFastLaunch": false,
    "category": "Memory Optimized",
    "gpuNum": 0,
    "hideHardwareSpecs": false,
    "memoryGiB": 256,
    "name": "ml.r5.8xlarge",
    "vcpuNum": 32
   },
   {
    "_defaultOrder": 44,
    "_isFastLaunch": false,
    "category": "Memory Optimized",
    "gpuNum": 0,
    "hideHardwareSpecs": false,
    "memoryGiB": 384,
    "name": "ml.r5.12xlarge",
    "vcpuNum": 48
   },
   {
    "_defaultOrder": 45,
    "_isFastLaunch": false,
    "category": "Memory Optimized",
    "gpuNum": 0,
    "hideHardwareSpecs": false,
    "memoryGiB": 512,
    "name": "ml.r5.16xlarge",
    "vcpuNum": 64
   },
   {
    "_defaultOrder": 46,
    "_isFastLaunch": false,
    "category": "Memory Optimized",
    "gpuNum": 0,
    "hideHardwareSpecs": false,
    "memoryGiB": 768,
    "name": "ml.r5.24xlarge",
    "vcpuNum": 96
   },
   {
    "_defaultOrder": 47,
    "_isFastLaunch": false,
    "category": "Accelerated computing",
    "gpuNum": 1,
    "hideHardwareSpecs": false,
    "memoryGiB": 16,
    "name": "ml.g5.xlarge",
    "vcpuNum": 4
   },
   {
    "_defaultOrder": 48,
    "_isFastLaunch": false,
    "category": "Accelerated computing",
    "gpuNum": 1,
    "hideHardwareSpecs": false,
    "memoryGiB": 32,
    "name": "ml.g5.2xlarge",
    "vcpuNum": 8
   },
   {
    "_defaultOrder": 49,
    "_isFastLaunch": false,
    "category": "Accelerated computing",
    "gpuNum": 1,
    "hideHardwareSpecs": false,
    "memoryGiB": 64,
    "name": "ml.g5.4xlarge",
    "vcpuNum": 16
   },
   {
    "_defaultOrder": 50,
    "_isFastLaunch": false,
    "category": "Accelerated computing",
    "gpuNum": 1,
    "hideHardwareSpecs": false,
    "memoryGiB": 128,
    "name": "ml.g5.8xlarge",
    "vcpuNum": 32
   },
   {
    "_defaultOrder": 51,
    "_isFastLaunch": false,
    "category": "Accelerated computing",
    "gpuNum": 1,
    "hideHardwareSpecs": false,
    "memoryGiB": 256,
    "name": "ml.g5.16xlarge",
    "vcpuNum": 64
   },
   {
    "_defaultOrder": 52,
    "_isFastLaunch": false,
    "category": "Accelerated computing",
    "gpuNum": 4,
    "hideHardwareSpecs": false,
    "memoryGiB": 192,
    "name": "ml.g5.12xlarge",
    "vcpuNum": 48
   },
   {
    "_defaultOrder": 53,
    "_isFastLaunch": false,
    "category": "Accelerated computing",
    "gpuNum": 4,
    "hideHardwareSpecs": false,
    "memoryGiB": 384,
    "name": "ml.g5.24xlarge",
    "vcpuNum": 96
   },
   {
    "_defaultOrder": 54,
    "_isFastLaunch": false,
    "category": "Accelerated computing",
    "gpuNum": 8,
    "hideHardwareSpecs": false,
    "memoryGiB": 768,
    "name": "ml.g5.48xlarge",
    "vcpuNum": 192
   },
   {
    "_defaultOrder": 55,
    "_isFastLaunch": false,
    "category": "Accelerated computing",
    "gpuNum": 8,
    "hideHardwareSpecs": false,
    "memoryGiB": 1152,
    "name": "ml.p4d.24xlarge",
    "vcpuNum": 96
   },
   {
    "_defaultOrder": 56,
    "_isFastLaunch": false,
    "category": "Accelerated computing",
    "gpuNum": 8,
    "hideHardwareSpecs": false,
    "memoryGiB": 1152,
    "name": "ml.p4de.24xlarge",
    "vcpuNum": 96
   },
   {
    "_defaultOrder": 57,
    "_isFastLaunch": false,
    "category": "Accelerated computing",
    "gpuNum": 0,
    "hideHardwareSpecs": false,
    "memoryGiB": 32,
    "name": "ml.trn1.2xlarge",
    "vcpuNum": 8
   },
   {
    "_defaultOrder": 58,
    "_isFastLaunch": false,
    "category": "Accelerated computing",
    "gpuNum": 0,
    "hideHardwareSpecs": false,
    "memoryGiB": 512,
    "name": "ml.trn1.32xlarge",
    "vcpuNum": 128
   },
   {
    "_defaultOrder": 59,
    "_isFastLaunch": false,
    "category": "Accelerated computing",
    "gpuNum": 0,
    "hideHardwareSpecs": false,
    "memoryGiB": 512,
    "name": "ml.trn1n.32xlarge",
    "vcpuNum": 128
   }
  ],
  "instance_type": "ml.t3.medium",
  "kernelspec": {
   "display_name": "Python 3 (Data Science 2.0)",
   "language": "python",
   "name": "python3__SAGEMAKER_INTERNAL__arn:aws:sagemaker:us-east-1:081325390199:image/sagemaker-data-science-38"
  },
  "language_info": {
   "codemirror_mode": {
    "name": "ipython",
    "version": 3
   },
   "file_extension": ".py",
   "mimetype": "text/x-python",
   "name": "python",
   "nbconvert_exporter": "python",
   "pygments_lexer": "ipython3",
   "version": "3.8.13"
  }
 },
 "nbformat": 4,
 "nbformat_minor": 5
}
