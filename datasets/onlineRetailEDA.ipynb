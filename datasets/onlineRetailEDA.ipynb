{
 "cells": [
  {
   "cell_type": "code",
   "execution_count": 4,
   "id": "2212d9d2-66db-4524-b2b4-d2bd1803eace",
   "metadata": {
    "tags": []
   },
   "outputs": [],
   "source": [
    "import pandas as pd\n",
    "import seaborn as sns\n",
    "import matplotlib.pyplot as plt\n",
    "import numpy as np\n",
    "import boto3"
   ]
  },
  {
   "cell_type": "markdown",
   "id": "b18d0276-8761-4b1d-8ba4-69380b708024",
   "metadata": {},
   "source": [
    "## Read Data"
   ]
  },
  {
   "cell_type": "code",
   "execution_count": 5,
   "id": "cf258bdc-13af-439e-8372-b5ed3ad7ab7a",
   "metadata": {
    "tags": []
   },
   "outputs": [
    {
     "name": "stdout",
     "output_type": "stream",
     "text": [
      "download: s3://team6datasets/Online Retail.xlsx to rawdatasets/Online Retail.xlsx\n"
     ]
    }
   ],
   "source": [
    "!aws s3 cp s3://team6datasets/Online\\ Retail.xlsx ./rawdatasets/"
   ]
  },
  {
   "cell_type": "code",
   "execution_count": 6,
   "id": "d4bc873a-0ed1-4187-9015-a2f36112dc92",
   "metadata": {
    "tags": []
   },
   "outputs": [
    {
     "name": "stdout",
     "output_type": "stream",
     "text": [
      "  InvoiceNo StockCode                          Description  Quantity  \\\n",
      "0    536365    85123A   WHITE HANGING HEART T-LIGHT HOLDER         6   \n",
      "1    536365     71053                  WHITE METAL LANTERN         6   \n",
      "2    536365    84406B       CREAM CUPID HEARTS COAT HANGER         8   \n",
      "3    536365    84029G  KNITTED UNION FLAG HOT WATER BOTTLE         6   \n",
      "4    536365    84029E       RED WOOLLY HOTTIE WHITE HEART.         6   \n",
      "\n",
      "          InvoiceDate  UnitPrice  CustomerID         Country  \n",
      "0 2010-12-01 08:26:00       2.55     17850.0  United Kingdom  \n",
      "1 2010-12-01 08:26:00       3.39     17850.0  United Kingdom  \n",
      "2 2010-12-01 08:26:00       2.75     17850.0  United Kingdom  \n",
      "3 2010-12-01 08:26:00       3.39     17850.0  United Kingdom  \n",
      "4 2010-12-01 08:26:00       3.39     17850.0  United Kingdom  \n"
     ]
    }
   ],
   "source": [
    "# Path to the downloaded Excel file\n",
    "file_path = 'rawdatasets/Online Retail.xlsx'\n",
    "\n",
    "# Read the Excel file into a pandas DataFrame\n",
    "df = pd.read_excel(file_path, engine='openpyxl')\n",
    "\n",
    "# Display the first few rows of the DataFrame\n",
    "print(df.head())"
   ]
  },
  {
   "cell_type": "markdown",
   "id": "69c8e3a7-c20e-4f89-bb9b-e6f9b2f45474",
   "metadata": {},
   "source": [
    "## Explore Data"
   ]
  },
  {
   "cell_type": "code",
   "execution_count": 7,
   "id": "09e44309-ec2c-43e2-a54d-f840ce0abd49",
   "metadata": {
    "tags": []
   },
   "outputs": [
    {
     "data": {
      "text/plain": [
       "<bound method DataFrame.info of        InvoiceNo StockCode                          Description  Quantity  \\\n",
       "0         536365    85123A   WHITE HANGING HEART T-LIGHT HOLDER         6   \n",
       "1         536365     71053                  WHITE METAL LANTERN         6   \n",
       "2         536365    84406B       CREAM CUPID HEARTS COAT HANGER         8   \n",
       "3         536365    84029G  KNITTED UNION FLAG HOT WATER BOTTLE         6   \n",
       "4         536365    84029E       RED WOOLLY HOTTIE WHITE HEART.         6   \n",
       "...          ...       ...                                  ...       ...   \n",
       "541904    581587     22613          PACK OF 20 SPACEBOY NAPKINS        12   \n",
       "541905    581587     22899         CHILDREN'S APRON DOLLY GIRL          6   \n",
       "541906    581587     23254        CHILDRENS CUTLERY DOLLY GIRL          4   \n",
       "541907    581587     23255      CHILDRENS CUTLERY CIRCUS PARADE         4   \n",
       "541908    581587     22138        BAKING SET 9 PIECE RETROSPOT          3   \n",
       "\n",
       "               InvoiceDate  UnitPrice  CustomerID         Country  \n",
       "0      2010-12-01 08:26:00       2.55     17850.0  United Kingdom  \n",
       "1      2010-12-01 08:26:00       3.39     17850.0  United Kingdom  \n",
       "2      2010-12-01 08:26:00       2.75     17850.0  United Kingdom  \n",
       "3      2010-12-01 08:26:00       3.39     17850.0  United Kingdom  \n",
       "4      2010-12-01 08:26:00       3.39     17850.0  United Kingdom  \n",
       "...                    ...        ...         ...             ...  \n",
       "541904 2011-12-09 12:50:00       0.85     12680.0          France  \n",
       "541905 2011-12-09 12:50:00       2.10     12680.0          France  \n",
       "541906 2011-12-09 12:50:00       4.15     12680.0          France  \n",
       "541907 2011-12-09 12:50:00       4.15     12680.0          France  \n",
       "541908 2011-12-09 12:50:00       4.95     12680.0          France  \n",
       "\n",
       "[541909 rows x 8 columns]>"
      ]
     },
     "execution_count": 7,
     "metadata": {},
     "output_type": "execute_result"
    }
   ],
   "source": [
    "df.info"
   ]
  },
  {
   "cell_type": "code",
   "execution_count": 8,
   "id": "294c3a10-1dca-406b-a53f-07d0856f313c",
   "metadata": {
    "tags": []
   },
   "outputs": [
    {
     "data": {
      "text/plain": [
       "(541909, 8)"
      ]
     },
     "execution_count": 8,
     "metadata": {},
     "output_type": "execute_result"
    }
   ],
   "source": [
    "df.shape"
   ]
  },
  {
   "cell_type": "code",
   "execution_count": 9,
   "id": "ed3c5026-b486-41c5-9e4e-511fcffa448c",
   "metadata": {
    "tags": []
   },
   "outputs": [
    {
     "data": {
      "text/plain": [
       "InvoiceNo           0\n",
       "StockCode           0\n",
       "Description      1454\n",
       "Quantity            0\n",
       "InvoiceDate         0\n",
       "UnitPrice           0\n",
       "CustomerID     135080\n",
       "Country             0\n",
       "dtype: int64"
      ]
     },
     "execution_count": 9,
     "metadata": {},
     "output_type": "execute_result"
    }
   ],
   "source": [
    "# check for missing values entire doc\n",
    "missing_values = df.isnull().sum()\n",
    "missing_values"
   ]
  },
  {
   "cell_type": "code",
   "execution_count": 10,
   "id": "df19edb1-953e-464d-8125-508bc474edb4",
   "metadata": {
    "tags": []
   },
   "outputs": [
    {
     "name": "stdout",
     "output_type": "stream",
     "text": [
      "       InvoiceNo StockCode Description  Quantity         InvoiceDate  \\\n",
      "622       536414     22139         NaN        56 2010-12-01 11:52:00   \n",
      "1970      536545     21134         NaN         1 2010-12-01 14:32:00   \n",
      "1971      536546     22145         NaN         1 2010-12-01 14:33:00   \n",
      "1972      536547     37509         NaN         1 2010-12-01 14:33:00   \n",
      "1987      536549    85226A         NaN         1 2010-12-01 14:34:00   \n",
      "...          ...       ...         ...       ...                 ...   \n",
      "535322    581199     84581         NaN        -2 2011-12-07 18:26:00   \n",
      "535326    581203     23406         NaN        15 2011-12-07 18:31:00   \n",
      "535332    581209     21620         NaN         6 2011-12-07 18:35:00   \n",
      "536981    581234     72817         NaN        27 2011-12-08 10:33:00   \n",
      "538554    581408     85175         NaN        20 2011-12-08 14:06:00   \n",
      "\n",
      "        UnitPrice  CustomerID         Country  \n",
      "622           0.0         NaN  United Kingdom  \n",
      "1970          0.0         NaN  United Kingdom  \n",
      "1971          0.0         NaN  United Kingdom  \n",
      "1972          0.0         NaN  United Kingdom  \n",
      "1987          0.0         NaN  United Kingdom  \n",
      "...           ...         ...             ...  \n",
      "535322        0.0         NaN  United Kingdom  \n",
      "535326        0.0         NaN  United Kingdom  \n",
      "535332        0.0         NaN  United Kingdom  \n",
      "536981        0.0         NaN  United Kingdom  \n",
      "538554        0.0         NaN  United Kingdom  \n",
      "\n",
      "[1454 rows x 8 columns]\n"
     ]
    }
   ],
   "source": [
    "# check missing values for Description\n",
    "rows_with_missing_desc = df.loc[df['Description'].isnull()]\n",
    "\n",
    "# Display results\n",
    "print(rows_with_missing_desc)"
   ]
  },
  {
   "cell_type": "code",
   "execution_count": 11,
   "id": "99875990-9767-4bae-b4bb-6829386efad1",
   "metadata": {
    "tags": []
   },
   "outputs": [
    {
     "name": "stdout",
     "output_type": "stream",
     "text": [
      "       InvoiceNo StockCode                      Description  Quantity  \\\n",
      "622       536414     22139                              NaN        56   \n",
      "1443      536544     21773  DECORATIVE ROSE BATHROOM BOTTLE         1   \n",
      "1444      536544     21774  DECORATIVE CATS BATHROOM BOTTLE         2   \n",
      "1445      536544     21786               POLKADOT RAIN HAT          4   \n",
      "1446      536544     21787            RAIN PONCHO RETROSPOT         2   \n",
      "...          ...       ...                              ...       ...   \n",
      "541536    581498    85099B          JUMBO BAG RED RETROSPOT         5   \n",
      "541537    581498    85099C   JUMBO  BAG BAROQUE BLACK WHITE         4   \n",
      "541538    581498     85150    LADIES & GENTLEMEN METAL SIGN         1   \n",
      "541539    581498     85174                S/4 CACTI CANDLES         1   \n",
      "541540    581498       DOT                   DOTCOM POSTAGE         1   \n",
      "\n",
      "               InvoiceDate  UnitPrice  CustomerID         Country  \n",
      "622    2010-12-01 11:52:00       0.00         NaN  United Kingdom  \n",
      "1443   2010-12-01 14:32:00       2.51         NaN  United Kingdom  \n",
      "1444   2010-12-01 14:32:00       2.51         NaN  United Kingdom  \n",
      "1445   2010-12-01 14:32:00       0.85         NaN  United Kingdom  \n",
      "1446   2010-12-01 14:32:00       1.66         NaN  United Kingdom  \n",
      "...                    ...        ...         ...             ...  \n",
      "541536 2011-12-09 10:26:00       4.13         NaN  United Kingdom  \n",
      "541537 2011-12-09 10:26:00       4.13         NaN  United Kingdom  \n",
      "541538 2011-12-09 10:26:00       4.96         NaN  United Kingdom  \n",
      "541539 2011-12-09 10:26:00      10.79         NaN  United Kingdom  \n",
      "541540 2011-12-09 10:26:00    1714.17         NaN  United Kingdom  \n",
      "\n",
      "[135080 rows x 8 columns]\n"
     ]
    }
   ],
   "source": [
    "# check missing values for CustomerID\n",
    "rows_with_missing_custID = df.loc[df['CustomerID'].isnull()]\n",
    "\n",
    "# Display results\n",
    "print(rows_with_missing_custID)"
   ]
  },
  {
   "cell_type": "code",
   "execution_count": 12,
   "id": "6acfa8f3-1867-43d0-aaa2-edbbe3929c14",
   "metadata": {
    "tags": []
   },
   "outputs": [
    {
     "data": {
      "text/plain": [
       "InvoiceNo      0\n",
       "StockCode      0\n",
       "Description    0\n",
       "Quantity       0\n",
       "InvoiceDate    0\n",
       "UnitPrice      0\n",
       "CustomerID     0\n",
       "Country        0\n",
       "dtype: int64"
      ]
     },
     "execution_count": 12,
     "metadata": {},
     "output_type": "execute_result"
    }
   ],
   "source": [
    "# new dataframe with non-nulls\n",
    "df_noblank = df.dropna()\n",
    "\n",
    "# Verify the operation by checking the first few rows of the new DataFrame\n",
    "missing_values_noblank = df_noblank.isnull().sum()\n",
    "missing_values_noblank"
   ]
  },
  {
   "cell_type": "code",
   "execution_count": 13,
   "id": "927a9cc3-68c6-4b8b-b537-3c0faec4856d",
   "metadata": {
    "tags": []
   },
   "outputs": [
    {
     "name": "stdout",
     "output_type": "stream",
     "text": [
      "            Quantity      UnitPrice     CustomerID\n",
      "count  406829.000000  406829.000000  406829.000000\n",
      "mean       12.061303       3.460471   15287.690570\n",
      "std       248.693370      69.315162    1713.600303\n",
      "min    -80995.000000       0.000000   12346.000000\n",
      "25%         2.000000       1.250000   13953.000000\n",
      "50%         5.000000       1.950000   15152.000000\n",
      "75%        12.000000       3.750000   16791.000000\n",
      "max     80995.000000   38970.000000   18287.000000\n"
     ]
    }
   ],
   "source": [
    "# Display summary statistics for all numerical columns\n",
    "summary_statistics = df_noblank.describe()\n",
    "print(summary_statistics)"
   ]
  },
  {
   "cell_type": "markdown",
   "id": "0f6dbb34-8063-4498-93ba-7e5db32684de",
   "metadata": {},
   "source": [
    "## Visuals"
   ]
  },
  {
   "cell_type": "code",
   "execution_count": 14,
   "id": "4785b952-ed56-4ce2-9adf-bf16d33b0a4a",
   "metadata": {
    "tags": []
   },
   "outputs": [
    {
     "data": {
      "image/png": "[encoded data removed]",
      "text/plain": [
       "<Figure size 720x432 with 1 Axes>"
      ]
     },
     "metadata": {
      "needs_background": "light"
     },
     "output_type": "display_data"
    }
   ],
   "source": [
    "# Plotting histogram for the 'Quantity' column\n",
    "plt.figure(figsize=(10, 6))\n",
    "sns.histplot(df_noblank['Quantity'], bins=5, kde=False)\n",
    "plt.title('Distribution of Quantity')\n",
    "plt.xlabel('Quantity')\n",
    "plt.ylabel('Frequency')\n",
    "plt.show()"
   ]
  },
  {
   "cell_type": "code",
   "execution_count": 15,
   "id": "d506bad1-6552-4a6e-ab61-8ec5135cd25d",
   "metadata": {
    "tags": []
   },
   "outputs": [
    {
     "data": {
      "image/png": "[encoded data removed]",
      "text/plain": [
       "<Figure size 720x432 with 1 Axes>"
      ]
     },
     "metadata": {
      "needs_background": "light"
     },
     "output_type": "display_data"
    },
    {
     "data": {
      "image/png": "[encoded data removed]",
      "text/plain": [
       "<Figure size 432x288 with 1 Axes>"
      ]
     },
     "metadata": {
      "needs_background": "light"
     },
     "output_type": "display_data"
    }
   ],
   "source": [
    "# Plotting histogram for the 'UnitPrice' column\n",
    "plt.figure(figsize=(10, 6))\n",
    "sns.histplot(df_noblank['UnitPrice'], bins=2, kde=False)\n",
    "plt.title('Distribution of Unit Price')\n",
    "plt.xlabel('Unit Price')\n",
    "plt.ylabel('Frequency')\n",
    "plt.show()\n",
    "\n",
    "# Adjust values\n",
    "plt.xlim(-10, 10)\n",
    "plt.show()"
   ]
  },
  {
   "cell_type": "code",
   "execution_count": 16,
   "id": "910a3cc8-d541-4637-9e02-80033d124e60",
   "metadata": {
    "tags": []
   },
   "outputs": [
    {
     "data": {
      "image/png": "[encoded data removed]",
      "text/plain": [
       "<Figure size 720x432 with 1 Axes>"
      ]
     },
     "metadata": {
      "needs_background": "light"
     },
     "output_type": "display_data"
    }
   ],
   "source": [
    "# Boxplot for the 'Quantity' column\n",
    "plt.figure(figsize=(10, 6))\n",
    "sns.boxplot(x=df_noblank['Quantity'])\n",
    "plt.title('Boxplot of Quantity')\n",
    "plt.show()"
   ]
  },
  {
   "cell_type": "code",
   "execution_count": 17,
   "id": "a2b41ed5-a94d-482f-b3a2-46746ed7c67b",
   "metadata": {
    "tags": []
   },
   "outputs": [
    {
     "data": {
      "image/png": "[encoded data removed]",
      "text/plain": [
       "<Figure size 720x432 with 1 Axes>"
      ]
     },
     "metadata": {
      "needs_background": "light"
     },
     "output_type": "display_data"
    }
   ],
   "source": [
    "# Boxplot for the 'UnitPrice' column\n",
    "plt.figure(figsize=(10, 6))\n",
    "sns.boxplot(x=df_noblank['UnitPrice'])\n",
    "plt.title('Boxplot of Unit Price')\n",
    "plt.show()"
   ]
  },
  {
   "cell_type": "code",
   "execution_count": 18,
   "id": "217ca3f3-4ae7-4372-a69b-2a1a08a3e1f8",
   "metadata": {
    "tags": []
   },
   "outputs": [
    {
     "data": {
      "image/png": "[encoded data removed]",
      "text/plain": [
       "<Figure size 864x576 with 1 Axes>"
      ]
     },
     "metadata": {
      "needs_background": "light"
     },
     "output_type": "display_data"
    }
   ],
   "source": [
    "# Grouping the data by 'Description' and summing up the 'Quantity'\n",
    "top_products = df_noblank.groupby('Description')['Quantity'].sum().sort_values(ascending=False).head(10)\n",
    "\n",
    "# Plotting the top selling products\n",
    "plt.figure(figsize=(12, 8))\n",
    "top_products.plot(kind='bar')\n",
    "plt.title('Top 10 Selling Products')\n",
    "plt.ylabel('Total Quantity Sold')\n",
    "plt.xlabel('Product Description')\n",
    "plt.xticks(rotation=45, ha='right')  # Rotate labels to avoid overlap\n",
    "plt.tight_layout()  # Adjust layout to not cut off labels\n",
    "plt.show()"
   ]
  },
  {
   "cell_type": "code",
   "execution_count": 19,
   "id": "6575668a-fd74-4ec7-aa6e-2341c4370d42",
   "metadata": {
    "tags": []
   },
   "outputs": [
    {
     "data": {
      "image/png": "[encoded data removed]",
      "text/plain": [
       "<Figure size 864x576 with 1 Axes>"
      ]
     },
     "metadata": {
      "needs_background": "light"
     },
     "output_type": "display_data"
    }
   ],
   "source": [
    "# Grouping the data by 'Country' and summing up the 'Quantity'\n",
    "sales_by_country = df_noblank.groupby('Country')['Quantity'].sum().sort_values(ascending=False)\n",
    "\n",
    "# Plotting the sales distribution across countries\n",
    "plt.figure(figsize=(12, 8))\n",
    "sales_by_country.plot(kind='bar')\n",
    "plt.title('Sales Distribution Across Countries')\n",
    "plt.ylabel('Total Quantity Sold')\n",
    "plt.xlabel('Country')\n",
    "plt.xticks(rotation=45, ha='right')  # Rotate labels to avoid overlap\n",
    "plt.tight_layout()  # Adjust layout to not cut off labels\n",
    "plt.show()"
   ]
  },
  {
   "cell_type": "code",
   "execution_count": 20,
   "id": "4cd11865-4505-4553-a7fa-ab636918d066",
   "metadata": {
    "tags": []
   },
   "outputs": [
    {
     "name": "stderr",
     "output_type": "stream",
     "text": [
      "/tmp/ipykernel_323/365863618.py:2: SettingWithCopyWarning: \n",
      "A value is trying to be set on a copy of a slice from a DataFrame.\n",
      "Try using .loc[row_indexer,col_indexer] = value instead\n",
      "\n",
      "See the caveats in the documentation: https://pandas.pydata.org/pandas-docs/stable/user_guide/indexing.html#returning-a-view-versus-a-copy\n",
      "  df_noblank['TotalPrice'] = df_noblank['Quantity'] * df_noblank['UnitPrice']\n"
     ]
    },
    {
     "data": {
      "image/png": "[encoded data removed]",
      "text/plain": [
       "<Figure size 864x576 with 1 Axes>"
      ]
     },
     "metadata": {
      "needs_background": "light"
     },
     "output_type": "display_data"
    }
   ],
   "source": [
    "# Calculate the total price for each row\n",
    "df_noblank['TotalPrice'] = df_noblank['Quantity'] * df_noblank['UnitPrice']\n",
    "\n",
    "# Group by CustomerID to find the total spent by each customer\n",
    "customer_value = df_noblank.groupby('CustomerID')['TotalPrice'].sum().sort_values(ascending=False).head(10)\n",
    "\n",
    "# Plotting the top 10 high-value customers\n",
    "plt.figure(figsize=(12, 8))\n",
    "customer_value.plot(kind='bar')\n",
    "plt.title('Top 10 High-Value Customers')\n",
    "plt.ylabel('Total Revenue Generated')\n",
    "plt.xlabel('Customer ID')\n",
    "plt.xticks(rotation=0)\n",
    "plt.tight_layout()\n",
    "plt.show()"
   ]
  },
  {
   "cell_type": "code",
   "execution_count": 21,
   "id": "f1d38ed0-2f67-445a-917f-f42411cb854f",
   "metadata": {
    "tags": []
   },
   "outputs": [
    {
     "data": {
      "image/png": "[encoded data removed]",
      "text/plain": [
       "<Figure size 864x576 with 1 Axes>"
      ]
     },
     "metadata": {
      "needs_background": "light"
     },
     "output_type": "display_data"
    }
   ],
   "source": [
    "# Count the unique number of invoices for each customer\n",
    "purchase_frequency = df_noblank.groupby('CustomerID')['InvoiceNo'].nunique().sort_values(ascending=False).head(10)\n",
    "\n",
    "# Plotting the purchase frequency of the top 10 customers\n",
    "plt.figure(figsize=(12, 8))\n",
    "purchase_frequency.plot(kind='bar')\n",
    "plt.title('Top 10 Customers by Purchase Frequency')\n",
    "plt.ylabel('Number of Invoices')\n",
    "plt.xlabel('Customer ID')\n",
    "plt.xticks(rotation=0)\n",
    "plt.tight_layout()\n",
    "plt.show()"
   ]
  },
  {
   "cell_type": "code",
   "execution_count": 22,
   "id": "5cbd632e-df3c-4f48-b4c9-f09db0badea4",
   "metadata": {
    "tags": []
   },
   "outputs": [
    {
     "name": "stdout",
     "output_type": "stream",
     "text": [
      "The average purchase frequency across all customers is: 5.08\n"
     ]
    }
   ],
   "source": [
    "# Count the unique invoices for each customer\n",
    "purchase_frequency_per_customer = df_noblank.groupby('CustomerID')['InvoiceNo'].nunique()\n",
    "\n",
    "# Calculate the average purchase frequency across all customers\n",
    "average_purchase_frequency = purchase_frequency_per_customer.mean()\n",
    "\n",
    "print(f\"The average purchase frequency across all customers is: {average_purchase_frequency:.2f}\")"
   ]
  },
  {
   "cell_type": "code",
   "execution_count": 23,
   "id": "dafbbe76-c2ef-4106-880f-7d698772c962",
   "metadata": {
    "tags": []
   },
   "outputs": [
    {
     "name": "stdout",
     "output_type": "stream",
     "text": [
      "The average intermission in days between purchases for all customers is: 3.40 days\n"
     ]
    }
   ],
   "source": [
    "# Create a copy of the DataFrame to avoid SettingWithCopyWarning\n",
    "df_noblank_copy = df_noblank.copy()\n",
    "\n",
    "# Ensure InvoiceDate is in datetime format\n",
    "df_noblank_copy['InvoiceDate'] = pd.to_datetime(df_noblank_copy['InvoiceDate'])\n",
    "\n",
    "# Sort the DataFrame by CustomerID and InvoiceDate\n",
    "df_sorted = df_noblank_copy.sort_values(by=['CustomerID', 'InvoiceDate'])\n",
    "\n",
    "# Calculate the difference in days for each customer's consecutive purchases\n",
    "df_sorted['PreviousInvoiceDate'] = df_sorted.groupby('CustomerID')['InvoiceDate'].shift(1)\n",
    "df_sorted['DayDifference'] = (df_sorted['InvoiceDate'] - df_sorted['PreviousInvoiceDate']).dt.days\n",
    "\n",
    "# Exclude the first purchase of each customer since it does not have a preceding purchase\n",
    "df_differences = df_sorted.dropna(subset=['DayDifference'])\n",
    "\n",
    "# Calculate the average purchase interval for each customer\n",
    "avg_interval_per_customer = df_differences.groupby('CustomerID')['DayDifference'].mean()\n",
    "\n",
    "# Calculate the overall average across all customers\n",
    "overall_avg_interval = avg_interval_per_customer.mean()\n",
    "\n",
    "print(f\"The average intermission in days between purchases for all customers is: {overall_avg_interval:.2f} days\")"
   ]
  },
  {
   "cell_type": "markdown",
   "id": "3f250e31-df02-496f-811b-b516997d4662",
   "metadata": {},
   "source": [
    "## Saving Cleaned Dataset to CSV File"
   ]
  },
  {
   "cell_type": "code",
   "execution_count": 24,
   "id": "d0374365-f11b-4674-9efa-2a1b128630ee",
   "metadata": {},
   "outputs": [],
   "source": [
    "df_noblank.to_csv('cleanedDatasets/onlineretail_clean.csv', index=False)"
   ]
  },
  {
   "cell_type": "markdown",
   "id": "7e0658b7-9f9a-4c53-ad92-6a4f892af4af",
   "metadata": {},
   "source": [
    "## Putting Cleaned Data back into S3"
   ]
  },
  {
   "cell_type": "code",
   "execution_count": 26,
   "id": "a093a96a-8dc5-4fde-b57f-97c4686c6823",
   "metadata": {},
   "outputs": [
    {
     "name": "stdout",
     "output_type": "stream",
     "text": [
      "Cleaned marketing dataset uploaded to: cleanedData/onlineretail_clean.csv\n"
     ]
    }
   ],
   "source": [
    "import os\n",
    "\n",
    "# initializing s3 client\n",
    "s3_client = boto3.client('s3')\n",
    "\n",
    "# Define the bucket name\n",
    "bucket = 'team6datasets'\n",
    "\n",
    "# Define the directory containing the cleaned datasets\n",
    "cleaned_datasets_directory = 'cleanedDatasets'\n",
    "\n",
    "# Define the filename of the cleaned dataset\n",
    "cleaned_marketing_filename = 'onlineretail_clean.csv'\n",
    "\n",
    "# Construct the full path to the cleaned dataset\n",
    "current_directory = os.getcwd()\n",
    "cleaned_dataset_path = os.path.join(current_directory, cleaned_datasets_directory, cleaned_marketing_filename)\n",
    "\n",
    "# Define the S3 key for the uploaded file\n",
    "s3_cleaned_marketing_path = f'cleanedData/{cleaned_marketing_filename}'\n",
    "\n",
    "# Upload the cleaned marketing dataset to S3\n",
    "s3_client.upload_file(Filename=cleaned_dataset_path,\n",
    "                      Bucket=bucket,\n",
    "                      Key=s3_cleaned_marketing_path)\n",
    "\n",
    "print(f\"Cleaned marketing dataset uploaded to: {s3_cleaned_marketing_path}\")"
   ]
  }
 ],
 "metadata": {
  "availableInstances": [
   {
    "_defaultOrder": 0,
    "_isFastLaunch": true,
    "category": "General purpose",
    "gpuNum": 0,
    "hideHardwareSpecs": false,
    "memoryGiB": 4,
    "name": "ml.t3.medium",
    "vcpuNum": 2
   },
   {
    "_defaultOrder": 1,
    "_isFastLaunch": false,
    "category": "General purpose",
    "gpuNum": 0,
    "hideHardwareSpecs": false,
    "memoryGiB": 8,
    "name": "ml.t3.large",
    "vcpuNum": 2
   },
   {
    "_defaultOrder": 2,
    "_isFastLaunch": false,
    "category": "General purpose",
    "gpuNum": 0,
    "hideHardwareSpecs": false,
    "memoryGiB": 16,
    "name": "ml.t3.xlarge",
    "vcpuNum": 4
   },
   {
    "_defaultOrder": 3,
    "_isFastLaunch": false,
    "category": "General purpose",
    "gpuNum": 0,
    "hideHardwareSpecs": false,
    "memoryGiB": 32,
    "name": "ml.t3.2xlarge",
    "vcpuNum": 8
   },
   {
    "_defaultOrder": 4,
    "_isFastLaunch": true,
    "category": "General purpose",
    "gpuNum": 0,
    "hideHardwareSpecs": false,
    "memoryGiB": 8,
    "name": "ml.m5.large",
    "vcpuNum": 2
   },
   {
    "_defaultOrder": 5,
    "_isFastLaunch": false,
    "category": "General purpose",
    "gpuNum": 0,
    "hideHardwareSpecs": false,
    "memoryGiB": 16,
    "name": "ml.m5.xlarge",
    "vcpuNum": 4
   },
   {
    "_defaultOrder": 6,
    "_isFastLaunch": false,
    "category": "General purpose",
    "gpuNum": 0,
    "hideHardwareSpecs": false,
    "memoryGiB": 32,
    "name": "ml.m5.2xlarge",
    "vcpuNum": 8
   },
   {
    "_defaultOrder": 7,
    "_isFastLaunch": false,
    "category": "General purpose",
    "gpuNum": 0,
    "hideHardwareSpecs": false,
    "memoryGiB": 64,
    "name": "ml.m5.4xlarge",
    "vcpuNum": 16
   },
   {
    "_defaultOrder": 8,
    "_isFastLaunch": false,
    "category": "General purpose",
    "gpuNum": 0,
    "hideHardwareSpecs": false,
    "memoryGiB": 128,
    "name": "ml.m5.8xlarge",
    "vcpuNum": 32
   },
   {
    "_defaultOrder": 9,
    "_isFastLaunch": false,
    "category": "General purpose",
    "gpuNum": 0,
    "hideHardwareSpecs": false,
    "memoryGiB": 192,
    "name": "ml.m5.12xlarge",
    "vcpuNum": 48
   },
   {
    "_defaultOrder": 10,
    "_isFastLaunch": false,
    "category": "General purpose",
    "gpuNum": 0,
    "hideHardwareSpecs": false,
    "memoryGiB": 256,
    "name": "ml.m5.16xlarge",
    "vcpuNum": 64
   },
   {
    "_defaultOrder": 11,
    "_isFastLaunch": false,
    "category": "General purpose",
    "gpuNum": 0,
    "hideHardwareSpecs": false,
    "memoryGiB": 384,
    "name": "ml.m5.24xlarge",
    "vcpuNum": 96
   },
   {
    "_defaultOrder": 12,
    "_isFastLaunch": false,
    "category": "General purpose",
    "gpuNum": 0,
    "hideHardwareSpecs": false,
    "memoryGiB": 8,
    "name": "ml.m5d.large",
    "vcpuNum": 2
   },
   {
    "_defaultOrder": 13,
    "_isFastLaunch": false,
    "category": "General purpose",
    "gpuNum": 0,
    "hideHardwareSpecs": false,
    "memoryGiB": 16,
    "name": "ml.m5d.xlarge",
    "vcpuNum": 4
   },
   {
    "_defaultOrder": 14,
    "_isFastLaunch": false,
    "category": "General purpose",
    "gpuNum": 0,
    "hideHardwareSpecs": false,
    "memoryGiB": 32,
    "name": "ml.m5d.2xlarge",
    "vcpuNum": 8
   },
   {
    "_defaultOrder": 15,
    "_isFastLaunch": false,
    "category": "General purpose",
    "gpuNum": 0,
    "hideHardwareSpecs": false,
    "memoryGiB": 64,
    "name": "ml.m5d.4xlarge",
    "vcpuNum": 16
   },
   {
    "_defaultOrder": 16,
    "_isFastLaunch": false,
    "category": "General purpose",
    "gpuNum": 0,
    "hideHardwareSpecs": false,
    "memoryGiB": 128,
    "name": "ml.m5d.8xlarge",
    "vcpuNum": 32
   },
   {
    "_defaultOrder": 17,
    "_isFastLaunch": false,
    "category": "General purpose",
    "gpuNum": 0,
    "hideHardwareSpecs": false,
    "memoryGiB": 192,
    "name": "ml.m5d.12xlarge",
    "vcpuNum": 48
   },
   {
    "_defaultOrder": 18,
    "_isFastLaunch": false,
    "category": "General purpose",
    "gpuNum": 0,
    "hideHardwareSpecs": false,
    "memoryGiB": 256,
    "name": "ml.m5d.16xlarge",
    "vcpuNum": 64
   },
   {
    "_defaultOrder": 19,
    "_isFastLaunch": false,
    "category": "General purpose",
    "gpuNum": 0,
    "hideHardwareSpecs": false,
    "memoryGiB": 384,
    "name": "ml.m5d.24xlarge",
    "vcpuNum": 96
   },
   {
    "_defaultOrder": 20,
    "_isFastLaunch": false,
    "category": "General purpose",
    "gpuNum": 0,
    "hideHardwareSpecs": true,
    "memoryGiB": 0,
    "name": "ml.geospatial.interactive",
    "supportedImageNames": [
     "sagemaker-geospatial-v1-0"
    ],
    "vcpuNum": 0
   },
   {
    "_defaultOrder": 21,
    "_isFastLaunch": true,
    "category": "Compute optimized",
    "gpuNum": 0,
    "hideHardwareSpecs": false,
    "memoryGiB": 4,
    "name": "ml.c5.large",
    "vcpuNum": 2
   },
   {
    "_defaultOrder": 22,
    "_isFastLaunch": false,
    "category": "Compute optimized",
    "gpuNum": 0,
    "hideHardwareSpecs": false,
    "memoryGiB": 8,
    "name": "ml.c5.xlarge",
    "vcpuNum": 4
   },
   {
    "_defaultOrder": 23,
    "_isFastLaunch": false,
    "category": "Compute optimized",
    "gpuNum": 0,
    "hideHardwareSpecs": false,
    "memoryGiB": 16,
    "name": "ml.c5.2xlarge",
    "vcpuNum": 8
   },
   {
    "_defaultOrder": 24,
    "_isFastLaunch": false,
    "category": "Compute optimized",
    "gpuNum": 0,
    "hideHardwareSpecs": false,
    "memoryGiB": 32,
    "name": "ml.c5.4xlarge",
    "vcpuNum": 16
   },
   {
    "_defaultOrder": 25,
    "_isFastLaunch": false,
    "category": "Compute optimized",
    "gpuNum": 0,
    "hideHardwareSpecs": false,
    "memoryGiB": 72,
    "name": "ml.c5.9xlarge",
    "vcpuNum": 36
   },
   {
    "_defaultOrder": 26,
    "_isFastLaunch": false,
    "category": "Compute optimized",
    "gpuNum": 0,
    "hideHardwareSpecs": false,
    "memoryGiB": 96,
    "name": "ml.c5.12xlarge",
    "vcpuNum": 48
   },
   {
    "_defaultOrder": 27,
    "_isFastLaunch": false,
    "category": "Compute optimized",
    "gpuNum": 0,
    "hideHardwareSpecs": false,
    "memoryGiB": 144,
    "name": "ml.c5.18xlarge",
    "vcpuNum": 72
   },
   {
    "_defaultOrder": 28,
    "_isFastLaunch": false,
    "category": "Compute optimized",
    "gpuNum": 0,
    "hideHardwareSpecs": false,
    "memoryGiB": 192,
    "name": "ml.c5.24xlarge",
    "vcpuNum": 96
   },
   {
    "_defaultOrder": 29,
    "_isFastLaunch": true,
    "category": "Accelerated computing",
    "gpuNum": 1,
    "hideHardwareSpecs": false,
    "memoryGiB": 16,
    "name": "ml.g4dn.xlarge",
    "vcpuNum": 4
   },
   {
    "_defaultOrder": 30,
    "_isFastLaunch": false,
    "category": "Accelerated computing",
    "gpuNum": 1,
    "hideHardwareSpecs": false,
    "memoryGiB": 32,
    "name": "ml.g4dn.2xlarge",
    "vcpuNum": 8
   },
   {
    "_defaultOrder": 31,
    "_isFastLaunch": false,
    "category": "Accelerated computing",
    "gpuNum": 1,
    "hideHardwareSpecs": false,
    "memoryGiB": 64,
    "name": "ml.g4dn.4xlarge",
    "vcpuNum": 16
   },
   {
    "_defaultOrder": 32,
    "_isFastLaunch": false,
    "category": "Accelerated computing",
    "gpuNum": 1,
    "hideHardwareSpecs": false,
    "memoryGiB": 128,
    "name": "ml.g4dn.8xlarge",
    "vcpuNum": 32
   },
   {
    "_defaultOrder": 33,
    "_isFastLaunch": false,
    "category": "Accelerated computing",
    "gpuNum": 4,
    "hideHardwareSpecs": false,
    "memoryGiB": 192,
    "name": "ml.g4dn.12xlarge",
    "vcpuNum": 48
   },
   {
    "_defaultOrder": 34,
    "_isFastLaunch": false,
    "category": "Accelerated computing",
    "gpuNum": 1,
    "hideHardwareSpecs": false,
    "memoryGiB": 256,
    "name": "ml.g4dn.16xlarge",
    "vcpuNum": 64
   },
   {
    "_defaultOrder": 35,
    "_isFastLaunch": false,
    "category": "Accelerated computing",
    "gpuNum": 1,
    "hideHardwareSpecs": false,
    "memoryGiB": 61,
    "name": "ml.p3.2xlarge",
    "vcpuNum": 8
   },
   {
    "_defaultOrder": 36,
    "_isFastLaunch": false,
    "category": "Accelerated computing",
    "gpuNum": 4,
    "hideHardwareSpecs": false,
    "memoryGiB": 244,
    "name": "ml.p3.8xlarge",
    "vcpuNum": 32
   },
   {
    "_defaultOrder": 37,
    "_isFastLaunch": false,
    "category": "Accelerated computing",
    "gpuNum": 8,
    "hideHardwareSpecs": false,
    "memoryGiB": 488,
    "name": "ml.p3.16xlarge",
    "vcpuNum": 64
   },
   {
    "_defaultOrder": 38,
    "_isFastLaunch": false,
    "category": "Accelerated computing",
    "gpuNum": 8,
    "hideHardwareSpecs": false,
    "memoryGiB": 768,
    "name": "ml.p3dn.24xlarge",
    "vcpuNum": 96
   },
   {
    "_defaultOrder": 39,
    "_isFastLaunch": false,
    "category": "Memory Optimized",
    "gpuNum": 0,
    "hideHardwareSpecs": false,
    "memoryGiB": 16,
    "name": "ml.r5.large",
    "vcpuNum": 2
   },
   {
    "_defaultOrder": 40,
    "_isFastLaunch": false,
    "category": "Memory Optimized",
    "gpuNum": 0,
    "hideHardwareSpecs": false,
    "memoryGiB": 32,
    "name": "ml.r5.xlarge",
    "vcpuNum": 4
   },
   {
    "_defaultOrder": 41,
    "_isFastLaunch": false,
    "category": "Memory Optimized",
    "gpuNum": 0,
    "hideHardwareSpecs": false,
    "memoryGiB": 64,
    "name": "ml.r5.2xlarge",
    "vcpuNum": 8
   },
   {
    "_defaultOrder": 42,
    "_isFastLaunch": false,
    "category": "Memory Optimized",
    "gpuNum": 0,
    "hideHardwareSpecs": false,
    "memoryGiB": 128,
    "name": "ml.r5.4xlarge",
    "vcpuNum": 16
   },
   {
    "_defaultOrder": 43,
    "_isFastLaunch": false,
    "category": "Memory Optimized",
    "gpuNum": 0,
    "hideHardwareSpecs": false,
    "memoryGiB": 256,
    "name": "ml.r5.8xlarge",
    "vcpuNum": 32
   },
   {
    "_defaultOrder": 44,
    "_isFastLaunch": false,
    "category": "Memory Optimized",
    "gpuNum": 0,
    "hideHardwareSpecs": false,
    "memoryGiB": 384,
    "name": "ml.r5.12xlarge",
    "vcpuNum": 48
   },
   {
    "_defaultOrder": 45,
    "_isFastLaunch": false,
    "category": "Memory Optimized",
    "gpuNum": 0,
    "hideHardwareSpecs": false,
    "memoryGiB": 512,
    "name": "ml.r5.16xlarge",
    "vcpuNum": 64
   },
   {
    "_defaultOrder": 46,
    "_isFastLaunch": false,
    "category": "Memory Optimized",
    "gpuNum": 0,
    "hideHardwareSpecs": false,
    "memoryGiB": 768,
    "name": "ml.r5.24xlarge",
    "vcpuNum": 96
   },
   {
    "_defaultOrder": 47,
    "_isFastLaunch": false,
    "category": "Accelerated computing",
    "gpuNum": 1,
    "hideHardwareSpecs": false,
    "memoryGiB": 16,
    "name": "ml.g5.xlarge",
    "vcpuNum": 4
   },
   {
    "_defaultOrder": 48,
    "_isFastLaunch": false,
    "category": "Accelerated computing",
    "gpuNum": 1,
    "hideHardwareSpecs": false,
    "memoryGiB": 32,
    "name": "ml.g5.2xlarge",
    "vcpuNum": 8
   },
   {
    "_defaultOrder": 49,
    "_isFastLaunch": false,
    "category": "Accelerated computing",
    "gpuNum": 1,
    "hideHardwareSpecs": false,
    "memoryGiB": 64,
    "name": "ml.g5.4xlarge",
    "vcpuNum": 16
   },
   {
    "_defaultOrder": 50,
    "_isFastLaunch": false,
    "category": "Accelerated computing",
    "gpuNum": 1,
    "hideHardwareSpecs": false,
    "memoryGiB": 128,
    "name": "ml.g5.8xlarge",
    "vcpuNum": 32
   },
   {
    "_defaultOrder": 51,
    "_isFastLaunch": false,
    "category": "Accelerated computing",
    "gpuNum": 1,
    "hideHardwareSpecs": false,
    "memoryGiB": 256,
    "name": "ml.g5.16xlarge",
    "vcpuNum": 64
   },
   {
    "_defaultOrder": 52,
    "_isFastLaunch": false,
    "category": "Accelerated computing",
    "gpuNum": 4,
    "hideHardwareSpecs": false,
    "memoryGiB": 192,
    "name": "ml.g5.12xlarge",
    "vcpuNum": 48
   },
   {
    "_defaultOrder": 53,
    "_isFastLaunch": false,
    "category": "Accelerated computing",
    "gpuNum": 4,
    "hideHardwareSpecs": false,
    "memoryGiB": 384,
    "name": "ml.g5.24xlarge",
    "vcpuNum": 96
   },
   {
    "_defaultOrder": 54,
    "_isFastLaunch": false,
    "category": "Accelerated computing",
    "gpuNum": 8,
    "hideHardwareSpecs": false,
    "memoryGiB": 768,
    "name": "ml.g5.48xlarge",
    "vcpuNum": 192
   },
   {
    "_defaultOrder": 55,
    "_isFastLaunch": false,
    "category": "Accelerated computing",
    "gpuNum": 8,
    "hideHardwareSpecs": false,
    "memoryGiB": 1152,
    "name": "ml.p4d.24xlarge",
    "vcpuNum": 96
   },
   {
    "_defaultOrder": 56,
    "_isFastLaunch": false,
    "category": "Accelerated computing",
    "gpuNum": 8,
    "hideHardwareSpecs": false,
    "memoryGiB": 1152,
    "name": "ml.p4de.24xlarge",
    "vcpuNum": 96
   },
   {
    "_defaultOrder": 57,
    "_isFastLaunch": false,
    "category": "Accelerated computing",
    "gpuNum": 0,
    "hideHardwareSpecs": false,
    "memoryGiB": 32,
    "name": "ml.trn1.2xlarge",
    "vcpuNum": 8
   },
   {
    "_defaultOrder": 58,
    "_isFastLaunch": false,
    "category": "Accelerated computing",
    "gpuNum": 0,
    "hideHardwareSpecs": false,
    "memoryGiB": 512,
    "name": "ml.trn1.32xlarge",
    "vcpuNum": 128
   },
   {
    "_defaultOrder": 59,
    "_isFastLaunch": false,
    "category": "Accelerated computing",
    "gpuNum": 0,
    "hideHardwareSpecs": false,
    "memoryGiB": 512,
    "name": "ml.trn1n.32xlarge",
    "vcpuNum": 128
   }
  ],
  "instance_type": "ml.t3.medium",
  "kernelspec": {
   "display_name": "Python 3 (Data Science 2.0)",
   "language": "python",
   "name": "python3__SAGEMAKER_INTERNAL__arn:aws:sagemaker:us-east-1:081325390199:image/sagemaker-data-science-38"
  },
  "language_info": {
   "codemirror_mode": {
    "name": "ipython",
    "version": 3
   },
   "file_extension": ".py",
   "mimetype": "text/x-python",
   "name": "python",
   "nbconvert_exporter": "python",
   "pygments_lexer": "ipython3",
   "version": "3.8.13"
  }
 },
 "nbformat": 4,
 "nbformat_minor": 5
}
