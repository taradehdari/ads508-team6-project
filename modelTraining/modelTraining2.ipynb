{
 "cells": [
  {
   "cell_type": "markdown",
   "id": "cde6f312-7c04-4083-8f8d-b7a71c22b7d0",
   "metadata": {},
   "source": [
    "# Combining Three Datasets into One"
   ]
  },
  {
   "cell_type": "markdown",
   "id": "f6e3f1cb-1fa8-4c0a-9f5d-be2db6c6af83",
   "metadata": {},
   "source": [
    "### Imports"
   ]
  },
  {
   "cell_type": "code",
   "execution_count": 1,
   "id": "46ac7fad-20fb-43f6-a484-6e34b4be0262",
   "metadata": {
    "tags": []
   },
   "outputs": [],
   "source": [
    "import pandas as pd\n",
    "import numpy as np\n",
    "import random\n",
    "import matplotlib.pyplot as plt\n",
    "import seaborn as sns\n",
    "\n",
    "from sklearn.feature_selection import VarianceThreshold\n",
    "from sklearn.preprocessing import LabelEncoder\n",
    "from sklearn.preprocessing import MinMaxScaler\n",
    "from sklearn.decomposition import PCA\n",
    "from sklearn.cluster import KMeans\n",
    "from sklearn.preprocessing import OneHotEncoder\n",
    "from sklearn.model_selection import train_test_split\n",
    "from io import StringIO\n"
   ]
  },
  {
   "cell_type": "markdown",
   "id": "d975c391-be8a-4445-9c0a-29a01dc6bdda",
   "metadata": {},
   "source": [
    "## Load the Three Datasets"
   ]
  },
  {
   "cell_type": "code",
   "execution_count": 2,
   "id": "46c26fc9-3daf-42eb-b5c4-c5f9e0093a73",
   "metadata": {
    "tags": []
   },
   "outputs": [],
   "source": [
    "# Load the cleaned datasets from S3\n",
    "# Load cust_seg_df from S3\n",
    "custseg_trans = pd.read_csv('resource/custseg_clean.csv')\n",
    "\n",
    "# Load markcamp_clean from S3\n",
    "markcamp_trans = pd.read_csv('resource/markcamp_clean.csv')\n",
    "\n",
    "# Load onlineretal_clean from S3\n",
    "onlineretail_trans = pd.read_csv('resource/onlineretail_clean.csv')"
   ]
  },
  {
   "cell_type": "markdown",
   "id": "561722c4-ca00-481c-9f16-70aa5ad723af",
   "metadata": {},
   "source": [
    "## Combine datasets"
   ]
  },
  {
   "cell_type": "code",
   "execution_count": 3,
   "id": "df690ca8-cbaa-454d-9d64-b143e8ec72fd",
   "metadata": {
    "tags": []
   },
   "outputs": [],
   "source": [
    "# Combine the datasets\n",
    "customerinfo_df = pd.merge(custseg_trans, markcamp_trans, on='CustomerID', how='inner')"
   ]
  },
  {
   "cell_type": "code",
   "execution_count": 4,
   "id": "3b975837-34cf-4d4e-8340-3c4c26a2986c",
   "metadata": {},
   "outputs": [],
   "source": [
    "# Perform inner merge based on 'CustomerID'\n",
    "customer_sales_df = pd.merge(customerinfo_df, onlineretail_trans, on='CustomerID', how='inner')"
   ]
  },
  {
   "cell_type": "markdown",
   "id": "a9d28a3b-0323-4e37-a2a6-8095dda557cc",
   "metadata": {},
   "source": [
    "## Data Cleaning/Scrubbing"
   ]
  },
  {
   "cell_type": "code",
   "execution_count": 5,
   "id": "3de1e7be-3224-40a7-97ff-150283e4e599",
   "metadata": {},
   "outputs": [
    {
     "data": {
      "text/html": [
       "<div>\n",
       "<style scoped>\n",
       "    .dataframe tbody tr th:only-of-type {\n",
       "        vertical-align: middle;\n",
       "    }\n",
       "\n",
       "    .dataframe tbody tr th {\n",
       "        vertical-align: top;\n",
       "    }\n",
       "\n",
       "    .dataframe thead th {\n",
       "        text-align: right;\n",
       "    }\n",
       "</style>\n",
       "<table border=\"1\" class=\"dataframe\">\n",
       "  <thead>\n",
       "    <tr style=\"text-align: right;\">\n",
       "      <th></th>\n",
       "      <th>CustomerID</th>\n",
       "      <th>first_name</th>\n",
       "      <th>last_name</th>\n",
       "      <th>title</th>\n",
       "      <th>gender</th>\n",
       "      <th>email</th>\n",
       "      <th>company_name</th>\n",
       "      <th>department</th>\n",
       "      <th>job_title</th>\n",
       "      <th>job_category</th>\n",
       "      <th>...</th>\n",
       "      <th>time_zone</th>\n",
       "      <th>ip_address</th>\n",
       "      <th>InvoiceNo</th>\n",
       "      <th>StockCode</th>\n",
       "      <th>Description</th>\n",
       "      <th>Quantity</th>\n",
       "      <th>InvoiceDate</th>\n",
       "      <th>UnitPrice</th>\n",
       "      <th>Country</th>\n",
       "      <th>TotalPrice</th>\n",
       "    </tr>\n",
       "  </thead>\n",
       "  <tbody>\n",
       "    <tr>\n",
       "      <th>0</th>\n",
       "      <td>1523</td>\n",
       "      <td>Jarib</td>\n",
       "      <td>Brogini</td>\n",
       "      <td>Mrs</td>\n",
       "      <td>Female</td>\n",
       "      <td>jbroginih@narod.ru</td>\n",
       "      <td>Camido</td>\n",
       "      <td>Services</td>\n",
       "      <td>Civil Engineer</td>\n",
       "      <td>Engineering</td>\n",
       "      <td>...</td>\n",
       "      <td>Europe/Lisbon</td>\n",
       "      <td>15.83.166.25</td>\n",
       "      <td>536401</td>\n",
       "      <td>20961</td>\n",
       "      <td>STRAWBERRY BATH SPONGE</td>\n",
       "      <td>1</td>\n",
       "      <td>2010-12-01 11:21:00</td>\n",
       "      <td>1.25</td>\n",
       "      <td>United Kingdom</td>\n",
       "      <td>1.25</td>\n",
       "    </tr>\n",
       "    <tr>\n",
       "      <th>1</th>\n",
       "      <td>1523</td>\n",
       "      <td>Jarib</td>\n",
       "      <td>Brogini</td>\n",
       "      <td>Mrs</td>\n",
       "      <td>Female</td>\n",
       "      <td>jbroginih@narod.ru</td>\n",
       "      <td>Camido</td>\n",
       "      <td>Services</td>\n",
       "      <td>Civil Engineer</td>\n",
       "      <td>Engineering</td>\n",
       "      <td>...</td>\n",
       "      <td>Europe/Lisbon</td>\n",
       "      <td>15.83.166.25</td>\n",
       "      <td>536488</td>\n",
       "      <td>21577</td>\n",
       "      <td>SAVE THE PLANET COTTON TOTE BAG</td>\n",
       "      <td>1</td>\n",
       "      <td>2010-12-01 12:31:00</td>\n",
       "      <td>2.25</td>\n",
       "      <td>United Kingdom</td>\n",
       "      <td>2.25</td>\n",
       "    </tr>\n",
       "    <tr>\n",
       "      <th>2</th>\n",
       "      <td>1523</td>\n",
       "      <td>Jarib</td>\n",
       "      <td>Brogini</td>\n",
       "      <td>Mrs</td>\n",
       "      <td>Female</td>\n",
       "      <td>jbroginih@narod.ru</td>\n",
       "      <td>Camido</td>\n",
       "      <td>Services</td>\n",
       "      <td>Civil Engineer</td>\n",
       "      <td>Engineering</td>\n",
       "      <td>...</td>\n",
       "      <td>Europe/Lisbon</td>\n",
       "      <td>15.83.166.25</td>\n",
       "      <td>536601</td>\n",
       "      <td>22633</td>\n",
       "      <td>HAND WARMER UNION JACK</td>\n",
       "      <td>6</td>\n",
       "      <td>2010-12-02 08:33:00</td>\n",
       "      <td>1.85</td>\n",
       "      <td>United Kingdom</td>\n",
       "      <td>11.10</td>\n",
       "    </tr>\n",
       "    <tr>\n",
       "      <th>3</th>\n",
       "      <td>1523</td>\n",
       "      <td>Jarib</td>\n",
       "      <td>Brogini</td>\n",
       "      <td>Mrs</td>\n",
       "      <td>Female</td>\n",
       "      <td>jbroginih@narod.ru</td>\n",
       "      <td>Camido</td>\n",
       "      <td>Services</td>\n",
       "      <td>Civil Engineer</td>\n",
       "      <td>Engineering</td>\n",
       "      <td>...</td>\n",
       "      <td>Europe/Lisbon</td>\n",
       "      <td>15.83.166.25</td>\n",
       "      <td>536874</td>\n",
       "      <td>21913</td>\n",
       "      <td>VINTAGE SEASIDE JIGSAW PUZZLES</td>\n",
       "      <td>1</td>\n",
       "      <td>2010-12-03 11:35:00</td>\n",
       "      <td>3.75</td>\n",
       "      <td>United Kingdom</td>\n",
       "      <td>3.75</td>\n",
       "    </tr>\n",
       "    <tr>\n",
       "      <th>4</th>\n",
       "      <td>1523</td>\n",
       "      <td>Jarib</td>\n",
       "      <td>Brogini</td>\n",
       "      <td>Mrs</td>\n",
       "      <td>Female</td>\n",
       "      <td>jbroginih@narod.ru</td>\n",
       "      <td>Camido</td>\n",
       "      <td>Services</td>\n",
       "      <td>Civil Engineer</td>\n",
       "      <td>Engineering</td>\n",
       "      <td>...</td>\n",
       "      <td>Europe/Lisbon</td>\n",
       "      <td>15.83.166.25</td>\n",
       "      <td>537153</td>\n",
       "      <td>22816</td>\n",
       "      <td>CARD MOTORBIKE SANTA</td>\n",
       "      <td>48</td>\n",
       "      <td>2010-12-05 13:03:00</td>\n",
       "      <td>0.42</td>\n",
       "      <td>United Kingdom</td>\n",
       "      <td>20.16</td>\n",
       "    </tr>\n",
       "    <tr>\n",
       "      <th>5</th>\n",
       "      <td>1523</td>\n",
       "      <td>Jarib</td>\n",
       "      <td>Brogini</td>\n",
       "      <td>Mrs</td>\n",
       "      <td>Female</td>\n",
       "      <td>jbroginih@narod.ru</td>\n",
       "      <td>Camido</td>\n",
       "      <td>Services</td>\n",
       "      <td>Civil Engineer</td>\n",
       "      <td>Engineering</td>\n",
       "      <td>...</td>\n",
       "      <td>Europe/Lisbon</td>\n",
       "      <td>15.83.166.25</td>\n",
       "      <td>537155</td>\n",
       "      <td>21544</td>\n",
       "      <td>SKULLS  WATER TRANSFER TATTOOS</td>\n",
       "      <td>1</td>\n",
       "      <td>2010-12-05 13:05:00</td>\n",
       "      <td>0.85</td>\n",
       "      <td>United Kingdom</td>\n",
       "      <td>0.85</td>\n",
       "    </tr>\n",
       "    <tr>\n",
       "      <th>6</th>\n",
       "      <td>1523</td>\n",
       "      <td>Jarib</td>\n",
       "      <td>Brogini</td>\n",
       "      <td>Mrs</td>\n",
       "      <td>Female</td>\n",
       "      <td>jbroginih@narod.ru</td>\n",
       "      <td>Camido</td>\n",
       "      <td>Services</td>\n",
       "      <td>Civil Engineer</td>\n",
       "      <td>Engineering</td>\n",
       "      <td>...</td>\n",
       "      <td>Europe/Lisbon</td>\n",
       "      <td>15.83.166.25</td>\n",
       "      <td>537225</td>\n",
       "      <td>85049E</td>\n",
       "      <td>SCANDINAVIAN REDS RIBBONS</td>\n",
       "      <td>1</td>\n",
       "      <td>2010-12-05 16:41:00</td>\n",
       "      <td>1.25</td>\n",
       "      <td>United Kingdom</td>\n",
       "      <td>1.25</td>\n",
       "    </tr>\n",
       "    <tr>\n",
       "      <th>7</th>\n",
       "      <td>1523</td>\n",
       "      <td>Jarib</td>\n",
       "      <td>Brogini</td>\n",
       "      <td>Mrs</td>\n",
       "      <td>Female</td>\n",
       "      <td>jbroginih@narod.ru</td>\n",
       "      <td>Camido</td>\n",
       "      <td>Services</td>\n",
       "      <td>Civil Engineer</td>\n",
       "      <td>Engineering</td>\n",
       "      <td>...</td>\n",
       "      <td>Europe/Lisbon</td>\n",
       "      <td>15.83.166.25</td>\n",
       "      <td>537362</td>\n",
       "      <td>48173C</td>\n",
       "      <td>DOORMAT BLACK FLOCK</td>\n",
       "      <td>1</td>\n",
       "      <td>2010-12-06 12:34:00</td>\n",
       "      <td>7.95</td>\n",
       "      <td>United Kingdom</td>\n",
       "      <td>7.95</td>\n",
       "    </tr>\n",
       "    <tr>\n",
       "      <th>8</th>\n",
       "      <td>1523</td>\n",
       "      <td>Jarib</td>\n",
       "      <td>Brogini</td>\n",
       "      <td>Mrs</td>\n",
       "      <td>Female</td>\n",
       "      <td>jbroginih@narod.ru</td>\n",
       "      <td>Camido</td>\n",
       "      <td>Services</td>\n",
       "      <td>Civil Engineer</td>\n",
       "      <td>Engineering</td>\n",
       "      <td>...</td>\n",
       "      <td>Europe/Lisbon</td>\n",
       "      <td>15.83.166.25</td>\n",
       "      <td>538862</td>\n",
       "      <td>21481</td>\n",
       "      <td>FAWN BLUE HOT WATER BOTTLE</td>\n",
       "      <td>2</td>\n",
       "      <td>2010-12-14 14:11:00</td>\n",
       "      <td>2.95</td>\n",
       "      <td>United Kingdom</td>\n",
       "      <td>5.90</td>\n",
       "    </tr>\n",
       "    <tr>\n",
       "      <th>9</th>\n",
       "      <td>1523</td>\n",
       "      <td>Jarib</td>\n",
       "      <td>Brogini</td>\n",
       "      <td>Mrs</td>\n",
       "      <td>Female</td>\n",
       "      <td>jbroginih@narod.ru</td>\n",
       "      <td>Camido</td>\n",
       "      <td>Services</td>\n",
       "      <td>Civil Engineer</td>\n",
       "      <td>Engineering</td>\n",
       "      <td>...</td>\n",
       "      <td>Europe/Lisbon</td>\n",
       "      <td>15.83.166.25</td>\n",
       "      <td>540364</td>\n",
       "      <td>22743</td>\n",
       "      <td>MAKE YOUR OWN FLOWERPOWER CARD KIT</td>\n",
       "      <td>1</td>\n",
       "      <td>2011-01-06 16:03:00</td>\n",
       "      <td>2.95</td>\n",
       "      <td>United Kingdom</td>\n",
       "      <td>2.95</td>\n",
       "    </tr>\n",
       "  </tbody>\n",
       "</table>\n",
       "<p>10 rows × 40 columns</p>\n",
       "</div>"
      ],
      "text/plain": [
       "   CustomerID first_name last_name title  gender               email  \\\n",
       "0        1523      Jarib   Brogini   Mrs  Female  jbroginih@narod.ru   \n",
       "1        1523      Jarib   Brogini   Mrs  Female  jbroginih@narod.ru   \n",
       "2        1523      Jarib   Brogini   Mrs  Female  jbroginih@narod.ru   \n",
       "3        1523      Jarib   Brogini   Mrs  Female  jbroginih@narod.ru   \n",
       "4        1523      Jarib   Brogini   Mrs  Female  jbroginih@narod.ru   \n",
       "5        1523      Jarib   Brogini   Mrs  Female  jbroginih@narod.ru   \n",
       "6        1523      Jarib   Brogini   Mrs  Female  jbroginih@narod.ru   \n",
       "7        1523      Jarib   Brogini   Mrs  Female  jbroginih@narod.ru   \n",
       "8        1523      Jarib   Brogini   Mrs  Female  jbroginih@narod.ru   \n",
       "9        1523      Jarib   Brogini   Mrs  Female  jbroginih@narod.ru   \n",
       "\n",
       "  company_name department       job_title job_category  ...      time_zone  \\\n",
       "0       Camido   Services  Civil Engineer  Engineering  ...  Europe/Lisbon   \n",
       "1       Camido   Services  Civil Engineer  Engineering  ...  Europe/Lisbon   \n",
       "2       Camido   Services  Civil Engineer  Engineering  ...  Europe/Lisbon   \n",
       "3       Camido   Services  Civil Engineer  Engineering  ...  Europe/Lisbon   \n",
       "4       Camido   Services  Civil Engineer  Engineering  ...  Europe/Lisbon   \n",
       "5       Camido   Services  Civil Engineer  Engineering  ...  Europe/Lisbon   \n",
       "6       Camido   Services  Civil Engineer  Engineering  ...  Europe/Lisbon   \n",
       "7       Camido   Services  Civil Engineer  Engineering  ...  Europe/Lisbon   \n",
       "8       Camido   Services  Civil Engineer  Engineering  ...  Europe/Lisbon   \n",
       "9       Camido   Services  Civil Engineer  Engineering  ...  Europe/Lisbon   \n",
       "\n",
       "     ip_address InvoiceNo StockCode                         Description  \\\n",
       "0  15.83.166.25    536401     20961             STRAWBERRY BATH SPONGE    \n",
       "1  15.83.166.25    536488     21577     SAVE THE PLANET COTTON TOTE BAG   \n",
       "2  15.83.166.25    536601     22633              HAND WARMER UNION JACK   \n",
       "3  15.83.166.25    536874     21913      VINTAGE SEASIDE JIGSAW PUZZLES   \n",
       "4  15.83.166.25    537153     22816                CARD MOTORBIKE SANTA   \n",
       "5  15.83.166.25    537155     21544     SKULLS  WATER TRANSFER TATTOOS    \n",
       "6  15.83.166.25    537225    85049E           SCANDINAVIAN REDS RIBBONS   \n",
       "7  15.83.166.25    537362    48173C                DOORMAT BLACK FLOCK    \n",
       "8  15.83.166.25    538862     21481          FAWN BLUE HOT WATER BOTTLE   \n",
       "9  15.83.166.25    540364     22743  MAKE YOUR OWN FLOWERPOWER CARD KIT   \n",
       "\n",
       "   Quantity          InvoiceDate  UnitPrice         Country TotalPrice  \n",
       "0         1  2010-12-01 11:21:00       1.25  United Kingdom       1.25  \n",
       "1         1  2010-12-01 12:31:00       2.25  United Kingdom       2.25  \n",
       "2         6  2010-12-02 08:33:00       1.85  United Kingdom      11.10  \n",
       "3         1  2010-12-03 11:35:00       3.75  United Kingdom       3.75  \n",
       "4        48  2010-12-05 13:03:00       0.42  United Kingdom      20.16  \n",
       "5         1  2010-12-05 13:05:00       0.85  United Kingdom       0.85  \n",
       "6         1  2010-12-05 16:41:00       1.25  United Kingdom       1.25  \n",
       "7         1  2010-12-06 12:34:00       7.95  United Kingdom       7.95  \n",
       "8         2  2010-12-14 14:11:00       2.95  United Kingdom       5.90  \n",
       "9         1  2011-01-06 16:03:00       2.95  United Kingdom       2.95  \n",
       "\n",
       "[10 rows x 40 columns]"
      ]
     },
     "execution_count": 5,
     "metadata": {},
     "output_type": "execute_result"
    }
   ],
   "source": [
    "customer_sales_df.head(10)"
   ]
  },
  {
   "cell_type": "code",
   "execution_count": 6,
   "id": "7a025064-a366-4f12-9bae-b6ee1aec518d",
   "metadata": {},
   "outputs": [
    {
     "data": {
      "text/plain": [
       "CustomerID          int64\n",
       "first_name         object\n",
       "last_name          object\n",
       "title              object\n",
       "gender             object\n",
       "email              object\n",
       "company_name       object\n",
       "department         object\n",
       "job_title          object\n",
       "job_category       object\n",
       "language           object\n",
       "university         object\n",
       "linkedin_skill     object\n",
       "Education          object\n",
       "Income              int64\n",
       "Kidhome             int64\n",
       "Marital_Status     object\n",
       "Teenhome            int64\n",
       "Year_Birth          int64\n",
       "city               object\n",
       "country            object\n",
       "country_code       object\n",
       "region             object\n",
       "latitude          float64\n",
       "longitude         float64\n",
       "phone              object\n",
       "street_address     object\n",
       "street_name        object\n",
       "street_number       int64\n",
       "street_suffix      object\n",
       "time_zone          object\n",
       "ip_address         object\n",
       "InvoiceNo          object\n",
       "StockCode          object\n",
       "Description        object\n",
       "Quantity            int64\n",
       "InvoiceDate        object\n",
       "UnitPrice         float64\n",
       "Country            object\n",
       "TotalPrice        float64\n",
       "dtype: object"
      ]
     },
     "execution_count": 6,
     "metadata": {},
     "output_type": "execute_result"
    }
   ],
   "source": [
    "customer_sales_df.dtypes"
   ]
  },
  {
   "cell_type": "code",
   "execution_count": 7,
   "id": "040db7b5-c016-4f10-ad95-1596c2ec4a0e",
   "metadata": {
    "tags": []
   },
   "outputs": [
    {
     "name": "stdout",
     "output_type": "stream",
     "text": [
      "CustomerID         2216\n",
      "first_name         1931\n",
      "last_name          2177\n",
      "title                 6\n",
      "gender                8\n",
      "email              2216\n",
      "company_name        382\n",
      "department           12\n",
      "job_title           194\n",
      "job_category         22\n",
      "language             97\n",
      "university         1638\n",
      "linkedin_skill     1859\n",
      "Education             5\n",
      "Income             2213\n",
      "Kidhome               3\n",
      "Marital_Status        8\n",
      "Teenhome              3\n",
      "Year_Birth           57\n",
      "city               2101\n",
      "country             161\n",
      "country_code        161\n",
      "region                7\n",
      "latitude           2137\n",
      "longitude          2134\n",
      "phone              2216\n",
      "street_address     2216\n",
      "street_name         496\n",
      "street_number      1258\n",
      "street_suffix        21\n",
      "time_zone           220\n",
      "ip_address         2216\n",
      "InvoiceNo         22190\n",
      "StockCode          3684\n",
      "Description        3896\n",
      "Quantity            436\n",
      "InvoiceDate       20460\n",
      "UnitPrice           620\n",
      "Country              37\n",
      "TotalPrice         3878\n",
      "dtype: int64\n"
     ]
    }
   ],
   "source": [
    "# Check unique values in each column\n",
    "unique_counts = customer_sales_df.nunique()\n",
    "print(unique_counts)"
   ]
  },
  {
   "cell_type": "markdown",
   "id": "a471b9c0-caaa-4f67-9be1-3b6ee1a1e846",
   "metadata": {},
   "source": [
    "### Handle Missing values"
   ]
  },
  {
   "cell_type": "code",
   "execution_count": 8,
   "id": "2f7d35fa-e3e3-4b73-a053-5846e429f4e6",
   "metadata": {
    "tags": []
   },
   "outputs": [
    {
     "name": "stdout",
     "output_type": "stream",
     "text": [
      "CustomerID           0\n",
      "first_name           0\n",
      "last_name            0\n",
      "title                0\n",
      "gender               0\n",
      "email                0\n",
      "company_name         0\n",
      "department           0\n",
      "job_title            0\n",
      "job_category      4574\n",
      "language             0\n",
      "university           0\n",
      "linkedin_skill       0\n",
      "Education            0\n",
      "Income               0\n",
      "Kidhome              0\n",
      "Marital_Status       0\n",
      "Teenhome             0\n",
      "Year_Birth           0\n",
      "city                 0\n",
      "country              0\n",
      "country_code         0\n",
      "region               0\n",
      "latitude             0\n",
      "longitude            0\n",
      "phone                0\n",
      "street_address       0\n",
      "street_name          0\n",
      "street_number        0\n",
      "street_suffix        0\n",
      "time_zone            0\n",
      "ip_address           0\n",
      "InvoiceNo            0\n",
      "StockCode            0\n",
      "Description          0\n",
      "Quantity             0\n",
      "InvoiceDate          0\n",
      "UnitPrice            0\n",
      "Country              0\n",
      "TotalPrice           0\n",
      "dtype: int64\n"
     ]
    }
   ],
   "source": [
    "# Check missing values\n",
    "missing_counts = customer_sales_df.isnull().sum()\n",
    "print(missing_counts)"
   ]
  },
  {
   "cell_type": "code",
   "execution_count": 9,
   "id": "14743871-e4e7-4d88-a0ea-a29cb4cc2b60",
   "metadata": {
    "tags": []
   },
   "outputs": [
    {
     "name": "stdout",
     "output_type": "stream",
     "text": [
      "['Nurse Practicioner']\n"
     ]
    }
   ],
   "source": [
    "# Filter the dataframe where 'job_category' is blank\n",
    "blank_job_category_df = customer_sales_df[customer_sales_df['job_category'].isnull()]\n",
    "\n",
    "# Extract the unique values of 'job_title' from the filtered dataframe\n",
    "unique_job_titles = blank_job_category_df['job_title'].unique()\n",
    "\n",
    "# Print the unique job titles\n",
    "print(unique_job_titles)"
   ]
  },
  {
   "cell_type": "code",
   "execution_count": 10,
   "id": "28dbfb05-5b2b-41c2-9e2b-04373fa14f8f",
   "metadata": {
    "tags": []
   },
   "outputs": [],
   "source": [
    "# Fill the blank 'job_category' with 'Medical' where 'job_title' is 'Nurse Practicioner'\n",
    "customer_sales_df.loc[customer_sales_df['job_title'] == 'Nurse Practicioner', 'job_category'] = customer_sales_df['job_category'].fillna('Healthcare')\n"
   ]
  },
  {
   "cell_type": "code",
   "execution_count": 11,
   "id": "6637c0ad-9f41-4b88-8538-dd05f717c534",
   "metadata": {
    "tags": []
   },
   "outputs": [
    {
     "name": "stdout",
     "output_type": "stream",
     "text": [
      "CustomerID        0\n",
      "first_name        0\n",
      "last_name         0\n",
      "title             0\n",
      "gender            0\n",
      "email             0\n",
      "company_name      0\n",
      "department        0\n",
      "job_title         0\n",
      "job_category      0\n",
      "language          0\n",
      "university        0\n",
      "linkedin_skill    0\n",
      "Education         0\n",
      "Income            0\n",
      "Kidhome           0\n",
      "Marital_Status    0\n",
      "Teenhome          0\n",
      "Year_Birth        0\n",
      "city              0\n",
      "country           0\n",
      "country_code      0\n",
      "region            0\n",
      "latitude          0\n",
      "longitude         0\n",
      "phone             0\n",
      "street_address    0\n",
      "street_name       0\n",
      "street_number     0\n",
      "street_suffix     0\n",
      "time_zone         0\n",
      "ip_address        0\n",
      "InvoiceNo         0\n",
      "StockCode         0\n",
      "Description       0\n",
      "Quantity          0\n",
      "InvoiceDate       0\n",
      "UnitPrice         0\n",
      "Country           0\n",
      "TotalPrice        0\n",
      "dtype: int64\n"
     ]
    }
   ],
   "source": [
    "# Check missing values\n",
    "missing_counts = customer_sales_df.isnull().sum()\n",
    "print(missing_counts)"
   ]
  },
  {
   "cell_type": "markdown",
   "id": "2bf5b3fa-cea9-4099-93bd-abba9e5dec9f",
   "metadata": {},
   "source": [
    "### Check for Duplicate Rows"
   ]
  },
  {
   "cell_type": "code",
   "execution_count": 12,
   "id": "a2493828-f2a9-4561-9ef0-38b911e02204",
   "metadata": {},
   "outputs": [
    {
     "name": "stdout",
     "output_type": "stream",
     "text": [
      "Number of duplicate rows: 0\n"
     ]
    }
   ],
   "source": [
    "# Check for true duplicate rows in the DataFrame based on all columns\n",
    "duplicate_rows = customer_sales_df.duplicated()\n",
    "\n",
    "# Count the number of duplicate rows\n",
    "num_duplicate_rows = duplicate_rows.sum()\n",
    "\n",
    "# Retrieve the duplicate rows\n",
    "duplicate_data = customer_sales_df[duplicate_rows]\n",
    "\n",
    "# Display the number of duplicate rows\n",
    "print(\"Number of duplicate rows:\", num_duplicate_rows)"
   ]
  },
  {
   "cell_type": "code",
   "execution_count": 13,
   "id": "91e2e282-8434-42a5-b2ab-6bc67e5c4b93",
   "metadata": {
    "tags": []
   },
   "outputs": [
    {
     "data": {
      "text/plain": [
       "(406829, 40)"
      ]
     },
     "execution_count": 13,
     "metadata": {},
     "output_type": "execute_result"
    }
   ],
   "source": [
    "# Remove the duplicate row(s) from the DataFrame\n",
    "customer_sales_df = customer_sales_df.drop_duplicates()\n",
    "\n",
    "# Check dataset\n",
    "customer_sales_df.shape"
   ]
  },
  {
   "cell_type": "markdown",
   "id": "6d17fdb3-4f67-4cbe-b5df-f71069e391bc",
   "metadata": {},
   "source": [
    "## Feature Creation"
   ]
  },
  {
   "cell_type": "markdown",
   "id": "851ad1ee-762a-47ab-9bf4-9994cc8f5108",
   "metadata": {},
   "source": [
    "### Create 'Purchase_Frequency' Column"
   ]
  },
  {
   "cell_type": "code",
   "execution_count": 14,
   "id": "071306fb-a199-4707-87e4-79ca81b353b9",
   "metadata": {
    "tags": []
   },
   "outputs": [],
   "source": [
    "# Convert 'InvoiceDate' to datetime if it's not already in datetime format\n",
    "customer_sales_df['InvoiceDate'] = pd.to_datetime(customer_sales_df['InvoiceDate'])\n",
    "\n",
    "# Calculate purchase frequency using 'InvoiceNo'\n",
    "purchase_frequency = customer_sales_df.groupby('CustomerID')['InvoiceNo'].nunique().rename('Purchase_Frequency')\n",
    "\n",
    "# Merge the purchase frequency calculation based on 'InvoiceNo' directly into customer_sales_df\n",
    "customer_sales_df = pd.merge(customer_sales_df, purchase_frequency, on='CustomerID', how='left')"
   ]
  },
  {
   "cell_type": "code",
   "execution_count": 15,
   "id": "1236276b-9437-42b8-a8ac-96b23d90f6a9",
   "metadata": {
    "tags": []
   },
   "outputs": [
    {
     "name": "stdout",
     "output_type": "stream",
     "text": [
      "Minimum Purchase Frequency: 129.0\n",
      "Maximum Purchase Frequency: 234.0\n",
      "Purchase Frequency Quartiles:\n",
      "25%    174.0\n",
      "50%    182.0\n",
      "75%    192.0\n",
      "Name: Purchase_Frequency, dtype: float64\n"
     ]
    }
   ],
   "source": [
    "# Describe the 'Purchase_Frequency' column to get statistics including min, max, and quartiles\n",
    "purchase_frequency_description = customer_sales_df['Purchase_Frequency'].describe()\n",
    "\n",
    "# Extract relevant statistics\n",
    "purchase_frequency_min = purchase_frequency_description['min']\n",
    "purchase_frequency_max = purchase_frequency_description['max']\n",
    "purchase_frequency_quartiles = purchase_frequency_description[['25%', '50%', '75%']]\n",
    "\n",
    "# Display the results\n",
    "print(\"Minimum Purchase Frequency:\", purchase_frequency_min)\n",
    "print(\"Maximum Purchase Frequency:\", purchase_frequency_max)\n",
    "print(\"Purchase Frequency Quartiles:\")\n",
    "print(purchase_frequency_quartiles)\n"
   ]
  },
  {
   "cell_type": "markdown",
   "id": "6907a5d4-8f61-4ee3-8009-759fc5665b5f",
   "metadata": {},
   "source": [
    "### Check for Central Tendancy and Outliers"
   ]
  },
  {
   "cell_type": "code",
   "execution_count": 16,
   "id": "cd6e01de-b8b2-43d5-b945-ff1437b6b47e",
   "metadata": {
    "tags": []
   },
   "outputs": [
    {
     "data": {
      "image/png": "[encoded data removed]",
      "text/plain": [
       "<Figure size 800x600 with 1 Axes>"
      ]
     },
     "metadata": {},
     "output_type": "display_data"
    }
   ],
   "source": [
    "# Calculate mean and median\n",
    "purchase_frequency_mean = customer_sales_df['Purchase_Frequency'].mean()\n",
    "purchase_frequency_median = customer_sales_df['Purchase_Frequency'].median()\n",
    "\n",
    "# Create a box plot for 'Purchase_Frequency' with mean, median, and outliers\n",
    "plt.figure(figsize=(8, 6))\n",
    "box = plt.boxplot(customer_sales_df['Purchase_Frequency'], vert=False, showmeans=True, \n",
    "                  meanline=True, showcaps=True, showbox=True, flierprops=dict(marker='o', markerfacecolor='g', markersize=8))\n",
    "plt.axvline(purchase_frequency_median, color='r', linestyle='--', label='Median')\n",
    "plt.axvline(purchase_frequency_mean, color='blue', linestyle='-.', label='Mean')\n",
    "\n",
    "# Create custom legend entries for mean, median, and outliers\n",
    "legend_entries = [plt.Line2D([0], [0], color='r', linestyle='--', label='Median'),\n",
    "                  plt.Line2D([0], [0], color='blue', linestyle='-.', label='Mean'),\n",
    "                  plt.Line2D([0], [0], marker='o', color='green', label='Outliers', markerfacecolor='green', markersize=8)]\n",
    "plt.legend(handles=legend_entries)\n",
    "\n",
    "plt.title('Box Plot of Purchase Frequency')\n",
    "plt.xlabel('Purchase Frequency')\n",
    "plt.show()"
   ]
  },
  {
   "cell_type": "markdown",
   "id": "9a1c4d6d-faaa-4183-8940-8ca0d13a55e4",
   "metadata": {},
   "source": [
    "### Create 'Age' Column"
   ]
  },
  {
   "cell_type": "code",
   "execution_count": 17,
   "id": "970a4c98-3bfc-4688-b082-4e024155d85a",
   "metadata": {
    "tags": []
   },
   "outputs": [],
   "source": [
    "# Calculate age from 'Year_Birth'\n",
    "current_year = pd.Timestamp.now().year\n",
    "customer_sales_df['Age'] = current_year - customer_sales_df['Year_Birth']"
   ]
  },
  {
   "cell_type": "code",
   "execution_count": 18,
   "id": "0389d839-70a3-48ec-a4ee-b94d3ead7dab",
   "metadata": {
    "tags": []
   },
   "outputs": [
    {
     "name": "stdout",
     "output_type": "stream",
     "text": [
      "Minimum age: 28.0\n",
      "Maximum age: 84.0\n",
      "Age Quartiles:\n",
      "25%    42.0\n",
      "50%    56.0\n",
      "75%    70.0\n",
      "Name: Age, dtype: float64\n"
     ]
    }
   ],
   "source": [
    "# Describe the 'Age' column to get statistics including min, max, and quartiles\n",
    "age_description = customer_sales_df['Age'].describe()\n",
    "\n",
    "# Extract relevant statistics\n",
    "age_min = age_description['min']\n",
    "age_max = age_description['max']\n",
    "age_quartiles = age_description[['25%', '50%', '75%']]\n",
    "\n",
    "# Display the results\n",
    "print(\"Minimum age:\", age_min)\n",
    "print(\"Maximum age:\", age_max)\n",
    "print(\"Age Quartiles:\")\n",
    "print(age_quartiles)\n"
   ]
  },
  {
   "cell_type": "markdown",
   "id": "e67a881b-b832-4747-8ef6-d76b4290c2fe",
   "metadata": {},
   "source": [
    "### Check for Central Tendancy and Outliers"
   ]
  },
  {
   "cell_type": "code",
   "execution_count": 19,
   "id": "3bbf4a90-e91f-4f0a-96d9-a638e05c2748",
   "metadata": {
    "tags": []
   },
   "outputs": [
    {
     "data": {
      "image/png": "[encoded data removed]",
      "text/plain": [
       "<Figure size 800x600 with 1 Axes>"
      ]
     },
     "metadata": {},
     "output_type": "display_data"
    }
   ],
   "source": [
    "# Calculate mean and median for Purchase_Frequency\n",
    "purchase_frequency_mean = customer_sales_df['Purchase_Frequency'].mean()\n",
    "purchase_frequency_median = customer_sales_df['Purchase_Frequency'].median()\n",
    "\n",
    "# Create a box plot for 'Purchase_Frequency' with mean, median, and outliers\n",
    "plt.figure(figsize=(8, 6))\n",
    "box = plt.boxplot(customer_sales_df['Purchase_Frequency'], vert=False, showmeans=True, \n",
    "                  meanline=True, showcaps=True, showbox=True, flierprops=dict(marker='o', markerfacecolor='g', markersize=8))\n",
    "plt.axvline(purchase_frequency_median, color='r', linestyle='--', label='Median')\n",
    "plt.axvline(purchase_frequency_mean, color='blue', linestyle='-.', label='Mean')\n",
    "\n",
    "# Create custom legend entries for mean, median, and outliers\n",
    "legend_entries = [plt.Line2D([0], [0], color='r', linestyle='--', label='Median'),\n",
    "                  plt.Line2D([0], [0], color='blue', linestyle='-.', label='Mean'),\n",
    "                  plt.Line2D([0], [0], marker='o', color='green', label='Outliers', markerfacecolor='green', markersize=8)]\n",
    "plt.legend(handles=legend_entries)\n",
    "\n",
    "plt.title('Box Plot of Purchase Frequency')\n",
    "plt.xlabel('Purchase Frequency')\n",
    "plt.show()"
   ]
  },
  {
   "cell_type": "markdown",
   "id": "205ecd99-f106-4862-9943-2c649c8a8731",
   "metadata": {},
   "source": [
    "### Create 'Total_Spent_byCustomer' Column"
   ]
  },
  {
   "cell_type": "code",
   "execution_count": 20,
   "id": "a614eab7-632e-4116-a270-7417ec799504",
   "metadata": {},
   "outputs": [],
   "source": [
    "# Calculate total spending for each customer by summing up their 'TotalPrice'\n",
    "total_spending = customer_sales_df.groupby('CustomerID')['TotalPrice'].sum().rename('Total_Spent_byCustomer')\n",
    "\n",
    "# Merge the total spending information back into the original DataFrame\n",
    "customer_sales_df = pd.merge(customer_sales_df, total_spending, on='CustomerID', how='left')\n",
    "\n",
    "# Change negative values to positive in total spending\n",
    "customer_sales_df['Total_Spent_byCustomer'] = customer_sales_df['Total_Spent_byCustomer'].abs()"
   ]
  },
  {
   "cell_type": "code",
   "execution_count": 21,
   "id": "2fd30328-aea6-4e0b-8221-5dfc212511a4",
   "metadata": {},
   "outputs": [
    {
     "name": "stdout",
     "output_type": "stream",
     "text": [
      "Minimum Total Spending by Customer: 4.80000000000015\n",
      "Maximum Total Spending by Customer: 172053.62\n",
      "Total Spending by Customer Quartiles:\n",
      "25%    3129.13\n",
      "50%    3578.87\n",
      "75%    4189.65\n",
      "Name: Total_Spent_byCustomer, dtype: float64\n"
     ]
    }
   ],
   "source": [
    "# Describe the 'Total_Spent_byCustomer' column to get statistics including min, max, and quartiles\n",
    "total_spending_description = customer_sales_df['Total_Spent_byCustomer'].describe()\n",
    "\n",
    "# Extract relevant statistics\n",
    "total_spending_min = total_spending_description['min']\n",
    "total_spending_max = total_spending_description['max']\n",
    "total_spending_quartiles = total_spending_description[['25%', '50%', '75%']]\n",
    "\n",
    "# Display the results\n",
    "print(\"Minimum Total Spending by Customer:\", total_spending_min)\n",
    "print(\"Maximum Total Spending by Customer:\", total_spending_max)\n",
    "print(\"Total Spending by Customer Quartiles:\")\n",
    "print(total_spending_quartiles)\n"
   ]
  },
  {
   "cell_type": "markdown",
   "id": "3e330c24-c95b-4db5-a31b-0c76d1d06331",
   "metadata": {},
   "source": [
    "### Check for Central Tendancy and Outliers"
   ]
  },
  {
   "cell_type": "code",
   "execution_count": 22,
   "id": "aa32a70c-9352-4c14-a4c6-3e6521c6b3db",
   "metadata": {
    "tags": []
   },
   "outputs": [
    {
     "data": {
      "image/png": "[encoded data removed]",
      "text/plain": [
       "<Figure size 800x600 with 1 Axes>"
      ]
     },
     "metadata": {},
     "output_type": "display_data"
    }
   ],
   "source": [
    "# Calculate mean and median for Total_Spent_byCustomer\n",
    "total_spending_mean = customer_sales_df['Total_Spent_byCustomer'].mean()\n",
    "total_spending_median = customer_sales_df['Total_Spent_byCustomer'].median()\n",
    "\n",
    "# Create a box plot for 'Total_Spent_byCustomer' with mean, median, and outliers\n",
    "plt.figure(figsize=(8, 6))\n",
    "box = plt.boxplot(customer_sales_df['Total_Spent_byCustomer'], vert=False, showmeans=True, \n",
    "                  meanline=True, showcaps=True, showbox=True, flierprops=dict(marker='o', markerfacecolor='g', markersize=8))\n",
    "plt.axvline(total_spending_median, color='r', linestyle='--', label='Median')\n",
    "plt.axvline(total_spending_mean, color='blue', linestyle='-.', label='Mean')\n",
    "\n",
    "# Create custom legend entries for mean, median, and outliers\n",
    "legend_entries = [plt.Line2D([0], [0], color='r', linestyle='--', label='Median'),\n",
    "                  plt.Line2D([0], [0], color='blue', linestyle='-.', label='Mean'),\n",
    "                  plt.Line2D([0], [0], marker='o', color='green', label='Outliers', markerfacecolor='green', markersize=8)]\n",
    "plt.legend(handles=legend_entries)\n",
    "\n",
    "plt.title('Box Plot of Total Spending by Customer')\n",
    "plt.xlabel('Total Spending by Customer')\n",
    "plt.show()"
   ]
  },
  {
   "cell_type": "markdown",
   "id": "5aae18c7-2246-470c-8b88-3bf4ed5be486",
   "metadata": {},
   "source": [
    "### Create 'SpendingCategory' column based on 'Total_Spent_byCustomer' Column"
   ]
  },
  {
   "cell_type": "code",
   "execution_count": 23,
   "id": "bcfddc7f-eed8-4f0a-bac6-8edca0b6c723",
   "metadata": {
    "tags": []
   },
   "outputs": [],
   "source": [
    "# Define spending brackets based on the observed range of total spending\n",
    "spending_bins = [0, 1000, 5000, 10000, float('inf')]\n",
    "spending_labels = ['Low', 'Medium', 'High', 'Very High']\n",
    "\n",
    "# Categorize total spending into spending brackets\n",
    "customer_sales_df['SpendingCategory'] = pd.cut(customer_sales_df['Total_Spent_byCustomer'], bins=spending_bins, labels=spending_labels)\n"
   ]
  },
  {
   "cell_type": "code",
   "execution_count": 24,
   "id": "9a0f2af0-79eb-47ef-9cca-ce2589952a18",
   "metadata": {
    "tags": []
   },
   "outputs": [
    {
     "name": "stdout",
     "output_type": "stream",
     "text": [
      "Count of Each Spending Category:\n",
      "SpendingCategory\n",
      "Medium       361859\n",
      "High          41435\n",
      "Very High      2039\n",
      "Low            1496\n",
      "Name: count, dtype: int64\n"
     ]
    }
   ],
   "source": [
    "# Display count of each unique value in the 'SpendingCategory' column\n",
    "spending_category_counts = customer_sales_df['SpendingCategory'].value_counts()\n",
    "\n",
    "# Display the counts\n",
    "print(\"Count of Each Spending Category:\")\n",
    "print(spending_category_counts)\n"
   ]
  },
  {
   "cell_type": "markdown",
   "id": "7d5274a6-2110-4190-9701-df652d55f9d4",
   "metadata": {},
   "source": [
    "### Check for Central Tendancy"
   ]
  },
  {
   "cell_type": "code",
   "execution_count": 25,
   "id": "79fae51d-86dd-4bd7-beae-204e26e9639d",
   "metadata": {
    "tags": []
   },
   "outputs": [
    {
     "data": {
      "image/png": "[encoded data removed]",
      "text/plain": [
       "<Figure size 800x600 with 1 Axes>"
      ]
     },
     "metadata": {},
     "output_type": "display_data"
    }
   ],
   "source": [
    "# Encode spending categories numerically\n",
    "spending_category_numeric = customer_sales_df['SpendingCategory'].cat.codes\n",
    "\n",
    "# Calculate mean and median for encoded spending categories\n",
    "spending_category_mean = spending_category_numeric.mean()\n",
    "spending_category_median = spending_category_numeric.median()\n",
    "\n",
    "# Create a histogram for encoded spending categories\n",
    "plt.figure(figsize=(8, 6))\n",
    "plt.hist(spending_category_numeric, bins=len(spending_labels), color='skyblue', edgecolor='black', alpha=0.7)\n",
    "\n",
    "# Add markers for mean and median\n",
    "plt.axvline(spending_category_mean, color='blue', linestyle='-.', label='Mean')\n",
    "plt.axvline(spending_category_median, color='orange', linestyle='--', label='Median')\n",
    "\n",
    "# Set x-axis ticks and labels\n",
    "plt.xticks(range(len(spending_labels)), spending_labels)\n",
    "\n",
    "plt.title('Histogram of Spending Category')\n",
    "plt.xlabel('Spending Category')\n",
    "plt.ylabel('Frequency')\n",
    "\n",
    "plt.legend()\n",
    "plt.show()"
   ]
  },
  {
   "cell_type": "markdown",
   "id": "f920cbdf-1acb-487a-be07-181474512224",
   "metadata": {},
   "source": [
    "### Create 'IncomeLevel' column based on 'Income' Column"
   ]
  },
  {
   "cell_type": "code",
   "execution_count": 26,
   "id": "a2660ec6-dd84-4985-94a2-5b2c784f4d13",
   "metadata": {
    "tags": []
   },
   "outputs": [],
   "source": [
    "# Define income brackets\n",
    "income_bins = [0, 30000, 60000, 90000, float('inf')]\n",
    "income_labels = ['Low', 'Medium', 'High', 'Very High']\n",
    "\n",
    "# Categorize customers into income brackets\n",
    "customer_sales_df['IncomeLevel'] = pd.cut(customer_sales_df['Income'], bins=income_bins, labels=income_labels)\n"
   ]
  },
  {
   "cell_type": "code",
   "execution_count": 27,
   "id": "4ab76902-ff48-4484-9fe9-a8ca467f40f2",
   "metadata": {
    "tags": []
   },
   "outputs": [
    {
     "name": "stdout",
     "output_type": "stream",
     "text": [
      "Count of Each Income Level:\n",
      "IncomeLevel\n",
      "Very High    358896\n",
      "High          18689\n",
      "Medium        15741\n",
      "Low           13503\n",
      "Name: count, dtype: int64\n"
     ]
    }
   ],
   "source": [
    "# Display count of each unique value in the 'IncomeLevel' column\n",
    "income_level_counts = customer_sales_df['IncomeLevel'].value_counts()\n",
    "\n",
    "# Display the counts\n",
    "print(\"Count of Each Income Level:\")\n",
    "print(income_level_counts)\n"
   ]
  },
  {
   "cell_type": "markdown",
   "id": "35c8cac3-9aa0-4f57-bf59-1cf54871f67e",
   "metadata": {},
   "source": [
    "### Check for Central Tendancy"
   ]
  },
  {
   "cell_type": "code",
   "execution_count": 28,
   "id": "e921fffe-b0cf-497b-b7b0-95949fd16b91",
   "metadata": {
    "tags": []
   },
   "outputs": [
    {
     "data": {
      "image/png": "[encoded data removed]",
      "text/plain": [
       "<Figure size 800x600 with 1 Axes>"
      ]
     },
     "metadata": {},
     "output_type": "display_data"
    }
   ],
   "source": [
    "# Calculate mean and median for 'IncomeLevel'\n",
    "income_level_mean = customer_sales_df['IncomeLevel'].cat.codes.mean()\n",
    "income_level_median = customer_sales_df['IncomeLevel'].cat.codes.median()\n",
    "\n",
    "# Create a histogram for 'IncomeLevel' with original category labels on x-axis\n",
    "plt.figure(figsize=(8, 6))\n",
    "plt.hist(customer_sales_df['IncomeLevel'].cat.codes, bins=len(income_labels), color='skyblue', edgecolor='black', alpha=0.7)\n",
    "\n",
    "# Add markers for mean and median\n",
    "plt.axvline(income_level_mean, color='blue', linestyle='-.', label='Mean')\n",
    "plt.axvline(income_level_median, color='orange', linestyle='--', label='Median')\n",
    "\n",
    "# Set x-axis ticks and labels\n",
    "plt.xticks(range(len(income_labels)), income_labels)\n",
    "\n",
    "plt.title('Histogram of Income Level')\n",
    "plt.xlabel('Income Level')\n",
    "plt.ylabel('Frequency')\n",
    "\n",
    "plt.legend()\n",
    "plt.show()"
   ]
  },
  {
   "cell_type": "markdown",
   "id": "daeedeb8-ca61-428d-b09b-83d71a98f81a",
   "metadata": {},
   "source": [
    "### Create 'Purchase_Recency' Column"
   ]
  },
  {
   "cell_type": "code",
   "execution_count": 29,
   "id": "0fb16a6b-c5ac-45eb-b042-ea38c393f6d7",
   "metadata": {
    "tags": []
   },
   "outputs": [],
   "source": [
    "# Group by 'CustomerID' and find distinct invoice dates for each customer\n",
    "distinct_purchase_dates = customer_sales_df.groupby('CustomerID')['InvoiceDate'].apply(lambda x: x.max().normalize())\n",
    "\n",
    "# Calculate the current date\n",
    "current_date = pd.Timestamp.now().normalize()  # Normalizing to remove timestamp\n",
    "\n",
    "# Calculate the difference between the current date and the latest purchase date to get recency\n",
    "purchase_recency = (current_date - distinct_purchase_dates).dt.days\n",
    "\n",
    "# Create the 'Purchase_Recency' column\n",
    "customer_sales_df['Purchase_Recency'] = customer_sales_df['CustomerID'].map(purchase_recency)\n",
    "\n",
    "# Convert numerical recency to datetime format\n",
    "customer_sales_df['Purchase_Recency_Date'] = current_date - pd.to_timedelta(customer_sales_df['Purchase_Recency'], unit='D')\n",
    "\n",
    "# Remove the time component from the 'Purchase_Recency_Date' column\n",
    "customer_sales_df['Purchase_Recency_Date'] = customer_sales_df['Purchase_Recency_Date'].dt.date"
   ]
  },
  {
   "cell_type": "code",
   "execution_count": 30,
   "id": "96d247f1-80cf-4b61-bfc4-afca31cc7377",
   "metadata": {
    "tags": []
   },
   "outputs": [
    {
     "name": "stdout",
     "output_type": "stream",
     "text": [
      "Count of Unique Purchase Recency Dates: 8\n"
     ]
    }
   ],
   "source": [
    "# Count the number of unique dates in the 'Purchase_Recency_Date' column\n",
    "unique_purchase_recency_dates_count = customer_sales_df['Purchase_Recency_Date'].nunique()\n",
    "\n",
    "# Display the count\n",
    "print(\"Count of Unique Purchase Recency Dates:\", unique_purchase_recency_dates_count)"
   ]
  },
  {
   "cell_type": "markdown",
   "id": "ff0d92f7-3d64-4f7c-acf7-a1cbf01009cd",
   "metadata": {},
   "source": [
    "## Drop unwanted columns"
   ]
  },
  {
   "cell_type": "code",
   "execution_count": 31,
   "id": "31a19a70-c2a6-4d24-bda3-ed9bd4b182b0",
   "metadata": {
    "tags": []
   },
   "outputs": [],
   "source": [
    "columns_to_remove = ['first_name', 'last_name', 'title', 'job_title', 'Country' , 'Year_Birth', 'email', 'company_name', 'university', 'linkedin_skill', \n",
    "                    'latitude', 'longitude', 'Income', 'phone', 'city', 'country', 'country_code', 'street_address', \n",
    "                     'street_name', 'street_number', 'street_suffix', 'ip_address', 'time_zone', 'InvoiceNo', 'StockCode', \n",
    "                    'Description', 'InvoiceDate', 'UnitPrice', 'TotalPrice', 'Purchase_Recency', 'Quantity', 'Purchase_Recency_Date', \n",
    "                     'department', 'job_category', 'language',]\n",
    "\n",
    "# Drop the specified columns\n",
    "customer_sales_df.drop(columns=columns_to_remove, inplace=True)"
   ]
  },
  {
   "cell_type": "markdown",
   "id": "ef51b7cb-3cea-4e6b-a3d8-bdef4617e0fd",
   "metadata": {},
   "source": [
    "## Check number of unique values in each column "
   ]
  },
  {
   "cell_type": "code",
   "execution_count": 32,
   "id": "86a1b81e-492c-43cf-bc5d-d468edf99db5",
   "metadata": {
    "tags": []
   },
   "outputs": [
    {
     "name": "stdout",
     "output_type": "stream",
     "text": [
      "CustomerID                2216\n",
      "gender                       8\n",
      "Education                    5\n",
      "Kidhome                      3\n",
      "Marital_Status               8\n",
      "Teenhome                     3\n",
      "region                       7\n",
      "Purchase_Frequency          80\n",
      "Age                         57\n",
      "Total_Spent_byCustomer    2211\n",
      "SpendingCategory             4\n",
      "IncomeLevel                  4\n",
      "dtype: int64\n"
     ]
    }
   ],
   "source": [
    "# Check unique values in each column\n",
    "unique_counts = customer_sales_df.nunique()\n",
    "print(unique_counts)"
   ]
  },
  {
   "cell_type": "code",
   "execution_count": 33,
   "id": "d215fde6-5cb7-497c-85d4-aba1c62ed656",
   "metadata": {
    "tags": []
   },
   "outputs": [
    {
     "data": {
      "text/plain": [
       "(406829, 12)"
      ]
     },
     "execution_count": 33,
     "metadata": {},
     "output_type": "execute_result"
    }
   ],
   "source": [
    "# Display Shape\n",
    "customer_sales_df.shape"
   ]
  },
  {
   "cell_type": "markdown",
   "id": "2e7867b4-2b5c-48e6-b75e-7204f1e1a573",
   "metadata": {},
   "source": [
    "## Encode Categorical Features for Further Analysis"
   ]
  },
  {
   "cell_type": "code",
   "execution_count": 34,
   "id": "ca6f6172-036d-4b0b-9fb9-ad805c79881f",
   "metadata": {
    "tags": []
   },
   "outputs": [
    {
     "data": {
      "text/plain": [
       "(406829, 46)"
      ]
     },
     "execution_count": 34,
     "metadata": {},
     "output_type": "execute_result"
    }
   ],
   "source": [
    "# Define the columns to encode\n",
    "columns_to_encode = ['gender', 'Education',  'Marital_Status', 'Kidhome', 'Teenhome', 'region', 'SpendingCategory', \n",
    "                     'IncomeLevel']\n",
    "\n",
    "# Perform One-Hot Encoding\n",
    "one_hot_encoder = OneHotEncoder(sparse=False)\n",
    "coded_customer_sales_df = pd.get_dummies(customer_sales_df, columns=columns_to_encode)\n",
    "\n",
    "# Display Shape\n",
    "coded_customer_sales_df.shape"
   ]
  },
  {
   "cell_type": "code",
   "execution_count": 35,
   "id": "0c9fa107-6926-4a13-9243-095a2cb26905",
   "metadata": {
    "tags": []
   },
   "outputs": [
    {
     "data": {
      "text/plain": [
       "CustomerID                      int64\n",
       "Purchase_Frequency              int64\n",
       "Age                             int64\n",
       "Total_Spent_byCustomer        float64\n",
       "gender_Agender                   bool\n",
       "gender_Bigender                  bool\n",
       "gender_Female                    bool\n",
       "gender_Genderfluid               bool\n",
       "gender_Genderqueer               bool\n",
       "gender_Male                      bool\n",
       "gender_Non-binary                bool\n",
       "gender_Polygender                bool\n",
       "Education_2n Cycle               bool\n",
       "Education_Basic                  bool\n",
       "Education_Graduation             bool\n",
       "Education_Master                 bool\n",
       "Education_PhD                    bool\n",
       "Marital_Status_Absurd            bool\n",
       "Marital_Status_Alone             bool\n",
       "Marital_Status_Divorced          bool\n",
       "Marital_Status_Married           bool\n",
       "Marital_Status_Single            bool\n",
       "Marital_Status_Together          bool\n",
       "Marital_Status_Widow             bool\n",
       "Marital_Status_YOLO              bool\n",
       "Kidhome_0                        bool\n",
       "Kidhome_1                        bool\n",
       "Kidhome_2                        bool\n",
       "Teenhome_0                       bool\n",
       "Teenhome_1                       bool\n",
       "Teenhome_2                       bool\n",
       "region_Africa                    bool\n",
       "region_Asia                      bool\n",
       "region_Central America           bool\n",
       "region_Europe                    bool\n",
       "region_North America             bool\n",
       "region_Oceania                   bool\n",
       "region_South America             bool\n",
       "SpendingCategory_Low             bool\n",
       "SpendingCategory_Medium          bool\n",
       "SpendingCategory_High            bool\n",
       "SpendingCategory_Very High       bool\n",
       "IncomeLevel_Low                  bool\n",
       "IncomeLevel_Medium               bool\n",
       "IncomeLevel_High                 bool\n",
       "IncomeLevel_Very High            bool\n",
       "dtype: object"
      ]
     },
     "execution_count": 35,
     "metadata": {},
     "output_type": "execute_result"
    }
   ],
   "source": [
    "coded_customer_sales_df.dtypes"
   ]
  },
  {
   "cell_type": "code",
   "execution_count": 36,
   "id": "983c6116",
   "metadata": {},
   "outputs": [
    {
     "name": "stdout",
     "output_type": "stream",
     "text": [
      "CustomerID                      int64\n",
      "Purchase_Frequency              int64\n",
      "Age                             int64\n",
      "Total_Spent_byCustomer        float64\n",
      "gender_Agender                float64\n",
      "gender_Bigender               float64\n",
      "gender_Female                 float64\n",
      "gender_Genderfluid            float64\n",
      "gender_Genderqueer            float64\n",
      "gender_Male                   float64\n",
      "gender_Non-binary             float64\n",
      "gender_Polygender             float64\n",
      "Education_2n Cycle            float64\n",
      "Education_Basic               float64\n",
      "Education_Graduation          float64\n",
      "Education_Master              float64\n",
      "Education_PhD                 float64\n",
      "Marital_Status_Absurd         float64\n",
      "Marital_Status_Alone          float64\n",
      "Marital_Status_Divorced       float64\n",
      "Marital_Status_Married        float64\n",
      "Marital_Status_Single         float64\n",
      "Marital_Status_Together       float64\n",
      "Marital_Status_Widow          float64\n",
      "Marital_Status_YOLO           float64\n",
      "Kidhome_0                     float64\n",
      "Kidhome_1                     float64\n",
      "Kidhome_2                     float64\n",
      "Teenhome_0                    float64\n",
      "Teenhome_1                    float64\n",
      "Teenhome_2                    float64\n",
      "region_Africa                 float64\n",
      "region_Asia                   float64\n",
      "region_Central America        float64\n",
      "region_Europe                 float64\n",
      "region_North America          float64\n",
      "region_Oceania                float64\n",
      "region_South America          float64\n",
      "SpendingCategory_Low          float64\n",
      "SpendingCategory_Medium       float64\n",
      "SpendingCategory_High         float64\n",
      "SpendingCategory_Very High    float64\n",
      "IncomeLevel_Low               float64\n",
      "IncomeLevel_Medium            float64\n",
      "IncomeLevel_High              float64\n",
      "IncomeLevel_Very High         float64\n",
      "dtype: object\n"
     ]
    }
   ],
   "source": [
    "# Convert boolean columns to integers (0 or 1)\n",
    "bool_columns = coded_customer_sales_df.select_dtypes(include=[bool]).columns\n",
    "coded_customer_sales_df[bool_columns] = coded_customer_sales_df[bool_columns].astype('float64')\n",
    "\n",
    "# Check the updated data types\n",
    "print(coded_customer_sales_df.dtypes)\n"
   ]
  },
  {
   "cell_type": "markdown",
   "id": "5aff962f-8434-4e05-93e6-924d1f635931",
   "metadata": {},
   "source": [
    "## Apply Normalization"
   ]
  },
  {
   "cell_type": "code",
   "execution_count": 37,
   "id": "05307499-ddef-4a05-8f78-47dd1d20591d",
   "metadata": {
    "tags": []
   },
   "outputs": [
    {
     "name": "stdout",
     "output_type": "stream",
     "text": [
      "(406829, 46)\n"
     ]
    }
   ],
   "source": [
    "# Initialize the MinMaxScaler\n",
    "scaler = MinMaxScaler()\n",
    "\n",
    "# Select numerical columns for scaling\n",
    "numerical_columns = ['Purchase_Frequency', 'Age', 'Total_Spent_byCustomer']\n",
    "\n",
    "# Apply Min-Max scaling to the selected numerical columns\n",
    "normalized_numerical_df = pd.DataFrame(scaler.fit_transform(coded_customer_sales_df[numerical_columns]), \n",
    "                                       columns=numerical_columns)\n",
    "\n",
    "# Concatenate the one-hot encoded DataFrame with the normalized numerical DataFrame\n",
    "normal_cust_sales_df = pd.concat([coded_customer_sales_df.drop(columns=numerical_columns), normalized_numerical_df], axis=1)\n",
    "\n",
    "# Display Shape\n",
    "print(normal_cust_sales_df.shape)"
   ]
  },
  {
   "cell_type": "code",
   "execution_count": 38,
   "id": "b5fdceaa-aed9-4925-9c60-32e30ded0426",
   "metadata": {
    "tags": []
   },
   "outputs": [
    {
     "data": {
      "text/plain": [
       "Index(['CustomerID', 'gender_Agender', 'gender_Bigender', 'gender_Female',\n",
       "       'gender_Genderfluid', 'gender_Genderqueer', 'gender_Male',\n",
       "       'gender_Non-binary', 'gender_Polygender', 'Education_2n Cycle',\n",
       "       'Education_Basic', 'Education_Graduation', 'Education_Master',\n",
       "       'Education_PhD', 'Marital_Status_Absurd', 'Marital_Status_Alone',\n",
       "       'Marital_Status_Divorced', 'Marital_Status_Married',\n",
       "       'Marital_Status_Single', 'Marital_Status_Together',\n",
       "       'Marital_Status_Widow', 'Marital_Status_YOLO', 'Kidhome_0', 'Kidhome_1',\n",
       "       'Kidhome_2', 'Teenhome_0', 'Teenhome_1', 'Teenhome_2', 'region_Africa',\n",
       "       'region_Asia', 'region_Central America', 'region_Europe',\n",
       "       'region_North America', 'region_Oceania', 'region_South America',\n",
       "       'SpendingCategory_Low', 'SpendingCategory_Medium',\n",
       "       'SpendingCategory_High', 'SpendingCategory_Very High',\n",
       "       'IncomeLevel_Low', 'IncomeLevel_Medium', 'IncomeLevel_High',\n",
       "       'IncomeLevel_Very High', 'Purchase_Frequency', 'Age',\n",
       "       'Total_Spent_byCustomer'],\n",
       "      dtype='object')"
      ]
     },
     "execution_count": 38,
     "metadata": {},
     "output_type": "execute_result"
    }
   ],
   "source": [
    "normal_cust_sales_df.columns"
   ]
  },
  {
   "cell_type": "markdown",
   "id": "2c2bf5c1-7969-42ff-8581-a3e1611bb807",
   "metadata": {},
   "source": [
    "## Split Dataset"
   ]
  },
  {
   "cell_type": "code",
   "execution_count": 39,
   "id": "639dc8f7-7b30-4d21-ae7a-4174665e319e",
   "metadata": {
    "tags": []
   },
   "outputs": [],
   "source": [
    "train_df, test_val_df = train_test_split(normal_cust_sales_df, test_size=0.3, random_state=42)\n",
    "validate_df, test_df = train_test_split(test_val_df, test_size=0.5, random_state=42)"
   ]
  },
  {
   "cell_type": "markdown",
   "id": "4722a953",
   "metadata": {},
   "source": [
    "## Begin Training Model"
   ]
  },
  {
   "cell_type": "code",
   "execution_count": 40,
   "id": "dd87ff47",
   "metadata": {},
   "outputs": [
    {
     "data": {
      "text/html": [
       "<div>\n",
       "<style scoped>\n",
       "    .dataframe tbody tr th:only-of-type {\n",
       "        vertical-align: middle;\n",
       "    }\n",
       "\n",
       "    .dataframe tbody tr th {\n",
       "        vertical-align: top;\n",
       "    }\n",
       "\n",
       "    .dataframe thead th {\n",
       "        text-align: right;\n",
       "    }\n",
       "</style>\n",
       "<table border=\"1\" class=\"dataframe\">\n",
       "  <thead>\n",
       "    <tr style=\"text-align: right;\">\n",
       "      <th></th>\n",
       "      <th>CustomerID</th>\n",
       "      <th>gender_Agender</th>\n",
       "      <th>gender_Bigender</th>\n",
       "      <th>gender_Female</th>\n",
       "      <th>gender_Genderfluid</th>\n",
       "      <th>gender_Genderqueer</th>\n",
       "      <th>gender_Male</th>\n",
       "      <th>gender_Non-binary</th>\n",
       "      <th>gender_Polygender</th>\n",
       "      <th>Education_2n Cycle</th>\n",
       "      <th>...</th>\n",
       "      <th>SpendingCategory_Medium</th>\n",
       "      <th>SpendingCategory_High</th>\n",
       "      <th>SpendingCategory_Very High</th>\n",
       "      <th>IncomeLevel_Low</th>\n",
       "      <th>IncomeLevel_Medium</th>\n",
       "      <th>IncomeLevel_High</th>\n",
       "      <th>IncomeLevel_Very High</th>\n",
       "      <th>Purchase_Frequency</th>\n",
       "      <th>Age</th>\n",
       "      <th>Total_Spent_byCustomer</th>\n",
       "    </tr>\n",
       "  </thead>\n",
       "  <tbody>\n",
       "    <tr>\n",
       "      <th>347138</th>\n",
       "      <td>7093</td>\n",
       "      <td>0.0</td>\n",
       "      <td>0.0</td>\n",
       "      <td>1.0</td>\n",
       "      <td>0.0</td>\n",
       "      <td>0.0</td>\n",
       "      <td>0.0</td>\n",
       "      <td>0.0</td>\n",
       "      <td>0.0</td>\n",
       "      <td>0.0</td>\n",
       "      <td>...</td>\n",
       "      <td>1.0</td>\n",
       "      <td>0.0</td>\n",
       "      <td>0.0</td>\n",
       "      <td>0.0</td>\n",
       "      <td>0.0</td>\n",
       "      <td>1.0</td>\n",
       "      <td>0.0</td>\n",
       "      <td>0.323810</td>\n",
       "      <td>0.803571</td>\n",
       "      <td>0.018092</td>\n",
       "    </tr>\n",
       "    <tr>\n",
       "      <th>355578</th>\n",
       "      <td>6544</td>\n",
       "      <td>0.0</td>\n",
       "      <td>0.0</td>\n",
       "      <td>0.0</td>\n",
       "      <td>0.0</td>\n",
       "      <td>0.0</td>\n",
       "      <td>1.0</td>\n",
       "      <td>0.0</td>\n",
       "      <td>0.0</td>\n",
       "      <td>1.0</td>\n",
       "      <td>...</td>\n",
       "      <td>1.0</td>\n",
       "      <td>0.0</td>\n",
       "      <td>0.0</td>\n",
       "      <td>0.0</td>\n",
       "      <td>0.0</td>\n",
       "      <td>0.0</td>\n",
       "      <td>1.0</td>\n",
       "      <td>0.476190</td>\n",
       "      <td>0.964286</td>\n",
       "      <td>0.017399</td>\n",
       "    </tr>\n",
       "    <tr>\n",
       "      <th>258902</th>\n",
       "      <td>5031</td>\n",
       "      <td>0.0</td>\n",
       "      <td>0.0</td>\n",
       "      <td>1.0</td>\n",
       "      <td>0.0</td>\n",
       "      <td>0.0</td>\n",
       "      <td>0.0</td>\n",
       "      <td>0.0</td>\n",
       "      <td>0.0</td>\n",
       "      <td>0.0</td>\n",
       "      <td>...</td>\n",
       "      <td>1.0</td>\n",
       "      <td>0.0</td>\n",
       "      <td>0.0</td>\n",
       "      <td>0.0</td>\n",
       "      <td>1.0</td>\n",
       "      <td>0.0</td>\n",
       "      <td>0.0</td>\n",
       "      <td>0.504762</td>\n",
       "      <td>0.892857</td>\n",
       "      <td>0.020113</td>\n",
       "    </tr>\n",
       "    <tr>\n",
       "      <th>117130</th>\n",
       "      <td>2975</td>\n",
       "      <td>0.0</td>\n",
       "      <td>0.0</td>\n",
       "      <td>0.0</td>\n",
       "      <td>0.0</td>\n",
       "      <td>0.0</td>\n",
       "      <td>1.0</td>\n",
       "      <td>0.0</td>\n",
       "      <td>0.0</td>\n",
       "      <td>0.0</td>\n",
       "      <td>...</td>\n",
       "      <td>1.0</td>\n",
       "      <td>0.0</td>\n",
       "      <td>0.0</td>\n",
       "      <td>0.0</td>\n",
       "      <td>0.0</td>\n",
       "      <td>0.0</td>\n",
       "      <td>1.0</td>\n",
       "      <td>0.580952</td>\n",
       "      <td>0.785714</td>\n",
       "      <td>0.018998</td>\n",
       "    </tr>\n",
       "    <tr>\n",
       "      <th>64221</th>\n",
       "      <td>10175</td>\n",
       "      <td>0.0</td>\n",
       "      <td>0.0</td>\n",
       "      <td>0.0</td>\n",
       "      <td>0.0</td>\n",
       "      <td>0.0</td>\n",
       "      <td>1.0</td>\n",
       "      <td>0.0</td>\n",
       "      <td>0.0</td>\n",
       "      <td>0.0</td>\n",
       "      <td>...</td>\n",
       "      <td>1.0</td>\n",
       "      <td>0.0</td>\n",
       "      <td>0.0</td>\n",
       "      <td>0.0</td>\n",
       "      <td>0.0</td>\n",
       "      <td>0.0</td>\n",
       "      <td>1.0</td>\n",
       "      <td>0.419048</td>\n",
       "      <td>0.875000</td>\n",
       "      <td>0.019633</td>\n",
       "    </tr>\n",
       "  </tbody>\n",
       "</table>\n",
       "<p>5 rows × 46 columns</p>\n",
       "</div>"
      ],
      "text/plain": [
       "        CustomerID  gender_Agender  gender_Bigender  gender_Female  \\\n",
       "347138        7093             0.0              0.0            1.0   \n",
       "355578        6544             0.0              0.0            0.0   \n",
       "258902        5031             0.0              0.0            1.0   \n",
       "117130        2975             0.0              0.0            0.0   \n",
       "64221        10175             0.0              0.0            0.0   \n",
       "\n",
       "        gender_Genderfluid  gender_Genderqueer  gender_Male  \\\n",
       "347138                 0.0                 0.0          0.0   \n",
       "355578                 0.0                 0.0          1.0   \n",
       "258902                 0.0                 0.0          0.0   \n",
       "117130                 0.0                 0.0          1.0   \n",
       "64221                  0.0                 0.0          1.0   \n",
       "\n",
       "        gender_Non-binary  gender_Polygender  Education_2n Cycle  ...  \\\n",
       "347138                0.0                0.0                 0.0  ...   \n",
       "355578                0.0                0.0                 1.0  ...   \n",
       "258902                0.0                0.0                 0.0  ...   \n",
       "117130                0.0                0.0                 0.0  ...   \n",
       "64221                 0.0                0.0                 0.0  ...   \n",
       "\n",
       "        SpendingCategory_Medium  SpendingCategory_High  \\\n",
       "347138                      1.0                    0.0   \n",
       "355578                      1.0                    0.0   \n",
       "258902                      1.0                    0.0   \n",
       "117130                      1.0                    0.0   \n",
       "64221                       1.0                    0.0   \n",
       "\n",
       "        SpendingCategory_Very High  IncomeLevel_Low  IncomeLevel_Medium  \\\n",
       "347138                         0.0              0.0                 0.0   \n",
       "355578                         0.0              0.0                 0.0   \n",
       "258902                         0.0              0.0                 1.0   \n",
       "117130                         0.0              0.0                 0.0   \n",
       "64221                          0.0              0.0                 0.0   \n",
       "\n",
       "        IncomeLevel_High  IncomeLevel_Very High  Purchase_Frequency       Age  \\\n",
       "347138               1.0                    0.0            0.323810  0.803571   \n",
       "355578               0.0                    1.0            0.476190  0.964286   \n",
       "258902               0.0                    0.0            0.504762  0.892857   \n",
       "117130               0.0                    1.0            0.580952  0.785714   \n",
       "64221                0.0                    1.0            0.419048  0.875000   \n",
       "\n",
       "        Total_Spent_byCustomer  \n",
       "347138                0.018092  \n",
       "355578                0.017399  \n",
       "258902                0.020113  \n",
       "117130                0.018998  \n",
       "64221                 0.019633  \n",
       "\n",
       "[5 rows x 46 columns]"
      ]
     },
     "execution_count": 40,
     "metadata": {},
     "output_type": "execute_result"
    }
   ],
   "source": [
    "train_df.head()"
   ]
  },
  {
   "cell_type": "code",
   "execution_count": 41,
   "id": "ec3ea585",
   "metadata": {},
   "outputs": [
    {
     "data": {
      "text/plain": [
       "Index(['CustomerID', 'gender_Agender', 'gender_Bigender', 'gender_Female',\n",
       "       'gender_Genderfluid', 'gender_Genderqueer', 'gender_Male',\n",
       "       'gender_Non-binary', 'gender_Polygender', 'Education_2n Cycle',\n",
       "       'Education_Basic', 'Education_Graduation', 'Education_Master',\n",
       "       'Education_PhD', 'Marital_Status_Absurd', 'Marital_Status_Alone',\n",
       "       'Marital_Status_Divorced', 'Marital_Status_Married',\n",
       "       'Marital_Status_Single', 'Marital_Status_Together',\n",
       "       'Marital_Status_Widow', 'Marital_Status_YOLO', 'Kidhome_0', 'Kidhome_1',\n",
       "       'Kidhome_2', 'Teenhome_0', 'Teenhome_1', 'Teenhome_2', 'region_Africa',\n",
       "       'region_Asia', 'region_Central America', 'region_Europe',\n",
       "       'region_North America', 'region_Oceania', 'region_South America',\n",
       "       'SpendingCategory_Low', 'SpendingCategory_Medium',\n",
       "       'SpendingCategory_High', 'SpendingCategory_Very High',\n",
       "       'IncomeLevel_Low', 'IncomeLevel_Medium', 'IncomeLevel_High',\n",
       "       'IncomeLevel_Very High', 'Purchase_Frequency', 'Age',\n",
       "       'Total_Spent_byCustomer'],\n",
       "      dtype='object')"
      ]
     },
     "execution_count": 41,
     "metadata": {},
     "output_type": "execute_result"
    }
   ],
   "source": [
    "train_df.columns"
   ]
  },
  {
   "cell_type": "code",
   "execution_count": 42,
   "id": "4a1c2d25-f9a9-4f0e-ac6b-335bb2fcd9ca",
   "metadata": {
    "scrolled": false
   },
   "outputs": [
    {
     "name": "stdout",
     "output_type": "stream",
     "text": [
      "Number of features removed: 35\n"
     ]
    }
   ],
   "source": [
    "# Set the variance threshold\n",
    "variance_threshold = 0.2\n",
    "\n",
    "# Create a VarianceThreshold object\n",
    "selector = VarianceThreshold(threshold=variance_threshold)\n",
    "\n",
    "# Fit the selector to the data \n",
    "selector.fit(train_df)\n",
    "\n",
    "# Get the support mask \n",
    "support = selector.get_support(indices=True)\n",
    "\n",
    "# Select features based on the support mask\n",
    "reduced_features = train_df.iloc[:, support]  \n",
    "\n",
    "# Now 'reduced_features' is a DataFrame containing features with variance exceeding the threshold\n",
    "print(f\"Number of features removed: {len(train_df.columns) - len(reduced_features.columns)}\")"
   ]
  },
  {
   "cell_type": "code",
   "execution_count": 43,
   "id": "50b4a020",
   "metadata": {},
   "outputs": [
    {
     "data": {
      "text/plain": [
       "(284780, 11)"
      ]
     },
     "execution_count": 43,
     "metadata": {},
     "output_type": "execute_result"
    }
   ],
   "source": [
    "reduced_features.shape"
   ]
  },
  {
   "cell_type": "markdown",
   "id": "611668ae",
   "metadata": {},
   "source": [
    "## Model Training with KMeans Algorithm"
   ]
  },
  {
   "cell_type": "code",
   "execution_count": 44,
   "id": "dfab84ca",
   "metadata": {},
   "outputs": [
    {
     "name": "stdout",
     "output_type": "stream",
     "text": [
      "Training model for k=4...\n",
      "Centroids:\n",
      "[[4.1465742e+03 4.7082281e-01 4.3089211e-01 3.1956270e-01 3.4503588e-01\n",
      "  3.3540004e-01 3.2611731e-01 3.4227261e-01 3.3160895e-01 4.6384072e-01\n",
      "  2.6941147e-01]\n",
      " [9.8366533e+03 4.7355902e-01 4.1839641e-01 3.2117248e-01 2.9221880e-01\n",
      "  3.8660467e-01 3.4706652e-01 3.2813215e-01 3.2480186e-01 4.7084340e-01\n",
      "  3.0387595e-01]\n",
      " [6.8464258e+03 4.6741953e-01 4.5193154e-01 3.7151411e-01 3.3177927e-01\n",
      "  2.9670939e-01 3.3845240e-01 3.5417634e-01 3.0737326e-01 4.8706138e-01\n",
      "  2.8564742e-01]\n",
      " [1.3846235e+03 4.5889139e-01 4.4426391e-01 3.3011496e-01 3.5056761e-01\n",
      "  3.1931403e-01 3.3540079e-01 3.3975640e-01 3.2484305e-01 4.4949427e-01\n",
      "  2.9273853e-01]]\n",
      "Model for k=4 trained.\n"
     ]
    }
   ],
   "source": [
    "# Convert DataFrame to NumPy array (excluding CustomerID)\n",
    "features_np = reduced_features.values.astype('float32')\n",
    "\n",
    "# Define hyperparameters for KMeans model\n",
    "hyperparameters = {'k': 4}\n",
    "\n",
    "# Set k value\n",
    "k_value = hyperparameters['k']\n",
    "\n",
    "# Create KMeans model\n",
    "kmeans = KMeans(n_clusters=k_value, init='random', n_init=10, random_state=42)\n",
    "\n",
    "# Fit the model\n",
    "print(f\"Training model for k={k_value}...\")\n",
    "kmeans.fit(features_np)\n",
    "\n",
    "# Get cluster labels\n",
    "cluster_labels = kmeans.labels_\n",
    "\n",
    "# Print centroids\n",
    "print(\"Centroids:\")\n",
    "print(kmeans.cluster_centers_)\n",
    "\n",
    "print(f\"Model for k={k_value} trained.\")\n",
    "\n"
   ]
  },
  {
   "cell_type": "markdown",
   "id": "0f2487d6",
   "metadata": {},
   "source": [
    "## Model Validation"
   ]
  },
  {
   "cell_type": "code",
   "execution_count": 45,
   "id": "5d80256d",
   "metadata": {},
   "outputs": [
    {
     "data": {
      "text/html": [
       "<div>\n",
       "<style scoped>\n",
       "    .dataframe tbody tr th:only-of-type {\n",
       "        vertical-align: middle;\n",
       "    }\n",
       "\n",
       "    .dataframe tbody tr th {\n",
       "        vertical-align: top;\n",
       "    }\n",
       "\n",
       "    .dataframe thead th {\n",
       "        text-align: right;\n",
       "    }\n",
       "</style>\n",
       "<table border=\"1\" class=\"dataframe\">\n",
       "  <thead>\n",
       "    <tr style=\"text-align: right;\">\n",
       "      <th></th>\n",
       "      <th>CustomerID</th>\n",
       "      <th>gender_Agender</th>\n",
       "      <th>gender_Bigender</th>\n",
       "      <th>gender_Female</th>\n",
       "      <th>gender_Genderfluid</th>\n",
       "      <th>gender_Genderqueer</th>\n",
       "      <th>gender_Male</th>\n",
       "      <th>gender_Non-binary</th>\n",
       "      <th>gender_Polygender</th>\n",
       "      <th>Education_2n Cycle</th>\n",
       "      <th>...</th>\n",
       "      <th>SpendingCategory_Medium</th>\n",
       "      <th>SpendingCategory_High</th>\n",
       "      <th>SpendingCategory_Very High</th>\n",
       "      <th>IncomeLevel_Low</th>\n",
       "      <th>IncomeLevel_Medium</th>\n",
       "      <th>IncomeLevel_High</th>\n",
       "      <th>IncomeLevel_Very High</th>\n",
       "      <th>Purchase_Frequency</th>\n",
       "      <th>Age</th>\n",
       "      <th>Total_Spent_byCustomer</th>\n",
       "    </tr>\n",
       "  </thead>\n",
       "  <tbody>\n",
       "    <tr>\n",
       "      <th>39656</th>\n",
       "      <td>5491</td>\n",
       "      <td>0.0</td>\n",
       "      <td>0.0</td>\n",
       "      <td>0.0</td>\n",
       "      <td>0.0</td>\n",
       "      <td>0.0</td>\n",
       "      <td>1.0</td>\n",
       "      <td>0.0</td>\n",
       "      <td>0.0</td>\n",
       "      <td>0.0</td>\n",
       "      <td>...</td>\n",
       "      <td>1.0</td>\n",
       "      <td>0.0</td>\n",
       "      <td>0.0</td>\n",
       "      <td>1.0</td>\n",
       "      <td>0.0</td>\n",
       "      <td>0.0</td>\n",
       "      <td>0.0</td>\n",
       "      <td>0.428571</td>\n",
       "      <td>0.482143</td>\n",
       "      <td>0.021399</td>\n",
       "    </tr>\n",
       "    <tr>\n",
       "      <th>154962</th>\n",
       "      <td>11039</td>\n",
       "      <td>0.0</td>\n",
       "      <td>0.0</td>\n",
       "      <td>0.0</td>\n",
       "      <td>0.0</td>\n",
       "      <td>0.0</td>\n",
       "      <td>1.0</td>\n",
       "      <td>0.0</td>\n",
       "      <td>0.0</td>\n",
       "      <td>0.0</td>\n",
       "      <td>...</td>\n",
       "      <td>1.0</td>\n",
       "      <td>0.0</td>\n",
       "      <td>0.0</td>\n",
       "      <td>0.0</td>\n",
       "      <td>0.0</td>\n",
       "      <td>0.0</td>\n",
       "      <td>1.0</td>\n",
       "      <td>0.561905</td>\n",
       "      <td>0.785714</td>\n",
       "      <td>0.020732</td>\n",
       "    </tr>\n",
       "    <tr>\n",
       "      <th>282535</th>\n",
       "      <td>1030</td>\n",
       "      <td>0.0</td>\n",
       "      <td>0.0</td>\n",
       "      <td>0.0</td>\n",
       "      <td>0.0</td>\n",
       "      <td>0.0</td>\n",
       "      <td>1.0</td>\n",
       "      <td>0.0</td>\n",
       "      <td>0.0</td>\n",
       "      <td>0.0</td>\n",
       "      <td>...</td>\n",
       "      <td>1.0</td>\n",
       "      <td>0.0</td>\n",
       "      <td>0.0</td>\n",
       "      <td>0.0</td>\n",
       "      <td>0.0</td>\n",
       "      <td>0.0</td>\n",
       "      <td>1.0</td>\n",
       "      <td>0.400000</td>\n",
       "      <td>0.642857</td>\n",
       "      <td>0.021919</td>\n",
       "    </tr>\n",
       "    <tr>\n",
       "      <th>79931</th>\n",
       "      <td>10562</td>\n",
       "      <td>0.0</td>\n",
       "      <td>0.0</td>\n",
       "      <td>0.0</td>\n",
       "      <td>0.0</td>\n",
       "      <td>0.0</td>\n",
       "      <td>1.0</td>\n",
       "      <td>0.0</td>\n",
       "      <td>0.0</td>\n",
       "      <td>0.0</td>\n",
       "      <td>...</td>\n",
       "      <td>1.0</td>\n",
       "      <td>0.0</td>\n",
       "      <td>0.0</td>\n",
       "      <td>0.0</td>\n",
       "      <td>0.0</td>\n",
       "      <td>0.0</td>\n",
       "      <td>1.0</td>\n",
       "      <td>0.428571</td>\n",
       "      <td>0.857143</td>\n",
       "      <td>0.024075</td>\n",
       "    </tr>\n",
       "    <tr>\n",
       "      <th>148926</th>\n",
       "      <td>2499</td>\n",
       "      <td>0.0</td>\n",
       "      <td>0.0</td>\n",
       "      <td>1.0</td>\n",
       "      <td>0.0</td>\n",
       "      <td>0.0</td>\n",
       "      <td>0.0</td>\n",
       "      <td>0.0</td>\n",
       "      <td>0.0</td>\n",
       "      <td>1.0</td>\n",
       "      <td>...</td>\n",
       "      <td>0.0</td>\n",
       "      <td>0.0</td>\n",
       "      <td>1.0</td>\n",
       "      <td>0.0</td>\n",
       "      <td>0.0</td>\n",
       "      <td>0.0</td>\n",
       "      <td>1.0</td>\n",
       "      <td>0.219048</td>\n",
       "      <td>0.017857</td>\n",
       "      <td>0.079834</td>\n",
       "    </tr>\n",
       "  </tbody>\n",
       "</table>\n",
       "<p>5 rows × 46 columns</p>\n",
       "</div>"
      ],
      "text/plain": [
       "        CustomerID  gender_Agender  gender_Bigender  gender_Female  \\\n",
       "39656         5491             0.0              0.0            0.0   \n",
       "154962       11039             0.0              0.0            0.0   \n",
       "282535        1030             0.0              0.0            0.0   \n",
       "79931        10562             0.0              0.0            0.0   \n",
       "148926        2499             0.0              0.0            1.0   \n",
       "\n",
       "        gender_Genderfluid  gender_Genderqueer  gender_Male  \\\n",
       "39656                  0.0                 0.0          1.0   \n",
       "154962                 0.0                 0.0          1.0   \n",
       "282535                 0.0                 0.0          1.0   \n",
       "79931                  0.0                 0.0          1.0   \n",
       "148926                 0.0                 0.0          0.0   \n",
       "\n",
       "        gender_Non-binary  gender_Polygender  Education_2n Cycle  ...  \\\n",
       "39656                 0.0                0.0                 0.0  ...   \n",
       "154962                0.0                0.0                 0.0  ...   \n",
       "282535                0.0                0.0                 0.0  ...   \n",
       "79931                 0.0                0.0                 0.0  ...   \n",
       "148926                0.0                0.0                 1.0  ...   \n",
       "\n",
       "        SpendingCategory_Medium  SpendingCategory_High  \\\n",
       "39656                       1.0                    0.0   \n",
       "154962                      1.0                    0.0   \n",
       "282535                      1.0                    0.0   \n",
       "79931                       1.0                    0.0   \n",
       "148926                      0.0                    0.0   \n",
       "\n",
       "        SpendingCategory_Very High  IncomeLevel_Low  IncomeLevel_Medium  \\\n",
       "39656                          0.0              1.0                 0.0   \n",
       "154962                         0.0              0.0                 0.0   \n",
       "282535                         0.0              0.0                 0.0   \n",
       "79931                          0.0              0.0                 0.0   \n",
       "148926                         1.0              0.0                 0.0   \n",
       "\n",
       "        IncomeLevel_High  IncomeLevel_Very High  Purchase_Frequency       Age  \\\n",
       "39656                0.0                    0.0            0.428571  0.482143   \n",
       "154962               0.0                    1.0            0.561905  0.785714   \n",
       "282535               0.0                    1.0            0.400000  0.642857   \n",
       "79931                0.0                    1.0            0.428571  0.857143   \n",
       "148926               0.0                    1.0            0.219048  0.017857   \n",
       "\n",
       "        Total_Spent_byCustomer  \n",
       "39656                 0.021399  \n",
       "154962                0.020732  \n",
       "282535                0.021919  \n",
       "79931                 0.024075  \n",
       "148926                0.079834  \n",
       "\n",
       "[5 rows x 46 columns]"
      ]
     },
     "execution_count": 45,
     "metadata": {},
     "output_type": "execute_result"
    }
   ],
   "source": [
    "validate_df.head()"
   ]
  },
  {
   "cell_type": "markdown",
   "id": "67bbab1c",
   "metadata": {},
   "source": [
    "### Dimensionality Reduction using Variance "
   ]
  },
  {
   "cell_type": "code",
   "execution_count": 46,
   "id": "d4f006d4",
   "metadata": {},
   "outputs": [
    {
     "name": "stdout",
     "output_type": "stream",
     "text": [
      "Number of features removed: 35\n"
     ]
    }
   ],
   "source": [
    "# Set the variance threshold\n",
    "variance_threshold = 0.2\n",
    "\n",
    "# Create a VarianceThreshold object\n",
    "selector = VarianceThreshold(threshold=variance_threshold)\n",
    "\n",
    "# Fit the selector to the data\n",
    "selector.fit(validate_df)\n",
    "\n",
    "# Get the support mask\n",
    "support = selector.get_support(indices=True)\n",
    "\n",
    "# Select features based on the support mask\n",
    "reduced_features_validate = validate_df.iloc[:, support]  \n",
    "\n",
    "# Now 'reduced_features' is a DataFrame containing features with variance exceeding the threshold\n",
    "print(f\"Number of features removed: {len(validate_df.columns) - len(reduced_features_validate.columns)}\")"
   ]
  },
  {
   "cell_type": "code",
   "execution_count": 47,
   "id": "c72e725a",
   "metadata": {},
   "outputs": [
    {
     "data": {
      "text/plain": [
       "(61024, 11)"
      ]
     },
     "execution_count": 47,
     "metadata": {},
     "output_type": "execute_result"
    }
   ],
   "source": [
    "reduced_features_validate.shape"
   ]
  },
  {
   "cell_type": "code",
   "execution_count": 48,
   "id": "dd996b64",
   "metadata": {},
   "outputs": [
    {
     "name": "stdout",
     "output_type": "stream",
     "text": [
      "Reduced Features DataFrame:\n"
     ]
    },
    {
     "data": {
      "text/html": [
       "<div>\n",
       "<style scoped>\n",
       "    .dataframe tbody tr th:only-of-type {\n",
       "        vertical-align: middle;\n",
       "    }\n",
       "\n",
       "    .dataframe tbody tr th {\n",
       "        vertical-align: top;\n",
       "    }\n",
       "\n",
       "    .dataframe thead th {\n",
       "        text-align: right;\n",
       "    }\n",
       "</style>\n",
       "<table border=\"1\" class=\"dataframe\">\n",
       "  <thead>\n",
       "    <tr style=\"text-align: right;\">\n",
       "      <th></th>\n",
       "      <th>CustomerID</th>\n",
       "      <th>gender_Female</th>\n",
       "      <th>gender_Male</th>\n",
       "      <th>Kidhome_0</th>\n",
       "      <th>Kidhome_1</th>\n",
       "      <th>Kidhome_2</th>\n",
       "      <th>Teenhome_0</th>\n",
       "      <th>Teenhome_1</th>\n",
       "      <th>Teenhome_2</th>\n",
       "      <th>region_Asia</th>\n",
       "      <th>region_Europe</th>\n",
       "    </tr>\n",
       "  </thead>\n",
       "  <tbody>\n",
       "    <tr>\n",
       "      <th>39656</th>\n",
       "      <td>5491</td>\n",
       "      <td>0.0</td>\n",
       "      <td>1.0</td>\n",
       "      <td>0.0</td>\n",
       "      <td>0.0</td>\n",
       "      <td>1.0</td>\n",
       "      <td>1.0</td>\n",
       "      <td>0.0</td>\n",
       "      <td>0.0</td>\n",
       "      <td>1.0</td>\n",
       "      <td>0.0</td>\n",
       "    </tr>\n",
       "    <tr>\n",
       "      <th>154962</th>\n",
       "      <td>11039</td>\n",
       "      <td>0.0</td>\n",
       "      <td>1.0</td>\n",
       "      <td>0.0</td>\n",
       "      <td>0.0</td>\n",
       "      <td>1.0</td>\n",
       "      <td>1.0</td>\n",
       "      <td>0.0</td>\n",
       "      <td>0.0</td>\n",
       "      <td>0.0</td>\n",
       "      <td>1.0</td>\n",
       "    </tr>\n",
       "    <tr>\n",
       "      <th>282535</th>\n",
       "      <td>1030</td>\n",
       "      <td>0.0</td>\n",
       "      <td>1.0</td>\n",
       "      <td>1.0</td>\n",
       "      <td>0.0</td>\n",
       "      <td>0.0</td>\n",
       "      <td>0.0</td>\n",
       "      <td>1.0</td>\n",
       "      <td>0.0</td>\n",
       "      <td>0.0</td>\n",
       "      <td>0.0</td>\n",
       "    </tr>\n",
       "    <tr>\n",
       "      <th>79931</th>\n",
       "      <td>10562</td>\n",
       "      <td>0.0</td>\n",
       "      <td>1.0</td>\n",
       "      <td>1.0</td>\n",
       "      <td>0.0</td>\n",
       "      <td>0.0</td>\n",
       "      <td>0.0</td>\n",
       "      <td>1.0</td>\n",
       "      <td>0.0</td>\n",
       "      <td>1.0</td>\n",
       "      <td>0.0</td>\n",
       "    </tr>\n",
       "    <tr>\n",
       "      <th>148926</th>\n",
       "      <td>2499</td>\n",
       "      <td>1.0</td>\n",
       "      <td>0.0</td>\n",
       "      <td>1.0</td>\n",
       "      <td>0.0</td>\n",
       "      <td>0.0</td>\n",
       "      <td>0.0</td>\n",
       "      <td>0.0</td>\n",
       "      <td>1.0</td>\n",
       "      <td>0.0</td>\n",
       "      <td>0.0</td>\n",
       "    </tr>\n",
       "  </tbody>\n",
       "</table>\n",
       "</div>"
      ],
      "text/plain": [
       "        CustomerID  gender_Female  gender_Male  Kidhome_0  Kidhome_1  \\\n",
       "39656         5491            0.0          1.0        0.0        0.0   \n",
       "154962       11039            0.0          1.0        0.0        0.0   \n",
       "282535        1030            0.0          1.0        1.0        0.0   \n",
       "79931        10562            0.0          1.0        1.0        0.0   \n",
       "148926        2499            1.0          0.0        1.0        0.0   \n",
       "\n",
       "        Kidhome_2  Teenhome_0  Teenhome_1  Teenhome_2  region_Asia  \\\n",
       "39656         1.0         1.0         0.0         0.0          1.0   \n",
       "154962        1.0         1.0         0.0         0.0          0.0   \n",
       "282535        0.0         0.0         1.0         0.0          0.0   \n",
       "79931         0.0         0.0         1.0         0.0          1.0   \n",
       "148926        0.0         0.0         0.0         1.0          0.0   \n",
       "\n",
       "        region_Europe  \n",
       "39656             0.0  \n",
       "154962            1.0  \n",
       "282535            0.0  \n",
       "79931             0.0  \n",
       "148926            0.0  "
      ]
     },
     "execution_count": 48,
     "metadata": {},
     "output_type": "execute_result"
    }
   ],
   "source": [
    "# Show the reduced_features_validate DataFrame\n",
    "print(\"Reduced Features DataFrame:\")\n",
    "reduced_features_validate.head()"
   ]
  },
  {
   "cell_type": "code",
   "execution_count": 49,
   "id": "b422f842",
   "metadata": {},
   "outputs": [],
   "source": [
    "# Convert DataFrame to NumPy array \n",
    "features_np_validate = reduced_features_validate.values.astype('float32')\n",
    "\n",
    "# Predict clusters for Validation data\n",
    "cluster_predictions = kmeans.predict(features_np_validate)"
   ]
  },
  {
   "cell_type": "code",
   "execution_count": 50,
   "id": "a25875e9",
   "metadata": {},
   "outputs": [
    {
     "name": "stdout",
     "output_type": "stream",
     "text": [
      "Silhouette Score: 0.5762211084365845\n"
     ]
    }
   ],
   "source": [
    "from sklearn.metrics import silhouette_score\n",
    "\n",
    "# Calculate silhouette score\n",
    "silhouette_avg = silhouette_score(features_np_validate, cluster_predictions)\n",
    "print(f\"Silhouette Score: {silhouette_avg}\")\n"
   ]
  },
  {
   "cell_type": "code",
   "execution_count": 51,
   "id": "0f2494c9",
   "metadata": {},
   "outputs": [
    {
     "name": "stdout",
     "output_type": "stream",
     "text": [
      "Davies-Bouldin Index: 0.49986887043287886\n"
     ]
    }
   ],
   "source": [
    "from sklearn.metrics import davies_bouldin_score\n",
    "\n",
    "# Calculate Davies-Bouldin index\n",
    "db_index = davies_bouldin_score(features_np_validate, cluster_predictions)\n",
    "print(f\"Davies-Bouldin Index: {db_index}\")\n"
   ]
  },
  {
   "cell_type": "code",
   "execution_count": 52,
   "id": "20c6bc39",
   "metadata": {},
   "outputs": [
    {
     "data": {
      "image/png": "[encoded data removed]",
      "text/plain": [
       "<Figure size 640x480 with 2 Axes>"
      ]
     },
     "metadata": {},
     "output_type": "display_data"
    }
   ],
   "source": [
    "import matplotlib.pyplot as plt\n",
    "from sklearn.decomposition import PCA\n",
    "\n",
    "# Reduce dimensionality with PCA\n",
    "pca = PCA(n_components=2)\n",
    "principal_components = pca.fit_transform(features_np_validate)\n",
    "\n",
    "# Plot clusters\n",
    "plt.scatter(principal_components[:, 0], principal_components[:, 1], c=cluster_predictions, cmap='viridis')\n",
    "plt.xlabel('Principal Component 1')\n",
    "plt.ylabel('Principal Component 2')\n",
    "plt.title('PCA Clusters')\n",
    "plt.colorbar(label='Cluster')\n",
    "plt.show()\n"
   ]
  },
  {
   "cell_type": "code",
   "execution_count": 53,
   "id": "cf110353",
   "metadata": {},
   "outputs": [
    {
     "name": "stdout",
     "output_type": "stream",
     "text": [
      "Cluster Centroids:\n",
      "    CustomerID  gender_Female  gender_Male  Kidhome_0  Kidhome_1  Kidhome_2  \\\n",
      "0  4146.574219       0.470823     0.430892   0.319563   0.345036   0.335400   \n",
      "1  9836.653320       0.473559     0.418396   0.321172   0.292219   0.386605   \n",
      "2  6846.425781       0.467420     0.451932   0.371514   0.331779   0.296709   \n",
      "3  1384.623535       0.458891     0.444264   0.330115   0.350568   0.319314   \n",
      "\n",
      "   Teenhome_0  Teenhome_1  Teenhome_2  region_Asia  region_Europe  \n",
      "0    0.326117    0.342273    0.331609     0.463841       0.269411  \n",
      "1    0.347067    0.328132    0.324802     0.470843       0.303876  \n",
      "2    0.338452    0.354176    0.307373     0.487061       0.285647  \n",
      "3    0.335401    0.339756    0.324843     0.449494       0.292739  \n"
     ]
    }
   ],
   "source": [
    "# Get cluster centroids\n",
    "centroids = kmeans.cluster_centers_\n",
    "\n",
    "# Create a DataFrame to show centroids\n",
    "centroid_df = pd.DataFrame(centroids, columns=reduced_features_validate.columns)\n",
    "print(\"Cluster Centroids:\")\n",
    "print(centroid_df)\n"
   ]
  },
  {
   "cell_type": "code",
   "execution_count": 54,
   "id": "ac4be7f3",
   "metadata": {},
   "outputs": [
    {
     "data": {
      "image/png": "[encoded data removed]",
      "text/plain": [
       "<Figure size 1500x800 with 1 Axes>"
      ]
     },
     "metadata": {},
     "output_type": "display_data"
    }
   ],
   "source": [
    "import matplotlib.pyplot as plt\n",
    "import seaborn as sns\n",
    "\n",
    "# Drop the 'CustomerID' column for visualization\n",
    "centroid_df_plot = centroid_df.drop(columns=['CustomerID'])\n",
    "\n",
    "# Set the style\n",
    "sns.set(style=\"whitegrid\")\n",
    "\n",
    "# Plot the centroids using a bar plot\n",
    "plt.figure(figsize=(15, 8))\n",
    "sns.barplot(data=centroid_df_plot, orient='h')\n",
    "plt.title('Cluster Centroids')\n",
    "plt.xlabel('Mean Value')\n",
    "plt.ylabel('Features')\n",
    "plt.show()\n"
   ]
  },
  {
   "cell_type": "code",
   "execution_count": 55,
   "id": "93c5d986",
   "metadata": {},
   "outputs": [
    {
     "data": {
      "image/png": "[encoded data removed]",
      "text/plain": [
       "<Figure size 1200x800 with 2 Axes>"
      ]
     },
     "metadata": {},
     "output_type": "display_data"
    }
   ],
   "source": [
    "# Drop the 'CustomerID' column for visualization\n",
    "centroid_df_heatmap = centroid_df.drop(columns=['CustomerID'])\n",
    "\n",
    "# Plot the centroids using a heatmap\n",
    "plt.figure(figsize=(12, 8))\n",
    "sns.heatmap(centroid_df_heatmap, annot=True, cmap='YlGnBu', fmt=\".2f\")\n",
    "plt.title('Cluster Centroids Heatmap')\n",
    "plt.xlabel('Features')\n",
    "plt.ylabel('Clusters')\n",
    "plt.show()\n"
   ]
  }
 ],
 "metadata": {
  "availableInstances": [
   {
    "_defaultOrder": 0,
    "_isFastLaunch": true,
    "category": "General purpose",
    "gpuNum": 0,
    "hideHardwareSpecs": false,
    "memoryGiB": 4,
    "name": "ml.t3.medium",
    "vcpuNum": 2
   },
   {
    "_defaultOrder": 1,
    "_isFastLaunch": false,
    "category": "General purpose",
    "gpuNum": 0,
    "hideHardwareSpecs": false,
    "memoryGiB": 8,
    "name": "ml.t3.large",
    "vcpuNum": 2
   },
   {
    "_defaultOrder": 2,
    "_isFastLaunch": false,
    "category": "General purpose",
    "gpuNum": 0,
    "hideHardwareSpecs": false,
    "memoryGiB": 16,
    "name": "ml.t3.xlarge",
    "vcpuNum": 4
   },
   {
    "_defaultOrder": 3,
    "_isFastLaunch": false,
    "category": "General purpose",
    "gpuNum": 0,
    "hideHardwareSpecs": false,
    "memoryGiB": 32,
    "name": "ml.t3.2xlarge",
    "vcpuNum": 8
   },
   {
    "_defaultOrder": 4,
    "_isFastLaunch": true,
    "category": "General purpose",
    "gpuNum": 0,
    "hideHardwareSpecs": false,
    "memoryGiB": 8,
    "name": "ml.m5.large",
    "vcpuNum": 2
   },
   {
    "_defaultOrder": 5,
    "_isFastLaunch": false,
    "category": "General purpose",
    "gpuNum": 0,
    "hideHardwareSpecs": false,
    "memoryGiB": 16,
    "name": "ml.m5.xlarge",
    "vcpuNum": 4
   },
   {
    "_defaultOrder": 6,
    "_isFastLaunch": false,
    "category": "General purpose",
    "gpuNum": 0,
    "hideHardwareSpecs": false,
    "memoryGiB": 32,
    "name": "ml.m5.2xlarge",
    "vcpuNum": 8
   },
   {
    "_defaultOrder": 7,
    "_isFastLaunch": false,
    "category": "General purpose",
    "gpuNum": 0,
    "hideHardwareSpecs": false,
    "memoryGiB": 64,
    "name": "ml.m5.4xlarge",
    "vcpuNum": 16
   },
   {
    "_defaultOrder": 8,
    "_isFastLaunch": false,
    "category": "General purpose",
    "gpuNum": 0,
    "hideHardwareSpecs": false,
    "memoryGiB": 128,
    "name": "ml.m5.8xlarge",
    "vcpuNum": 32
   },
   {
    "_defaultOrder": 9,
    "_isFastLaunch": false,
    "category": "General purpose",
    "gpuNum": 0,
    "hideHardwareSpecs": false,
    "memoryGiB": 192,
    "name": "ml.m5.12xlarge",
    "vcpuNum": 48
   },
   {
    "_defaultOrder": 10,
    "_isFastLaunch": false,
    "category": "General purpose",
    "gpuNum": 0,
    "hideHardwareSpecs": false,
    "memoryGiB": 256,
    "name": "ml.m5.16xlarge",
    "vcpuNum": 64
   },
   {
    "_defaultOrder": 11,
    "_isFastLaunch": false,
    "category": "General purpose",
    "gpuNum": 0,
    "hideHardwareSpecs": false,
    "memoryGiB": 384,
    "name": "ml.m5.24xlarge",
    "vcpuNum": 96
   },
   {
    "_defaultOrder": 12,
    "_isFastLaunch": false,
    "category": "General purpose",
    "gpuNum": 0,
    "hideHardwareSpecs": false,
    "memoryGiB": 8,
    "name": "ml.m5d.large",
    "vcpuNum": 2
   },
   {
    "_defaultOrder": 13,
    "_isFastLaunch": false,
    "category": "General purpose",
    "gpuNum": 0,
    "hideHardwareSpecs": false,
    "memoryGiB": 16,
    "name": "ml.m5d.xlarge",
    "vcpuNum": 4
   },
   {
    "_defaultOrder": 14,
    "_isFastLaunch": false,
    "category": "General purpose",
    "gpuNum": 0,
    "hideHardwareSpecs": false,
    "memoryGiB": 32,
    "name": "ml.m5d.2xlarge",
    "vcpuNum": 8
   },
   {
    "_defaultOrder": 15,
    "_isFastLaunch": false,
    "category": "General purpose",
    "gpuNum": 0,
    "hideHardwareSpecs": false,
    "memoryGiB": 64,
    "name": "ml.m5d.4xlarge",
    "vcpuNum": 16
   },
   {
    "_defaultOrder": 16,
    "_isFastLaunch": false,
    "category": "General purpose",
    "gpuNum": 0,
    "hideHardwareSpecs": false,
    "memoryGiB": 128,
    "name": "ml.m5d.8xlarge",
    "vcpuNum": 32
   },
   {
    "_defaultOrder": 17,
    "_isFastLaunch": false,
    "category": "General purpose",
    "gpuNum": 0,
    "hideHardwareSpecs": false,
    "memoryGiB": 192,
    "name": "ml.m5d.12xlarge",
    "vcpuNum": 48
   },
   {
    "_defaultOrder": 18,
    "_isFastLaunch": false,
    "category": "General purpose",
    "gpuNum": 0,
    "hideHardwareSpecs": false,
    "memoryGiB": 256,
    "name": "ml.m5d.16xlarge",
    "vcpuNum": 64
   },
   {
    "_defaultOrder": 19,
    "_isFastLaunch": false,
    "category": "General purpose",
    "gpuNum": 0,
    "hideHardwareSpecs": false,
    "memoryGiB": 384,
    "name": "ml.m5d.24xlarge",
    "vcpuNum": 96
   },
   {
    "_defaultOrder": 20,
    "_isFastLaunch": false,
    "category": "General purpose",
    "gpuNum": 0,
    "hideHardwareSpecs": true,
    "memoryGiB": 0,
    "name": "ml.geospatial.interactive",
    "supportedImageNames": [
     "sagemaker-geospatial-v1-0"
    ],
    "vcpuNum": 0
   },
   {
    "_defaultOrder": 21,
    "_isFastLaunch": true,
    "category": "Compute optimized",
    "gpuNum": 0,
    "hideHardwareSpecs": false,
    "memoryGiB": 4,
    "name": "ml.c5.large",
    "vcpuNum": 2
   },
   {
    "_defaultOrder": 22,
    "_isFastLaunch": false,
    "category": "Compute optimized",
    "gpuNum": 0,
    "hideHardwareSpecs": false,
    "memoryGiB": 8,
    "name": "ml.c5.xlarge",
    "vcpuNum": 4
   },
   {
    "_defaultOrder": 23,
    "_isFastLaunch": false,
    "category": "Compute optimized",
    "gpuNum": 0,
    "hideHardwareSpecs": false,
    "memoryGiB": 16,
    "name": "ml.c5.2xlarge",
    "vcpuNum": 8
   },
   {
    "_defaultOrder": 24,
    "_isFastLaunch": false,
    "category": "Compute optimized",
    "gpuNum": 0,
    "hideHardwareSpecs": false,
    "memoryGiB": 32,
    "name": "ml.c5.4xlarge",
    "vcpuNum": 16
   },
   {
    "_defaultOrder": 25,
    "_isFastLaunch": false,
    "category": "Compute optimized",
    "gpuNum": 0,
    "hideHardwareSpecs": false,
    "memoryGiB": 72,
    "name": "ml.c5.9xlarge",
    "vcpuNum": 36
   },
   {
    "_defaultOrder": 26,
    "_isFastLaunch": false,
    "category": "Compute optimized",
    "gpuNum": 0,
    "hideHardwareSpecs": false,
    "memoryGiB": 96,
    "name": "ml.c5.12xlarge",
    "vcpuNum": 48
   },
   {
    "_defaultOrder": 27,
    "_isFastLaunch": false,
    "category": "Compute optimized",
    "gpuNum": 0,
    "hideHardwareSpecs": false,
    "memoryGiB": 144,
    "name": "ml.c5.18xlarge",
    "vcpuNum": 72
   },
   {
    "_defaultOrder": 28,
    "_isFastLaunch": false,
    "category": "Compute optimized",
    "gpuNum": 0,
    "hideHardwareSpecs": false,
    "memoryGiB": 192,
    "name": "ml.c5.24xlarge",
    "vcpuNum": 96
   },
   {
    "_defaultOrder": 29,
    "_isFastLaunch": true,
    "category": "Accelerated computing",
    "gpuNum": 1,
    "hideHardwareSpecs": false,
    "memoryGiB": 16,
    "name": "ml.g4dn.xlarge",
    "vcpuNum": 4
   },
   {
    "_defaultOrder": 30,
    "_isFastLaunch": false,
    "category": "Accelerated computing",
    "gpuNum": 1,
    "hideHardwareSpecs": false,
    "memoryGiB": 32,
    "name": "ml.g4dn.2xlarge",
    "vcpuNum": 8
   },
   {
    "_defaultOrder": 31,
    "_isFastLaunch": false,
    "category": "Accelerated computing",
    "gpuNum": 1,
    "hideHardwareSpecs": false,
    "memoryGiB": 64,
    "name": "ml.g4dn.4xlarge",
    "vcpuNum": 16
   },
   {
    "_defaultOrder": 32,
    "_isFastLaunch": false,
    "category": "Accelerated computing",
    "gpuNum": 1,
    "hideHardwareSpecs": false,
    "memoryGiB": 128,
    "name": "ml.g4dn.8xlarge",
    "vcpuNum": 32
   },
   {
    "_defaultOrder": 33,
    "_isFastLaunch": false,
    "category": "Accelerated computing",
    "gpuNum": 4,
    "hideHardwareSpecs": false,
    "memoryGiB": 192,
    "name": "ml.g4dn.12xlarge",
    "vcpuNum": 48
   },
   {
    "_defaultOrder": 34,
    "_isFastLaunch": false,
    "category": "Accelerated computing",
    "gpuNum": 1,
    "hideHardwareSpecs": false,
    "memoryGiB": 256,
    "name": "ml.g4dn.16xlarge",
    "vcpuNum": 64
   },
   {
    "_defaultOrder": 35,
    "_isFastLaunch": false,
    "category": "Accelerated computing",
    "gpuNum": 1,
    "hideHardwareSpecs": false,
    "memoryGiB": 61,
    "name": "ml.p3.2xlarge",
    "vcpuNum": 8
   },
   {
    "_defaultOrder": 36,
    "_isFastLaunch": false,
    "category": "Accelerated computing",
    "gpuNum": 4,
    "hideHardwareSpecs": false,
    "memoryGiB": 244,
    "name": "ml.p3.8xlarge",
    "vcpuNum": 32
   },
   {
    "_defaultOrder": 37,
    "_isFastLaunch": false,
    "category": "Accelerated computing",
    "gpuNum": 8,
    "hideHardwareSpecs": false,
    "memoryGiB": 488,
    "name": "ml.p3.16xlarge",
    "vcpuNum": 64
   },
   {
    "_defaultOrder": 38,
    "_isFastLaunch": false,
    "category": "Accelerated computing",
    "gpuNum": 8,
    "hideHardwareSpecs": false,
    "memoryGiB": 768,
    "name": "ml.p3dn.24xlarge",
    "vcpuNum": 96
   },
   {
    "_defaultOrder": 39,
    "_isFastLaunch": false,
    "category": "Memory Optimized",
    "gpuNum": 0,
    "hideHardwareSpecs": false,
    "memoryGiB": 16,
    "name": "ml.r5.large",
    "vcpuNum": 2
   },
   {
    "_defaultOrder": 40,
    "_isFastLaunch": false,
    "category": "Memory Optimized",
    "gpuNum": 0,
    "hideHardwareSpecs": false,
    "memoryGiB": 32,
    "name": "ml.r5.xlarge",
    "vcpuNum": 4
   },
   {
    "_defaultOrder": 41,
    "_isFastLaunch": false,
    "category": "Memory Optimized",
    "gpuNum": 0,
    "hideHardwareSpecs": false,
    "memoryGiB": 64,
    "name": "ml.r5.2xlarge",
    "vcpuNum": 8
   },
   {
    "_defaultOrder": 42,
    "_isFastLaunch": false,
    "category": "Memory Optimized",
    "gpuNum": 0,
    "hideHardwareSpecs": false,
    "memoryGiB": 128,
    "name": "ml.r5.4xlarge",
    "vcpuNum": 16
   },
   {
    "_defaultOrder": 43,
    "_isFastLaunch": false,
    "category": "Memory Optimized",
    "gpuNum": 0,
    "hideHardwareSpecs": false,
    "memoryGiB": 256,
    "name": "ml.r5.8xlarge",
    "vcpuNum": 32
   },
   {
    "_defaultOrder": 44,
    "_isFastLaunch": false,
    "category": "Memory Optimized",
    "gpuNum": 0,
    "hideHardwareSpecs": false,
    "memoryGiB": 384,
    "name": "ml.r5.12xlarge",
    "vcpuNum": 48
   },
   {
    "_defaultOrder": 45,
    "_isFastLaunch": false,
    "category": "Memory Optimized",
    "gpuNum": 0,
    "hideHardwareSpecs": false,
    "memoryGiB": 512,
    "name": "ml.r5.16xlarge",
    "vcpuNum": 64
   },
   {
    "_defaultOrder": 46,
    "_isFastLaunch": false,
    "category": "Memory Optimized",
    "gpuNum": 0,
    "hideHardwareSpecs": false,
    "memoryGiB": 768,
    "name": "ml.r5.24xlarge",
    "vcpuNum": 96
   },
   {
    "_defaultOrder": 47,
    "_isFastLaunch": false,
    "category": "Accelerated computing",
    "gpuNum": 1,
    "hideHardwareSpecs": false,
    "memoryGiB": 16,
    "name": "ml.g5.xlarge",
    "vcpuNum": 4
   },
   {
    "_defaultOrder": 48,
    "_isFastLaunch": false,
    "category": "Accelerated computing",
    "gpuNum": 1,
    "hideHardwareSpecs": false,
    "memoryGiB": 32,
    "name": "ml.g5.2xlarge",
    "vcpuNum": 8
   },
   {
    "_defaultOrder": 49,
    "_isFastLaunch": false,
    "category": "Accelerated computing",
    "gpuNum": 1,
    "hideHardwareSpecs": false,
    "memoryGiB": 64,
    "name": "ml.g5.4xlarge",
    "vcpuNum": 16
   },
   {
    "_defaultOrder": 50,
    "_isFastLaunch": false,
    "category": "Accelerated computing",
    "gpuNum": 1,
    "hideHardwareSpecs": false,
    "memoryGiB": 128,
    "name": "ml.g5.8xlarge",
    "vcpuNum": 32
   },
   {
    "_defaultOrder": 51,
    "_isFastLaunch": false,
    "category": "Accelerated computing",
    "gpuNum": 1,
    "hideHardwareSpecs": false,
    "memoryGiB": 256,
    "name": "ml.g5.16xlarge",
    "vcpuNum": 64
   },
   {
    "_defaultOrder": 52,
    "_isFastLaunch": false,
    "category": "Accelerated computing",
    "gpuNum": 4,
    "hideHardwareSpecs": false,
    "memoryGiB": 192,
    "name": "ml.g5.12xlarge",
    "vcpuNum": 48
   },
   {
    "_defaultOrder": 53,
    "_isFastLaunch": false,
    "category": "Accelerated computing",
    "gpuNum": 4,
    "hideHardwareSpecs": false,
    "memoryGiB": 384,
    "name": "ml.g5.24xlarge",
    "vcpuNum": 96
   },
   {
    "_defaultOrder": 54,
    "_isFastLaunch": false,
    "category": "Accelerated computing",
    "gpuNum": 8,
    "hideHardwareSpecs": false,
    "memoryGiB": 768,
    "name": "ml.g5.48xlarge",
    "vcpuNum": 192
   },
   {
    "_defaultOrder": 55,
    "_isFastLaunch": false,
    "category": "Accelerated computing",
    "gpuNum": 8,
    "hideHardwareSpecs": false,
    "memoryGiB": 1152,
    "name": "ml.p4d.24xlarge",
    "vcpuNum": 96
   },
   {
    "_defaultOrder": 56,
    "_isFastLaunch": false,
    "category": "Accelerated computing",
    "gpuNum": 8,
    "hideHardwareSpecs": false,
    "memoryGiB": 1152,
    "name": "ml.p4de.24xlarge",
    "vcpuNum": 96
   },
   {
    "_defaultOrder": 57,
    "_isFastLaunch": false,
    "category": "Accelerated computing",
    "gpuNum": 0,
    "hideHardwareSpecs": false,
    "memoryGiB": 32,
    "name": "ml.trn1.2xlarge",
    "vcpuNum": 8
   },
   {
    "_defaultOrder": 58,
    "_isFastLaunch": false,
    "category": "Accelerated computing",
    "gpuNum": 0,
    "hideHardwareSpecs": false,
    "memoryGiB": 512,
    "name": "ml.trn1.32xlarge",
    "vcpuNum": 128
   },
   {
    "_defaultOrder": 59,
    "_isFastLaunch": false,
    "category": "Accelerated computing",
    "gpuNum": 0,
    "hideHardwareSpecs": false,
    "memoryGiB": 512,
    "name": "ml.trn1n.32xlarge",
    "vcpuNum": 128
   }
  ],
  "instance_type": "ml.t3.medium",
  "kernelspec": {
   "display_name": "Python 3 (ipykernel)",
   "language": "python",
   "name": "python3"
  },
  "language_info": {
   "codemirror_mode": {
    "name": "ipython",
    "version": 3
   },
   "file_extension": ".py",
   "mimetype": "text/x-python",
   "name": "python",
   "nbconvert_exporter": "python",
   "pygments_lexer": "ipython3",
   "version": "3.11.5"
  }
 },
 "nbformat": 4,
 "nbformat_minor": 5
}
