{
 "cells": [
  {
   "cell_type": "markdown",
   "id": "eadddb45-1d40-45ca-8683-76ea695c9e58",
   "metadata": {
    "tags": []
   },
   "source": [
    "# Model Training"
   ]
  },
  {
   "cell_type": "markdown",
   "id": "79242932-6806-414c-90d2-8cadb611266f",
   "metadata": {},
   "source": [
    "### Imports"
   ]
  },
  {
   "cell_type": "code",
   "execution_count": 45,
   "id": "74f29291-27e3-4b82-a12d-a0621c138fc6",
   "metadata": {
    "tags": []
   },
   "outputs": [],
   "source": [
    "import pandas as pd\n",
    "import numpy as np\n",
    "import boto3\n",
    "import matplotlib.pyplot as plt\n",
    "from sklearn.preprocessing import StandardScaler\n",
    "from sklearn.decomposition import IncrementalPCA\n",
    "import sagemaker\n",
    "from sagemaker import PCA, KMeans, get_execution_role, Session\n",
    "from sklearn.metrics import silhouette_score\n",
    "import time\n",
    "from sagemaker.model import Model\n",
    "from sagemaker.serializers import CSVSerializer\n",
    "from sagemaker.deserializers import JSONDeserializer"
   ]
  },
  {
   "cell_type": "markdown",
   "id": "5ba079ce-de5a-43a2-9298-6dea3adc87cc",
   "metadata": {},
   "source": [
    "## Load Training Dataset from S3"
   ]
  },
  {
   "cell_type": "code",
   "execution_count": 46,
   "id": "d1dbf057-20fb-41f5-9d5d-3d98218b27db",
   "metadata": {
    "tags": []
   },
   "outputs": [],
   "source": [
    "train_df = pd.read_csv('s3://team6datasets/splitDatasets/train.csv')"
   ]
  },
  {
   "cell_type": "markdown",
   "id": "041a9007-8ecd-4968-9abd-080d48a513b4",
   "metadata": {},
   "source": [
    "## Sagemaker Session and Role"
   ]
  },
  {
   "cell_type": "code",
   "execution_count": 47,
   "id": "4d33cb53-4214-4a02-b5b2-db7e9456628e",
   "metadata": {
    "tags": []
   },
   "outputs": [],
   "source": [
    "# Define the SageMaker session and role\n",
    "sagemaker_session = Session()\n",
    "role = get_execution_role()"
   ]
  },
  {
   "cell_type": "markdown",
   "id": "a6e3e69f-675c-4617-a516-c03ce21ab741",
   "metadata": {},
   "source": [
    "## Feature Scaling"
   ]
  },
  {
   "cell_type": "code",
   "execution_count": 48,
   "id": "4a20c5ab-0d32-47cf-a969-1cdde13f6355",
   "metadata": {
    "tags": []
   },
   "outputs": [],
   "source": [
    "# Feature Scaling\n",
    "scaler  = StandardScaler()\n",
    "\n",
    "# Convert to float32 for memory efficiency\n",
    "scaled_data = scaler.fit_transform(train_df.astype('float32'))"
   ]
  },
  {
   "cell_type": "markdown",
   "id": "4c59915f-d42e-4f10-828d-ae2cee939bcf",
   "metadata": {},
   "source": [
    "## Dimensionality Reduction with Incremental PCA"
   ]
  },
  {
   "cell_type": "code",
   "execution_count": 49,
   "id": "46fa8c41-f500-4d74-b977-a09827a91283",
   "metadata": {
    "tags": []
   },
   "outputs": [
    {
     "data": {
      "image/png": "[encoded data removed]",
      "text/plain": [
       "<Figure size 720x504 with 1 Axes>"
      ]
     },
     "metadata": {
      "needs_background": "light"
     },
     "output_type": "display_data"
    }
   ],
   "source": [
    "# Use IncrementalPCA for dimensionality reduction\n",
    "ipca = IncrementalPCA(n_components=100, batch_size=150)\n",
    "ipca.fit(scaled_data)\n",
    "\n",
    "# Plot the explained variance ratio\n",
    "plt.figure(figsize=(10, 7))\n",
    "plt.bar(range(1, ipca.n_components_ + 1), ipca.explained_variance_ratio_, alpha=0.5, align='center',\n",
    "        label='Individual explained variance')\n",
    "plt.step(range(1, ipca.n_components_ + 1), np.cumsum(ipca.explained_variance_ratio_), where='mid',\n",
    "         label='Cumulative explained variance')\n",
    "plt.ylabel('Explained variance ratio')\n",
    "plt.xlabel('Principal component index')\n",
    "plt.legend(loc='best')\n",
    "plt.show()"
   ]
  },
  {
   "cell_type": "code",
   "execution_count": 50,
   "id": "db12fe62-b462-46c6-8452-9e73dbc69b06",
   "metadata": {
    "tags": []
   },
   "outputs": [
    {
     "name": "stderr",
     "output_type": "stream",
     "text": [
      "Defaulting to the only supported framework/algorithm version: 1. Ignoring framework/algorithm version: 1.\n",
      "Defaulting to the only supported framework/algorithm version: 1. Ignoring framework/algorithm version: 1.\n"
     ]
    },
    {
     "name": "stdout",
     "output_type": "stream",
     "text": [
      "2024-04-02 06:43:10 Starting - Starting the training job...\n",
      "2024-04-02 06:43:33 Starting - Preparing the instances for trainingProfilerReport-1712040190: InProgress\n",
      "...\n",
      "2024-04-02 06:44:10 Downloading - Downloading input data......\n",
      "2024-04-02 06:44:54 Downloading - Downloading the training image......\n",
      "2024-04-02 06:46:06 Training - Training image download completed. Training in progress...\u001b[34mDocker entrypoint called with argument(s): train\u001b[0m\n",
      "\u001b[34mRunning default environment configuration script\u001b[0m\n",
      "\u001b[34m/opt/amazon/lib/python3.8/site-packages/mxnet/model.py:97: SyntaxWarning: \"is\" with a literal. Did you mean \"==\"?\n",
      "  if num_device is 1 and 'dist' not in kvstore:\u001b[0m\n",
      "\u001b[34m[04/02/2024 06:46:19 INFO 140278710449984] Reading default configuration from /opt/amazon/lib/python3.8/site-packages/algorithm/resources/default-conf.json: {'algorithm_mode': 'regular', 'subtract_mean': 'true', 'extra_components': '-1', 'force_dense': 'true', 'epochs': 1, '_log_level': 'info', '_kvstore': 'dist_sync', '_num_kv_servers': 'auto', '_num_gpus': 'auto'}\u001b[0m\n",
      "\u001b[34m[04/02/2024 06:46:19 INFO 140278710449984] Merging with provided configuration from /opt/ml/input/config/hyperparameters.json: {'feature_dim': '182', 'mini_batch_size': '500', 'num_components': '10'}\u001b[0m\n",
      "\u001b[34m[04/02/2024 06:46:19 INFO 140278710449984] Final configuration: {'algorithm_mode': 'regular', 'subtract_mean': 'true', 'extra_components': '-1', 'force_dense': 'true', 'epochs': 1, '_log_level': 'info', '_kvstore': 'dist_sync', '_num_kv_servers': 'auto', '_num_gpus': 'auto', 'feature_dim': '182', 'mini_batch_size': '500', 'num_components': '10'}\u001b[0m\n",
      "\u001b[34m[04/02/2024 06:46:19 WARNING 140278710449984] Loggers have already been setup.\u001b[0m\n",
      "\u001b[34m[04/02/2024 06:46:19 INFO 140278710449984] Launching parameter server for role scheduler\u001b[0m\n",
      "\u001b[34m[04/02/2024 06:46:19 INFO 140278710449984] {'ENVROOT': '/opt/amazon', 'PROTOCOL_BUFFERS_PYTHON_IMPLEMENTATION': 'cpp', 'HOSTNAME': 'ip-10-0-185-29.ec2.internal', 'TRAINING_JOB_NAME': 'pca-2024-04-02-06-43-10-434', 'NVIDIA_REQUIRE_CUDA': 'cuda>=9.0', 'TRAINING_JOB_ARN': 'arn:aws:sagemaker:us-east-1:533267092316:training-job/pca-2024-04-02-06-43-10-434', 'AWS_CONTAINER_CREDENTIALS_RELATIVE_URI': '/v2/credentials/proxy-906de89b823b9665b120221e11eaa53cab106746b1633a6da55bfa6c7ad2ac17-customer', 'CANONICAL_ENVROOT': '/opt/amazon', 'PYTHONUNBUFFERED': 'TRUE', 'NVIDIA_VISIBLE_DEVICES': 'all', 'LD_LIBRARY_PATH': '/opt/amazon/lib/python3.8/site-packages/cv2/../../../../lib:/usr/local/nvidia/lib64:/opt/amazon/lib', 'NVIDIA_DRIVER_CAPABILITIES': 'compute,utility', 'SAGEMAKER_MANAGED_WARMPOOL_CACHE_DIRECTORY': '/opt/ml/sagemaker/warmpoolcache', 'PATH': '/opt/amazon/bin:/usr/local/nvidia/bin:/usr/local/sbin:/usr/local/bin:/usr/sbin:/usr/bin:/sbin:/bin', 'PWD': '/', 'LANG': 'en_US.utf8', 'AWS_REGION': 'us-east-1', 'CUDA_VERSION': '11.1', 'HOME': '/root', 'SHLVL': '1', 'CUDA_COMPAT_NDRIVER_SUPPORTED_VERSION': '455.32.00', 'PROTOCOL_BUFFERS_PYTHON_IMPLEMENTATION_VERSION': '2', 'OMP_NUM_THREADS': '2', 'DMLC_INTERFACE': 'eth0', 'SAGEMAKER_HTTP_PORT': '8080', 'SAGEMAKER_DATA_PATH': '/opt/ml'}\u001b[0m\n",
      "\u001b[34m[04/02/2024 06:46:19 INFO 140278710449984] envs={'ENVROOT': '/opt/amazon', 'PROTOCOL_BUFFERS_PYTHON_IMPLEMENTATION': 'cpp', 'HOSTNAME': 'ip-10-0-185-29.ec2.internal', 'TRAINING_JOB_NAME': 'pca-2024-04-02-06-43-10-434', 'NVIDIA_REQUIRE_CUDA': 'cuda>=9.0', 'TRAINING_JOB_ARN': 'arn:aws:sagemaker:us-east-1:533267092316:training-job/pca-2024-04-02-06-43-10-434', 'AWS_CONTAINER_CREDENTIALS_RELATIVE_URI': '/v2/credentials/proxy-906de89b823b9665b120221e11eaa53cab106746b1633a6da55bfa6c7ad2ac17-customer', 'CANONICAL_ENVROOT': '/opt/amazon', 'PYTHONUNBUFFERED': 'TRUE', 'NVIDIA_VISIBLE_DEVICES': 'all', 'LD_LIBRARY_PATH': '/opt/amazon/lib/python3.8/site-packages/cv2/../../../../lib:/usr/local/nvidia/lib64:/opt/amazon/lib', 'NVIDIA_DRIVER_CAPABILITIES': 'compute,utility', 'SAGEMAKER_MANAGED_WARMPOOL_CACHE_DIRECTORY': '/opt/ml/sagemaker/warmpoolcache', 'PATH': '/opt/amazon/bin:/usr/local/nvidia/bin:/usr/local/sbin:/usr/local/bin:/usr/sbin:/usr/bin:/sbin:/bin', 'PWD': '/', 'LANG': 'en_US.utf8', 'AWS_REGION': 'us-east-1', 'CUDA_VERSION': '11.1', 'HOME': '/root', 'SHLVL': '1', 'CUDA_COMPAT_NDRIVER_SUPPORTED_VERSION': '455.32.00', 'PROTOCOL_BUFFERS_PYTHON_IMPLEMENTATION_VERSION': '2', 'OMP_NUM_THREADS': '2', 'DMLC_INTERFACE': 'eth0', 'SAGEMAKER_HTTP_PORT': '8080', 'SAGEMAKER_DATA_PATH': '/opt/ml', 'DMLC_ROLE': 'scheduler', 'DMLC_PS_ROOT_URI': '10.0.185.29', 'DMLC_PS_ROOT_PORT': '9000', 'DMLC_NUM_SERVER': '1', 'DMLC_NUM_WORKER': '1'}\u001b[0m\n",
      "\u001b[34m[04/02/2024 06:46:19 INFO 140278710449984] Launching parameter server for role server\u001b[0m\n",
      "\u001b[34m[04/02/2024 06:46:19 INFO 140278710449984] {'ENVROOT': '/opt/amazon', 'PROTOCOL_BUFFERS_PYTHON_IMPLEMENTATION': 'cpp', 'HOSTNAME': 'ip-10-0-185-29.ec2.internal', 'TRAINING_JOB_NAME': 'pca-2024-04-02-06-43-10-434', 'NVIDIA_REQUIRE_CUDA': 'cuda>=9.0', 'TRAINING_JOB_ARN': 'arn:aws:sagemaker:us-east-1:533267092316:training-job/pca-2024-04-02-06-43-10-434', 'AWS_CONTAINER_CREDENTIALS_RELATIVE_URI': '/v2/credentials/proxy-906de89b823b9665b120221e11eaa53cab106746b1633a6da55bfa6c7ad2ac17-customer', 'CANONICAL_ENVROOT': '/opt/amazon', 'PYTHONUNBUFFERED': 'TRUE', 'NVIDIA_VISIBLE_DEVICES': 'all', 'LD_LIBRARY_PATH': '/opt/amazon/lib/python3.8/site-packages/cv2/../../../../lib:/usr/local/nvidia/lib64:/opt/amazon/lib', 'NVIDIA_DRIVER_CAPABILITIES': 'compute,utility', 'SAGEMAKER_MANAGED_WARMPOOL_CACHE_DIRECTORY': '/opt/ml/sagemaker/warmpoolcache', 'PATH': '/opt/amazon/bin:/usr/local/nvidia/bin:/usr/local/sbin:/usr/local/bin:/usr/sbin:/usr/bin:/sbin:/bin', 'PWD': '/', 'LANG': 'en_US.utf8', 'AWS_REGION': 'us-east-1', 'CUDA_VERSION': '11.1', 'HOME': '/root', 'SHLVL': '1', 'CUDA_COMPAT_NDRIVER_SUPPORTED_VERSION': '455.32.00', 'PROTOCOL_BUFFERS_PYTHON_IMPLEMENTATION_VERSION': '2', 'OMP_NUM_THREADS': '2', 'DMLC_INTERFACE': 'eth0', 'SAGEMAKER_HTTP_PORT': '8080', 'SAGEMAKER_DATA_PATH': '/opt/ml'}\u001b[0m\n",
      "\u001b[34m[04/02/2024 06:46:19 INFO 140278710449984] envs={'ENVROOT': '/opt/amazon', 'PROTOCOL_BUFFERS_PYTHON_IMPLEMENTATION': 'cpp', 'HOSTNAME': 'ip-10-0-185-29.ec2.internal', 'TRAINING_JOB_NAME': 'pca-2024-04-02-06-43-10-434', 'NVIDIA_REQUIRE_CUDA': 'cuda>=9.0', 'TRAINING_JOB_ARN': 'arn:aws:sagemaker:us-east-1:533267092316:training-job/pca-2024-04-02-06-43-10-434', 'AWS_CONTAINER_CREDENTIALS_RELATIVE_URI': '/v2/credentials/proxy-906de89b823b9665b120221e11eaa53cab106746b1633a6da55bfa6c7ad2ac17-customer', 'CANONICAL_ENVROOT': '/opt/amazon', 'PYTHONUNBUFFERED': 'TRUE', 'NVIDIA_VISIBLE_DEVICES': 'all', 'LD_LIBRARY_PATH': '/opt/amazon/lib/python3.8/site-packages/cv2/../../../../lib:/usr/local/nvidia/lib64:/opt/amazon/lib', 'NVIDIA_DRIVER_CAPABILITIES': 'compute,utility', 'SAGEMAKER_MANAGED_WARMPOOL_CACHE_DIRECTORY': '/opt/ml/sagemaker/warmpoolcache', 'PATH': '/opt/amazon/bin:/usr/local/nvidia/bin:/usr/local/sbin:/usr/local/bin:/usr/sbin:/usr/bin:/sbin:/bin', 'PWD': '/', 'LANG': 'en_US.utf8', 'AWS_REGION': 'us-east-1', 'CUDA_VERSION': '11.1', 'HOME': '/root', 'SHLVL': '1', 'CUDA_COMPAT_NDRIVER_SUPPORTED_VERSION': '455.32.00', 'PROTOCOL_BUFFERS_PYTHON_IMPLEMENTATION_VERSION': '2', 'OMP_NUM_THREADS': '2', 'DMLC_INTERFACE': 'eth0', 'SAGEMAKER_HTTP_PORT': '8080', 'SAGEMAKER_DATA_PATH': '/opt/ml', 'DMLC_ROLE': 'server', 'DMLC_PS_ROOT_URI': '10.0.185.29', 'DMLC_PS_ROOT_PORT': '9000', 'DMLC_NUM_SERVER': '1', 'DMLC_NUM_WORKER': '1'}\u001b[0m\n",
      "\u001b[34m[04/02/2024 06:46:19 INFO 140278710449984] Environment: {'ENVROOT': '/opt/amazon', 'PROTOCOL_BUFFERS_PYTHON_IMPLEMENTATION': 'cpp', 'HOSTNAME': 'ip-10-0-185-29.ec2.internal', 'TRAINING_JOB_NAME': 'pca-2024-04-02-06-43-10-434', 'NVIDIA_REQUIRE_CUDA': 'cuda>=9.0', 'TRAINING_JOB_ARN': 'arn:aws:sagemaker:us-east-1:533267092316:training-job/pca-2024-04-02-06-43-10-434', 'AWS_CONTAINER_CREDENTIALS_RELATIVE_URI': '/v2/credentials/proxy-906de89b823b9665b120221e11eaa53cab106746b1633a6da55bfa6c7ad2ac17-customer', 'CANONICAL_ENVROOT': '/opt/amazon', 'PYTHONUNBUFFERED': 'TRUE', 'NVIDIA_VISIBLE_DEVICES': 'all', 'LD_LIBRARY_PATH': '/opt/amazon/lib/python3.8/site-packages/cv2/../../../../lib:/usr/local/nvidia/lib64:/opt/amazon/lib', 'NVIDIA_DRIVER_CAPABILITIES': 'compute,utility', 'SAGEMAKER_MANAGED_WARMPOOL_CACHE_DIRECTORY': '/opt/ml/sagemaker/warmpoolcache', 'PATH': '/opt/amazon/bin:/usr/local/nvidia/bin:/usr/local/sbin:/usr/local/bin:/usr/sbin:/usr/bin:/sbin:/bin', 'PWD': '/', 'LANG': 'en_US.utf8', 'AWS_REGION': 'us-east-1', 'CUDA_VERSION': '11.1', 'HOME': '/root', 'SHLVL': '1', 'CUDA_COMPAT_NDRIVER_SUPPORTED_VERSION': '455.32.00', 'PROTOCOL_BUFFERS_PYTHON_IMPLEMENTATION_VERSION': '2', 'OMP_NUM_THREADS': '2', 'DMLC_INTERFACE': 'eth0', 'SAGEMAKER_HTTP_PORT': '8080', 'SAGEMAKER_DATA_PATH': '/opt/ml', 'DMLC_ROLE': 'worker', 'DMLC_PS_ROOT_URI': '10.0.185.29', 'DMLC_PS_ROOT_PORT': '9000', 'DMLC_NUM_SERVER': '1', 'DMLC_NUM_WORKER': '1'}\u001b[0m\n",
      "\u001b[34mProcess 34 is a shell:scheduler.\u001b[0m\n",
      "\u001b[34mProcess 43 is a shell:server.\u001b[0m\n",
      "\u001b[34mProcess 7 is a worker.\u001b[0m\n",
      "\u001b[34m[04/02/2024 06:46:19 INFO 140278710449984] Using default worker.\u001b[0m\n",
      "\u001b[34m[04/02/2024 06:46:19 INFO 140278710449984] Loaded iterator creator application/x-labeled-vector-protobuf for content type ('application/x-labeled-vector-protobuf', '1.0')\u001b[0m\n",
      "\u001b[34m[04/02/2024 06:46:19 INFO 140278710449984] Loaded iterator creator application/x-recordio-protobuf for content type ('application/x-recordio-protobuf', '1.0')\u001b[0m\n",
      "\u001b[34m[04/02/2024 06:46:19 INFO 140278710449984] Loaded iterator creator protobuf for content type ('protobuf', '1.0')\u001b[0m\n",
      "\u001b[34m[04/02/2024 06:46:19 INFO 140278710449984] Checkpoint loading and saving are disabled.\u001b[0m\n",
      "\u001b[34m[04/02/2024 06:46:19 INFO 140278710449984] Create Store: dist_sync\u001b[0m\n",
      "\u001b[34m/opt/amazon/python3.8/lib/python3.8/subprocess.py:848: RuntimeWarning: line buffering (buffering=1) isn't supported in binary mode, the default buffer size will be used\n",
      "  self.stdout = io.open(c2pread, 'rb', bufsize)\u001b[0m\n",
      "\u001b[34m[04/02/2024 06:46:20 INFO 140278710449984] nvidia-smi: took 0.091 seconds to run.\u001b[0m\n",
      "\u001b[34m[04/02/2024 06:46:20 INFO 140278710449984] nvidia-smi identified 0 GPUs.\u001b[0m\n",
      "\u001b[34m[04/02/2024 06:46:20 INFO 140278710449984] Number of GPUs being used: 0\u001b[0m\n",
      "\u001b[34m[04/02/2024 06:46:20 INFO 140278710449984] The default executor is <PCAExecutor on cpu(0)>.\u001b[0m\n",
      "\u001b[34m[04/02/2024 06:46:20 INFO 140278710449984] 182 feature(s) found in 'data'.\u001b[0m\n",
      "\u001b[34m[04/02/2024 06:46:20 INFO 140278710449984] <PCAExecutor on cpu(0)> is assigned to batch slice from 0 to 499.\u001b[0m\n",
      "\u001b[34m#metrics {\"StartTime\": 1712040379.2286274, \"EndTime\": 1712040380.1732602, \"Dimensions\": {\"Algorithm\": \"PCA\", \"Host\": \"algo-1\", \"Operation\": \"training\"}, \"Metrics\": {\"initialize.time\": {\"sum\": 930.4592609405518, \"count\": 1, \"min\": 930.4592609405518, \"max\": 930.4592609405518}}}\u001b[0m\n",
      "\u001b[34m#metrics {\"StartTime\": 1712040380.173453, \"EndTime\": 1712040380.173501, \"Dimensions\": {\"Algorithm\": \"PCA\", \"Host\": \"algo-1\", \"Operation\": \"training\", \"Meta\": \"init_train_data_iter\"}, \"Metrics\": {\"Total Records Seen\": {\"sum\": 0.0, \"count\": 1, \"min\": 0, \"max\": 0}, \"Total Batches Seen\": {\"sum\": 0.0, \"count\": 1, \"min\": 0, \"max\": 0}, \"Max Records Seen Between Resets\": {\"sum\": 0.0, \"count\": 1, \"min\": 0, \"max\": 0}, \"Max Batches Seen Between Resets\": {\"sum\": 0.0, \"count\": 1, \"min\": 0, \"max\": 0}, \"Reset Count\": {\"sum\": 0.0, \"count\": 1, \"min\": 0, \"max\": 0}, \"Number of Records Since Last Reset\": {\"sum\": 0.0, \"count\": 1, \"min\": 0, \"max\": 0}, \"Number of Batches Since Last Reset\": {\"sum\": 0.0, \"count\": 1, \"min\": 0, \"max\": 0}}}\u001b[0m\n",
      "\u001b[34m[2024-04-02 06:46:20.180] [tensorio] [info] epoch_stats={\"data_pipeline\": \"/opt/ml/input/data/train\", \"epoch\": 0, \"duration\": 951, \"num_examples\": 1, \"num_bytes\": 378000}\u001b[0m\n",
      "\u001b[34m[2024-04-02 06:46:21.260] [tensorio] [info] epoch_stats={\"data_pipeline\": \"/opt/ml/input/data/train\", \"epoch\": 1, \"duration\": 1074, \"num_examples\": 733, \"num_bytes\": 276805620}\u001b[0m\n",
      "\u001b[34m#metrics {\"StartTime\": 1712040380.1733847, \"EndTime\": 1712040381.2612145, \"Dimensions\": {\"Algorithm\": \"PCA\", \"Host\": \"algo-1\", \"Operation\": \"training\"}, \"Metrics\": {\"epochs\": {\"sum\": 1.0, \"count\": 1, \"min\": 1, \"max\": 1}, \"update.time\": {\"sum\": 1080.1756381988525, \"count\": 1, \"min\": 1080.1756381988525, \"max\": 1080.1756381988525}}}\u001b[0m\n",
      "\u001b[34m[04/02/2024 06:46:21 INFO 140278710449984] #progress_metric: host=algo-1, completed 100.0 % of epochs\u001b[0m\n",
      "\u001b[34m#metrics {\"StartTime\": 1712040380.1810057, \"EndTime\": 1712040381.2618132, \"Dimensions\": {\"Algorithm\": \"PCA\", \"Host\": \"algo-1\", \"Operation\": \"training\", \"epoch\": 0, \"Meta\": \"training_data_iter\"}, \"Metrics\": {\"Total Records Seen\": {\"sum\": 366145.0, \"count\": 1, \"min\": 366145, \"max\": 366145}, \"Total Batches Seen\": {\"sum\": 733.0, \"count\": 1, \"min\": 733, \"max\": 733}, \"Max Records Seen Between Resets\": {\"sum\": 366145.0, \"count\": 1, \"min\": 366145, \"max\": 366145}, \"Max Batches Seen Between Resets\": {\"sum\": 733.0, \"count\": 1, \"min\": 733, \"max\": 733}, \"Reset Count\": {\"sum\": 1.0, \"count\": 1, \"min\": 1, \"max\": 1}, \"Number of Records Since Last Reset\": {\"sum\": 366145.0, \"count\": 1, \"min\": 366145, \"max\": 366145}, \"Number of Batches Since Last Reset\": {\"sum\": 733.0, \"count\": 1, \"min\": 733, \"max\": 733}}}\u001b[0m\n",
      "\u001b[34m[04/02/2024 06:46:21 INFO 140278710449984] #throughput_metric: host=algo-1, train throughput=338699.49013459333 records/second\u001b[0m\n",
      "\u001b[34m#metrics {\"StartTime\": 1712040381.261321, \"EndTime\": 1712040381.2715712, \"Dimensions\": {\"Algorithm\": \"PCA\", \"Host\": \"algo-1\", \"Operation\": \"training\"}, \"Metrics\": {\"finalize.time\": {\"sum\": 9.120464324951172, \"count\": 1, \"min\": 9.120464324951172, \"max\": 9.120464324951172}}}\u001b[0m\n",
      "\u001b[34m[04/02/2024 06:46:21 INFO 140278710449984] Test data is not provided.\u001b[0m\n",
      "\u001b[34m#metrics {\"StartTime\": 1712040381.271634, \"EndTime\": 1712040381.2776864, \"Dimensions\": {\"Algorithm\": \"PCA\", \"Host\": \"algo-1\", \"Operation\": \"training\"}, \"Metrics\": {\"setuptime\": {\"sum\": 25.95973014831543, \"count\": 1, \"min\": 25.95973014831543, \"max\": 25.95973014831543}, \"totaltime\": {\"sum\": 2190.998315811157, \"count\": 1, \"min\": 2190.998315811157, \"max\": 2190.998315811157}}}\u001b[0m\n",
      "\n",
      "2024-04-02 06:46:42 Uploading - Uploading generated training model\n",
      "2024-04-02 06:46:42 Completed - Training job completed\n",
      "Training seconds: 152\n",
      "Billable seconds: 152\n"
     ]
    }
   ],
   "source": [
    "# Define PCA model\n",
    "pca_estimator = PCA(role=get_execution_role(),\n",
    "                    instance_count = 1,\n",
    "                    instance_type = 'ml.c4.xlarge',\n",
    "                    num_components = 10)\n",
    "\n",
    "# Fit PCA model\n",
    "pca_estimator.fit(pca_estimator.record_set(scaled_data))"
   ]
  },
  {
   "cell_type": "markdown",
   "id": "d008dceb-113e-48f7-86af-67c525b902ef",
   "metadata": {},
   "source": [
    "## Model Training with KMeans Algorithm"
   ]
  },
  {
   "cell_type": "code",
   "execution_count": 65,
   "id": "0ebc1040-bf8d-4de5-8b45-90a446cb8154",
   "metadata": {
    "tags": []
   },
   "outputs": [
    {
     "name": "stderr",
     "output_type": "stream",
     "text": [
      "Defaulting to the only supported framework/algorithm version: 1. Ignoring framework/algorithm version: 1.\n"
     ]
    },
    {
     "name": "stdout",
     "output_type": "stream",
     "text": [
      "2024-04-02 07:53:02 Starting - Starting the training job...\n",
      "2024-04-02 07:53:26 Starting - Preparing the instances for trainingProfilerReport-1712044381: InProgress\n",
      "...\n",
      "2024-04-02 07:53:51 Downloading - Downloading input data......\n",
      "2024-04-02 07:54:46 Downloading - Downloading the training image......\n",
      "2024-04-02 07:55:54 Training - Training image download completed. Training in progress..\u001b[34mDocker entrypoint called with argument(s): train\u001b[0m\n",
      "\u001b[34mRunning default environment configuration script\u001b[0m\n",
      "\u001b[34m[04/02/2024 07:56:02 INFO 140416586995520] Reading default configuration from /opt/amazon/lib/python3.8/site-packages/algorithm/resources/default-input.json: {'init_method': 'random', 'mini_batch_size': '5000', 'epochs': '1', 'extra_center_factor': 'auto', 'local_lloyd_max_iter': '300', 'local_lloyd_tol': '0.0001', 'local_lloyd_init_method': 'kmeans++', 'local_lloyd_num_trials': 'auto', 'half_life_time_size': '0', 'eval_metrics': '[\"msd\"]', 'force_dense': 'true', '_disable_wait_to_read': 'false', '_enable_profiler': 'false', '_kvstore': 'auto', '_log_level': 'info', '_num_gpus': 'auto', '_num_kv_servers': '1', '_num_slices': '1', '_tuning_objective_metric': ''}\u001b[0m\n",
      "\u001b[34m[04/02/2024 07:56:02 INFO 140416586995520] Merging with provided configuration from /opt/ml/input/config/hyperparameters.json: {'feature_dim': '182', 'force_dense': 'True', 'k': '5'}\u001b[0m\n",
      "\u001b[34m[04/02/2024 07:56:02 INFO 140416586995520] Final configuration: {'init_method': 'random', 'mini_batch_size': '5000', 'epochs': '1', 'extra_center_factor': 'auto', 'local_lloyd_max_iter': '300', 'local_lloyd_tol': '0.0001', 'local_lloyd_init_method': 'kmeans++', 'local_lloyd_num_trials': 'auto', 'half_life_time_size': '0', 'eval_metrics': '[\"msd\"]', 'force_dense': 'True', '_disable_wait_to_read': 'false', '_enable_profiler': 'false', '_kvstore': 'auto', '_log_level': 'info', '_num_gpus': 'auto', '_num_kv_servers': '1', '_num_slices': '1', '_tuning_objective_metric': '', 'feature_dim': '182', 'k': '5'}\u001b[0m\n",
      "\u001b[34m/opt/amazon/lib/python3.8/site-packages/mxnet/model.py:97: SyntaxWarning: \"is\" with a literal. Did you mean \"==\"?\n",
      "  if num_device is 1 and 'dist' not in kvstore:\u001b[0m\n",
      "\u001b[34m[04/02/2024 07:56:04 WARNING 140416586995520] Loggers have already been setup.\u001b[0m\n",
      "\u001b[34m[04/02/2024 07:56:04 INFO 140416586995520] Final configuration: {'init_method': 'random', 'mini_batch_size': '5000', 'epochs': '1', 'extra_center_factor': 'auto', 'local_lloyd_max_iter': '300', 'local_lloyd_tol': '0.0001', 'local_lloyd_init_method': 'kmeans++', 'local_lloyd_num_trials': 'auto', 'half_life_time_size': '0', 'eval_metrics': '[\"msd\"]', 'force_dense': 'True', '_disable_wait_to_read': 'false', '_enable_profiler': 'false', '_kvstore': 'auto', '_log_level': 'info', '_num_gpus': 'auto', '_num_kv_servers': '1', '_num_slices': '1', '_tuning_objective_metric': '', 'feature_dim': '182', 'k': '5'}\u001b[0m\n",
      "\u001b[34m[04/02/2024 07:56:04 WARNING 140416586995520] Loggers have already been setup.\u001b[0m\n",
      "\u001b[34mProcess 7 is a worker.\u001b[0m\n",
      "\u001b[34m[04/02/2024 07:56:04 INFO 140416586995520] Using default worker.\u001b[0m\n",
      "\u001b[34m[04/02/2024 07:56:04 INFO 140416586995520] Loaded iterator creator application/x-recordio-protobuf for content type ('application/x-recordio-protobuf', '1.0')\u001b[0m\n",
      "\u001b[34m[04/02/2024 07:56:04 INFO 140416586995520] Create Store: local\u001b[0m\n",
      "\u001b[34m/opt/amazon/python3.8/lib/python3.8/subprocess.py:848: RuntimeWarning: line buffering (buffering=1) isn't supported in binary mode, the default buffer size will be used\n",
      "  self.stdout = io.open(c2pread, 'rb', bufsize)\u001b[0m\n",
      "\u001b[34m[04/02/2024 07:56:04 INFO 140416586995520] nvidia-smi: took 0.056 seconds to run.\u001b[0m\n",
      "\u001b[34m[04/02/2024 07:56:04 INFO 140416586995520] nvidia-smi identified 0 GPUs.\u001b[0m\n",
      "\u001b[34m[04/02/2024 07:56:04 INFO 140416586995520] Number of GPUs being used: 0\u001b[0m\n",
      "\u001b[34m[04/02/2024 07:56:04 INFO 140416586995520] Checkpoint loading and saving are disabled.\u001b[0m\n",
      "\u001b[34m[04/02/2024 07:56:04 INFO 140416586995520] Setting up with params: {'init_method': 'random', 'mini_batch_size': '5000', 'epochs': '1', 'extra_center_factor': 'auto', 'local_lloyd_max_iter': '300', 'local_lloyd_tol': '0.0001', 'local_lloyd_init_method': 'kmeans++', 'local_lloyd_num_trials': 'auto', 'half_life_time_size': '0', 'eval_metrics': '[\"msd\"]', 'force_dense': 'True', '_disable_wait_to_read': 'false', '_enable_profiler': 'false', '_kvstore': 'auto', '_log_level': 'info', '_num_gpus': 'auto', '_num_kv_servers': '1', '_num_slices': '1', '_tuning_objective_metric': '', 'feature_dim': '182', 'k': '5'}\u001b[0m\n",
      "\u001b[34m[04/02/2024 07:56:04 INFO 140416586995520] 'extra_center_factor' was set to 'auto', evaluated to 10.\u001b[0m\n",
      "\u001b[34m[04/02/2024 07:56:04 INFO 140416586995520] Number of GPUs being used: 0\u001b[0m\n",
      "\u001b[34m[04/02/2024 07:56:04 INFO 140416586995520] number of center slices 1\u001b[0m\n",
      "\u001b[34m#metrics {\"StartTime\": 1712044564.7738018, \"EndTime\": 1712044564.7738314, \"Dimensions\": {\"Algorithm\": \"AWS/KMeansWebscale\", \"Host\": \"algo-1\", \"Operation\": \"training\", \"Meta\": \"init_train_data_iter\"}, \"Metrics\": {\"Total Records Seen\": {\"sum\": 5000.0, \"count\": 1, \"min\": 5000, \"max\": 5000}, \"Total Batches Seen\": {\"sum\": 1.0, \"count\": 1, \"min\": 1, \"max\": 1}, \"Max Records Seen Between Resets\": {\"sum\": 5000.0, \"count\": 1, \"min\": 5000, \"max\": 5000}, \"Max Batches Seen Between Resets\": {\"sum\": 1.0, \"count\": 1, \"min\": 1, \"max\": 1}, \"Reset Count\": {\"sum\": 0.0, \"count\": 1, \"min\": 0, \"max\": 0}, \"Number of Records Since Last Reset\": {\"sum\": 5000.0, \"count\": 1, \"min\": 5000, \"max\": 5000}, \"Number of Batches Since Last Reset\": {\"sum\": 1.0, \"count\": 1, \"min\": 1, \"max\": 1}}}\u001b[0m\n",
      "\u001b[34m[2024-04-02 07:56:04.782] [tensorio] [info] epoch_stats={\"data_pipeline\": \"/opt/ml/input/data/train\", \"epoch\": 0, \"duration\": 46, \"num_examples\": 1, \"num_bytes\": 3780000}\u001b[0m\n",
      "\u001b[34m[04/02/2024 07:56:05 INFO 140416586995520] Iter 10: Short term msd 142.256899. Long term msd 149.251846\u001b[0m\n",
      "\u001b[34m[04/02/2024 07:56:05 INFO 140416586995520] Iter 20: Short term msd 135.802532. Long term msd 138.830940\u001b[0m\n",
      "\u001b[34m[04/02/2024 07:56:05 INFO 140416586995520] Iter 30: Short term msd 135.162149. Long term msd 136.308805\u001b[0m\n",
      "\u001b[34m[04/02/2024 07:56:05 INFO 140416586995520] Iter 40: Short term msd 134.862649. Long term msd 135.320050\u001b[0m\n",
      "\u001b[34m[04/02/2024 07:56:05 INFO 140416586995520] Iter 50: Short term msd 134.607100. Long term msd 134.777276\u001b[0m\n",
      "\u001b[34m[04/02/2024 07:56:05 INFO 140416586995520] Iter 60: Short term msd 134.364673. Long term msd 134.569272\u001b[0m\n",
      "\u001b[34m[04/02/2024 07:56:06 INFO 140416586995520] Iter 70: Short term msd 134.737001. Long term msd 134.708344\u001b[0m\n",
      "\u001b[34m[2024-04-02 07:56:06.084] [tensorio] [info] epoch_stats={\"data_pipeline\": \"/opt/ml/input/data/train\", \"epoch\": 1, \"duration\": 1301, \"num_examples\": 74, \"num_bytes\": 276805620}\u001b[0m\n",
      "\u001b[34m[04/02/2024 07:56:06 INFO 140416586995520] processed a total of 366145 examples\u001b[0m\n",
      "\u001b[34m[04/02/2024 07:56:06 INFO 140416586995520] #progress_metric: host=algo-1, completed 100.0 % of epochs\u001b[0m\n",
      "\u001b[34m#metrics {\"StartTime\": 1712044564.7823062, \"EndTime\": 1712044566.0847352, \"Dimensions\": {\"Algorithm\": \"AWS/KMeansWebscale\", \"Host\": \"algo-1\", \"Operation\": \"training\", \"epoch\": 0, \"Meta\": \"training_data_iter\"}, \"Metrics\": {\"Total Records Seen\": {\"sum\": 371145.0, \"count\": 1, \"min\": 371145, \"max\": 371145}, \"Total Batches Seen\": {\"sum\": 75.0, \"count\": 1, \"min\": 75, \"max\": 75}, \"Max Records Seen Between Resets\": {\"sum\": 366145.0, \"count\": 1, \"min\": 366145, \"max\": 366145}, \"Max Batches Seen Between Resets\": {\"sum\": 74.0, \"count\": 1, \"min\": 74, \"max\": 74}, \"Reset Count\": {\"sum\": 1.0, \"count\": 1, \"min\": 1, \"max\": 1}, \"Number of Records Since Last Reset\": {\"sum\": 366145.0, \"count\": 1, \"min\": 366145, \"max\": 366145}, \"Number of Batches Since Last Reset\": {\"sum\": 74.0, \"count\": 1, \"min\": 74, \"max\": 74}}}\u001b[0m\n",
      "\u001b[34m[04/02/2024 07:56:06 INFO 140416586995520] #throughput_metric: host=algo-1, train throughput=281092.3205110066 records/second\u001b[0m\n",
      "\u001b[34m[04/02/2024 07:56:06 WARNING 140416586995520] wait_for_all_workers will not sync workers since the kv store is not running distributed\u001b[0m\n",
      "\u001b[34m[04/02/2024 07:56:06 INFO 140416586995520] shrinking 50 centers into 5\u001b[0m\n",
      "\u001b[34m[04/02/2024 07:56:06 INFO 140416586995520] local kmeans attempt #0. Current mean square distance 42.679218\u001b[0m\n",
      "\u001b[34m[04/02/2024 07:56:06 INFO 140416586995520] local kmeans attempt #1. Current mean square distance 42.632812\u001b[0m\n",
      "\u001b[34m[04/02/2024 07:56:06 INFO 140416586995520] local kmeans attempt #2. Current mean square distance 41.144024\u001b[0m\n",
      "\u001b[34m[04/02/2024 07:56:06 INFO 140416586995520] local kmeans attempt #3. Current mean square distance 42.132965\u001b[0m\n",
      "\u001b[34m[04/02/2024 07:56:06 INFO 140416586995520] local kmeans attempt #4. Current mean square distance 41.298775\u001b[0m\n",
      "\u001b[34m[04/02/2024 07:56:06 INFO 140416586995520] local kmeans attempt #5. Current mean square distance 42.581783\u001b[0m\n",
      "\u001b[34m[04/02/2024 07:56:06 INFO 140416586995520] local kmeans attempt #6. Current mean square distance 41.557518\u001b[0m\n",
      "\u001b[34m[04/02/2024 07:56:06 INFO 140416586995520] local kmeans attempt #7. Current mean square distance 42.604664\u001b[0m\n",
      "\u001b[34m[04/02/2024 07:56:06 INFO 140416586995520] local kmeans attempt #8. Current mean square distance 42.126026\u001b[0m\n",
      "\u001b[34m[04/02/2024 07:56:06 INFO 140416586995520] local kmeans attempt #9. Current mean square distance 41.509827\u001b[0m\n",
      "\u001b[34m[04/02/2024 07:56:06 INFO 140416586995520] finished shrinking process. Mean Square Distance = 41\u001b[0m\n",
      "\u001b[34m[04/02/2024 07:56:06 INFO 140416586995520] #quality_metric: host=algo-1, train msd <loss>=41.14402389526367\u001b[0m\n",
      "\u001b[34m[04/02/2024 07:56:06 INFO 140416586995520] compute all data-center distances: point norm took: 34.3138%, (0.445544 secs)\u001b[0m\n",
      "\u001b[34m[04/02/2024 07:56:06 INFO 140416586995520] predict compute msd took: 16.4929%, (0.214151 secs)\u001b[0m\n",
      "\u001b[34m[04/02/2024 07:56:06 INFO 140416586995520] compute all data-center distances: inner product took: 12.9646%, (0.168337 secs)\u001b[0m\n",
      "\u001b[34m[04/02/2024 07:56:06 INFO 140416586995520] gradient: cluster size  took: 10.3710%, (0.134661 secs)\u001b[0m\n",
      "\u001b[34m[04/02/2024 07:56:06 INFO 140416586995520] gradient: cluster center took: 10.0557%, (0.130567 secs)\u001b[0m\n",
      "\u001b[34m[04/02/2024 07:56:06 INFO 140416586995520] batch data loading with context took: 7.6041%, (0.098734 secs)\u001b[0m\n",
      "\u001b[34m[04/02/2024 07:56:06 INFO 140416586995520] update state and report convergance took: 2.3664%, (0.030727 secs)\u001b[0m\n",
      "\u001b[34m[04/02/2024 07:56:06 INFO 140416586995520] collect from kv store took: 1.9500%, (0.025319 secs)\u001b[0m\n",
      "\u001b[34m[04/02/2024 07:56:06 INFO 140416586995520] compute all data-center distances: center norm took: 1.3240%, (0.017192 secs)\u001b[0m\n",
      "\u001b[34m[04/02/2024 07:56:06 INFO 140416586995520] splitting centers key-value pair took: 1.2598%, (0.016358 secs)\u001b[0m\n",
      "\u001b[34m[04/02/2024 07:56:06 INFO 140416586995520] gradient: one_hot took: 1.1739%, (0.015242 secs)\u001b[0m\n",
      "\u001b[34m[04/02/2024 07:56:06 INFO 140416586995520] predict minus dist took: 0.1069%, (0.001389 secs)\u001b[0m\n",
      "\u001b[34m[04/02/2024 07:56:06 INFO 140416586995520] update set-up time took: 0.0169%, (0.000220 secs)\u001b[0m\n",
      "\u001b[34m[04/02/2024 07:56:06 INFO 140416586995520] TOTAL took: 1.2984411716461182\u001b[0m\n",
      "\u001b[34m[04/02/2024 07:56:06 INFO 140416586995520] Number of GPUs being used: 0\u001b[0m\n",
      "\u001b[34m#metrics {\"StartTime\": 1712044564.735326, \"EndTime\": 1712044566.2071269, \"Dimensions\": {\"Algorithm\": \"AWS/KMeansWebscale\", \"Host\": \"algo-1\", \"Operation\": \"training\"}, \"Metrics\": {\"initialize.time\": {\"sum\": 14.342546463012695, \"count\": 1, \"min\": 14.342546463012695, \"max\": 14.342546463012695}, \"epochs\": {\"sum\": 1.0, \"count\": 1, \"min\": 1, \"max\": 1}, \"update.time\": {\"sum\": 1302.222490310669, \"count\": 1, \"min\": 1302.222490310669, \"max\": 1302.222490310669}, \"_shrink.time\": {\"sum\": 120.63264846801758, \"count\": 1, \"min\": 120.63264846801758, \"max\": 120.63264846801758}, \"finalize.time\": {\"sum\": 121.85931205749512, \"count\": 1, \"min\": 121.85931205749512, \"max\": 121.85931205749512}, \"model.serialize.time\": {\"sum\": 0.1723766326904297, \"count\": 1, \"min\": 0.1723766326904297, \"max\": 0.1723766326904297}}}\u001b[0m\n",
      "\u001b[34m[04/02/2024 07:56:06 INFO 140416586995520] Test data is not provided.\u001b[0m\n",
      "\u001b[34m#metrics {\"StartTime\": 1712044566.207224, \"EndTime\": 1712044566.2148654, \"Dimensions\": {\"Algorithm\": \"AWS/KMeansWebscale\", \"Host\": \"algo-1\", \"Operation\": \"training\"}, \"Metrics\": {\"setuptime\": {\"sum\": 4.342794418334961, \"count\": 1, \"min\": 4.342794418334961, \"max\": 4.342794418334961}, \"totaltime\": {\"sum\": 1554.9769401550293, \"count\": 1, \"min\": 1554.9769401550293, \"max\": 1554.9769401550293}}}\u001b[0m\n",
      "\n",
      "2024-04-02 07:56:26 Uploading - Uploading generated training model\n",
      "2024-04-02 07:56:26 Completed - Training job completed\n",
      "Training seconds: 154\n",
      "Billable seconds: 154\n"
     ]
    },
    {
     "name": "stderr",
     "output_type": "stream",
     "text": [
      "Defaulting to the only supported framework/algorithm version: 1. Ignoring framework/algorithm version: 1.\n"
     ]
    },
    {
     "name": "stdout",
     "output_type": "stream",
     "text": [
      "2024-04-02 07:57:00 Starting - Starting the training job...\n",
      "2024-04-02 07:57:26 Starting - Preparing the instances for trainingProfilerReport-1712044620: InProgress\n",
      "...\n",
      "2024-04-02 07:57:56 Downloading - Downloading input data......\n",
      "2024-04-02 07:58:46 Downloading - Downloading the training image......\n",
      "2024-04-02 07:59:57 Training - Training image download completed. Training in progress...\u001b[34mDocker entrypoint called with argument(s): train\u001b[0m\n",
      "\u001b[34mRunning default environment configuration script\u001b[0m\n",
      "\u001b[34m[04/02/2024 08:00:06 INFO 139770627565376] Reading default configuration from /opt/amazon/lib/python3.8/site-packages/algorithm/resources/default-input.json: {'init_method': 'random', 'mini_batch_size': '5000', 'epochs': '1', 'extra_center_factor': 'auto', 'local_lloyd_max_iter': '300', 'local_lloyd_tol': '0.0001', 'local_lloyd_init_method': 'kmeans++', 'local_lloyd_num_trials': 'auto', 'half_life_time_size': '0', 'eval_metrics': '[\"msd\"]', 'force_dense': 'true', '_disable_wait_to_read': 'false', '_enable_profiler': 'false', '_kvstore': 'auto', '_log_level': 'info', '_num_gpus': 'auto', '_num_kv_servers': '1', '_num_slices': '1', '_tuning_objective_metric': ''}\u001b[0m\n",
      "\u001b[34m[04/02/2024 08:00:06 INFO 139770627565376] Merging with provided configuration from /opt/ml/input/config/hyperparameters.json: {'feature_dim': '182', 'force_dense': 'True', 'k': '10'}\u001b[0m\n",
      "\u001b[34m[04/02/2024 08:00:06 INFO 139770627565376] Final configuration: {'init_method': 'random', 'mini_batch_size': '5000', 'epochs': '1', 'extra_center_factor': 'auto', 'local_lloyd_max_iter': '300', 'local_lloyd_tol': '0.0001', 'local_lloyd_init_method': 'kmeans++', 'local_lloyd_num_trials': 'auto', 'half_life_time_size': '0', 'eval_metrics': '[\"msd\"]', 'force_dense': 'True', '_disable_wait_to_read': 'false', '_enable_profiler': 'false', '_kvstore': 'auto', '_log_level': 'info', '_num_gpus': 'auto', '_num_kv_servers': '1', '_num_slices': '1', '_tuning_objective_metric': '', 'feature_dim': '182', 'k': '10'}\u001b[0m\n",
      "\u001b[34m/opt/amazon/lib/python3.8/site-packages/mxnet/model.py:97: SyntaxWarning: \"is\" with a literal. Did you mean \"==\"?\n",
      "  if num_device is 1 and 'dist' not in kvstore:\u001b[0m\n",
      "\u001b[34m[04/02/2024 08:00:08 WARNING 139770627565376] Loggers have already been setup.\u001b[0m\n",
      "\u001b[34m[04/02/2024 08:00:08 INFO 139770627565376] Final configuration: {'init_method': 'random', 'mini_batch_size': '5000', 'epochs': '1', 'extra_center_factor': 'auto', 'local_lloyd_max_iter': '300', 'local_lloyd_tol': '0.0001', 'local_lloyd_init_method': 'kmeans++', 'local_lloyd_num_trials': 'auto', 'half_life_time_size': '0', 'eval_metrics': '[\"msd\"]', 'force_dense': 'True', '_disable_wait_to_read': 'false', '_enable_profiler': 'false', '_kvstore': 'auto', '_log_level': 'info', '_num_gpus': 'auto', '_num_kv_servers': '1', '_num_slices': '1', '_tuning_objective_metric': '', 'feature_dim': '182', 'k': '10'}\u001b[0m\n",
      "\u001b[34m[04/02/2024 08:00:08 WARNING 139770627565376] Loggers have already been setup.\u001b[0m\n",
      "\u001b[34mProcess 7 is a worker.\u001b[0m\n",
      "\u001b[34m[04/02/2024 08:00:08 INFO 139770627565376] Using default worker.\u001b[0m\n",
      "\u001b[34m[04/02/2024 08:00:08 INFO 139770627565376] Loaded iterator creator application/x-recordio-protobuf for content type ('application/x-recordio-protobuf', '1.0')\u001b[0m\n",
      "\u001b[34m[04/02/2024 08:00:08 INFO 139770627565376] Create Store: local\u001b[0m\n",
      "\u001b[34m/opt/amazon/python3.8/lib/python3.8/subprocess.py:848: RuntimeWarning: line buffering (buffering=1) isn't supported in binary mode, the default buffer size will be used\n",
      "  self.stdout = io.open(c2pread, 'rb', bufsize)\u001b[0m\n",
      "\u001b[34m[04/02/2024 08:00:08 INFO 139770627565376] nvidia-smi: took 0.056 seconds to run.\u001b[0m\n",
      "\u001b[34m[04/02/2024 08:00:08 INFO 139770627565376] nvidia-smi identified 0 GPUs.\u001b[0m\n",
      "\u001b[34m[04/02/2024 08:00:08 INFO 139770627565376] Number of GPUs being used: 0\u001b[0m\n",
      "\u001b[34m[04/02/2024 08:00:08 INFO 139770627565376] Checkpoint loading and saving are disabled.\u001b[0m\n",
      "\u001b[34m[04/02/2024 08:00:08 INFO 139770627565376] Setting up with params: {'init_method': 'random', 'mini_batch_size': '5000', 'epochs': '1', 'extra_center_factor': 'auto', 'local_lloyd_max_iter': '300', 'local_lloyd_tol': '0.0001', 'local_lloyd_init_method': 'kmeans++', 'local_lloyd_num_trials': 'auto', 'half_life_time_size': '0', 'eval_metrics': '[\"msd\"]', 'force_dense': 'True', '_disable_wait_to_read': 'false', '_enable_profiler': 'false', '_kvstore': 'auto', '_log_level': 'info', '_num_gpus': 'auto', '_num_kv_servers': '1', '_num_slices': '1', '_tuning_objective_metric': '', 'feature_dim': '182', 'k': '10'}\u001b[0m\n",
      "\u001b[34m[04/02/2024 08:00:08 INFO 139770627565376] 'extra_center_factor' was set to 'auto', evaluated to 10.\u001b[0m\n",
      "\u001b[34m[04/02/2024 08:00:08 INFO 139770627565376] Number of GPUs being used: 0\u001b[0m\n",
      "\u001b[34m[04/02/2024 08:00:08 INFO 139770627565376] number of center slices 1\u001b[0m\n",
      "\u001b[34m#metrics {\"StartTime\": 1712044808.2449589, \"EndTime\": 1712044808.2449994, \"Dimensions\": {\"Algorithm\": \"AWS/KMeansWebscale\", \"Host\": \"algo-1\", \"Operation\": \"training\", \"Meta\": \"init_train_data_iter\"}, \"Metrics\": {\"Total Records Seen\": {\"sum\": 5000.0, \"count\": 1, \"min\": 5000, \"max\": 5000}, \"Total Batches Seen\": {\"sum\": 1.0, \"count\": 1, \"min\": 1, \"max\": 1}, \"Max Records Seen Between Resets\": {\"sum\": 5000.0, \"count\": 1, \"min\": 5000, \"max\": 5000}, \"Max Batches Seen Between Resets\": {\"sum\": 1.0, \"count\": 1, \"min\": 1, \"max\": 1}, \"Reset Count\": {\"sum\": 0.0, \"count\": 1, \"min\": 0, \"max\": 0}, \"Number of Records Since Last Reset\": {\"sum\": 5000.0, \"count\": 1, \"min\": 5000, \"max\": 5000}, \"Number of Batches Since Last Reset\": {\"sum\": 1.0, \"count\": 1, \"min\": 1, \"max\": 1}}}\u001b[0m\n",
      "\u001b[34m[2024-04-02 08:00:08.263] [tensorio] [info] epoch_stats={\"data_pipeline\": \"/opt/ml/input/data/train\", \"epoch\": 0, \"duration\": 71, \"num_examples\": 1, \"num_bytes\": 3780000}\u001b[0m\n",
      "\u001b[34m[04/02/2024 08:00:08 INFO 139770627565376] Iter 10: Short term msd 114.560985. Long term msd 121.055341\u001b[0m\n",
      "\u001b[34m[04/02/2024 08:00:08 INFO 139770627565376] Iter 20: Short term msd 107.288646. Long term msd 110.410225\u001b[0m\n",
      "\u001b[34m[04/02/2024 08:00:08 INFO 139770627565376] Iter 30: Short term msd 105.601451. Long term msd 107.040366\u001b[0m\n",
      "\u001b[34m[04/02/2024 08:00:09 INFO 139770627565376] Iter 40: Short term msd 104.719059. Long term msd 105.541288\u001b[0m\n",
      "\u001b[34m[04/02/2024 08:00:09 INFO 139770627565376] Iter 50: Short term msd 104.417171. Long term msd 104.782095\u001b[0m\n",
      "\u001b[34m[04/02/2024 08:00:09 INFO 139770627565376] Iter 60: Short term msd 104.155356. Long term msd 104.486799\u001b[0m\n",
      "\u001b[34m[04/02/2024 08:00:09 INFO 139770627565376] Iter 70: Short term msd 104.389595. Long term msd 104.468394\u001b[0m\n",
      "\u001b[34m[2024-04-02 08:00:09.851] [tensorio] [info] epoch_stats={\"data_pipeline\": \"/opt/ml/input/data/train\", \"epoch\": 1, \"duration\": 1586, \"num_examples\": 74, \"num_bytes\": 276805620}\u001b[0m\n",
      "\u001b[34m[04/02/2024 08:00:09 INFO 139770627565376] processed a total of 366145 examples\u001b[0m\n",
      "\u001b[34m[04/02/2024 08:00:09 INFO 139770627565376] #progress_metric: host=algo-1, completed 100.0 % of epochs\u001b[0m\n",
      "\u001b[34m#metrics {\"StartTime\": 1712044808.2641017, \"EndTime\": 1712044809.8517103, \"Dimensions\": {\"Algorithm\": \"AWS/KMeansWebscale\", \"Host\": \"algo-1\", \"Operation\": \"training\", \"epoch\": 0, \"Meta\": \"training_data_iter\"}, \"Metrics\": {\"Total Records Seen\": {\"sum\": 371145.0, \"count\": 1, \"min\": 371145, \"max\": 371145}, \"Total Batches Seen\": {\"sum\": 75.0, \"count\": 1, \"min\": 75, \"max\": 75}, \"Max Records Seen Between Resets\": {\"sum\": 366145.0, \"count\": 1, \"min\": 366145, \"max\": 366145}, \"Max Batches Seen Between Resets\": {\"sum\": 74.0, \"count\": 1, \"min\": 74, \"max\": 74}, \"Reset Count\": {\"sum\": 1.0, \"count\": 1, \"min\": 1, \"max\": 1}, \"Number of Records Since Last Reset\": {\"sum\": 366145.0, \"count\": 1, \"min\": 366145, \"max\": 366145}, \"Number of Batches Since Last Reset\": {\"sum\": 74.0, \"count\": 1, \"min\": 74, \"max\": 74}}}\u001b[0m\n",
      "\u001b[34m[04/02/2024 08:00:09 INFO 139770627565376] #throughput_metric: host=algo-1, train throughput=230601.98528806714 records/second\u001b[0m\n",
      "\u001b[34m[04/02/2024 08:00:09 WARNING 139770627565376] wait_for_all_workers will not sync workers since the kv store is not running distributed\u001b[0m\n",
      "\u001b[34m[04/02/2024 08:00:09 INFO 139770627565376] shrinking 100 centers into 10\u001b[0m\n",
      "\u001b[34m[04/02/2024 08:00:09 INFO 139770627565376] local kmeans attempt #0. Current mean square distance 66.928642\u001b[0m\n",
      "\u001b[34m[04/02/2024 08:00:09 INFO 139770627565376] local kmeans attempt #1. Current mean square distance 65.818741\u001b[0m\n",
      "\u001b[34m[04/02/2024 08:00:09 INFO 139770627565376] local kmeans attempt #2. Current mean square distance 65.775276\u001b[0m\n",
      "\u001b[34m[04/02/2024 08:00:09 INFO 139770627565376] local kmeans attempt #3. Current mean square distance 65.764397\u001b[0m\n",
      "\u001b[34m[04/02/2024 08:00:09 INFO 139770627565376] local kmeans attempt #4. Current mean square distance 65.770348\u001b[0m\n",
      "\u001b[34m[04/02/2024 08:00:09 INFO 139770627565376] local kmeans attempt #5. Current mean square distance 65.570053\u001b[0m\n",
      "\u001b[34m[04/02/2024 08:00:10 INFO 139770627565376] local kmeans attempt #6. Current mean square distance 65.647179\u001b[0m\n",
      "\u001b[34m[04/02/2024 08:00:10 INFO 139770627565376] local kmeans attempt #7. Current mean square distance 66.600517\u001b[0m\n",
      "\u001b[34m[04/02/2024 08:00:10 INFO 139770627565376] local kmeans attempt #8. Current mean square distance 66.732315\u001b[0m\n",
      "\u001b[34m[04/02/2024 08:00:10 INFO 139770627565376] local kmeans attempt #9. Current mean square distance 66.757881\u001b[0m\n",
      "\u001b[34m[04/02/2024 08:00:10 INFO 139770627565376] finished shrinking process. Mean Square Distance = 66\u001b[0m\n",
      "\u001b[34m[04/02/2024 08:00:10 INFO 139770627565376] #quality_metric: host=algo-1, train msd <loss>=65.57005310058594\u001b[0m\n",
      "\u001b[34m[04/02/2024 08:00:10 INFO 139770627565376] compute all data-center distances: point norm took: 25.2120%, (0.401071 secs)\u001b[0m\n",
      "\u001b[34m[04/02/2024 08:00:10 INFO 139770627565376] predict compute msd took: 21.4112%, (0.340607 secs)\u001b[0m\n",
      "\u001b[34m[04/02/2024 08:00:10 INFO 139770627565376] compute all data-center distances: inner product took: 16.5064%, (0.262582 secs)\u001b[0m\n",
      "\u001b[34m[04/02/2024 08:00:10 INFO 139770627565376] gradient: cluster size  took: 13.4140%, (0.213389 secs)\u001b[0m\n",
      "\u001b[34m[04/02/2024 08:00:10 INFO 139770627565376] gradient: cluster center took: 11.5540%, (0.183801 secs)\u001b[0m\n",
      "\u001b[34m[04/02/2024 08:00:10 INFO 139770627565376] batch data loading with context took: 4.4135%, (0.070210 secs)\u001b[0m\n",
      "\u001b[34m[04/02/2024 08:00:10 INFO 139770627565376] update state and report convergance took: 2.0963%, (0.033348 secs)\u001b[0m\n",
      "\u001b[34m[04/02/2024 08:00:10 INFO 139770627565376] collect from kv store took: 1.6814%, (0.026747 secs)\u001b[0m\n",
      "\u001b[34m[04/02/2024 08:00:10 INFO 139770627565376] gradient: one_hot took: 1.3873%, (0.022069 secs)\u001b[0m\n",
      "\u001b[34m[04/02/2024 08:00:10 INFO 139770627565376] compute all data-center distances: center norm took: 1.2301%, (0.019569 secs)\u001b[0m\n",
      "\u001b[34m[04/02/2024 08:00:10 INFO 139770627565376] splitting centers key-value pair took: 0.9813%, (0.015611 secs)\u001b[0m\n",
      "\u001b[34m[04/02/2024 08:00:10 INFO 139770627565376] predict minus dist took: 0.0948%, (0.001507 secs)\u001b[0m\n",
      "\u001b[34m[04/02/2024 08:00:10 INFO 139770627565376] update set-up time took: 0.0176%, (0.000281 secs)\u001b[0m\n",
      "\u001b[34m[04/02/2024 08:00:10 INFO 139770627565376] TOTAL took: 1.5907909870147705\u001b[0m\n",
      "\u001b[34m[04/02/2024 08:00:10 INFO 139770627565376] Number of GPUs being used: 0\u001b[0m\n",
      "\u001b[34m#metrics {\"StartTime\": 1712044808.191507, \"EndTime\": 1712044810.0735788, \"Dimensions\": {\"Algorithm\": \"AWS/KMeansWebscale\", \"Host\": \"algo-1\", \"Operation\": \"training\"}, \"Metrics\": {\"initialize.time\": {\"sum\": 24.54662322998047, \"count\": 1, \"min\": 24.54662322998047, \"max\": 24.54662322998047}, \"epochs\": {\"sum\": 1.0, \"count\": 1, \"min\": 1, \"max\": 1}, \"update.time\": {\"sum\": 1587.3863697052002, \"count\": 1, \"min\": 1587.3863697052002, \"max\": 1587.3863697052002}, \"_shrink.time\": {\"sum\": 219.9091911315918, \"count\": 1, \"min\": 219.9091911315918, \"max\": 219.9091911315918}, \"finalize.time\": {\"sum\": 221.30298614501953, \"count\": 1, \"min\": 221.30298614501953, \"max\": 221.30298614501953}, \"model.serialize.time\": {\"sum\": 0.1804828643798828, \"count\": 1, \"min\": 0.1804828643798828, \"max\": 0.1804828643798828}}}\u001b[0m\n",
      "\u001b[34m[04/02/2024 08:00:10 INFO 139770627565376] Test data is not provided.\u001b[0m\n",
      "\u001b[34m#metrics {\"StartTime\": 1712044810.0736647, \"EndTime\": 1712044810.0792637, \"Dimensions\": {\"Algorithm\": \"AWS/KMeansWebscale\", \"Host\": \"algo-1\", \"Operation\": \"training\"}, \"Metrics\": {\"setuptime\": {\"sum\": 2.0265579223632812, \"count\": 1, \"min\": 2.0265579223632812, \"max\": 2.0265579223632812}, \"totaltime\": {\"sum\": 1960.3478908538818, \"count\": 1, \"min\": 1960.3478908538818, \"max\": 1960.3478908538818}}}\u001b[0m\n",
      "\n",
      "2024-04-02 08:00:32 Uploading - Uploading generated training model\n",
      "2024-04-02 08:00:32 Completed - Training job completed\n",
      "Training seconds: 157\n",
      "Billable seconds: 157\n"
     ]
    },
    {
     "name": "stderr",
     "output_type": "stream",
     "text": [
      "Defaulting to the only supported framework/algorithm version: 1. Ignoring framework/algorithm version: 1.\n"
     ]
    },
    {
     "name": "stdout",
     "output_type": "stream",
     "text": [
      "2024-04-02 08:01:02 Starting - Starting the training job...\n",
      "2024-04-02 08:01:26 Starting - Preparing the instances for trainingProfilerReport-1712044862: InProgress\n",
      "...\n",
      "2024-04-02 08:01:52 Downloading - Downloading input data...\n",
      "2024-04-02 08:02:32 Downloading - Downloading the training image.........\n",
      "2024-04-02 08:03:53 Training - Training image download completed. Training in progress..\u001b[34mDocker entrypoint called with argument(s): train\u001b[0m\n",
      "\u001b[34mRunning default environment configuration script\u001b[0m\n",
      "\u001b[34m[04/02/2024 08:04:03 INFO 139828750333760] Reading default configuration from /opt/amazon/lib/python3.8/site-packages/algorithm/resources/default-input.json: {'init_method': 'random', 'mini_batch_size': '5000', 'epochs': '1', 'extra_center_factor': 'auto', 'local_lloyd_max_iter': '300', 'local_lloyd_tol': '0.0001', 'local_lloyd_init_method': 'kmeans++', 'local_lloyd_num_trials': 'auto', 'half_life_time_size': '0', 'eval_metrics': '[\"msd\"]', 'force_dense': 'true', '_disable_wait_to_read': 'false', '_enable_profiler': 'false', '_kvstore': 'auto', '_log_level': 'info', '_num_gpus': 'auto', '_num_kv_servers': '1', '_num_slices': '1', '_tuning_objective_metric': ''}\u001b[0m\n",
      "\u001b[34m[04/02/2024 08:04:03 INFO 139828750333760] Merging with provided configuration from /opt/ml/input/config/hyperparameters.json: {'feature_dim': '182', 'force_dense': 'True', 'k': '15'}\u001b[0m\n",
      "\u001b[34m[04/02/2024 08:04:03 INFO 139828750333760] Final configuration: {'init_method': 'random', 'mini_batch_size': '5000', 'epochs': '1', 'extra_center_factor': 'auto', 'local_lloyd_max_iter': '300', 'local_lloyd_tol': '0.0001', 'local_lloyd_init_method': 'kmeans++', 'local_lloyd_num_trials': 'auto', 'half_life_time_size': '0', 'eval_metrics': '[\"msd\"]', 'force_dense': 'True', '_disable_wait_to_read': 'false', '_enable_profiler': 'false', '_kvstore': 'auto', '_log_level': 'info', '_num_gpus': 'auto', '_num_kv_servers': '1', '_num_slices': '1', '_tuning_objective_metric': '', 'feature_dim': '182', 'k': '15'}\u001b[0m\n",
      "\u001b[34m/opt/amazon/lib/python3.8/site-packages/mxnet/model.py:97: SyntaxWarning: \"is\" with a literal. Did you mean \"==\"?\n",
      "  if num_device is 1 and 'dist' not in kvstore:\u001b[0m\n",
      "\u001b[34m[04/02/2024 08:04:05 WARNING 139828750333760] Loggers have already been setup.\u001b[0m\n",
      "\u001b[34m[04/02/2024 08:04:05 INFO 139828750333760] Final configuration: {'init_method': 'random', 'mini_batch_size': '5000', 'epochs': '1', 'extra_center_factor': 'auto', 'local_lloyd_max_iter': '300', 'local_lloyd_tol': '0.0001', 'local_lloyd_init_method': 'kmeans++', 'local_lloyd_num_trials': 'auto', 'half_life_time_size': '0', 'eval_metrics': '[\"msd\"]', 'force_dense': 'True', '_disable_wait_to_read': 'false', '_enable_profiler': 'false', '_kvstore': 'auto', '_log_level': 'info', '_num_gpus': 'auto', '_num_kv_servers': '1', '_num_slices': '1', '_tuning_objective_metric': '', 'feature_dim': '182', 'k': '15'}\u001b[0m\n",
      "\u001b[34m[04/02/2024 08:04:05 WARNING 139828750333760] Loggers have already been setup.\u001b[0m\n",
      "\u001b[34mProcess 7 is a worker.\u001b[0m\n",
      "\u001b[34m[04/02/2024 08:04:05 INFO 139828750333760] Using default worker.\u001b[0m\n",
      "\u001b[34m[04/02/2024 08:04:05 INFO 139828750333760] Loaded iterator creator application/x-recordio-protobuf for content type ('application/x-recordio-protobuf', '1.0')\u001b[0m\n",
      "\u001b[34m[04/02/2024 08:04:05 INFO 139828750333760] Create Store: local\u001b[0m\n",
      "\u001b[34m/opt/amazon/python3.8/lib/python3.8/subprocess.py:848: RuntimeWarning: line buffering (buffering=1) isn't supported in binary mode, the default buffer size will be used\n",
      "  self.stdout = io.open(c2pread, 'rb', bufsize)\u001b[0m\n",
      "\u001b[34m[04/02/2024 08:04:05 INFO 139828750333760] nvidia-smi: took 0.057 seconds to run.\u001b[0m\n",
      "\u001b[34m[04/02/2024 08:04:05 INFO 139828750333760] nvidia-smi identified 0 GPUs.\u001b[0m\n",
      "\u001b[34m[04/02/2024 08:04:05 INFO 139828750333760] Number of GPUs being used: 0\u001b[0m\n",
      "\u001b[34m[04/02/2024 08:04:05 INFO 139828750333760] Checkpoint loading and saving are disabled.\u001b[0m\n",
      "\u001b[34m[04/02/2024 08:04:05 INFO 139828750333760] Setting up with params: {'init_method': 'random', 'mini_batch_size': '5000', 'epochs': '1', 'extra_center_factor': 'auto', 'local_lloyd_max_iter': '300', 'local_lloyd_tol': '0.0001', 'local_lloyd_init_method': 'kmeans++', 'local_lloyd_num_trials': 'auto', 'half_life_time_size': '0', 'eval_metrics': '[\"msd\"]', 'force_dense': 'True', '_disable_wait_to_read': 'false', '_enable_profiler': 'false', '_kvstore': 'auto', '_log_level': 'info', '_num_gpus': 'auto', '_num_kv_servers': '1', '_num_slices': '1', '_tuning_objective_metric': '', 'feature_dim': '182', 'k': '15'}\u001b[0m\n",
      "\u001b[34m[04/02/2024 08:04:05 INFO 139828750333760] 'extra_center_factor' was set to 'auto', evaluated to 10.\u001b[0m\n",
      "\u001b[34m[04/02/2024 08:04:05 INFO 139828750333760] Number of GPUs being used: 0\u001b[0m\n",
      "\u001b[34m[04/02/2024 08:04:05 INFO 139828750333760] number of center slices 1\u001b[0m\n",
      "\u001b[34m#metrics {\"StartTime\": 1712045045.51301, \"EndTime\": 1712045045.5130556, \"Dimensions\": {\"Algorithm\": \"AWS/KMeansWebscale\", \"Host\": \"algo-1\", \"Operation\": \"training\", \"Meta\": \"init_train_data_iter\"}, \"Metrics\": {\"Total Records Seen\": {\"sum\": 5000.0, \"count\": 1, \"min\": 5000, \"max\": 5000}, \"Total Batches Seen\": {\"sum\": 1.0, \"count\": 1, \"min\": 1, \"max\": 1}, \"Max Records Seen Between Resets\": {\"sum\": 5000.0, \"count\": 1, \"min\": 5000, \"max\": 5000}, \"Max Batches Seen Between Resets\": {\"sum\": 1.0, \"count\": 1, \"min\": 1, \"max\": 1}, \"Reset Count\": {\"sum\": 0.0, \"count\": 1, \"min\": 0, \"max\": 0}, \"Number of Records Since Last Reset\": {\"sum\": 5000.0, \"count\": 1, \"min\": 5000, \"max\": 5000}, \"Number of Batches Since Last Reset\": {\"sum\": 1.0, \"count\": 1, \"min\": 1, \"max\": 1}}}\u001b[0m\n",
      "\u001b[34m[2024-04-02 08:04:05.515] [tensorio] [info] epoch_stats={\"data_pipeline\": \"/opt/ml/input/data/train\", \"epoch\": 0, \"duration\": 66, \"num_examples\": 1, \"num_bytes\": 3780000}\u001b[0m\n",
      "\u001b[34m[04/02/2024 08:04:05 INFO 139828750333760] Iter 10: Short term msd 94.699618. Long term msd 100.623986\u001b[0m\n",
      "\u001b[34m[04/02/2024 08:04:06 INFO 139828750333760] Iter 20: Short term msd 87.191766. Long term msd 90.164335\u001b[0m\n",
      "\u001b[34m[04/02/2024 08:04:06 INFO 139828750333760] Iter 30: Short term msd 85.791902. Long term msd 87.100098\u001b[0m\n",
      "\u001b[34m[04/02/2024 08:04:06 INFO 139828750333760] Iter 40: Short term msd 85.229777. Long term msd 85.809745\u001b[0m\n",
      "\u001b[34m[04/02/2024 08:04:06 INFO 139828750333760] Iter 50: Short term msd 85.150920. Long term msd 85.350268\u001b[0m\n",
      "\u001b[34m[04/02/2024 08:04:07 INFO 139828750333760] Iter 60: Short term msd 84.878004. Long term msd 85.106416\u001b[0m\n",
      "\u001b[34m[04/02/2024 08:04:07 INFO 139828750333760] Iter 70: Short term msd 85.115681. Long term msd 85.186315\u001b[0m\n",
      "\u001b[34m[2024-04-02 08:04:07.490] [tensorio] [info] epoch_stats={\"data_pipeline\": \"/opt/ml/input/data/train\", \"epoch\": 1, \"duration\": 1974, \"num_examples\": 74, \"num_bytes\": 276805620}\u001b[0m\n",
      "\u001b[34m[04/02/2024 08:04:07 INFO 139828750333760] processed a total of 366145 examples\u001b[0m\n",
      "\u001b[34m[04/02/2024 08:04:07 INFO 139828750333760] #progress_metric: host=algo-1, completed 100.0 % of epochs\u001b[0m\n",
      "\u001b[34m#metrics {\"StartTime\": 1712045045.5156403, \"EndTime\": 1712045047.491307, \"Dimensions\": {\"Algorithm\": \"AWS/KMeansWebscale\", \"Host\": \"algo-1\", \"Operation\": \"training\", \"epoch\": 0, \"Meta\": \"training_data_iter\"}, \"Metrics\": {\"Total Records Seen\": {\"sum\": 371145.0, \"count\": 1, \"min\": 371145, \"max\": 371145}, \"Total Batches Seen\": {\"sum\": 75.0, \"count\": 1, \"min\": 75, \"max\": 75}, \"Max Records Seen Between Resets\": {\"sum\": 366145.0, \"count\": 1, \"min\": 366145, \"max\": 366145}, \"Max Batches Seen Between Resets\": {\"sum\": 74.0, \"count\": 1, \"min\": 74, \"max\": 74}, \"Reset Count\": {\"sum\": 1.0, \"count\": 1, \"min\": 1, \"max\": 1}, \"Number of Records Since Last Reset\": {\"sum\": 366145.0, \"count\": 1, \"min\": 366145, \"max\": 366145}, \"Number of Batches Since Last Reset\": {\"sum\": 74.0, \"count\": 1, \"min\": 74, \"max\": 74}}}\u001b[0m\n",
      "\u001b[34m[04/02/2024 08:04:07 INFO 139828750333760] #throughput_metric: host=algo-1, train throughput=185314.51498162388 records/second\u001b[0m\n",
      "\u001b[34m[04/02/2024 08:04:07 WARNING 139828750333760] wait_for_all_workers will not sync workers since the kv store is not running distributed\u001b[0m\n",
      "\u001b[34m[04/02/2024 08:04:07 INFO 139828750333760] shrinking 150 centers into 15\u001b[0m\n",
      "\u001b[34m[04/02/2024 08:04:07 INFO 139828750333760] local kmeans attempt #0. Current mean square distance 80.101364\u001b[0m\n",
      "\u001b[34m[04/02/2024 08:04:07 INFO 139828750333760] local kmeans attempt #1. Current mean square distance 81.401741\u001b[0m\n",
      "\u001b[34m[04/02/2024 08:04:07 INFO 139828750333760] local kmeans attempt #2. Current mean square distance 80.105011\u001b[0m\n",
      "\u001b[34m[04/02/2024 08:04:07 INFO 139828750333760] local kmeans attempt #3. Current mean square distance 80.022194\u001b[0m\n",
      "\u001b[34m[04/02/2024 08:04:07 INFO 139828750333760] local kmeans attempt #4. Current mean square distance 80.895584\u001b[0m\n",
      "\u001b[34m[04/02/2024 08:04:07 INFO 139828750333760] local kmeans attempt #5. Current mean square distance 82.447258\u001b[0m\n",
      "\u001b[34m[04/02/2024 08:04:07 INFO 139828750333760] local kmeans attempt #6. Current mean square distance 81.291153\u001b[0m\n",
      "\u001b[34m[04/02/2024 08:04:07 INFO 139828750333760] local kmeans attempt #7. Current mean square distance 81.031006\u001b[0m\n",
      "\u001b[34m[04/02/2024 08:04:07 INFO 139828750333760] local kmeans attempt #8. Current mean square distance 80.578979\u001b[0m\n",
      "\u001b[34m[04/02/2024 08:04:07 INFO 139828750333760] local kmeans attempt #9. Current mean square distance 81.305588\u001b[0m\n",
      "\u001b[34m[04/02/2024 08:04:07 INFO 139828750333760] finished shrinking process. Mean Square Distance = 80\u001b[0m\n",
      "\u001b[34m[04/02/2024 08:04:07 INFO 139828750333760] #quality_metric: host=algo-1, train msd <loss>=80.0221939086914\u001b[0m\n",
      "\u001b[34m[04/02/2024 08:04:07 INFO 139828750333760] predict compute msd took: 24.3502%, (0.482461 secs)\u001b[0m\n",
      "\u001b[34m[04/02/2024 08:04:07 INFO 139828750333760] compute all data-center distances: point norm took: 19.8439%, (0.393174 secs)\u001b[0m\n",
      "\u001b[34m[04/02/2024 08:04:07 INFO 139828750333760] compute all data-center distances: inner product took: 18.4333%, (0.365226 secs)\u001b[0m\n",
      "\u001b[34m[04/02/2024 08:04:07 INFO 139828750333760] gradient: cluster size  took: 15.4047%, (0.305220 secs)\u001b[0m\n",
      "\u001b[34m[04/02/2024 08:04:07 INFO 139828750333760] gradient: cluster center took: 12.0901%, (0.239546 secs)\u001b[0m\n",
      "\u001b[34m[04/02/2024 08:04:07 INFO 139828750333760] batch data loading with context took: 3.6633%, (0.072582 secs)\u001b[0m\n",
      "\u001b[34m[04/02/2024 08:04:07 INFO 139828750333760] update state and report convergance took: 1.5087%, (0.029892 secs)\u001b[0m\n",
      "\u001b[34m[04/02/2024 08:04:07 INFO 139828750333760] gradient: one_hot took: 1.3029%, (0.025815 secs)\u001b[0m\n",
      "\u001b[34m[04/02/2024 08:04:07 INFO 139828750333760] collect from kv store took: 1.3013%, (0.025784 secs)\u001b[0m\n",
      "\u001b[34m[04/02/2024 08:04:07 INFO 139828750333760] compute all data-center distances: center norm took: 1.1678%, (0.023137 secs)\u001b[0m\n",
      "\u001b[34m[04/02/2024 08:04:07 INFO 139828750333760] splitting centers key-value pair took: 0.8483%, (0.016808 secs)\u001b[0m\n",
      "\u001b[34m[04/02/2024 08:04:07 INFO 139828750333760] predict minus dist took: 0.0732%, (0.001451 secs)\u001b[0m\n",
      "\u001b[34m[04/02/2024 08:04:07 INFO 139828750333760] update set-up time took: 0.0123%, (0.000244 secs)\u001b[0m\n",
      "\u001b[34m[04/02/2024 08:04:07 INFO 139828750333760] TOTAL took: 1.981339454650879\u001b[0m\n",
      "\u001b[34m[04/02/2024 08:04:07 INFO 139828750333760] Number of GPUs being used: 0\u001b[0m\n",
      "\u001b[34m#metrics {\"StartTime\": 1712045045.448801, \"EndTime\": 1712045047.7925537, \"Dimensions\": {\"Algorithm\": \"AWS/KMeansWebscale\", \"Host\": \"algo-1\", \"Operation\": \"training\"}, \"Metrics\": {\"initialize.time\": {\"sum\": 44.35873031616211, \"count\": 1, \"min\": 44.35873031616211, \"max\": 44.35873031616211}, \"epochs\": {\"sum\": 1.0, \"count\": 1, \"min\": 1, \"max\": 1}, \"update.time\": {\"sum\": 1975.4574298858643, \"count\": 1, \"min\": 1975.4574298858643, \"max\": 1975.4574298858643}, \"_shrink.time\": {\"sum\": 299.1774082183838, \"count\": 1, \"min\": 299.1774082183838, \"max\": 299.1774082183838}, \"finalize.time\": {\"sum\": 300.7373809814453, \"count\": 1, \"min\": 300.7373809814453, \"max\": 300.7373809814453}, \"model.serialize.time\": {\"sum\": 0.21958351135253906, \"count\": 1, \"min\": 0.21958351135253906, \"max\": 0.21958351135253906}}}\u001b[0m\n",
      "\u001b[34m[04/02/2024 08:04:07 INFO 139828750333760] Test data is not provided.\u001b[0m\n",
      "\u001b[34m#metrics {\"StartTime\": 1712045047.7926764, \"EndTime\": 1712045047.7946088, \"Dimensions\": {\"Algorithm\": \"AWS/KMeansWebscale\", \"Host\": \"algo-1\", \"Operation\": \"training\"}, \"Metrics\": {\"setuptime\": {\"sum\": 1.9655227661132812, \"count\": 1, \"min\": 1.9655227661132812, \"max\": 1.9655227661132812}, \"totaltime\": {\"sum\": 2419.304370880127, \"count\": 1, \"min\": 2419.304370880127, \"max\": 2419.304370880127}}}\u001b[0m\n",
      "\n",
      "2024-04-02 08:04:29 Uploading - Uploading generated training model\n",
      "2024-04-02 08:04:29 Completed - Training job completed\n",
      "Training seconds: 157\n",
      "Billable seconds: 157\n"
     ]
    },
    {
     "name": "stderr",
     "output_type": "stream",
     "text": [
      "Defaulting to the only supported framework/algorithm version: 1. Ignoring framework/algorithm version: 1.\n"
     ]
    },
    {
     "name": "stdout",
     "output_type": "stream",
     "text": [
      "2024-04-02 08:05:00 Starting - Starting the training job...\n",
      "2024-04-02 08:05:27 Starting - Preparing the instances for trainingProfilerReport-1712045100: InProgress\n",
      "...\n",
      "2024-04-02 08:05:54 Downloading - Downloading input data......\n",
      "2024-04-02 08:06:47 Downloading - Downloading the training image......\n",
      "2024-04-02 08:07:51 Training - Training image download completed. Training in progress..\u001b[34mDocker entrypoint called with argument(s): train\u001b[0m\n",
      "\u001b[34mRunning default environment configuration script\u001b[0m\n",
      "\u001b[34m[04/02/2024 08:08:03 INFO 140408741328704] Reading default configuration from /opt/amazon/lib/python3.8/site-packages/algorithm/resources/default-input.json: {'init_method': 'random', 'mini_batch_size': '5000', 'epochs': '1', 'extra_center_factor': 'auto', 'local_lloyd_max_iter': '300', 'local_lloyd_tol': '0.0001', 'local_lloyd_init_method': 'kmeans++', 'local_lloyd_num_trials': 'auto', 'half_life_time_size': '0', 'eval_metrics': '[\"msd\"]', 'force_dense': 'true', '_disable_wait_to_read': 'false', '_enable_profiler': 'false', '_kvstore': 'auto', '_log_level': 'info', '_num_gpus': 'auto', '_num_kv_servers': '1', '_num_slices': '1', '_tuning_objective_metric': ''}\u001b[0m\n",
      "\u001b[34m[04/02/2024 08:08:03 INFO 140408741328704] Merging with provided configuration from /opt/ml/input/config/hyperparameters.json: {'feature_dim': '182', 'force_dense': 'True', 'k': '20'}\u001b[0m\n",
      "\u001b[34m[04/02/2024 08:08:03 INFO 140408741328704] Final configuration: {'init_method': 'random', 'mini_batch_size': '5000', 'epochs': '1', 'extra_center_factor': 'auto', 'local_lloyd_max_iter': '300', 'local_lloyd_tol': '0.0001', 'local_lloyd_init_method': 'kmeans++', 'local_lloyd_num_trials': 'auto', 'half_life_time_size': '0', 'eval_metrics': '[\"msd\"]', 'force_dense': 'True', '_disable_wait_to_read': 'false', '_enable_profiler': 'false', '_kvstore': 'auto', '_log_level': 'info', '_num_gpus': 'auto', '_num_kv_servers': '1', '_num_slices': '1', '_tuning_objective_metric': '', 'feature_dim': '182', 'k': '20'}\u001b[0m\n",
      "\u001b[34m/opt/amazon/lib/python3.8/site-packages/mxnet/model.py:97: SyntaxWarning: \"is\" with a literal. Did you mean \"==\"?\n",
      "  if num_device is 1 and 'dist' not in kvstore:\u001b[0m\n",
      "\u001b[34m[04/02/2024 08:08:05 WARNING 140408741328704] Loggers have already been setup.\u001b[0m\n",
      "\u001b[34m[04/02/2024 08:08:05 INFO 140408741328704] Final configuration: {'init_method': 'random', 'mini_batch_size': '5000', 'epochs': '1', 'extra_center_factor': 'auto', 'local_lloyd_max_iter': '300', 'local_lloyd_tol': '0.0001', 'local_lloyd_init_method': 'kmeans++', 'local_lloyd_num_trials': 'auto', 'half_life_time_size': '0', 'eval_metrics': '[\"msd\"]', 'force_dense': 'True', '_disable_wait_to_read': 'false', '_enable_profiler': 'false', '_kvstore': 'auto', '_log_level': 'info', '_num_gpus': 'auto', '_num_kv_servers': '1', '_num_slices': '1', '_tuning_objective_metric': '', 'feature_dim': '182', 'k': '20'}\u001b[0m\n",
      "\u001b[34m[04/02/2024 08:08:05 WARNING 140408741328704] Loggers have already been setup.\u001b[0m\n",
      "\u001b[34mProcess 7 is a worker.\u001b[0m\n",
      "\u001b[34m[04/02/2024 08:08:05 INFO 140408741328704] Using default worker.\u001b[0m\n",
      "\u001b[34m[04/02/2024 08:08:05 INFO 140408741328704] Loaded iterator creator application/x-recordio-protobuf for content type ('application/x-recordio-protobuf', '1.0')\u001b[0m\n",
      "\u001b[34m[04/02/2024 08:08:05 INFO 140408741328704] Create Store: local\u001b[0m\n",
      "\u001b[34m/opt/amazon/python3.8/lib/python3.8/subprocess.py:848: RuntimeWarning: line buffering (buffering=1) isn't supported in binary mode, the default buffer size will be used\n",
      "  self.stdout = io.open(c2pread, 'rb', bufsize)\u001b[0m\n",
      "\u001b[34m[04/02/2024 08:08:05 INFO 140408741328704] nvidia-smi: took 0.056 seconds to run.\u001b[0m\n",
      "\u001b[34m[04/02/2024 08:08:05 INFO 140408741328704] nvidia-smi identified 0 GPUs.\u001b[0m\n",
      "\u001b[34m[04/02/2024 08:08:05 INFO 140408741328704] Number of GPUs being used: 0\u001b[0m\n",
      "\u001b[34m[04/02/2024 08:08:05 INFO 140408741328704] Checkpoint loading and saving are disabled.\u001b[0m\n",
      "\u001b[34m[04/02/2024 08:08:05 INFO 140408741328704] Setting up with params: {'init_method': 'random', 'mini_batch_size': '5000', 'epochs': '1', 'extra_center_factor': 'auto', 'local_lloyd_max_iter': '300', 'local_lloyd_tol': '0.0001', 'local_lloyd_init_method': 'kmeans++', 'local_lloyd_num_trials': 'auto', 'half_life_time_size': '0', 'eval_metrics': '[\"msd\"]', 'force_dense': 'True', '_disable_wait_to_read': 'false', '_enable_profiler': 'false', '_kvstore': 'auto', '_log_level': 'info', '_num_gpus': 'auto', '_num_kv_servers': '1', '_num_slices': '1', '_tuning_objective_metric': '', 'feature_dim': '182', 'k': '20'}\u001b[0m\n",
      "\u001b[34m[04/02/2024 08:08:05 INFO 140408741328704] 'extra_center_factor' was set to 'auto', evaluated to 10.\u001b[0m\n",
      "\u001b[34m[04/02/2024 08:08:05 INFO 140408741328704] Number of GPUs being used: 0\u001b[0m\n",
      "\u001b[34m[04/02/2024 08:08:05 INFO 140408741328704] number of center slices 1\u001b[0m\n",
      "\u001b[34m#metrics {\"StartTime\": 1712045285.3962355, \"EndTime\": 1712045285.396273, \"Dimensions\": {\"Algorithm\": \"AWS/KMeansWebscale\", \"Host\": \"algo-1\", \"Operation\": \"training\", \"Meta\": \"init_train_data_iter\"}, \"Metrics\": {\"Total Records Seen\": {\"sum\": 5000.0, \"count\": 1, \"min\": 5000, \"max\": 5000}, \"Total Batches Seen\": {\"sum\": 1.0, \"count\": 1, \"min\": 1, \"max\": 1}, \"Max Records Seen Between Resets\": {\"sum\": 5000.0, \"count\": 1, \"min\": 5000, \"max\": 5000}, \"Max Batches Seen Between Resets\": {\"sum\": 1.0, \"count\": 1, \"min\": 1, \"max\": 1}, \"Reset Count\": {\"sum\": 0.0, \"count\": 1, \"min\": 0, \"max\": 0}, \"Number of Records Since Last Reset\": {\"sum\": 5000.0, \"count\": 1, \"min\": 5000, \"max\": 5000}, \"Number of Batches Since Last Reset\": {\"sum\": 1.0, \"count\": 1, \"min\": 1, \"max\": 1}}}\u001b[0m\n",
      "\u001b[34m[2024-04-02 08:08:05.400] [tensorio] [info] epoch_stats={\"data_pipeline\": \"/opt/ml/input/data/train\", \"epoch\": 0, \"duration\": 63, \"num_examples\": 1, \"num_bytes\": 3780000}\u001b[0m\n",
      "\u001b[34m[04/02/2024 08:08:05 INFO 140408741328704] Iter 10: Short term msd 83.570507. Long term msd 88.917594\u001b[0m\n",
      "\u001b[34m[04/02/2024 08:08:06 INFO 140408741328704] Iter 20: Short term msd 77.024573. Long term msd 79.650017\u001b[0m\n",
      "\u001b[34m[04/02/2024 08:08:06 INFO 140408741328704] Iter 30: Short term msd 76.049714. Long term msd 77.193845\u001b[0m\n",
      "\u001b[34m[04/02/2024 08:08:06 INFO 140408741328704] Iter 40: Short term msd 75.579437. Long term msd 76.087801\u001b[0m\n",
      "\u001b[34m[04/02/2024 08:08:07 INFO 140408741328704] Iter 50: Short term msd 75.559681. Long term msd 75.729979\u001b[0m\n",
      "\u001b[34m[04/02/2024 08:08:07 INFO 140408741328704] Iter 60: Short term msd 75.640875. Long term msd 75.715510\u001b[0m\n",
      "\u001b[34m[04/02/2024 08:08:07 INFO 140408741328704] Iter 70: Short term msd 75.609361. Long term msd 75.661282\u001b[0m\n",
      "\u001b[34m[2024-04-02 08:08:07.821] [tensorio] [info] epoch_stats={\"data_pipeline\": \"/opt/ml/input/data/train\", \"epoch\": 1, \"duration\": 2421, \"num_examples\": 74, \"num_bytes\": 276805620}\u001b[0m\n",
      "\u001b[34m[04/02/2024 08:08:07 INFO 140408741328704] processed a total of 366145 examples\u001b[0m\n",
      "\u001b[34m[04/02/2024 08:08:07 INFO 140408741328704] #progress_metric: host=algo-1, completed 100.0 % of epochs\u001b[0m\n",
      "\u001b[34m#metrics {\"StartTime\": 1712045285.4004114, \"EndTime\": 1712045287.8227375, \"Dimensions\": {\"Algorithm\": \"AWS/KMeansWebscale\", \"Host\": \"algo-1\", \"Operation\": \"training\", \"epoch\": 0, \"Meta\": \"training_data_iter\"}, \"Metrics\": {\"Total Records Seen\": {\"sum\": 371145.0, \"count\": 1, \"min\": 371145, \"max\": 371145}, \"Total Batches Seen\": {\"sum\": 75.0, \"count\": 1, \"min\": 75, \"max\": 75}, \"Max Records Seen Between Resets\": {\"sum\": 366145.0, \"count\": 1, \"min\": 366145, \"max\": 366145}, \"Max Batches Seen Between Resets\": {\"sum\": 74.0, \"count\": 1, \"min\": 74, \"max\": 74}, \"Reset Count\": {\"sum\": 1.0, \"count\": 1, \"min\": 1, \"max\": 1}, \"Number of Records Since Last Reset\": {\"sum\": 366145.0, \"count\": 1, \"min\": 366145, \"max\": 366145}, \"Number of Batches Since Last Reset\": {\"sum\": 74.0, \"count\": 1, \"min\": 74, \"max\": 74}}}\u001b[0m\n",
      "\u001b[34m[04/02/2024 08:08:07 INFO 140408741328704] #throughput_metric: host=algo-1, train throughput=151143.82528091635 records/second\u001b[0m\n",
      "\u001b[34m[04/02/2024 08:08:07 WARNING 140408741328704] wait_for_all_workers will not sync workers since the kv store is not running distributed\u001b[0m\n",
      "\u001b[34m[04/02/2024 08:08:07 INFO 140408741328704] shrinking 200 centers into 20\u001b[0m\n",
      "\u001b[34m[04/02/2024 08:08:07 INFO 140408741328704] local kmeans attempt #0. Current mean square distance 85.257317\u001b[0m\n",
      "\u001b[34m[04/02/2024 08:08:07 INFO 140408741328704] local kmeans attempt #1. Current mean square distance 84.775124\u001b[0m\n",
      "\u001b[34m[04/02/2024 08:08:07 INFO 140408741328704] local kmeans attempt #2. Current mean square distance 86.070084\u001b[0m\n",
      "\u001b[34m[04/02/2024 08:08:07 INFO 140408741328704] local kmeans attempt #3. Current mean square distance 85.023521\u001b[0m\n",
      "\u001b[34m[04/02/2024 08:08:08 INFO 140408741328704] local kmeans attempt #4. Current mean square distance 84.956627\u001b[0m\n",
      "\u001b[34m[04/02/2024 08:08:08 INFO 140408741328704] local kmeans attempt #5. Current mean square distance 86.133453\u001b[0m\n",
      "\u001b[34m[04/02/2024 08:08:08 INFO 140408741328704] local kmeans attempt #6. Current mean square distance 85.027542\u001b[0m\n",
      "\u001b[34m[04/02/2024 08:08:08 INFO 140408741328704] local kmeans attempt #7. Current mean square distance 84.945091\u001b[0m\n",
      "\u001b[34m[04/02/2024 08:08:08 INFO 140408741328704] local kmeans attempt #8. Current mean square distance 84.889183\u001b[0m\n",
      "\u001b[34m[04/02/2024 08:08:08 INFO 140408741328704] local kmeans attempt #9. Current mean square distance 85.024384\u001b[0m\n",
      "\u001b[34m[04/02/2024 08:08:08 INFO 140408741328704] finished shrinking process. Mean Square Distance = 85\u001b[0m\n",
      "\u001b[34m[04/02/2024 08:08:08 INFO 140408741328704] #quality_metric: host=algo-1, train msd <loss>=84.7751235961914\u001b[0m\n",
      "\u001b[34m[04/02/2024 08:08:08 INFO 140408741328704] predict compute msd took: 25.7846%, (0.625276 secs)\u001b[0m\n",
      "\u001b[34m[04/02/2024 08:08:08 INFO 140408741328704] compute all data-center distances: inner product took: 18.7829%, (0.455485 secs)\u001b[0m\n",
      "\u001b[34m[04/02/2024 08:08:08 INFO 140408741328704] gradient: cluster size  took: 17.3478%, (0.420682 secs)\u001b[0m\n",
      "\u001b[34m[04/02/2024 08:08:08 INFO 140408741328704] compute all data-center distances: point norm took: 16.0493%, (0.389194 secs)\u001b[0m\n",
      "\u001b[34m[04/02/2024 08:08:08 INFO 140408741328704] gradient: cluster center took: 13.0668%, (0.316870 secs)\u001b[0m\n",
      "\u001b[34m[04/02/2024 08:08:08 INFO 140408741328704] batch data loading with context took: 3.2202%, (0.078091 secs)\u001b[0m\n",
      "\u001b[34m[04/02/2024 08:08:08 INFO 140408741328704] update state and report convergance took: 1.3501%, (0.032740 secs)\u001b[0m\n",
      "\u001b[34m[04/02/2024 08:08:08 INFO 140408741328704] gradient: one_hot took: 1.3077%, (0.031711 secs)\u001b[0m\n",
      "\u001b[34m[04/02/2024 08:08:08 INFO 140408741328704] collect from kv store took: 1.1631%, (0.028205 secs)\u001b[0m\n",
      "\u001b[34m[04/02/2024 08:08:08 INFO 140408741328704] compute all data-center distances: center norm took: 1.1159%, (0.027061 secs)\u001b[0m\n",
      "\u001b[34m[04/02/2024 08:08:08 INFO 140408741328704] splitting centers key-value pair took: 0.7369%, (0.017869 secs)\u001b[0m\n",
      "\u001b[34m[04/02/2024 08:08:08 INFO 140408741328704] predict minus dist took: 0.0646%, (0.001566 secs)\u001b[0m\n",
      "\u001b[34m[04/02/2024 08:08:08 INFO 140408741328704] update set-up time took: 0.0101%, (0.000244 secs)\u001b[0m\n",
      "\u001b[34m[04/02/2024 08:08:08 INFO 140408741328704] TOTAL took: 2.424992799758911\u001b[0m\n",
      "\u001b[34m[04/02/2024 08:08:08 INFO 140408741328704] Number of GPUs being used: 0\u001b[0m\n",
      "\u001b[34m#metrics {\"StartTime\": 1712045285.336181, \"EndTime\": 1712045288.2091386, \"Dimensions\": {\"Algorithm\": \"AWS/KMeansWebscale\", \"Host\": \"algo-1\", \"Operation\": \"training\"}, \"Metrics\": {\"initialize.time\": {\"sum\": 39.91413116455078, \"count\": 1, \"min\": 39.91413116455078, \"max\": 39.91413116455078}, \"epochs\": {\"sum\": 1.0, \"count\": 1, \"min\": 1, \"max\": 1}, \"update.time\": {\"sum\": 2422.102689743042, \"count\": 1, \"min\": 2422.102689743042, \"max\": 2422.102689743042}, \"_shrink.time\": {\"sum\": 384.2577934265137, \"count\": 1, \"min\": 384.2577934265137, \"max\": 384.2577934265137}, \"finalize.time\": {\"sum\": 385.6496810913086, \"count\": 1, \"min\": 385.6496810913086, \"max\": 385.6496810913086}, \"model.serialize.time\": {\"sum\": 0.24652481079101562, \"count\": 1, \"min\": 0.24652481079101562, \"max\": 0.24652481079101562}}}\u001b[0m\n",
      "\u001b[34m[04/02/2024 08:08:08 INFO 140408741328704] Test data is not provided.\u001b[0m\n",
      "\u001b[34m#metrics {\"StartTime\": 1712045288.2092495, \"EndTime\": 1712045288.2155147, \"Dimensions\": {\"Algorithm\": \"AWS/KMeansWebscale\", \"Host\": \"algo-1\", \"Operation\": \"training\"}, \"Metrics\": {\"setuptime\": {\"sum\": 2.1123886108398438, \"count\": 1, \"min\": 2.1123886108398438, \"max\": 2.1123886108398438}, \"totaltime\": {\"sum\": 2952.4638652801514, \"count\": 1, \"min\": 2952.4638652801514, \"max\": 2952.4638652801514}}}\u001b[0m\n",
      "\n",
      "2024-04-02 08:08:28 Uploading - Uploading generated training model\n",
      "2024-04-02 08:08:28 Completed - Training job completed\n",
      "Training seconds: 154\n",
      "Billable seconds: 154\n"
     ]
    }
   ],
   "source": [
    "# Define hyperparameters for KMeans models\n",
    "hyperparameter_sets = [\n",
    "    {'k': 5, 'init_method': 'random'},\n",
    "    {'k': 10, 'init_method': 'random'},\n",
    "    {'k': 15, 'init_method': 'random'},\n",
    "    {'k': 20, 'init_method': 'random'}\n",
    "]\n",
    "\n",
    "# Run trials for KMeans models\n",
    "role = get_execution_role()\n",
    "sagemaker_session = Session()\n",
    "\n",
    "for hyperparameters in hyperparameter_sets:\n",
    "    k_value = hyperparameters['k']\n",
    "    output_path = f's3://team6datasets/kmeans_model_output/'\n",
    "    \n",
    "    kmeans = KMeans(role=role,\n",
    "                    instance_count=1,\n",
    "                    instance_type='ml.c4.xlarge',\n",
    "                    k=k_value,\n",
    "                    output_path=output_path)  # Specify the output path during initialization\n",
    "    \n",
    "    # Fit the model\n",
    "    kmeans.fit(kmeans.record_set(scaled_data), job_name=f\"kmeans-{k_value}\")"
   ]
  },
  {
   "cell_type": "markdown",
   "id": "cecbb145-cadd-4360-876d-83618c81d41c",
   "metadata": {
    "tags": []
   },
   "source": [
    "## Calculate Silhouette Scores for KMeans Models"
   ]
  },
  {
   "cell_type": "markdown",
   "id": "e09a7632-6620-446e-b4fd-11f02fc806bb",
   "metadata": {},
   "source": [
    "### List objects in S3 folder for KMeans"
   ]
  },
  {
   "cell_type": "code",
   "execution_count": 66,
   "id": "6d1d57f8-e7cf-433a-804a-b84c2816ab35",
   "metadata": {
    "tags": []
   },
   "outputs": [
    {
     "name": "stdout",
     "output_type": "stream",
     "text": [
      "Folders found: []\n"
     ]
    }
   ],
   "source": [
    "# Initialize S3 client\n",
    "s3 = boto3.client('s3')\n",
    "\n",
    "# Bucket name and prefix\n",
    "bucket_name = 'team6datasets'\n",
    "prefix = 'kmeans_model_output/'\n",
    "\n",
    "# List objects in the bucket with the given prefix\n",
    "response = s3.list_objects_v2(Bucket=bucket_name, Prefix=prefix)\n",
    "\n",
    "# Extract folder names from the object keys\n",
    "folders = [obj['Prefix'].split('/')[-2] for obj in response.get('CommonPrefixes', [])]\n",
    "\n",
    "print(\"Folders found:\", folders)"
   ]
  },
  {
   "cell_type": "code",
   "execution_count": 69,
   "id": "7df206a9-090d-477f-828e-0693890154e2",
   "metadata": {
    "tags": []
   },
   "outputs": [
    {
     "name": "stdout",
     "output_type": "stream",
     "text": [
      "Model artifacts: [{'model_data': 's3://team6datasets/kmeans_model_output/kmeans-5/output/model.tar.gz', 'hyperparameters': {'k': 5, 'init_method': 'random'}}, {'model_data': 's3://team6datasets/kmeans_model_output/kmeans-10/output/model.tar.gz', 'hyperparameters': {'k': 10, 'init_method': 'random'}}, {'model_data': 's3://team6datasets/kmeans_model_output/kmeans-15/output/model.tar.gz', 'hyperparameters': {'k': 15, 'init_method': 'random'}}, {'model_data': 's3://team6datasets/kmeans_model_output/kmeans-20/output/model.tar.gz', 'hyperparameters': {'k': 20, 'init_method': 'random'}}]\n",
      "--------------------!"
     ]
    },
    {
     "ename": "AttributeError",
     "evalue": "'NoneType' object has no attribute 'serializer'",
     "output_type": "error",
     "traceback": [
      "\u001b[0;31m---------------------------------------------------------------------------\u001b[0m",
      "\u001b[0;31mAttributeError\u001b[0m                            Traceback (most recent call last)",
      "Cell \u001b[0;32mIn[69], line 42\u001b[0m\n\u001b[1;32m     39\u001b[0m \u001b[38;5;28mprint\u001b[39m(\u001b[38;5;124m\"\u001b[39m\u001b[38;5;124mModel artifacts:\u001b[39m\u001b[38;5;124m\"\u001b[39m, model_artifacts)  \u001b[38;5;66;03m# Debug statement\u001b[39;00m\n\u001b[1;32m     41\u001b[0m \u001b[38;5;66;03m# Calculate silhouette scores\u001b[39;00m\n\u001b[0;32m---> 42\u001b[0m silhouette_scores \u001b[38;5;241m=\u001b[39m [calculate_silhouette_score(model[\u001b[38;5;124m'\u001b[39m\u001b[38;5;124mmodel_data\u001b[39m\u001b[38;5;124m'\u001b[39m], model[\u001b[38;5;124m'\u001b[39m\u001b[38;5;124mhyperparameters\u001b[39m\u001b[38;5;124m'\u001b[39m]) \u001b[38;5;28;01mfor\u001b[39;00m model \u001b[38;5;129;01min\u001b[39;00m model_artifacts]\n\u001b[1;32m     44\u001b[0m \u001b[38;5;28mprint\u001b[39m(\u001b[38;5;124m\"\u001b[39m\u001b[38;5;124mSilhouette scores:\u001b[39m\u001b[38;5;124m\"\u001b[39m, silhouette_scores)\n\u001b[1;32m     46\u001b[0m \u001b[38;5;66;03m# Assuming 'predictor' is the predictor object returned by model.deploy()\u001b[39;00m\n",
      "Cell \u001b[0;32mIn[69], line 42\u001b[0m, in \u001b[0;36m<listcomp>\u001b[0;34m(.0)\u001b[0m\n\u001b[1;32m     39\u001b[0m \u001b[38;5;28mprint\u001b[39m(\u001b[38;5;124m\"\u001b[39m\u001b[38;5;124mModel artifacts:\u001b[39m\u001b[38;5;124m\"\u001b[39m, model_artifacts)  \u001b[38;5;66;03m# Debug statement\u001b[39;00m\n\u001b[1;32m     41\u001b[0m \u001b[38;5;66;03m# Calculate silhouette scores\u001b[39;00m\n\u001b[0;32m---> 42\u001b[0m silhouette_scores \u001b[38;5;241m=\u001b[39m [\u001b[43mcalculate_silhouette_score\u001b[49m\u001b[43m(\u001b[49m\u001b[43mmodel\u001b[49m\u001b[43m[\u001b[49m\u001b[38;5;124;43m'\u001b[39;49m\u001b[38;5;124;43mmodel_data\u001b[39;49m\u001b[38;5;124;43m'\u001b[39;49m\u001b[43m]\u001b[49m\u001b[43m,\u001b[49m\u001b[43m \u001b[49m\u001b[43mmodel\u001b[49m\u001b[43m[\u001b[49m\u001b[38;5;124;43m'\u001b[39;49m\u001b[38;5;124;43mhyperparameters\u001b[39;49m\u001b[38;5;124;43m'\u001b[39;49m\u001b[43m]\u001b[49m\u001b[43m)\u001b[49m \u001b[38;5;28;01mfor\u001b[39;00m model \u001b[38;5;129;01min\u001b[39;00m model_artifacts]\n\u001b[1;32m     44\u001b[0m \u001b[38;5;28mprint\u001b[39m(\u001b[38;5;124m\"\u001b[39m\u001b[38;5;124mSilhouette scores:\u001b[39m\u001b[38;5;124m\"\u001b[39m, silhouette_scores)\n\u001b[1;32m     46\u001b[0m \u001b[38;5;66;03m# Assuming 'predictor' is the predictor object returned by model.deploy()\u001b[39;00m\n",
      "Cell \u001b[0;32mIn[69], line 15\u001b[0m, in \u001b[0;36mcalculate_silhouette_score\u001b[0;34m(model_data, hyperparameters)\u001b[0m\n\u001b[1;32m     12\u001b[0m predictor \u001b[38;5;241m=\u001b[39m model\u001b[38;5;241m.\u001b[39mdeploy(initial_instance_count\u001b[38;5;241m=\u001b[39m\u001b[38;5;241m1\u001b[39m, instance_type\u001b[38;5;241m=\u001b[39m\u001b[38;5;124m\"\u001b[39m\u001b[38;5;124mml.t2.medium\u001b[39m\u001b[38;5;124m\"\u001b[39m)\n\u001b[1;32m     14\u001b[0m \u001b[38;5;66;03m# Set serializer and deserializer\u001b[39;00m\n\u001b[0;32m---> 15\u001b[0m \u001b[43mpredictor\u001b[49m\u001b[38;5;241;43m.\u001b[39;49m\u001b[43mserializer\u001b[49m \u001b[38;5;241m=\u001b[39m CSVSerializer()\n\u001b[1;32m     16\u001b[0m predictor\u001b[38;5;241m.\u001b[39mdeserializer \u001b[38;5;241m=\u001b[39m JSONDeserializer()\n\u001b[1;32m     18\u001b[0m \u001b[38;5;66;03m# Make predictions\u001b[39;00m\n",
      "\u001b[0;31mAttributeError\u001b[0m: 'NoneType' object has no attribute 'serializer'"
     ]
    }
   ],
   "source": [
    "# Calculate Silhouette Scores for KMeans Models\n",
    "def calculate_silhouette_score(model_data, hyperparameters):\n",
    "    # Define the SageMaker model\n",
    "    model = Model(\n",
    "        model_data=model_data,\n",
    "        image_uri=sagemaker.image_uris.retrieve(\"kmeans\", region),\n",
    "        role=role,\n",
    "        sagemaker_session=sagemaker_session\n",
    "    )\n",
    "    \n",
    "    # Deploy the model\n",
    "    predictor = model.deploy(initial_instance_count=1, instance_type=\"ml.t2.medium\")\n",
    "    \n",
    "    # Set serializer and deserializer\n",
    "    predictor.serializer = CSVSerializer()\n",
    "    predictor.deserializer = JSONDeserializer()\n",
    "    \n",
    "    # Make predictions\n",
    "    results = predictor.predict(scaled_data.tolist())\n",
    "    cluster_labels = np.array([r['closest_cluster'] for r in results['predictions']])\n",
    "    \n",
    "    # Calculate Silhouette Score\n",
    "    score = silhouette_score(scaled_data, cluster_labels)\n",
    "    \n",
    "    # Delete the endpoint\n",
    "    predictor.delete_endpoint()\n",
    "    \n",
    "    return score\n",
    "\n",
    "# Get model artifacts and hyperparameters\n",
    "model_artifacts = [\n",
    "    {\n",
    "        \"model_data\": f\"s3://{bucket_name}/kmeans_model_output/kmeans-{hyperparameters['k']}/output/model.tar.gz\",\n",
    "        \"hyperparameters\": hyperparameters\n",
    "    }\n",
    "    for hyperparameters in hyperparameter_sets\n",
    "]\n",
    "\n",
    "print(\"Model artifacts:\", model_artifacts)  # Debug statement\n",
    "\n",
    "# Calculate silhouette scores\n",
    "silhouette_scores = [calculate_silhouette_score(model['model_data'], model['hyperparameters']) for model in model_artifacts]\n",
    "\n",
    "print(\"Silhouette scores:\", silhouette_scores)"
   ]
  }
 ],
 "metadata": {
  "availableInstances": [
   {
    "_defaultOrder": 0,
    "_isFastLaunch": true,
    "category": "General purpose",
    "gpuNum": 0,
    "hideHardwareSpecs": false,
    "memoryGiB": 4,
    "name": "ml.t3.medium",
    "vcpuNum": 2
   },
   {
    "_defaultOrder": 1,
    "_isFastLaunch": false,
    "category": "General purpose",
    "gpuNum": 0,
    "hideHardwareSpecs": false,
    "memoryGiB": 8,
    "name": "ml.t3.large",
    "vcpuNum": 2
   },
   {
    "_defaultOrder": 2,
    "_isFastLaunch": false,
    "category": "General purpose",
    "gpuNum": 0,
    "hideHardwareSpecs": false,
    "memoryGiB": 16,
    "name": "ml.t3.xlarge",
    "vcpuNum": 4
   },
   {
    "_defaultOrder": 3,
    "_isFastLaunch": false,
    "category": "General purpose",
    "gpuNum": 0,
    "hideHardwareSpecs": false,
    "memoryGiB": 32,
    "name": "ml.t3.2xlarge",
    "vcpuNum": 8
   },
   {
    "_defaultOrder": 4,
    "_isFastLaunch": true,
    "category": "General purpose",
    "gpuNum": 0,
    "hideHardwareSpecs": false,
    "memoryGiB": 8,
    "name": "ml.m5.large",
    "vcpuNum": 2
   },
   {
    "_defaultOrder": 5,
    "_isFastLaunch": false,
    "category": "General purpose",
    "gpuNum": 0,
    "hideHardwareSpecs": false,
    "memoryGiB": 16,
    "name": "ml.m5.xlarge",
    "vcpuNum": 4
   },
   {
    "_defaultOrder": 6,
    "_isFastLaunch": false,
    "category": "General purpose",
    "gpuNum": 0,
    "hideHardwareSpecs": false,
    "memoryGiB": 32,
    "name": "ml.m5.2xlarge",
    "vcpuNum": 8
   },
   {
    "_defaultOrder": 7,
    "_isFastLaunch": false,
    "category": "General purpose",
    "gpuNum": 0,
    "hideHardwareSpecs": false,
    "memoryGiB": 64,
    "name": "ml.m5.4xlarge",
    "vcpuNum": 16
   },
   {
    "_defaultOrder": 8,
    "_isFastLaunch": false,
    "category": "General purpose",
    "gpuNum": 0,
    "hideHardwareSpecs": false,
    "memoryGiB": 128,
    "name": "ml.m5.8xlarge",
    "vcpuNum": 32
   },
   {
    "_defaultOrder": 9,
    "_isFastLaunch": false,
    "category": "General purpose",
    "gpuNum": 0,
    "hideHardwareSpecs": false,
    "memoryGiB": 192,
    "name": "ml.m5.12xlarge",
    "vcpuNum": 48
   },
   {
    "_defaultOrder": 10,
    "_isFastLaunch": false,
    "category": "General purpose",
    "gpuNum": 0,
    "hideHardwareSpecs": false,
    "memoryGiB": 256,
    "name": "ml.m5.16xlarge",
    "vcpuNum": 64
   },
   {
    "_defaultOrder": 11,
    "_isFastLaunch": false,
    "category": "General purpose",
    "gpuNum": 0,
    "hideHardwareSpecs": false,
    "memoryGiB": 384,
    "name": "ml.m5.24xlarge",
    "vcpuNum": 96
   },
   {
    "_defaultOrder": 12,
    "_isFastLaunch": false,
    "category": "General purpose",
    "gpuNum": 0,
    "hideHardwareSpecs": false,
    "memoryGiB": 8,
    "name": "ml.m5d.large",
    "vcpuNum": 2
   },
   {
    "_defaultOrder": 13,
    "_isFastLaunch": false,
    "category": "General purpose",
    "gpuNum": 0,
    "hideHardwareSpecs": false,
    "memoryGiB": 16,
    "name": "ml.m5d.xlarge",
    "vcpuNum": 4
   },
   {
    "_defaultOrder": 14,
    "_isFastLaunch": false,
    "category": "General purpose",
    "gpuNum": 0,
    "hideHardwareSpecs": false,
    "memoryGiB": 32,
    "name": "ml.m5d.2xlarge",
    "vcpuNum": 8
   },
   {
    "_defaultOrder": 15,
    "_isFastLaunch": false,
    "category": "General purpose",
    "gpuNum": 0,
    "hideHardwareSpecs": false,
    "memoryGiB": 64,
    "name": "ml.m5d.4xlarge",
    "vcpuNum": 16
   },
   {
    "_defaultOrder": 16,
    "_isFastLaunch": false,
    "category": "General purpose",
    "gpuNum": 0,
    "hideHardwareSpecs": false,
    "memoryGiB": 128,
    "name": "ml.m5d.8xlarge",
    "vcpuNum": 32
   },
   {
    "_defaultOrder": 17,
    "_isFastLaunch": false,
    "category": "General purpose",
    "gpuNum": 0,
    "hideHardwareSpecs": false,
    "memoryGiB": 192,
    "name": "ml.m5d.12xlarge",
    "vcpuNum": 48
   },
   {
    "_defaultOrder": 18,
    "_isFastLaunch": false,
    "category": "General purpose",
    "gpuNum": 0,
    "hideHardwareSpecs": false,
    "memoryGiB": 256,
    "name": "ml.m5d.16xlarge",
    "vcpuNum": 64
   },
   {
    "_defaultOrder": 19,
    "_isFastLaunch": false,
    "category": "General purpose",
    "gpuNum": 0,
    "hideHardwareSpecs": false,
    "memoryGiB": 384,
    "name": "ml.m5d.24xlarge",
    "vcpuNum": 96
   },
   {
    "_defaultOrder": 20,
    "_isFastLaunch": false,
    "category": "General purpose",
    "gpuNum": 0,
    "hideHardwareSpecs": true,
    "memoryGiB": 0,
    "name": "ml.geospatial.interactive",
    "supportedImageNames": [
     "sagemaker-geospatial-v1-0"
    ],
    "vcpuNum": 0
   },
   {
    "_defaultOrder": 21,
    "_isFastLaunch": true,
    "category": "Compute optimized",
    "gpuNum": 0,
    "hideHardwareSpecs": false,
    "memoryGiB": 4,
    "name": "ml.c5.large",
    "vcpuNum": 2
   },
   {
    "_defaultOrder": 22,
    "_isFastLaunch": false,
    "category": "Compute optimized",
    "gpuNum": 0,
    "hideHardwareSpecs": false,
    "memoryGiB": 8,
    "name": "ml.c5.xlarge",
    "vcpuNum": 4
   },
   {
    "_defaultOrder": 23,
    "_isFastLaunch": false,
    "category": "Compute optimized",
    "gpuNum": 0,
    "hideHardwareSpecs": false,
    "memoryGiB": 16,
    "name": "ml.c5.2xlarge",
    "vcpuNum": 8
   },
   {
    "_defaultOrder": 24,
    "_isFastLaunch": false,
    "category": "Compute optimized",
    "gpuNum": 0,
    "hideHardwareSpecs": false,
    "memoryGiB": 32,
    "name": "ml.c5.4xlarge",
    "vcpuNum": 16
   },
   {
    "_defaultOrder": 25,
    "_isFastLaunch": false,
    "category": "Compute optimized",
    "gpuNum": 0,
    "hideHardwareSpecs": false,
    "memoryGiB": 72,
    "name": "ml.c5.9xlarge",
    "vcpuNum": 36
   },
   {
    "_defaultOrder": 26,
    "_isFastLaunch": false,
    "category": "Compute optimized",
    "gpuNum": 0,
    "hideHardwareSpecs": false,
    "memoryGiB": 96,
    "name": "ml.c5.12xlarge",
    "vcpuNum": 48
   },
   {
    "_defaultOrder": 27,
    "_isFastLaunch": false,
    "category": "Compute optimized",
    "gpuNum": 0,
    "hideHardwareSpecs": false,
    "memoryGiB": 144,
    "name": "ml.c5.18xlarge",
    "vcpuNum": 72
   },
   {
    "_defaultOrder": 28,
    "_isFastLaunch": false,
    "category": "Compute optimized",
    "gpuNum": 0,
    "hideHardwareSpecs": false,
    "memoryGiB": 192,
    "name": "ml.c5.24xlarge",
    "vcpuNum": 96
   },
   {
    "_defaultOrder": 29,
    "_isFastLaunch": true,
    "category": "Accelerated computing",
    "gpuNum": 1,
    "hideHardwareSpecs": false,
    "memoryGiB": 16,
    "name": "ml.g4dn.xlarge",
    "vcpuNum": 4
   },
   {
    "_defaultOrder": 30,
    "_isFastLaunch": false,
    "category": "Accelerated computing",
    "gpuNum": 1,
    "hideHardwareSpecs": false,
    "memoryGiB": 32,
    "name": "ml.g4dn.2xlarge",
    "vcpuNum": 8
   },
   {
    "_defaultOrder": 31,
    "_isFastLaunch": false,
    "category": "Accelerated computing",
    "gpuNum": 1,
    "hideHardwareSpecs": false,
    "memoryGiB": 64,
    "name": "ml.g4dn.4xlarge",
    "vcpuNum": 16
   },
   {
    "_defaultOrder": 32,
    "_isFastLaunch": false,
    "category": "Accelerated computing",
    "gpuNum": 1,
    "hideHardwareSpecs": false,
    "memoryGiB": 128,
    "name": "ml.g4dn.8xlarge",
    "vcpuNum": 32
   },
   {
    "_defaultOrder": 33,
    "_isFastLaunch": false,
    "category": "Accelerated computing",
    "gpuNum": 4,
    "hideHardwareSpecs": false,
    "memoryGiB": 192,
    "name": "ml.g4dn.12xlarge",
    "vcpuNum": 48
   },
   {
    "_defaultOrder": 34,
    "_isFastLaunch": false,
    "category": "Accelerated computing",
    "gpuNum": 1,
    "hideHardwareSpecs": false,
    "memoryGiB": 256,
    "name": "ml.g4dn.16xlarge",
    "vcpuNum": 64
   },
   {
    "_defaultOrder": 35,
    "_isFastLaunch": false,
    "category": "Accelerated computing",
    "gpuNum": 1,
    "hideHardwareSpecs": false,
    "memoryGiB": 61,
    "name": "ml.p3.2xlarge",
    "vcpuNum": 8
   },
   {
    "_defaultOrder": 36,
    "_isFastLaunch": false,
    "category": "Accelerated computing",
    "gpuNum": 4,
    "hideHardwareSpecs": false,
    "memoryGiB": 244,
    "name": "ml.p3.8xlarge",
    "vcpuNum": 32
   },
   {
    "_defaultOrder": 37,
    "_isFastLaunch": false,
    "category": "Accelerated computing",
    "gpuNum": 8,
    "hideHardwareSpecs": false,
    "memoryGiB": 488,
    "name": "ml.p3.16xlarge",
    "vcpuNum": 64
   },
   {
    "_defaultOrder": 38,
    "_isFastLaunch": false,
    "category": "Accelerated computing",
    "gpuNum": 8,
    "hideHardwareSpecs": false,
    "memoryGiB": 768,
    "name": "ml.p3dn.24xlarge",
    "vcpuNum": 96
   },
   {
    "_defaultOrder": 39,
    "_isFastLaunch": false,
    "category": "Memory Optimized",
    "gpuNum": 0,
    "hideHardwareSpecs": false,
    "memoryGiB": 16,
    "name": "ml.r5.large",
    "vcpuNum": 2
   },
   {
    "_defaultOrder": 40,
    "_isFastLaunch": false,
    "category": "Memory Optimized",
    "gpuNum": 0,
    "hideHardwareSpecs": false,
    "memoryGiB": 32,
    "name": "ml.r5.xlarge",
    "vcpuNum": 4
   },
   {
    "_defaultOrder": 41,
    "_isFastLaunch": false,
    "category": "Memory Optimized",
    "gpuNum": 0,
    "hideHardwareSpecs": false,
    "memoryGiB": 64,
    "name": "ml.r5.2xlarge",
    "vcpuNum": 8
   },
   {
    "_defaultOrder": 42,
    "_isFastLaunch": false,
    "category": "Memory Optimized",
    "gpuNum": 0,
    "hideHardwareSpecs": false,
    "memoryGiB": 128,
    "name": "ml.r5.4xlarge",
    "vcpuNum": 16
   },
   {
    "_defaultOrder": 43,
    "_isFastLaunch": false,
    "category": "Memory Optimized",
    "gpuNum": 0,
    "hideHardwareSpecs": false,
    "memoryGiB": 256,
    "name": "ml.r5.8xlarge",
    "vcpuNum": 32
   },
   {
    "_defaultOrder": 44,
    "_isFastLaunch": false,
    "category": "Memory Optimized",
    "gpuNum": 0,
    "hideHardwareSpecs": false,
    "memoryGiB": 384,
    "name": "ml.r5.12xlarge",
    "vcpuNum": 48
   },
   {
    "_defaultOrder": 45,
    "_isFastLaunch": false,
    "category": "Memory Optimized",
    "gpuNum": 0,
    "hideHardwareSpecs": false,
    "memoryGiB": 512,
    "name": "ml.r5.16xlarge",
    "vcpuNum": 64
   },
   {
    "_defaultOrder": 46,
    "_isFastLaunch": false,
    "category": "Memory Optimized",
    "gpuNum": 0,
    "hideHardwareSpecs": false,
    "memoryGiB": 768,
    "name": "ml.r5.24xlarge",
    "vcpuNum": 96
   },
   {
    "_defaultOrder": 47,
    "_isFastLaunch": false,
    "category": "Accelerated computing",
    "gpuNum": 1,
    "hideHardwareSpecs": false,
    "memoryGiB": 16,
    "name": "ml.g5.xlarge",
    "vcpuNum": 4
   },
   {
    "_defaultOrder": 48,
    "_isFastLaunch": false,
    "category": "Accelerated computing",
    "gpuNum": 1,
    "hideHardwareSpecs": false,
    "memoryGiB": 32,
    "name": "ml.g5.2xlarge",
    "vcpuNum": 8
   },
   {
    "_defaultOrder": 49,
    "_isFastLaunch": false,
    "category": "Accelerated computing",
    "gpuNum": 1,
    "hideHardwareSpecs": false,
    "memoryGiB": 64,
    "name": "ml.g5.4xlarge",
    "vcpuNum": 16
   },
   {
    "_defaultOrder": 50,
    "_isFastLaunch": false,
    "category": "Accelerated computing",
    "gpuNum": 1,
    "hideHardwareSpecs": false,
    "memoryGiB": 128,
    "name": "ml.g5.8xlarge",
    "vcpuNum": 32
   },
   {
    "_defaultOrder": 51,
    "_isFastLaunch": false,
    "category": "Accelerated computing",
    "gpuNum": 1,
    "hideHardwareSpecs": false,
    "memoryGiB": 256,
    "name": "ml.g5.16xlarge",
    "vcpuNum": 64
   },
   {
    "_defaultOrder": 52,
    "_isFastLaunch": false,
    "category": "Accelerated computing",
    "gpuNum": 4,
    "hideHardwareSpecs": false,
    "memoryGiB": 192,
    "name": "ml.g5.12xlarge",
    "vcpuNum": 48
   },
   {
    "_defaultOrder": 53,
    "_isFastLaunch": false,
    "category": "Accelerated computing",
    "gpuNum": 4,
    "hideHardwareSpecs": false,
    "memoryGiB": 384,
    "name": "ml.g5.24xlarge",
    "vcpuNum": 96
   },
   {
    "_defaultOrder": 54,
    "_isFastLaunch": false,
    "category": "Accelerated computing",
    "gpuNum": 8,
    "hideHardwareSpecs": false,
    "memoryGiB": 768,
    "name": "ml.g5.48xlarge",
    "vcpuNum": 192
   },
   {
    "_defaultOrder": 55,
    "_isFastLaunch": false,
    "category": "Accelerated computing",
    "gpuNum": 8,
    "hideHardwareSpecs": false,
    "memoryGiB": 1152,
    "name": "ml.p4d.24xlarge",
    "vcpuNum": 96
   },
   {
    "_defaultOrder": 56,
    "_isFastLaunch": false,
    "category": "Accelerated computing",
    "gpuNum": 8,
    "hideHardwareSpecs": false,
    "memoryGiB": 1152,
    "name": "ml.p4de.24xlarge",
    "vcpuNum": 96
   },
   {
    "_defaultOrder": 57,
    "_isFastLaunch": false,
    "category": "Accelerated computing",
    "gpuNum": 0,
    "hideHardwareSpecs": false,
    "memoryGiB": 32,
    "name": "ml.trn1.2xlarge",
    "vcpuNum": 8
   },
   {
    "_defaultOrder": 58,
    "_isFastLaunch": false,
    "category": "Accelerated computing",
    "gpuNum": 0,
    "hideHardwareSpecs": false,
    "memoryGiB": 512,
    "name": "ml.trn1.32xlarge",
    "vcpuNum": 128
   },
   {
    "_defaultOrder": 59,
    "_isFastLaunch": false,
    "category": "Accelerated computing",
    "gpuNum": 0,
    "hideHardwareSpecs": false,
    "memoryGiB": 512,
    "name": "ml.trn1n.32xlarge",
    "vcpuNum": 128
   }
  ],
  "instance_type": "ml.t3.medium",
  "kernelspec": {
   "display_name": "Python 3 (Data Science 2.0)",
   "language": "python",
   "name": "python3__SAGEMAKER_INTERNAL__arn:aws:sagemaker:us-east-1:081325390199:image/sagemaker-data-science-38"
  },
  "language_info": {
   "codemirror_mode": {
    "name": "ipython",
    "version": 3
   },
   "file_extension": ".py",
   "mimetype": "text/x-python",
   "name": "python",
   "nbconvert_exporter": "python",
   "pygments_lexer": "ipython3",
   "version": "3.8.13"
  }
 },
 "nbformat": 4,
 "nbformat_minor": 5
}
