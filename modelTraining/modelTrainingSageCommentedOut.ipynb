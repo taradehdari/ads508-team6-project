{
 "cells": [
  {
   "cell_type": "markdown",
   "id": "eadddb45-1d40-45ca-8683-76ea695c9e58",
   "metadata": {
    "tags": []
   },
   "source": [
    "# Model Training"
   ]
  },
  {
   "cell_type": "markdown",
   "id": "79242932-6806-414c-90d2-8cadb611266f",
   "metadata": {},
   "source": [
    "### Imports"
   ]
  },
  {
   "cell_type": "code",
   "execution_count": 2,
   "id": "74f29291-27e3-4b82-a12d-a0621c138fc6",
   "metadata": {
    "tags": []
   },
   "outputs": [],
   "source": [
    "# import pandas as pd\n",
    "# import numpy as np\n",
    "# import matplotlib.pyplot as plt\n",
    "# import seaborn as sns\n",
    "# import boto3\n",
    "# import re\n",
    "# import os\n",
    "# import io\n",
    "# import time\n",
    "# import tarfile\n",
    "# import random\n",
    "# import string\n",
    "# import matplotlib.pyplot as plt\n",
    "# from io import BytesIO\n",
    "# from sklearn.preprocessing import StandardScaler\n",
    "# from sklearn.feature_selection import VarianceThreshold\n",
    "# from sklearn.cluster import KMeans\n",
    "# import sagemaker\n",
    "# from sagemaker import PCA, KMeans, get_execution_role, Session\n",
    "# from sagemaker import KMeansModel, KMeansModel\n",
    "# from sklearn.metrics import silhouette_score\n",
    "# from sagemaker.model import Model\n",
    "# from sagemaker.predictor import Predictor\n",
    "# import json\n",
    "# from sagemaker.serializers import JSONSerializer\n",
    "# from sagemaker.serializers import CSVSerializer\n",
    "# from sagemaker.deserializers import JSONDeserializer\n",
    "# import pickle"
   ]
  },
  {
   "cell_type": "markdown",
   "id": "5ba079ce-de5a-43a2-9298-6dea3adc87cc",
   "metadata": {},
   "source": [
    "## Load Training Dataset from S3"
   ]
  },
  {
   "cell_type": "code",
   "execution_count": 3,
   "id": "d1dbf057-20fb-41f5-9d5d-3d98218b27db",
   "metadata": {
    "tags": []
   },
   "outputs": [],
   "source": [
    "# train_df = pd.read_csv('s3://team6datasets/splitDatasets/train.csv')"
   ]
  },
  {
   "cell_type": "code",
   "execution_count": 4,
   "id": "a227c06a-7726-4ae4-9a05-eee2958450d7",
   "metadata": {
    "tags": []
   },
   "outputs": [],
   "source": [
    "# train_df.shape"
   ]
  },
  {
   "cell_type": "code",
   "execution_count": 5,
   "id": "10127560-bdfb-4d5e-acce-e871621b1942",
   "metadata": {
    "tags": []
   },
   "outputs": [],
   "source": [
    "# train_df.head()"
   ]
  },
  {
   "cell_type": "markdown",
   "id": "041a9007-8ecd-4968-9abd-080d48a513b4",
   "metadata": {},
   "source": [
    "## Sagemaker Session and Role"
   ]
  },
  {
   "cell_type": "code",
   "execution_count": 6,
   "id": "4d33cb53-4214-4a02-b5b2-db7e9456628e",
   "metadata": {
    "tags": []
   },
   "outputs": [],
   "source": [
    "# # Define the SageMaker session and role\n",
    "# sagemaker_session = Session()\n",
    "# role = get_execution_role()"
   ]
  },
  {
   "cell_type": "markdown",
   "id": "4c59915f-d42e-4f10-828d-ae2cee939bcf",
   "metadata": {},
   "source": [
    "## Dimensionality Reduction using Variance"
   ]
  },
  {
   "cell_type": "code",
   "execution_count": 7,
   "id": "46fa8c41-f500-4d74-b977-a09827a91283",
   "metadata": {
    "tags": []
   },
   "outputs": [],
   "source": [
    "# # Set the variance threshold\n",
    "# variance_threshold = 0.2\n",
    "\n",
    "# # Create a VarianceThreshold object\n",
    "# selector = VarianceThreshold(threshold=variance_threshold)\n",
    "\n",
    "# # Fit the selector to the data \n",
    "# selector.fit(train_df)\n",
    "\n",
    "# # Get the support mask \n",
    "# support = selector.get_support(indices=True)\n",
    "\n",
    "# # Select features based on the support mask\n",
    "# reduced_features = train_df.iloc[:, support]  \n",
    "\n",
    "# # Now 'reduced_features' is a DataFrame containing features with variance exceeding the threshold\n",
    "# print(f\"Number of features removed: {len(train_df.columns) - len(reduced_features.columns)}\")"
   ]
  },
  {
   "cell_type": "code",
   "execution_count": 8,
   "id": "091ea424-3332-4494-ba7f-794da5566403",
   "metadata": {},
   "outputs": [],
   "source": [
    "# # Show the reduced_features DataFrame\n",
    "# print(\"Reduced Features DataFrame:\")\n",
    "# reduced_features.head()"
   ]
  },
  {
   "cell_type": "code",
   "execution_count": 9,
   "id": "1535085b-ae75-4efa-b08c-08cdfc63f77b",
   "metadata": {},
   "outputs": [],
   "source": [
    "# reduced_features.shape"
   ]
  },
  {
   "cell_type": "markdown",
   "id": "d008dceb-113e-48f7-86af-67c525b902ef",
   "metadata": {},
   "source": [
    "## Model Training with KMeans Algorithm"
   ]
  },
  {
   "cell_type": "markdown",
   "id": "9e6936b5-b763-4927-874c-66cdb6bc94a4",
   "metadata": {},
   "source": [
    "### Use Elbow Method to Determine Ideal K"
   ]
  },
  {
   "cell_type": "code",
   "execution_count": 10,
   "id": "2884e5f2-ad72-4a41-8337-0608d548de67",
   "metadata": {
    "tags": []
   },
   "outputs": [],
   "source": [
    "# # Check if the image file already exists\n",
    "# if os.path.isfile('elbow_method.png'):\n",
    "#     print(\"Elbow method already run. Image found in folder.\")\n",
    "# else:\n",
    "#     # Define a range of k values\n",
    "#     k_values = range(2, 11)  \n",
    "\n",
    "#     # Convert the reduced_features DataFrame to float32\n",
    "#     reduced_features_float32 = reduced_features.astype('float32')\n",
    "\n",
    "#     # Train KMeans models for each k value and compute WCSS\n",
    "#     wcss_values = []\n",
    "#     for k in k_values:\n",
    "#         kmeans = KMeans(role=role,\n",
    "#                         instance_count=1,\n",
    "#                         instance_type='ml.c4.xlarge',\n",
    "#                         k=k)\n",
    "#         kmeans.fit(kmeans.record_set(reduced_features_float32.values)) \n",
    "#         # Filter the DataFrame for the row where metric_name is 'train:msd'\n",
    "#         wcss_row = kmeans.training_job_analytics.dataframe().loc[kmeans.training_job_analytics.dataframe()['metric_name'] == 'train:msd']\n",
    "#         # Extract the WCSS value from the 'value' column of the filtered row\n",
    "#         wcss_value = wcss_row['value'].iloc[0]\n",
    "#         # Append the WCSS value to the list\n",
    "#         wcss_values.append(wcss_value)\n",
    "\n",
    "#     # Plot the WCSS values against k\n",
    "#     plt.plot(k_values, wcss_values, marker='o')\n",
    "#     plt.title('Elbow Method')\n",
    "#     plt.xlabel('Number of clusters (k)')\n",
    "#     plt.ylabel('Within-cluster sum of squares (WCSS)')\n",
    "#     plt.savefig('elbow_method.png')  # Save the plot as an image\n",
    "#     plt.show()\n",
    "#     print(\"Elbow method run successfully. Image saved in folder.\")\n"
   ]
  },
  {
   "cell_type": "code",
   "execution_count": 11,
   "id": "0ebc1040-bf8d-4de5-8b45-90a446cb8154",
   "metadata": {
    "tags": []
   },
   "outputs": [],
   "source": [
    "# # Define a function to generate a random 3-digit serial number\n",
    "# def generate_serial_number():\n",
    "#     return ''.join(random.choices(string.digits, k=3))\n",
    "\n",
    "# # Drop the CustomerID column from the feature DataFrame\n",
    "# features_for_training = reduced_features.drop(columns=['CustomerID'])\n",
    "\n",
    "# # Store CustomerID separately for reference\n",
    "# customer_ids = reduced_features['CustomerID']\n",
    "\n",
    "# # Initialize S3 client\n",
    "# s3 = boto3.client('s3')\n",
    "\n",
    "# # Define hyperparameters for KMeans model\n",
    "# hyperparameters = {'k': 4, 'init_method': 'random'}\n",
    "\n",
    "# # Set the output path\n",
    "# output_path = 's3://team6datasets/kmeans_model_output/'\n",
    "\n",
    "# # Set k value\n",
    "# k_value = hyperparameters['k']\n",
    "# model_output_path = f'{output_path}kmeans-{k_value}/output/'\n",
    "\n",
    "# # Train the model\n",
    "# print(f\"Training model for k={k_value}...\")\n",
    "\n",
    "# # Convert DataFrame to NumPy array (excluding CustomerID)\n",
    "# features_np = features_for_training.values.astype('float32')\n",
    "\n",
    "# # Create KMeans estimator\n",
    "# kmeans = KMeans(role=role,\n",
    "#                 instance_count=1,\n",
    "#                 instance_type='ml.c4.xlarge',\n",
    "#                 k=k_value,\n",
    "#                 output_path=output_path)\n",
    "\n",
    "# # Generate a random 3-digit serial number for the job name\n",
    "# serial_number = generate_serial_number()\n",
    "# # Append the serial number to the job name\n",
    "# job_name = f\"kmeans-{k_value}-{serial_number}\"\n",
    "\n",
    "\n",
    "# # Set the output path with job name\n",
    "# model_output_path = f'{output_path}/{job_name}/output/'\n",
    "\n",
    "# # Fit the model with the updated output path\n",
    "# kmeans.fit(kmeans.record_set(features_np), job_name=job_name)\n",
    "\n",
    "# print(f\"Model for k={k_value} trained and saved to {model_output_path}\")\n"
   ]
  },
  {
   "cell_type": "markdown",
   "id": "8dd55442-7b6b-4430-9cd6-ce841610b5a6",
   "metadata": {},
   "source": [
    "## Model Validation"
   ]
  },
  {
   "cell_type": "markdown",
   "id": "af55e7d6-9c30-4f49-960d-d33634caba28",
   "metadata": {},
   "source": [
    "### Load Validation Data from S3"
   ]
  },
  {
   "cell_type": "code",
   "execution_count": 12,
   "id": "4b2f1850-5c2b-4c91-a2b1-b9e7d7d6d195",
   "metadata": {
    "tags": []
   },
   "outputs": [],
   "source": [
    "# validate_df = pd.read_csv('s3://team6datasets/splitDatasets/validation.csv')"
   ]
  },
  {
   "cell_type": "code",
   "execution_count": 13,
   "id": "e29ddb45-b3d5-420d-9aef-4c713c00d4da",
   "metadata": {
    "tags": []
   },
   "outputs": [],
   "source": [
    "# validate_df.shape"
   ]
  },
  {
   "cell_type": "markdown",
   "id": "d05ebf68-36f8-44c3-963d-8cca4547e173",
   "metadata": {},
   "source": [
    "### Dimensionality Reduction using Variance "
   ]
  },
  {
   "cell_type": "code",
   "execution_count": 14,
   "id": "278edfb6-c729-4989-aadb-bf997bafcd8e",
   "metadata": {
    "tags": []
   },
   "outputs": [],
   "source": [
    "# # Set the variance threshold\n",
    "# variance_threshold = 0.2\n",
    "\n",
    "# # Create a VarianceThreshold object\n",
    "# selector = VarianceThreshold(threshold=variance_threshold)\n",
    "\n",
    "# # Fit the selector to the data\n",
    "# selector.fit(validate_df)\n",
    "\n",
    "# # Get the support mask\n",
    "# support = selector.get_support(indices=True)\n",
    "\n",
    "# # Select features based on the support mask\n",
    "# reduced_features_validate = validate_df.iloc[:, support]  \n",
    "\n",
    "# # Now 'reduced_features' is a DataFrame containing features with variance exceeding the threshold\n",
    "# print(f\"Number of features removed: {len(validate_df.columns) - len(reduced_features_validate.columns)}\")"
   ]
  },
  {
   "cell_type": "code",
   "execution_count": 15,
   "id": "c082d381-702a-4bb9-aa55-f3bd3cde980b",
   "metadata": {
    "tags": []
   },
   "outputs": [],
   "source": [
    "# # Show the reduced_features_validate DataFrame\n",
    "# print(\"Reduced Features DataFrame:\")\n",
    "# reduced_features_validate.head()"
   ]
  },
  {
   "cell_type": "markdown",
   "id": "631f2ea5-7855-4583-b060-af922cfa14dd",
   "metadata": {},
   "source": [
    "### Validate Model"
   ]
  },
  {
   "cell_type": "markdown",
   "id": "c1338a13-989b-4812-82dc-1531a01e33fc",
   "metadata": {
    "tags": []
   },
   "source": [
    "Endpoint Deployment"
   ]
  },
  {
   "cell_type": "code",
   "execution_count": 16,
   "id": "78c7b0c4-c118-4bc9-8ae4-5fc2b3b88bd8",
   "metadata": {},
   "outputs": [],
   "source": [
    "# # Generate a random 3-digit serial number\n",
    "# serial_number = ''.join(random.choices(string.digits, k=3))\n",
    "\n",
    "# # Define the endpoint name with the serial number appended\n",
    "# endpoint_name = f'kmeans-endpoint-{serial_number}'\n",
    "\n",
    "# # Define the role\n",
    "# role = get_execution_role()\n",
    "\n",
    "# # Load the trained model\n",
    "# model_key = f'kmeans_model_output/{job_name}/output/model.tar.gz'\n",
    "# model_location = f's3://team6datasets/{model_key}'\n",
    "\n",
    "# # Create a SageMaker Model object\n",
    "# kmeans_model = sagemaker.KMeansModel(model_data=model_location, role=role)\n",
    "\n",
    "# # Deploy the model to create an endpoint\n",
    "# try:\n",
    "#     predictor = kmeans_model.deploy(initial_instance_count=1,\n",
    "#                                     instance_type='ml.m4.xlarge',\n",
    "#                                     endpoint_name=endpoint_name)\n",
    "#     print(f\"Endpoint '{endpoint_name}' created successfully.\")\n",
    "# except Exception as e:\n",
    "#     print(f\"Failed to create endpoint '{endpoint_name}': {str(e)}\")\n"
   ]
  },
  {
   "cell_type": "code",
   "execution_count": 17,
   "id": "367812e5-36f3-4fe5-a2e1-0442aa16b394",
   "metadata": {},
   "outputs": [],
   "source": [
    "# # Print IAM role for debugging\n",
    "# role = get_execution_role()\n",
    "\n",
    "# # Initialize S3 client\n",
    "# s3 = boto3.client('s3')\n",
    "\n",
    "# # Define the S3 location of the model\n",
    "# model_key = f'kmeans_model_output/{job_name}/output/model.tar.gz'\n",
    "# model_location = f's3://team6datasets/{model_key}'\n",
    "\n",
    "# # Download the model\n",
    "# s3.download_file('team6datasets', model_key, 'model.tar.gz')\n",
    "\n",
    "# # Extract the model\n",
    "# with tarfile.open('model.tar.gz', 'r:gz') as tar:\n",
    "#     tar.extractall()\n",
    "    \n",
    "# # Path to the extracted model file\n",
    "# model_path = './model_algo-1'\n",
    "\n",
    "# # Load the model\n",
    "# kmeans_model = KMeansModel(model_data=model_path, role=role)\n",
    "\n",
    "# # Convert 'reduced_features_validate' DataFrame to NumPy array\n",
    "# new_data_for_prediction = reduced_features_validate.drop(columns=['CustomerID'])\n",
    "# new_data_np = new_data_for_prediction.values.astype('float32')\n",
    "\n",
    "# # Create an instance of scikit-learn's KMeans and assign the underlying model\n",
    "# kmeans_sklearn_model = KMeans()\n",
    "# kmeans_sklearn_model.model = kmeans_model.cluster_model\n",
    "\n",
    "# # Predict clusters for new data\n",
    "# predictions = kmeans_sklearn_model.predict(new_data_np)\n"
   ]
  },
  {
   "cell_type": "markdown",
   "id": "d7c4388c-ca72-41a1-b297-63ce33946f59",
   "metadata": {},
   "source": [
    "## Evaluating KMeans Model"
   ]
  },
  {
   "cell_type": "code",
   "execution_count": 18,
   "id": "d924d9ea-d6a9-49d0-b93f-197da3f97ba8",
   "metadata": {},
   "outputs": [],
   "source": [
    "# # Calculate silhouette score\n",
    "# silhouette_avg = silhouette_score(new_data_np, predictions)\n",
    "# print(f\"Silhouette Score: {silhouette_avg}\")\n",
    "\n"
   ]
  },
  {
   "cell_type": "code",
   "execution_count": 19,
   "id": "013688db-fd19-4f00-b558-05d641ee76e6",
   "metadata": {},
   "outputs": [],
   "source": [
    "# inertia = kmeans_model.inertia_\n",
    "# print(f\"Inertia: {inertia}\")"
   ]
  },
  {
   "cell_type": "markdown",
   "id": "98b47be0-6e65-45f5-aa32-926bd23a1bbc",
   "metadata": {},
   "source": [
    "Predicting Clusters for Validation Data"
   ]
  },
  {
   "cell_type": "code",
   "execution_count": 20,
   "id": "62594368-448d-43b8-b6af-97c04fca03b5",
   "metadata": {
    "tags": []
   },
   "outputs": [],
   "source": [
    "# # Extract features for validation (excluding CustomerID)\n",
    "# features_for_validation = reduced_features_validate.drop(columns=['CustomerID'])\n",
    "# features_np_validation = features_for_validation.values.astype('float32')\n",
    "\n",
    "# # Predict clusters for the validation data\n",
    "# clusters = predictor.predict(features_np_validation)\n",
    "\n",
    "# # Add the cluster labels to the validation DataFrame\n",
    "# reduced_features_validate['Cluster'] = clusters"
   ]
  },
  {
   "cell_type": "markdown",
   "id": "711f2bf6-617f-4f3d-93a1-9ffe3440e18f",
   "metadata": {},
   "source": [
    "## Testing Model on Test Set"
   ]
  },
  {
   "cell_type": "markdown",
   "id": "226a8714-2248-492e-9291-c240b48a4457",
   "metadata": {},
   "source": [
    "### Load Test Data Using S3"
   ]
  },
  {
   "cell_type": "code",
   "execution_count": 21,
   "id": "1bb3e27c-2621-4e0f-b47d-cb0dce2a7b45",
   "metadata": {},
   "outputs": [],
   "source": [
    "# test_df = pd.read_csv('s3://team6datasets/splitDatasets/test.csv')\n",
    "# test_df.shape"
   ]
  },
  {
   "cell_type": "markdown",
   "id": "5adc7d81-e984-4fe8-9398-d244be623c6c",
   "metadata": {},
   "source": [
    "### Dimensionality Reduction using Variance "
   ]
  },
  {
   "cell_type": "code",
   "execution_count": 22,
   "id": "c5e68a91-67c4-4b1e-88e0-da0a3235721e",
   "metadata": {},
   "outputs": [],
   "source": [
    "# # Set the variance threshold\n",
    "# variance_threshold = 0.2\n",
    "\n",
    "# # Create a VarianceThreshold object\n",
    "# selector = VarianceThreshold(threshold=variance_threshold)\n",
    "\n",
    "# # Fit the selector to the data\n",
    "# selector.fit(test_df)\n",
    "\n",
    "# # Get the support mask\n",
    "# support = selector.get_support(indices=True)\n",
    "\n",
    "# # Select features based on the support mask\n",
    "# reduced_features_test = test_df.iloc[:, support]  \n",
    "\n",
    "# # Now 'reduced_features' is a DataFrame containing features with variance exceeding the threshold\n",
    "# print(f\"Number of features removed: {len(test_df.columns) - len(reduced_features_test.columns)}\")"
   ]
  },
  {
   "cell_type": "markdown",
   "id": "fa3162aa-313d-48fa-acbc-3f1c069bb5d4",
   "metadata": {},
   "source": [
    "### Predict Using Depoloyed Endpoint"
   ]
  },
  {
   "cell_type": "code",
   "execution_count": 23,
   "id": "c4da5044-6f47-45ad-a853-567073c4e398",
   "metadata": {
    "tags": []
   },
   "outputs": [],
   "source": [
    "# # Initialize the Predictor object with the endpoint name\n",
    "# predictor = Predictor(endpoint_name=endpoint_name)\n",
    "\n",
    "# # Convert the testing data to JSON format\n",
    "# test_data = reduced_features_test.to_json(orient='records')\n",
    "\n",
    "# # Perform inference\n",
    "# predictions = predictor.predict(test_data)"
   ]
  }
 ],
 "metadata": {
  "availableInstances": [
   {
    "_defaultOrder": 0,
    "_isFastLaunch": true,
    "category": "General purpose",
    "gpuNum": 0,
    "hideHardwareSpecs": false,
    "memoryGiB": 4,
    "name": "ml.t3.medium",
    "vcpuNum": 2
   },
   {
    "_defaultOrder": 1,
    "_isFastLaunch": false,
    "category": "General purpose",
    "gpuNum": 0,
    "hideHardwareSpecs": false,
    "memoryGiB": 8,
    "name": "ml.t3.large",
    "vcpuNum": 2
   },
   {
    "_defaultOrder": 2,
    "_isFastLaunch": false,
    "category": "General purpose",
    "gpuNum": 0,
    "hideHardwareSpecs": false,
    "memoryGiB": 16,
    "name": "ml.t3.xlarge",
    "vcpuNum": 4
   },
   {
    "_defaultOrder": 3,
    "_isFastLaunch": false,
    "category": "General purpose",
    "gpuNum": 0,
    "hideHardwareSpecs": false,
    "memoryGiB": 32,
    "name": "ml.t3.2xlarge",
    "vcpuNum": 8
   },
   {
    "_defaultOrder": 4,
    "_isFastLaunch": true,
    "category": "General purpose",
    "gpuNum": 0,
    "hideHardwareSpecs": false,
    "memoryGiB": 8,
    "name": "ml.m5.large",
    "vcpuNum": 2
   },
   {
    "_defaultOrder": 5,
    "_isFastLaunch": false,
    "category": "General purpose",
    "gpuNum": 0,
    "hideHardwareSpecs": false,
    "memoryGiB": 16,
    "name": "ml.m5.xlarge",
    "vcpuNum": 4
   },
   {
    "_defaultOrder": 6,
    "_isFastLaunch": false,
    "category": "General purpose",
    "gpuNum": 0,
    "hideHardwareSpecs": false,
    "memoryGiB": 32,
    "name": "ml.m5.2xlarge",
    "vcpuNum": 8
   },
   {
    "_defaultOrder": 7,
    "_isFastLaunch": false,
    "category": "General purpose",
    "gpuNum": 0,
    "hideHardwareSpecs": false,
    "memoryGiB": 64,
    "name": "ml.m5.4xlarge",
    "vcpuNum": 16
   },
   {
    "_defaultOrder": 8,
    "_isFastLaunch": false,
    "category": "General purpose",
    "gpuNum": 0,
    "hideHardwareSpecs": false,
    "memoryGiB": 128,
    "name": "ml.m5.8xlarge",
    "vcpuNum": 32
   },
   {
    "_defaultOrder": 9,
    "_isFastLaunch": false,
    "category": "General purpose",
    "gpuNum": 0,
    "hideHardwareSpecs": false,
    "memoryGiB": 192,
    "name": "ml.m5.12xlarge",
    "vcpuNum": 48
   },
   {
    "_defaultOrder": 10,
    "_isFastLaunch": false,
    "category": "General purpose",
    "gpuNum": 0,
    "hideHardwareSpecs": false,
    "memoryGiB": 256,
    "name": "ml.m5.16xlarge",
    "vcpuNum": 64
   },
   {
    "_defaultOrder": 11,
    "_isFastLaunch": false,
    "category": "General purpose",
    "gpuNum": 0,
    "hideHardwareSpecs": false,
    "memoryGiB": 384,
    "name": "ml.m5.24xlarge",
    "vcpuNum": 96
   },
   {
    "_defaultOrder": 12,
    "_isFastLaunch": false,
    "category": "General purpose",
    "gpuNum": 0,
    "hideHardwareSpecs": false,
    "memoryGiB": 8,
    "name": "ml.m5d.large",
    "vcpuNum": 2
   },
   {
    "_defaultOrder": 13,
    "_isFastLaunch": false,
    "category": "General purpose",
    "gpuNum": 0,
    "hideHardwareSpecs": false,
    "memoryGiB": 16,
    "name": "ml.m5d.xlarge",
    "vcpuNum": 4
   },
   {
    "_defaultOrder": 14,
    "_isFastLaunch": false,
    "category": "General purpose",
    "gpuNum": 0,
    "hideHardwareSpecs": false,
    "memoryGiB": 32,
    "name": "ml.m5d.2xlarge",
    "vcpuNum": 8
   },
   {
    "_defaultOrder": 15,
    "_isFastLaunch": false,
    "category": "General purpose",
    "gpuNum": 0,
    "hideHardwareSpecs": false,
    "memoryGiB": 64,
    "name": "ml.m5d.4xlarge",
    "vcpuNum": 16
   },
   {
    "_defaultOrder": 16,
    "_isFastLaunch": false,
    "category": "General purpose",
    "gpuNum": 0,
    "hideHardwareSpecs": false,
    "memoryGiB": 128,
    "name": "ml.m5d.8xlarge",
    "vcpuNum": 32
   },
   {
    "_defaultOrder": 17,
    "_isFastLaunch": false,
    "category": "General purpose",
    "gpuNum": 0,
    "hideHardwareSpecs": false,
    "memoryGiB": 192,
    "name": "ml.m5d.12xlarge",
    "vcpuNum": 48
   },
   {
    "_defaultOrder": 18,
    "_isFastLaunch": false,
    "category": "General purpose",
    "gpuNum": 0,
    "hideHardwareSpecs": false,
    "memoryGiB": 256,
    "name": "ml.m5d.16xlarge",
    "vcpuNum": 64
   },
   {
    "_defaultOrder": 19,
    "_isFastLaunch": false,
    "category": "General purpose",
    "gpuNum": 0,
    "hideHardwareSpecs": false,
    "memoryGiB": 384,
    "name": "ml.m5d.24xlarge",
    "vcpuNum": 96
   },
   {
    "_defaultOrder": 20,
    "_isFastLaunch": false,
    "category": "General purpose",
    "gpuNum": 0,
    "hideHardwareSpecs": true,
    "memoryGiB": 0,
    "name": "ml.geospatial.interactive",
    "supportedImageNames": [
     "sagemaker-geospatial-v1-0"
    ],
    "vcpuNum": 0
   },
   {
    "_defaultOrder": 21,
    "_isFastLaunch": true,
    "category": "Compute optimized",
    "gpuNum": 0,
    "hideHardwareSpecs": false,
    "memoryGiB": 4,
    "name": "ml.c5.large",
    "vcpuNum": 2
   },
   {
    "_defaultOrder": 22,
    "_isFastLaunch": false,
    "category": "Compute optimized",
    "gpuNum": 0,
    "hideHardwareSpecs": false,
    "memoryGiB": 8,
    "name": "ml.c5.xlarge",
    "vcpuNum": 4
   },
   {
    "_defaultOrder": 23,
    "_isFastLaunch": false,
    "category": "Compute optimized",
    "gpuNum": 0,
    "hideHardwareSpecs": false,
    "memoryGiB": 16,
    "name": "ml.c5.2xlarge",
    "vcpuNum": 8
   },
   {
    "_defaultOrder": 24,
    "_isFastLaunch": false,
    "category": "Compute optimized",
    "gpuNum": 0,
    "hideHardwareSpecs": false,
    "memoryGiB": 32,
    "name": "ml.c5.4xlarge",
    "vcpuNum": 16
   },
   {
    "_defaultOrder": 25,
    "_isFastLaunch": false,
    "category": "Compute optimized",
    "gpuNum": 0,
    "hideHardwareSpecs": false,
    "memoryGiB": 72,
    "name": "ml.c5.9xlarge",
    "vcpuNum": 36
   },
   {
    "_defaultOrder": 26,
    "_isFastLaunch": false,
    "category": "Compute optimized",
    "gpuNum": 0,
    "hideHardwareSpecs": false,
    "memoryGiB": 96,
    "name": "ml.c5.12xlarge",
    "vcpuNum": 48
   },
   {
    "_defaultOrder": 27,
    "_isFastLaunch": false,
    "category": "Compute optimized",
    "gpuNum": 0,
    "hideHardwareSpecs": false,
    "memoryGiB": 144,
    "name": "ml.c5.18xlarge",
    "vcpuNum": 72
   },
   {
    "_defaultOrder": 28,
    "_isFastLaunch": false,
    "category": "Compute optimized",
    "gpuNum": 0,
    "hideHardwareSpecs": false,
    "memoryGiB": 192,
    "name": "ml.c5.24xlarge",
    "vcpuNum": 96
   },
   {
    "_defaultOrder": 29,
    "_isFastLaunch": true,
    "category": "Accelerated computing",
    "gpuNum": 1,
    "hideHardwareSpecs": false,
    "memoryGiB": 16,
    "name": "ml.g4dn.xlarge",
    "vcpuNum": 4
   },
   {
    "_defaultOrder": 30,
    "_isFastLaunch": false,
    "category": "Accelerated computing",
    "gpuNum": 1,
    "hideHardwareSpecs": false,
    "memoryGiB": 32,
    "name": "ml.g4dn.2xlarge",
    "vcpuNum": 8
   },
   {
    "_defaultOrder": 31,
    "_isFastLaunch": false,
    "category": "Accelerated computing",
    "gpuNum": 1,
    "hideHardwareSpecs": false,
    "memoryGiB": 64,
    "name": "ml.g4dn.4xlarge",
    "vcpuNum": 16
   },
   {
    "_defaultOrder": 32,
    "_isFastLaunch": false,
    "category": "Accelerated computing",
    "gpuNum": 1,
    "hideHardwareSpecs": false,
    "memoryGiB": 128,
    "name": "ml.g4dn.8xlarge",
    "vcpuNum": 32
   },
   {
    "_defaultOrder": 33,
    "_isFastLaunch": false,
    "category": "Accelerated computing",
    "gpuNum": 4,
    "hideHardwareSpecs": false,
    "memoryGiB": 192,
    "name": "ml.g4dn.12xlarge",
    "vcpuNum": 48
   },
   {
    "_defaultOrder": 34,
    "_isFastLaunch": false,
    "category": "Accelerated computing",
    "gpuNum": 1,
    "hideHardwareSpecs": false,
    "memoryGiB": 256,
    "name": "ml.g4dn.16xlarge",
    "vcpuNum": 64
   },
   {
    "_defaultOrder": 35,
    "_isFastLaunch": false,
    "category": "Accelerated computing",
    "gpuNum": 1,
    "hideHardwareSpecs": false,
    "memoryGiB": 61,
    "name": "ml.p3.2xlarge",
    "vcpuNum": 8
   },
   {
    "_defaultOrder": 36,
    "_isFastLaunch": false,
    "category": "Accelerated computing",
    "gpuNum": 4,
    "hideHardwareSpecs": false,
    "memoryGiB": 244,
    "name": "ml.p3.8xlarge",
    "vcpuNum": 32
   },
   {
    "_defaultOrder": 37,
    "_isFastLaunch": false,
    "category": "Accelerated computing",
    "gpuNum": 8,
    "hideHardwareSpecs": false,
    "memoryGiB": 488,
    "name": "ml.p3.16xlarge",
    "vcpuNum": 64
   },
   {
    "_defaultOrder": 38,
    "_isFastLaunch": false,
    "category": "Accelerated computing",
    "gpuNum": 8,
    "hideHardwareSpecs": false,
    "memoryGiB": 768,
    "name": "ml.p3dn.24xlarge",
    "vcpuNum": 96
   },
   {
    "_defaultOrder": 39,
    "_isFastLaunch": false,
    "category": "Memory Optimized",
    "gpuNum": 0,
    "hideHardwareSpecs": false,
    "memoryGiB": 16,
    "name": "ml.r5.large",
    "vcpuNum": 2
   },
   {
    "_defaultOrder": 40,
    "_isFastLaunch": false,
    "category": "Memory Optimized",
    "gpuNum": 0,
    "hideHardwareSpecs": false,
    "memoryGiB": 32,
    "name": "ml.r5.xlarge",
    "vcpuNum": 4
   },
   {
    "_defaultOrder": 41,
    "_isFastLaunch": false,
    "category": "Memory Optimized",
    "gpuNum": 0,
    "hideHardwareSpecs": false,
    "memoryGiB": 64,
    "name": "ml.r5.2xlarge",
    "vcpuNum": 8
   },
   {
    "_defaultOrder": 42,
    "_isFastLaunch": false,
    "category": "Memory Optimized",
    "gpuNum": 0,
    "hideHardwareSpecs": false,
    "memoryGiB": 128,
    "name": "ml.r5.4xlarge",
    "vcpuNum": 16
   },
   {
    "_defaultOrder": 43,
    "_isFastLaunch": false,
    "category": "Memory Optimized",
    "gpuNum": 0,
    "hideHardwareSpecs": false,
    "memoryGiB": 256,
    "name": "ml.r5.8xlarge",
    "vcpuNum": 32
   },
   {
    "_defaultOrder": 44,
    "_isFastLaunch": false,
    "category": "Memory Optimized",
    "gpuNum": 0,
    "hideHardwareSpecs": false,
    "memoryGiB": 384,
    "name": "ml.r5.12xlarge",
    "vcpuNum": 48
   },
   {
    "_defaultOrder": 45,
    "_isFastLaunch": false,
    "category": "Memory Optimized",
    "gpuNum": 0,
    "hideHardwareSpecs": false,
    "memoryGiB": 512,
    "name": "ml.r5.16xlarge",
    "vcpuNum": 64
   },
   {
    "_defaultOrder": 46,
    "_isFastLaunch": false,
    "category": "Memory Optimized",
    "gpuNum": 0,
    "hideHardwareSpecs": false,
    "memoryGiB": 768,
    "name": "ml.r5.24xlarge",
    "vcpuNum": 96
   },
   {
    "_defaultOrder": 47,
    "_isFastLaunch": false,
    "category": "Accelerated computing",
    "gpuNum": 1,
    "hideHardwareSpecs": false,
    "memoryGiB": 16,
    "name": "ml.g5.xlarge",
    "vcpuNum": 4
   },
   {
    "_defaultOrder": 48,
    "_isFastLaunch": false,
    "category": "Accelerated computing",
    "gpuNum": 1,
    "hideHardwareSpecs": false,
    "memoryGiB": 32,
    "name": "ml.g5.2xlarge",
    "vcpuNum": 8
   },
   {
    "_defaultOrder": 49,
    "_isFastLaunch": false,
    "category": "Accelerated computing",
    "gpuNum": 1,
    "hideHardwareSpecs": false,
    "memoryGiB": 64,
    "name": "ml.g5.4xlarge",
    "vcpuNum": 16
   },
   {
    "_defaultOrder": 50,
    "_isFastLaunch": false,
    "category": "Accelerated computing",
    "gpuNum": 1,
    "hideHardwareSpecs": false,
    "memoryGiB": 128,
    "name": "ml.g5.8xlarge",
    "vcpuNum": 32
   },
   {
    "_defaultOrder": 51,
    "_isFastLaunch": false,
    "category": "Accelerated computing",
    "gpuNum": 1,
    "hideHardwareSpecs": false,
    "memoryGiB": 256,
    "name": "ml.g5.16xlarge",
    "vcpuNum": 64
   },
   {
    "_defaultOrder": 52,
    "_isFastLaunch": false,
    "category": "Accelerated computing",
    "gpuNum": 4,
    "hideHardwareSpecs": false,
    "memoryGiB": 192,
    "name": "ml.g5.12xlarge",
    "vcpuNum": 48
   },
   {
    "_defaultOrder": 53,
    "_isFastLaunch": false,
    "category": "Accelerated computing",
    "gpuNum": 4,
    "hideHardwareSpecs": false,
    "memoryGiB": 384,
    "name": "ml.g5.24xlarge",
    "vcpuNum": 96
   },
   {
    "_defaultOrder": 54,
    "_isFastLaunch": false,
    "category": "Accelerated computing",
    "gpuNum": 8,
    "hideHardwareSpecs": false,
    "memoryGiB": 768,
    "name": "ml.g5.48xlarge",
    "vcpuNum": 192
   },
   {
    "_defaultOrder": 55,
    "_isFastLaunch": false,
    "category": "Accelerated computing",
    "gpuNum": 8,
    "hideHardwareSpecs": false,
    "memoryGiB": 1152,
    "name": "ml.p4d.24xlarge",
    "vcpuNum": 96
   },
   {
    "_defaultOrder": 56,
    "_isFastLaunch": false,
    "category": "Accelerated computing",
    "gpuNum": 8,
    "hideHardwareSpecs": false,
    "memoryGiB": 1152,
    "name": "ml.p4de.24xlarge",
    "vcpuNum": 96
   },
   {
    "_defaultOrder": 57,
    "_isFastLaunch": false,
    "category": "Accelerated computing",
    "gpuNum": 0,
    "hideHardwareSpecs": false,
    "memoryGiB": 32,
    "name": "ml.trn1.2xlarge",
    "vcpuNum": 8
   },
   {
    "_defaultOrder": 58,
    "_isFastLaunch": false,
    "category": "Accelerated computing",
    "gpuNum": 0,
    "hideHardwareSpecs": false,
    "memoryGiB": 512,
    "name": "ml.trn1.32xlarge",
    "vcpuNum": 128
   },
   {
    "_defaultOrder": 59,
    "_isFastLaunch": false,
    "category": "Accelerated computing",
    "gpuNum": 0,
    "hideHardwareSpecs": false,
    "memoryGiB": 512,
    "name": "ml.trn1n.32xlarge",
    "vcpuNum": 128
   }
  ],
  "instance_type": "ml.t3.medium",
  "kernelspec": {
   "display_name": "Python 3 (Data Science 2.0)",
   "language": "python",
   "name": "python3__SAGEMAKER_INTERNAL__arn:aws:sagemaker:us-east-1:081325390199:image/sagemaker-data-science-38"
  },
  "language_info": {
   "codemirror_mode": {
    "name": "ipython",
    "version": 3
   },
   "file_extension": ".py",
   "mimetype": "text/x-python",
   "name": "python",
   "nbconvert_exporter": "python",
   "pygments_lexer": "ipython3",
   "version": "3.8.13"
  }
 },
 "nbformat": 4,
 "nbformat_minor": 5
}
