{
 "cells": [
  {
   "cell_type": "markdown",
   "id": "f54e0dc8-b016-4fce-b03b-68a8278533e5",
   "metadata": {
    "tags": []
   },
   "source": [
    "# Model Training"
   ]
  },
  {
   "cell_type": "markdown",
   "id": "8894776f-37af-4ab4-a4b3-3587a372a5f8",
   "metadata": {},
   "source": [
    "### Imports"
   ]
  },
  {
   "cell_type": "code",
   "execution_count": 19,
   "id": "bbdb5083-0e51-471e-9f40-d5081b4f4947",
   "metadata": {
    "tags": []
   },
   "outputs": [],
   "source": [
    "#!pip install sagemaker boto3 smdebug sagemaker-experiments\n",
    "#!pip install --upgrade awscli boto3"
   ]
  },
  {
   "cell_type": "code",
   "execution_count": 20,
   "id": "5ef29e1d-895f-49f8-890d-5d5c049edd8a",
   "metadata": {
    "tags": []
   },
   "outputs": [],
   "source": [
    "# import sagemaker\n",
    "# import boto3\n",
    "# import pandas as pd\n",
    "# from sagemaker import get_execution_role, KMeans, Session\n",
    "# from sagemaker import PCA\n",
    "# from sklearn.preprocessing import StandardScaler\n",
    "# import numpy as np\n",
    "# import matplotlib.pyplot as plt\n",
    "# from sklearn.decomposition import IncrementalPCA\n",
    "# from sklearn.preprocessing import StandardScaler\n",
    "# from sagemaker import KMeans\n",
    "# from sklearn.metrics import silhouette_score\n",
    "# import time\n",
    "# import json\n",
    "# from smexperiments.experiment import Experiment\n",
    "# from smexperiments.trial import Trial\n",
    "# from smexperiments.trial_component import TrialComponent\n",
    "# from smexperiments.tracker import Tracker\n",
    "# from sagemaker.model import Model\n",
    "# from sagemaker.serializers import CSVSerializer\n",
    "# from sagemaker.deserializers import JSONDeserializer\n",
    "# import os\n",
    "# import tarfile"
   ]
  },
  {
   "cell_type": "code",
   "execution_count": 21,
   "id": "1af0e04c-832c-4808-b186-630b0ae7572b",
   "metadata": {
    "tags": []
   },
   "outputs": [],
   "source": [
    "# import pandas as pd\n",
    "# import numpy as np\n",
    "# import matplotlib.pyplot as plt\n",
    "# from sklearn.preprocessing import StandardScaler\n",
    "# from sklearn.decomposition import IncrementalPCA\n",
    "# from sagemaker import PCA, KMeans, get_execution_role, Session\n",
    "# from sklearn.metrics import silhouette_score\n",
    "# import time"
   ]
  },
  {
   "cell_type": "markdown",
   "id": "20c67708-4705-4cdd-978f-01c9e558229b",
   "metadata": {},
   "source": [
    "## Get Training Data From S3"
   ]
  },
  {
   "cell_type": "code",
   "execution_count": 22,
   "id": "f31a6fc4-b87a-41b3-b7bc-f909dba801ee",
   "metadata": {
    "tags": []
   },
   "outputs": [],
   "source": [
    "# # Load the train dataset from S3\n",
    "# train_df = pd.read_csv('s3://team6datasets/splitDatasets/train.csv')\n",
    "# print(train_df.head())"
   ]
  },
  {
   "cell_type": "markdown",
   "id": "cd346d2e-e93c-47a6-9587-d2f05d3eb147",
   "metadata": {},
   "source": [
    "## Train KNN Model"
   ]
  },
  {
   "cell_type": "markdown",
   "id": "2dddc60a-ac59-42dc-9ac1-95cc4c6b9a88",
   "metadata": {},
   "source": [
    "### Feature Selection with SKLearn IPCA & SageMaker Built-In PCA"
   ]
  },
  {
   "cell_type": "code",
   "execution_count": 23,
   "id": "bad2b8f4-9bd6-4206-b131-3c80e4ae28a6",
   "metadata": {
    "tags": []
   },
   "outputs": [],
   "source": [
    "# # Scaler\n",
    "# scaler = StandardScaler()\n",
    "\n",
    "# # Convert to float32 for memory efficiency\n",
    "# scaled_data = scaler.fit_transform(train_df.astype('float32'))\n",
    "\n",
    "# # Use IncrementalPCA\n",
    "# ipca = IncrementalPCA(n_components=100, batch_size=150)  # Adjust batch_size\n",
    "# ipca.fit(scaled_data)\n",
    "\n",
    "# # Plot the explained variance ratio\n",
    "# plt.figure(figsize=(10, 7))\n",
    "# plt.bar(range(1, ipca.n_components_ + 1), ipca.explained_variance_ratio_, alpha=0.5, align='center',\n",
    "#         label='Individual explained variance')\n",
    "# plt.step(range(1, ipca.n_components_ + 1), np.cumsum(ipca.explained_variance_ratio_), where='mid',\n",
    "#          label='Cumulative explained variance')\n",
    "# plt.ylabel('Explained variance ratio')\n",
    "# plt.xlabel('Principal component index')\n",
    "# plt.legend(loc='best')\n",
    "# plt.show()"
   ]
  },
  {
   "cell_type": "code",
   "execution_count": 24,
   "id": "54d3e898-d049-456c-8e18-9b6c432013ac",
   "metadata": {
    "tags": []
   },
   "outputs": [],
   "source": [
    "# # Define PCA model\n",
    "# pca_estimator = PCA(role=get_execution_role(),\n",
    "#                     instance_count=1,\n",
    "#                     instance_type='ml.c4.xlarge',\n",
    "#                     num_components=10,\n",
    "#                     sagemaker_session=sagemaker_session)\n",
    "\n",
    "# # Fit PCA model\n",
    "# pca_estimator.fit(pca_estimator.record_set(scaled_data))"
   ]
  },
  {
   "cell_type": "code",
   "execution_count": 25,
   "id": "7de55e0a-f5d7-41ea-bc5d-2a2150b7f9fc",
   "metadata": {
    "tags": []
   },
   "outputs": [],
   "source": [
    "# # access PCA artifacts\n",
    "# model_artifacts_s3_uri = pca_estimator.model_data\n",
    "# print(\"Model artifacts saved at:\", model_artifacts_s3_uri)"
   ]
  },
  {
   "cell_type": "code",
   "execution_count": 26,
   "id": "7999db2c-3d7d-430a-bd14-f8ed141da435",
   "metadata": {
    "tags": []
   },
   "outputs": [],
   "source": [
    "# # Create a S3 client\n",
    "# s3 = boto3.client('s3')\n",
    "# bucket_name = model_artifacts_s3_uri.split('/')[2]\n",
    "# object_key = '/'.join(model_artifacts_s3_uri.split('/')[3:])\n",
    "\n",
    "# # Download the model artifacts file\n",
    "# s3.download_file(bucket_name, object_key, 'model.tar.gz')\n",
    "\n",
    "# # Extract the model artifacts file\n",
    "# with tarfile.open('model.tar.gz') as tar:\n",
    "#     tar.extractall()\n",
    "#     print(\"Extracted model artifacts in the current directory\")"
   ]
  },
  {
   "cell_type": "code",
   "execution_count": 27,
   "id": "1eb21342-c896-4699-90d7-312a0cc6b716",
   "metadata": {},
   "outputs": [],
   "source": [
    "# import mxnet as mx\n",
    "\n",
    "# data = mx.ndarray.load('model_algo-1')\n",
    "# # MXNet NDArrays named 's' usually contain the singular values, which can be related to explained variance"
   ]
  },
  {
   "cell_type": "code",
   "execution_count": 28,
   "id": "d4a9c86c-063b-4eb8-9e50-d8713a0f39cc",
   "metadata": {},
   "outputs": [],
   "source": [
    "# # total variance ratios\n",
    "# explained_variance_ratio = np.square(data['s'].asnumpy()) / np.sum(np.square(data['s'].asnumpy()))\n",
    "\n",
    "# # Plotting the cumulative explained variance\n",
    "# plt.figure(figsize=(10, 7))\n",
    "# plt.plot(np.cumsum(explained_variance_ratio), marker='o', linestyle='-', color='b')\n",
    "# plt.title('Cumulative Explained Variance by Principal Component')\n",
    "# plt.xlabel('Number of Principal Components')\n",
    "# plt.ylabel('Cumulative Explained Variance')\n",
    "# plt.grid(True)\n",
    "# plt.show()"
   ]
  },
  {
   "cell_type": "markdown",
   "id": "e919faa0-5ca0-4bbd-8471-34a615df4944",
   "metadata": {},
   "source": [
    "### Set Up Experiment for KNN Model Training Trials"
   ]
  },
  {
   "cell_type": "code",
   "execution_count": 29,
   "id": "956908f9-ff0a-4605-af8a-9863a43b6f5d",
   "metadata": {
    "tags": []
   },
   "outputs": [],
   "source": [
    "# # set up experiment\n",
    "# experiment_name = f\"KMeans-Clustering-Experiment-{int(time.time())}\"\n",
    "# experiment_description = \"Comparing 3 KMeans models with different hyperparameters.\"\n",
    "\n",
    "# experiment = Experiment.create(\n",
    "#     experiment_name=experiment_name,\n",
    "#     description=experiment_description,\n",
    "#     sagemaker_boto_client=boto3.client('sagemaker')\n",
    "# )"
   ]
  },
  {
   "cell_type": "code",
   "execution_count": 30,
   "id": "be7a4183-7491-44a3-aca2-a85fa3493ce1",
   "metadata": {
    "tags": []
   },
   "outputs": [],
   "source": [
    "# # define hyperparameters for 3 KNN models\n",
    "# hyperparameter_sets = [\n",
    "#     {'k': '5', 'init_method': 'random'},\n",
    "#     {'k': '10', 'init_method': 'random'},\n",
    "#     {'k': '15', 'init_method': 'random'}\n",
    "# ]"
   ]
  },
  {
   "cell_type": "markdown",
   "id": "5068521d-06d9-40c9-bffa-dbd71f564010",
   "metadata": {},
   "source": [
    "### Run Experiment Trials for KNN Models"
   ]
  },
  {
   "cell_type": "code",
   "execution_count": 31,
   "id": "fd47ee6a-d5a4-4255-bc06-7f5bd74eabe2",
   "metadata": {
    "tags": []
   },
   "outputs": [],
   "source": [
    "# # create my own S3 bucket\n",
    "# s3 = boto3.client('s3')\n",
    "# s3.create_bucket(Bucket='team6experiments')"
   ]
  },
  {
   "cell_type": "code",
   "execution_count": 32,
   "id": "035b4bbf-5c91-44f7-a55b-ec1e038819c2",
   "metadata": {
    "tags": []
   },
   "outputs": [],
   "source": [
    "# # Run trials\n",
    "# role = get_execution_role()\n",
    "# sagemaker_session = sagemaker.Session()\n",
    "# region = sagemaker_session.boto_region_name\n",
    "\n",
    "# for hyperparameters in hyperparameter_sets:\n",
    "#     # Create a trial\n",
    "#     trial_name = f\"kmeans-trial-k-{hyperparameters['k']}-{int(time.time())}\"\n",
    "#     trial = Trial.create(\n",
    "#         trial_name=trial_name, \n",
    "#         experiment_name=experiment.experiment_name,\n",
    "#         sagemaker_boto_client=boto3.client('sagemaker'),\n",
    "#     )\n",
    "    \n",
    "#     # define output path\n",
    "#     output_path = f's3://team6experiments/{trial_name}/'\n",
    "    \n",
    "#     # Create the KMeans estimator\n",
    "#     kmeans = KMeans(role=role,\n",
    "#                     instance_count=1,\n",
    "#                     instance_type='ml.c4.xlarge',\n",
    "#                     k=int(hyperparameters['k']),\n",
    "#                     sagemaker_session=sagemaker_session,\n",
    "#                     output_path= output_path)\n",
    "\n",
    "#     # Fit the model\n",
    "#     kmeans.fit(kmeans.record_set(scaled_data), wait=True)"
   ]
  },
  {
   "cell_type": "markdown",
   "id": "2f6310f3-741e-48a6-b1f8-fa9bbe259ccd",
   "metadata": {},
   "source": [
    "### Calculate Silhouette Scores for KNN Models"
   ]
  },
  {
   "cell_type": "code",
   "execution_count": 33,
   "id": "b6b6d8c0-1ade-4d40-a09f-3e55baa3a73e",
   "metadata": {},
   "outputs": [],
   "source": [
    "# # define model artifacts and hyperparameters\n",
    "# model_artifacts = [\n",
    "#     {\n",
    "#         \"model_data\": \"s3://team6experiments/kmeans-trial-k-5-1711914356/kmeans-2024-03-31-19-46-11-504/output/model.tar.gz\", # need to get links to S3 artifacts first!\n",
    "#         \"hyperparameters\": {\"k\": 5}\n",
    "#     },\n",
    "#     {\n",
    "#         \"model_data\": \"s3://team6experiments/kmeans-trial-k-10-1711914593/kmeans-2024-03-31-19-50-08-046/output/model.tar.gz\", # need to get links to S3 artifacts first!\n",
    "#         \"hyperparameters\": {\"k\": 10}\n",
    "#     },\n",
    "#     {\n",
    "#         \"model_data\": \"s3://team6experiments/kmeans-trial-k-15-1711914830/kmeans-2024-03-31-19-54-05-839/output/model.tar.gz\", # need to get links to S3 artifacts first!\n",
    "#         \"hyperparameters\": {\"k\": 15}\n",
    "#     }\n",
    "# ]"
   ]
  },
  {
   "cell_type": "code",
   "execution_count": 34,
   "id": "05c97c80-d34f-47bf-8d20-4ecbaad72b60",
   "metadata": {
    "tags": []
   },
   "outputs": [],
   "source": [
    "# # automate deployment, prediction, and evaluation for KNN models\n",
    "# def deploy_predict_evaluate(model_data, hyperparameters):\n",
    "#     print(f\"Deploying model with data: {model_data}\")\n",
    "    \n",
    "#     # Define model\n",
    "#     model = Model(\n",
    "#         model_data=model_data,\n",
    "#         image_uri=sagemaker.image_uris.retrieve('kmeans', region),\n",
    "#         role=role,\n",
    "#         sagemaker_session=sagemaker_session\n",
    "#     )\n",
    "    \n",
    "#     # Attempt to deploy the model\n",
    "#     try:\n",
    "#         predictor = model.deploy(initial_instance_count=1, instance_type=\"ml.t2.medium\")\n",
    "#         print(\"Model deployed successfully.\")\n",
    "#     except Exception as e:\n",
    "#         print(f\"An error occurred during model deployment: {e}\")\n",
    "#         return None\n",
    "    \n",
    "#     if predictor:\n",
    "#         # Set serializer and deserializer\n",
    "#         predictor.serializer = CSVSerializer()\n",
    "#         predictor.deserializer = JSONDeserializer()\n",
    "        \n",
    "#         try:\n",
    "#             # Make predictions\n",
    "#             results = predictor.predict(scaled_data.tolist())\n",
    "#             cluster_labels = np.array([r['closest_cluster'] for r in results['predictions']])\n",
    "            \n",
    "#             # Evaluate with Silhouette Score\n",
    "#             score = silhouette_score(scaled_data, cluster_labels)\n",
    "#             print(f\"Silhouette Score for k={hyperparameters['k']}: {score}\")\n",
    "#         except Exception as e:\n",
    "#             print(f\"An error occurred during prediction or evaluation: {e}\")\n",
    "#             score = None\n",
    "#         finally:\n",
    "#             # Clean up\n",
    "#             try:\n",
    "#                 sagemaker.Session().delete_endpoint(predictor.endpoint_name)\n",
    "#                 print(\"Endpoint deleted successfully.\")\n",
    "#             except Exception as e:\n",
    "#                 print(f\"Failed to delete endpoint {predictor.endpoint_name}: {e}\")\n",
    "#     else:\n",
    "#         print(\"Deployment failed. Predictor is None.\")\n",
    "#         score = None\n",
    "    \n",
    "#     return score\n",
    "\n",
    "# # Assuming 'model_artifacts' and 'scaled_data' are defined earlier in your code\n",
    "# silhouette_scores = [deploy_predict_evaluate(artifact['model_data'], artifact['hyperparameters']) for artifact in model_artifacts]\n",
    "\n",
    "# print(\"Silhouette scores:\", silhouette_scores)"
   ]
  },
  {
   "cell_type": "code",
   "execution_count": 35,
   "id": "b6f0f597-1296-4884-880e-c91e75803be3",
   "metadata": {
    "tags": []
   },
   "outputs": [],
   "source": [
    "# # release end-point\n",
    "# sagemaker.Session().delete_endpoint(predictor.endpoint_name)"
   ]
  }
 ],
 "metadata": {
  "availableInstances": [
   {
    "_defaultOrder": 0,
    "_isFastLaunch": true,
    "category": "General purpose",
    "gpuNum": 0,
    "hideHardwareSpecs": false,
    "memoryGiB": 4,
    "name": "ml.t3.medium",
    "vcpuNum": 2
   },
   {
    "_defaultOrder": 1,
    "_isFastLaunch": false,
    "category": "General purpose",
    "gpuNum": 0,
    "hideHardwareSpecs": false,
    "memoryGiB": 8,
    "name": "ml.t3.large",
    "vcpuNum": 2
   },
   {
    "_defaultOrder": 2,
    "_isFastLaunch": false,
    "category": "General purpose",
    "gpuNum": 0,
    "hideHardwareSpecs": false,
    "memoryGiB": 16,
    "name": "ml.t3.xlarge",
    "vcpuNum": 4
   },
   {
    "_defaultOrder": 3,
    "_isFastLaunch": false,
    "category": "General purpose",
    "gpuNum": 0,
    "hideHardwareSpecs": false,
    "memoryGiB": 32,
    "name": "ml.t3.2xlarge",
    "vcpuNum": 8
   },
   {
    "_defaultOrder": 4,
    "_isFastLaunch": true,
    "category": "General purpose",
    "gpuNum": 0,
    "hideHardwareSpecs": false,
    "memoryGiB": 8,
    "name": "ml.m5.large",
    "vcpuNum": 2
   },
   {
    "_defaultOrder": 5,
    "_isFastLaunch": false,
    "category": "General purpose",
    "gpuNum": 0,
    "hideHardwareSpecs": false,
    "memoryGiB": 16,
    "name": "ml.m5.xlarge",
    "vcpuNum": 4
   },
   {
    "_defaultOrder": 6,
    "_isFastLaunch": false,
    "category": "General purpose",
    "gpuNum": 0,
    "hideHardwareSpecs": false,
    "memoryGiB": 32,
    "name": "ml.m5.2xlarge",
    "vcpuNum": 8
   },
   {
    "_defaultOrder": 7,
    "_isFastLaunch": false,
    "category": "General purpose",
    "gpuNum": 0,
    "hideHardwareSpecs": false,
    "memoryGiB": 64,
    "name": "ml.m5.4xlarge",
    "vcpuNum": 16
   },
   {
    "_defaultOrder": 8,
    "_isFastLaunch": false,
    "category": "General purpose",
    "gpuNum": 0,
    "hideHardwareSpecs": false,
    "memoryGiB": 128,
    "name": "ml.m5.8xlarge",
    "vcpuNum": 32
   },
   {
    "_defaultOrder": 9,
    "_isFastLaunch": false,
    "category": "General purpose",
    "gpuNum": 0,
    "hideHardwareSpecs": false,
    "memoryGiB": 192,
    "name": "ml.m5.12xlarge",
    "vcpuNum": 48
   },
   {
    "_defaultOrder": 10,
    "_isFastLaunch": false,
    "category": "General purpose",
    "gpuNum": 0,
    "hideHardwareSpecs": false,
    "memoryGiB": 256,
    "name": "ml.m5.16xlarge",
    "vcpuNum": 64
   },
   {
    "_defaultOrder": 11,
    "_isFastLaunch": false,
    "category": "General purpose",
    "gpuNum": 0,
    "hideHardwareSpecs": false,
    "memoryGiB": 384,
    "name": "ml.m5.24xlarge",
    "vcpuNum": 96
   },
   {
    "_defaultOrder": 12,
    "_isFastLaunch": false,
    "category": "General purpose",
    "gpuNum": 0,
    "hideHardwareSpecs": false,
    "memoryGiB": 8,
    "name": "ml.m5d.large",
    "vcpuNum": 2
   },
   {
    "_defaultOrder": 13,
    "_isFastLaunch": false,
    "category": "General purpose",
    "gpuNum": 0,
    "hideHardwareSpecs": false,
    "memoryGiB": 16,
    "name": "ml.m5d.xlarge",
    "vcpuNum": 4
   },
   {
    "_defaultOrder": 14,
    "_isFastLaunch": false,
    "category": "General purpose",
    "gpuNum": 0,
    "hideHardwareSpecs": false,
    "memoryGiB": 32,
    "name": "ml.m5d.2xlarge",
    "vcpuNum": 8
   },
   {
    "_defaultOrder": 15,
    "_isFastLaunch": false,
    "category": "General purpose",
    "gpuNum": 0,
    "hideHardwareSpecs": false,
    "memoryGiB": 64,
    "name": "ml.m5d.4xlarge",
    "vcpuNum": 16
   },
   {
    "_defaultOrder": 16,
    "_isFastLaunch": false,
    "category": "General purpose",
    "gpuNum": 0,
    "hideHardwareSpecs": false,
    "memoryGiB": 128,
    "name": "ml.m5d.8xlarge",
    "vcpuNum": 32
   },
   {
    "_defaultOrder": 17,
    "_isFastLaunch": false,
    "category": "General purpose",
    "gpuNum": 0,
    "hideHardwareSpecs": false,
    "memoryGiB": 192,
    "name": "ml.m5d.12xlarge",
    "vcpuNum": 48
   },
   {
    "_defaultOrder": 18,
    "_isFastLaunch": false,
    "category": "General purpose",
    "gpuNum": 0,
    "hideHardwareSpecs": false,
    "memoryGiB": 256,
    "name": "ml.m5d.16xlarge",
    "vcpuNum": 64
   },
   {
    "_defaultOrder": 19,
    "_isFastLaunch": false,
    "category": "General purpose",
    "gpuNum": 0,
    "hideHardwareSpecs": false,
    "memoryGiB": 384,
    "name": "ml.m5d.24xlarge",
    "vcpuNum": 96
   },
   {
    "_defaultOrder": 20,
    "_isFastLaunch": false,
    "category": "General purpose",
    "gpuNum": 0,
    "hideHardwareSpecs": true,
    "memoryGiB": 0,
    "name": "ml.geospatial.interactive",
    "supportedImageNames": [
     "sagemaker-geospatial-v1-0"
    ],
    "vcpuNum": 0
   },
   {
    "_defaultOrder": 21,
    "_isFastLaunch": true,
    "category": "Compute optimized",
    "gpuNum": 0,
    "hideHardwareSpecs": false,
    "memoryGiB": 4,
    "name": "ml.c5.large",
    "vcpuNum": 2
   },
   {
    "_defaultOrder": 22,
    "_isFastLaunch": false,
    "category": "Compute optimized",
    "gpuNum": 0,
    "hideHardwareSpecs": false,
    "memoryGiB": 8,
    "name": "ml.c5.xlarge",
    "vcpuNum": 4
   },
   {
    "_defaultOrder": 23,
    "_isFastLaunch": false,
    "category": "Compute optimized",
    "gpuNum": 0,
    "hideHardwareSpecs": false,
    "memoryGiB": 16,
    "name": "ml.c5.2xlarge",
    "vcpuNum": 8
   },
   {
    "_defaultOrder": 24,
    "_isFastLaunch": false,
    "category": "Compute optimized",
    "gpuNum": 0,
    "hideHardwareSpecs": false,
    "memoryGiB": 32,
    "name": "ml.c5.4xlarge",
    "vcpuNum": 16
   },
   {
    "_defaultOrder": 25,
    "_isFastLaunch": false,
    "category": "Compute optimized",
    "gpuNum": 0,
    "hideHardwareSpecs": false,
    "memoryGiB": 72,
    "name": "ml.c5.9xlarge",
    "vcpuNum": 36
   },
   {
    "_defaultOrder": 26,
    "_isFastLaunch": false,
    "category": "Compute optimized",
    "gpuNum": 0,
    "hideHardwareSpecs": false,
    "memoryGiB": 96,
    "name": "ml.c5.12xlarge",
    "vcpuNum": 48
   },
   {
    "_defaultOrder": 27,
    "_isFastLaunch": false,
    "category": "Compute optimized",
    "gpuNum": 0,
    "hideHardwareSpecs": false,
    "memoryGiB": 144,
    "name": "ml.c5.18xlarge",
    "vcpuNum": 72
   },
   {
    "_defaultOrder": 28,
    "_isFastLaunch": false,
    "category": "Compute optimized",
    "gpuNum": 0,
    "hideHardwareSpecs": false,
    "memoryGiB": 192,
    "name": "ml.c5.24xlarge",
    "vcpuNum": 96
   },
   {
    "_defaultOrder": 29,
    "_isFastLaunch": true,
    "category": "Accelerated computing",
    "gpuNum": 1,
    "hideHardwareSpecs": false,
    "memoryGiB": 16,
    "name": "ml.g4dn.xlarge",
    "vcpuNum": 4
   },
   {
    "_defaultOrder": 30,
    "_isFastLaunch": false,
    "category": "Accelerated computing",
    "gpuNum": 1,
    "hideHardwareSpecs": false,
    "memoryGiB": 32,
    "name": "ml.g4dn.2xlarge",
    "vcpuNum": 8
   },
   {
    "_defaultOrder": 31,
    "_isFastLaunch": false,
    "category": "Accelerated computing",
    "gpuNum": 1,
    "hideHardwareSpecs": false,
    "memoryGiB": 64,
    "name": "ml.g4dn.4xlarge",
    "vcpuNum": 16
   },
   {
    "_defaultOrder": 32,
    "_isFastLaunch": false,
    "category": "Accelerated computing",
    "gpuNum": 1,
    "hideHardwareSpecs": false,
    "memoryGiB": 128,
    "name": "ml.g4dn.8xlarge",
    "vcpuNum": 32
   },
   {
    "_defaultOrder": 33,
    "_isFastLaunch": false,
    "category": "Accelerated computing",
    "gpuNum": 4,
    "hideHardwareSpecs": false,
    "memoryGiB": 192,
    "name": "ml.g4dn.12xlarge",
    "vcpuNum": 48
   },
   {
    "_defaultOrder": 34,
    "_isFastLaunch": false,
    "category": "Accelerated computing",
    "gpuNum": 1,
    "hideHardwareSpecs": false,
    "memoryGiB": 256,
    "name": "ml.g4dn.16xlarge",
    "vcpuNum": 64
   },
   {
    "_defaultOrder": 35,
    "_isFastLaunch": false,
    "category": "Accelerated computing",
    "gpuNum": 1,
    "hideHardwareSpecs": false,
    "memoryGiB": 61,
    "name": "ml.p3.2xlarge",
    "vcpuNum": 8
   },
   {
    "_defaultOrder": 36,
    "_isFastLaunch": false,
    "category": "Accelerated computing",
    "gpuNum": 4,
    "hideHardwareSpecs": false,
    "memoryGiB": 244,
    "name": "ml.p3.8xlarge",
    "vcpuNum": 32
   },
   {
    "_defaultOrder": 37,
    "_isFastLaunch": false,
    "category": "Accelerated computing",
    "gpuNum": 8,
    "hideHardwareSpecs": false,
    "memoryGiB": 488,
    "name": "ml.p3.16xlarge",
    "vcpuNum": 64
   },
   {
    "_defaultOrder": 38,
    "_isFastLaunch": false,
    "category": "Accelerated computing",
    "gpuNum": 8,
    "hideHardwareSpecs": false,
    "memoryGiB": 768,
    "name": "ml.p3dn.24xlarge",
    "vcpuNum": 96
   },
   {
    "_defaultOrder": 39,
    "_isFastLaunch": false,
    "category": "Memory Optimized",
    "gpuNum": 0,
    "hideHardwareSpecs": false,
    "memoryGiB": 16,
    "name": "ml.r5.large",
    "vcpuNum": 2
   },
   {
    "_defaultOrder": 40,
    "_isFastLaunch": false,
    "category": "Memory Optimized",
    "gpuNum": 0,
    "hideHardwareSpecs": false,
    "memoryGiB": 32,
    "name": "ml.r5.xlarge",
    "vcpuNum": 4
   },
   {
    "_defaultOrder": 41,
    "_isFastLaunch": false,
    "category": "Memory Optimized",
    "gpuNum": 0,
    "hideHardwareSpecs": false,
    "memoryGiB": 64,
    "name": "ml.r5.2xlarge",
    "vcpuNum": 8
   },
   {
    "_defaultOrder": 42,
    "_isFastLaunch": false,
    "category": "Memory Optimized",
    "gpuNum": 0,
    "hideHardwareSpecs": false,
    "memoryGiB": 128,
    "name": "ml.r5.4xlarge",
    "vcpuNum": 16
   },
   {
    "_defaultOrder": 43,
    "_isFastLaunch": false,
    "category": "Memory Optimized",
    "gpuNum": 0,
    "hideHardwareSpecs": false,
    "memoryGiB": 256,
    "name": "ml.r5.8xlarge",
    "vcpuNum": 32
   },
   {
    "_defaultOrder": 44,
    "_isFastLaunch": false,
    "category": "Memory Optimized",
    "gpuNum": 0,
    "hideHardwareSpecs": false,
    "memoryGiB": 384,
    "name": "ml.r5.12xlarge",
    "vcpuNum": 48
   },
   {
    "_defaultOrder": 45,
    "_isFastLaunch": false,
    "category": "Memory Optimized",
    "gpuNum": 0,
    "hideHardwareSpecs": false,
    "memoryGiB": 512,
    "name": "ml.r5.16xlarge",
    "vcpuNum": 64
   },
   {
    "_defaultOrder": 46,
    "_isFastLaunch": false,
    "category": "Memory Optimized",
    "gpuNum": 0,
    "hideHardwareSpecs": false,
    "memoryGiB": 768,
    "name": "ml.r5.24xlarge",
    "vcpuNum": 96
   },
   {
    "_defaultOrder": 47,
    "_isFastLaunch": false,
    "category": "Accelerated computing",
    "gpuNum": 1,
    "hideHardwareSpecs": false,
    "memoryGiB": 16,
    "name": "ml.g5.xlarge",
    "vcpuNum": 4
   },
   {
    "_defaultOrder": 48,
    "_isFastLaunch": false,
    "category": "Accelerated computing",
    "gpuNum": 1,
    "hideHardwareSpecs": false,
    "memoryGiB": 32,
    "name": "ml.g5.2xlarge",
    "vcpuNum": 8
   },
   {
    "_defaultOrder": 49,
    "_isFastLaunch": false,
    "category": "Accelerated computing",
    "gpuNum": 1,
    "hideHardwareSpecs": false,
    "memoryGiB": 64,
    "name": "ml.g5.4xlarge",
    "vcpuNum": 16
   },
   {
    "_defaultOrder": 50,
    "_isFastLaunch": false,
    "category": "Accelerated computing",
    "gpuNum": 1,
    "hideHardwareSpecs": false,
    "memoryGiB": 128,
    "name": "ml.g5.8xlarge",
    "vcpuNum": 32
   },
   {
    "_defaultOrder": 51,
    "_isFastLaunch": false,
    "category": "Accelerated computing",
    "gpuNum": 1,
    "hideHardwareSpecs": false,
    "memoryGiB": 256,
    "name": "ml.g5.16xlarge",
    "vcpuNum": 64
   },
   {
    "_defaultOrder": 52,
    "_isFastLaunch": false,
    "category": "Accelerated computing",
    "gpuNum": 4,
    "hideHardwareSpecs": false,
    "memoryGiB": 192,
    "name": "ml.g5.12xlarge",
    "vcpuNum": 48
   },
   {
    "_defaultOrder": 53,
    "_isFastLaunch": false,
    "category": "Accelerated computing",
    "gpuNum": 4,
    "hideHardwareSpecs": false,
    "memoryGiB": 384,
    "name": "ml.g5.24xlarge",
    "vcpuNum": 96
   },
   {
    "_defaultOrder": 54,
    "_isFastLaunch": false,
    "category": "Accelerated computing",
    "gpuNum": 8,
    "hideHardwareSpecs": false,
    "memoryGiB": 768,
    "name": "ml.g5.48xlarge",
    "vcpuNum": 192
   },
   {
    "_defaultOrder": 55,
    "_isFastLaunch": false,
    "category": "Accelerated computing",
    "gpuNum": 8,
    "hideHardwareSpecs": false,
    "memoryGiB": 1152,
    "name": "ml.p4d.24xlarge",
    "vcpuNum": 96
   },
   {
    "_defaultOrder": 56,
    "_isFastLaunch": false,
    "category": "Accelerated computing",
    "gpuNum": 8,
    "hideHardwareSpecs": false,
    "memoryGiB": 1152,
    "name": "ml.p4de.24xlarge",
    "vcpuNum": 96
   },
   {
    "_defaultOrder": 57,
    "_isFastLaunch": false,
    "category": "Accelerated computing",
    "gpuNum": 0,
    "hideHardwareSpecs": false,
    "memoryGiB": 32,
    "name": "ml.trn1.2xlarge",
    "vcpuNum": 8
   },
   {
    "_defaultOrder": 58,
    "_isFastLaunch": false,
    "category": "Accelerated computing",
    "gpuNum": 0,
    "hideHardwareSpecs": false,
    "memoryGiB": 512,
    "name": "ml.trn1.32xlarge",
    "vcpuNum": 128
   },
   {
    "_defaultOrder": 59,
    "_isFastLaunch": false,
    "category": "Accelerated computing",
    "gpuNum": 0,
    "hideHardwareSpecs": false,
    "memoryGiB": 512,
    "name": "ml.trn1n.32xlarge",
    "vcpuNum": 128
   }
  ],
  "kernelspec": {
   "display_name": "Python 3 (Data Science 2.0)",
   "language": "python",
   "name": "python3__SAGEMAKER_INTERNAL__arn:aws:sagemaker:us-east-1:081325390199:image/sagemaker-data-science-38"
  },
  "language_info": {
   "codemirror_mode": {
    "name": "ipython",
    "version": 3
   },
   "file_extension": ".py",
   "mimetype": "text/x-python",
   "name": "python",
   "nbconvert_exporter": "python",
   "pygments_lexer": "ipython3",
   "version": "3.8.13"
  }
 },
 "nbformat": 4,
 "nbformat_minor": 5
}
