{
 "cells": [
  {
   "cell_type": "markdown",
   "id": "eadddb45-1d40-45ca-8683-76ea695c9e58",
   "metadata": {
    "tags": []
   },
   "source": [
    "# Model Training"
   ]
  },
  {
   "cell_type": "markdown",
   "id": "79242932-6806-414c-90d2-8cadb611266f",
   "metadata": {},
   "source": [
    "### Imports"
   ]
  },
  {
   "cell_type": "code",
   "execution_count": 5,
   "id": "74f29291-27e3-4b82-a12d-a0621c138fc6",
   "metadata": {
    "tags": []
   },
   "outputs": [],
   "source": [
    "import pandas as pd\n",
    "import numpy as np\n",
    "import matplotlib.pyplot as plt\n",
    "import seaborn as sns\n",
    "import boto3\n",
    "import re\n",
    "import os\n",
    "import io\n",
    "import time\n",
    "import tarfile\n",
    "import random\n",
    "import string\n",
    "import matplotlib.pyplot as plt\n",
    "from io import BytesIO\n",
    "from sklearn.preprocessing import StandardScaler\n",
    "from sklearn.feature_selection import VarianceThreshold\n",
    "from sklearn.cluster import KMeans\n",
    "import sagemaker\n",
    "from sagemaker import PCA, KMeans, get_execution_role, Session\n",
    "from sagemaker import KMeansModel, KMeansModel\n",
    "from sklearn.metrics import silhouette_score\n",
    "from sagemaker.model import Model\n",
    "from sagemaker.predictor import Predictor\n",
    "import json\n",
    "from sagemaker.serializers import JSONSerializer\n",
    "from sagemaker.serializers import CSVSerializer\n",
    "from sagemaker.deserializers import JSONDeserializer\n",
    "import pickle"
   ]
  },
  {
   "cell_type": "markdown",
   "id": "5ba079ce-de5a-43a2-9298-6dea3adc87cc",
   "metadata": {},
   "source": [
    "## Load Training Dataset from S3"
   ]
  },
  {
   "cell_type": "code",
   "execution_count": 7,
   "id": "d1dbf057-20fb-41f5-9d5d-3d98218b27db",
   "metadata": {
    "tags": []
   },
   "outputs": [],
   "source": [
    "train_df = pd.read_csv('s3://team6datasets/splitDatasets/train.csv')"
   ]
  },
  {
   "cell_type": "code",
   "execution_count": 8,
   "id": "a227c06a-7726-4ae4-9a05-eee2958450d7",
   "metadata": {
    "tags": []
   },
   "outputs": [
    {
     "data": {
      "text/plain": [
       "(284778, 46)"
      ]
     },
     "execution_count": 8,
     "metadata": {},
     "output_type": "execute_result"
    }
   ],
   "source": [
    "train_df.shape"
   ]
  },
  {
   "cell_type": "code",
   "execution_count": 9,
   "id": "10127560-bdfb-4d5e-acce-e871621b1942",
   "metadata": {
    "tags": []
   },
   "outputs": [
    {
     "data": {
      "text/html": [
       "<div>\n",
       "<style scoped>\n",
       "    .dataframe tbody tr th:only-of-type {\n",
       "        vertical-align: middle;\n",
       "    }\n",
       "\n",
       "    .dataframe tbody tr th {\n",
       "        vertical-align: top;\n",
       "    }\n",
       "\n",
       "    .dataframe thead th {\n",
       "        text-align: right;\n",
       "    }\n",
       "</style>\n",
       "<table border=\"1\" class=\"dataframe\">\n",
       "  <thead>\n",
       "    <tr style=\"text-align: right;\">\n",
       "      <th></th>\n",
       "      <th>CustomerID</th>\n",
       "      <th>gender_Agender</th>\n",
       "      <th>gender_Bigender</th>\n",
       "      <th>gender_Female</th>\n",
       "      <th>gender_Genderfluid</th>\n",
       "      <th>gender_Genderqueer</th>\n",
       "      <th>gender_Male</th>\n",
       "      <th>gender_Non-binary</th>\n",
       "      <th>gender_Polygender</th>\n",
       "      <th>Education_2n Cycle</th>\n",
       "      <th>...</th>\n",
       "      <th>SpendingCategory_Medium</th>\n",
       "      <th>SpendingCategory_High</th>\n",
       "      <th>SpendingCategory_Very High</th>\n",
       "      <th>IncomeLevel_Low</th>\n",
       "      <th>IncomeLevel_Medium</th>\n",
       "      <th>IncomeLevel_High</th>\n",
       "      <th>IncomeLevel_Very High</th>\n",
       "      <th>Purchase_Frequency</th>\n",
       "      <th>Age</th>\n",
       "      <th>Total_Spent_byCustomer</th>\n",
       "    </tr>\n",
       "  </thead>\n",
       "  <tbody>\n",
       "    <tr>\n",
       "      <th>0</th>\n",
       "      <td>4426</td>\n",
       "      <td>0</td>\n",
       "      <td>0</td>\n",
       "      <td>0</td>\n",
       "      <td>0</td>\n",
       "      <td>0</td>\n",
       "      <td>1</td>\n",
       "      <td>0</td>\n",
       "      <td>0</td>\n",
       "      <td>1</td>\n",
       "      <td>...</td>\n",
       "      <td>1</td>\n",
       "      <td>0</td>\n",
       "      <td>0</td>\n",
       "      <td>0</td>\n",
       "      <td>0</td>\n",
       "      <td>0</td>\n",
       "      <td>1</td>\n",
       "      <td>0.652632</td>\n",
       "      <td>0.892857</td>\n",
       "      <td>0.021736</td>\n",
       "    </tr>\n",
       "    <tr>\n",
       "      <th>1</th>\n",
       "      <td>1100</td>\n",
       "      <td>0</td>\n",
       "      <td>0</td>\n",
       "      <td>0</td>\n",
       "      <td>0</td>\n",
       "      <td>0</td>\n",
       "      <td>1</td>\n",
       "      <td>0</td>\n",
       "      <td>0</td>\n",
       "      <td>0</td>\n",
       "      <td>...</td>\n",
       "      <td>1</td>\n",
       "      <td>0</td>\n",
       "      <td>0</td>\n",
       "      <td>0</td>\n",
       "      <td>0</td>\n",
       "      <td>0</td>\n",
       "      <td>1</td>\n",
       "      <td>0.589474</td>\n",
       "      <td>0.839286</td>\n",
       "      <td>0.027672</td>\n",
       "    </tr>\n",
       "    <tr>\n",
       "      <th>2</th>\n",
       "      <td>3602</td>\n",
       "      <td>0</td>\n",
       "      <td>0</td>\n",
       "      <td>1</td>\n",
       "      <td>0</td>\n",
       "      <td>0</td>\n",
       "      <td>0</td>\n",
       "      <td>0</td>\n",
       "      <td>0</td>\n",
       "      <td>1</td>\n",
       "      <td>...</td>\n",
       "      <td>1</td>\n",
       "      <td>0</td>\n",
       "      <td>0</td>\n",
       "      <td>0</td>\n",
       "      <td>1</td>\n",
       "      <td>0</td>\n",
       "      <td>0</td>\n",
       "      <td>0.547368</td>\n",
       "      <td>0.678571</td>\n",
       "      <td>0.021624</td>\n",
       "    </tr>\n",
       "    <tr>\n",
       "      <th>3</th>\n",
       "      <td>5268</td>\n",
       "      <td>0</td>\n",
       "      <td>0</td>\n",
       "      <td>0</td>\n",
       "      <td>0</td>\n",
       "      <td>0</td>\n",
       "      <td>1</td>\n",
       "      <td>0</td>\n",
       "      <td>0</td>\n",
       "      <td>0</td>\n",
       "      <td>...</td>\n",
       "      <td>0</td>\n",
       "      <td>1</td>\n",
       "      <td>0</td>\n",
       "      <td>0</td>\n",
       "      <td>0</td>\n",
       "      <td>0</td>\n",
       "      <td>1</td>\n",
       "      <td>0.421053</td>\n",
       "      <td>0.714286</td>\n",
       "      <td>0.028717</td>\n",
       "    </tr>\n",
       "    <tr>\n",
       "      <th>4</th>\n",
       "      <td>716</td>\n",
       "      <td>0</td>\n",
       "      <td>0</td>\n",
       "      <td>0</td>\n",
       "      <td>0</td>\n",
       "      <td>0</td>\n",
       "      <td>1</td>\n",
       "      <td>0</td>\n",
       "      <td>0</td>\n",
       "      <td>0</td>\n",
       "      <td>...</td>\n",
       "      <td>1</td>\n",
       "      <td>0</td>\n",
       "      <td>0</td>\n",
       "      <td>0</td>\n",
       "      <td>0</td>\n",
       "      <td>0</td>\n",
       "      <td>1</td>\n",
       "      <td>0.421053</td>\n",
       "      <td>0.357143</td>\n",
       "      <td>0.024864</td>\n",
       "    </tr>\n",
       "  </tbody>\n",
       "</table>\n",
       "<p>5 rows × 46 columns</p>\n",
       "</div>"
      ],
      "text/plain": [
       "   CustomerID  gender_Agender  gender_Bigender  gender_Female  \\\n",
       "0        4426               0                0              0   \n",
       "1        1100               0                0              0   \n",
       "2        3602               0                0              1   \n",
       "3        5268               0                0              0   \n",
       "4         716               0                0              0   \n",
       "\n",
       "   gender_Genderfluid  gender_Genderqueer  gender_Male  gender_Non-binary  \\\n",
       "0                   0                   0            1                  0   \n",
       "1                   0                   0            1                  0   \n",
       "2                   0                   0            0                  0   \n",
       "3                   0                   0            1                  0   \n",
       "4                   0                   0            1                  0   \n",
       "\n",
       "   gender_Polygender  Education_2n Cycle  ...  SpendingCategory_Medium  \\\n",
       "0                  0                   1  ...                        1   \n",
       "1                  0                   0  ...                        1   \n",
       "2                  0                   1  ...                        1   \n",
       "3                  0                   0  ...                        0   \n",
       "4                  0                   0  ...                        1   \n",
       "\n",
       "   SpendingCategory_High  SpendingCategory_Very High  IncomeLevel_Low  \\\n",
       "0                      0                           0                0   \n",
       "1                      0                           0                0   \n",
       "2                      0                           0                0   \n",
       "3                      1                           0                0   \n",
       "4                      0                           0                0   \n",
       "\n",
       "   IncomeLevel_Medium  IncomeLevel_High  IncomeLevel_Very High  \\\n",
       "0                   0                 0                      1   \n",
       "1                   0                 0                      1   \n",
       "2                   1                 0                      0   \n",
       "3                   0                 0                      1   \n",
       "4                   0                 0                      1   \n",
       "\n",
       "   Purchase_Frequency       Age  Total_Spent_byCustomer  \n",
       "0            0.652632  0.892857                0.021736  \n",
       "1            0.589474  0.839286                0.027672  \n",
       "2            0.547368  0.678571                0.021624  \n",
       "3            0.421053  0.714286                0.028717  \n",
       "4            0.421053  0.357143                0.024864  \n",
       "\n",
       "[5 rows x 46 columns]"
      ]
     },
     "execution_count": 9,
     "metadata": {},
     "output_type": "execute_result"
    }
   ],
   "source": [
    "train_df.head()"
   ]
  },
  {
   "cell_type": "markdown",
   "id": "041a9007-8ecd-4968-9abd-080d48a513b4",
   "metadata": {},
   "source": [
    "## Sagemaker Session and Role"
   ]
  },
  {
   "cell_type": "code",
   "execution_count": 10,
   "id": "4d33cb53-4214-4a02-b5b2-db7e9456628e",
   "metadata": {
    "tags": []
   },
   "outputs": [
    {
     "name": "stdout",
     "output_type": "stream",
     "text": [
      "sagemaker.config INFO - Not applying SDK defaults from location: /etc/xdg/sagemaker/config.yaml\n",
      "sagemaker.config INFO - Not applying SDK defaults from location: /root/.config/sagemaker/config.yaml\n",
      "sagemaker.config INFO - Not applying SDK defaults from location: /etc/xdg/sagemaker/config.yaml\n",
      "sagemaker.config INFO - Not applying SDK defaults from location: /root/.config/sagemaker/config.yaml\n"
     ]
    }
   ],
   "source": [
    "# Define the SageMaker session and role\n",
    "sagemaker_session = Session()\n",
    "role = get_execution_role()"
   ]
  },
  {
   "cell_type": "markdown",
   "id": "4c59915f-d42e-4f10-828d-ae2cee939bcf",
   "metadata": {},
   "source": [
    "## Dimensionality Reduction using Variance"
   ]
  },
  {
   "cell_type": "code",
   "execution_count": 11,
   "id": "46fa8c41-f500-4d74-b977-a09827a91283",
   "metadata": {
    "tags": []
   },
   "outputs": [
    {
     "name": "stdout",
     "output_type": "stream",
     "text": [
      "Number of features removed: 35\n"
     ]
    }
   ],
   "source": [
    "# Set the variance threshold\n",
    "variance_threshold = 0.2\n",
    "\n",
    "# Create a VarianceThreshold object\n",
    "selector = VarianceThreshold(threshold=variance_threshold)\n",
    "\n",
    "# Fit the selector to the original data (train_df)\n",
    "selector.fit(train_df)\n",
    "\n",
    "# Get the support mask (boolean array indicating features to keep)\n",
    "support = selector.get_support(indices=True)\n",
    "\n",
    "# Select features based on the support mask\n",
    "reduced_features = train_df.iloc[:, support]  # Using .iloc for clarity\n",
    "\n",
    "# Now 'reduced_features' is a DataFrame containing features with variance exceeding the threshold\n",
    "print(f\"Number of features removed: {len(train_df.columns) - len(reduced_features.columns)}\")"
   ]
  },
  {
   "cell_type": "code",
   "execution_count": 12,
   "id": "091ea424-3332-4494-ba7f-794da5566403",
   "metadata": {},
   "outputs": [
    {
     "name": "stdout",
     "output_type": "stream",
     "text": [
      "Reduced Features DataFrame:\n"
     ]
    },
    {
     "data": {
      "text/html": [
       "<div>\n",
       "<style scoped>\n",
       "    .dataframe tbody tr th:only-of-type {\n",
       "        vertical-align: middle;\n",
       "    }\n",
       "\n",
       "    .dataframe tbody tr th {\n",
       "        vertical-align: top;\n",
       "    }\n",
       "\n",
       "    .dataframe thead th {\n",
       "        text-align: right;\n",
       "    }\n",
       "</style>\n",
       "<table border=\"1\" class=\"dataframe\">\n",
       "  <thead>\n",
       "    <tr style=\"text-align: right;\">\n",
       "      <th></th>\n",
       "      <th>CustomerID</th>\n",
       "      <th>gender_Female</th>\n",
       "      <th>gender_Male</th>\n",
       "      <th>Kidhome_0</th>\n",
       "      <th>Kidhome_1</th>\n",
       "      <th>Kidhome_2</th>\n",
       "      <th>Teenhome_0</th>\n",
       "      <th>Teenhome_1</th>\n",
       "      <th>Teenhome_2</th>\n",
       "      <th>region_Asia</th>\n",
       "      <th>region_Europe</th>\n",
       "    </tr>\n",
       "  </thead>\n",
       "  <tbody>\n",
       "    <tr>\n",
       "      <th>0</th>\n",
       "      <td>4426</td>\n",
       "      <td>0</td>\n",
       "      <td>1</td>\n",
       "      <td>1</td>\n",
       "      <td>0</td>\n",
       "      <td>0</td>\n",
       "      <td>0</td>\n",
       "      <td>1</td>\n",
       "      <td>0</td>\n",
       "      <td>1</td>\n",
       "      <td>0</td>\n",
       "    </tr>\n",
       "    <tr>\n",
       "      <th>1</th>\n",
       "      <td>1100</td>\n",
       "      <td>0</td>\n",
       "      <td>1</td>\n",
       "      <td>0</td>\n",
       "      <td>0</td>\n",
       "      <td>1</td>\n",
       "      <td>1</td>\n",
       "      <td>0</td>\n",
       "      <td>0</td>\n",
       "      <td>1</td>\n",
       "      <td>0</td>\n",
       "    </tr>\n",
       "    <tr>\n",
       "      <th>2</th>\n",
       "      <td>3602</td>\n",
       "      <td>1</td>\n",
       "      <td>0</td>\n",
       "      <td>0</td>\n",
       "      <td>0</td>\n",
       "      <td>1</td>\n",
       "      <td>0</td>\n",
       "      <td>0</td>\n",
       "      <td>1</td>\n",
       "      <td>1</td>\n",
       "      <td>0</td>\n",
       "    </tr>\n",
       "    <tr>\n",
       "      <th>3</th>\n",
       "      <td>5268</td>\n",
       "      <td>0</td>\n",
       "      <td>1</td>\n",
       "      <td>0</td>\n",
       "      <td>1</td>\n",
       "      <td>0</td>\n",
       "      <td>0</td>\n",
       "      <td>1</td>\n",
       "      <td>0</td>\n",
       "      <td>1</td>\n",
       "      <td>0</td>\n",
       "    </tr>\n",
       "    <tr>\n",
       "      <th>4</th>\n",
       "      <td>716</td>\n",
       "      <td>0</td>\n",
       "      <td>1</td>\n",
       "      <td>1</td>\n",
       "      <td>0</td>\n",
       "      <td>0</td>\n",
       "      <td>0</td>\n",
       "      <td>1</td>\n",
       "      <td>0</td>\n",
       "      <td>0</td>\n",
       "      <td>1</td>\n",
       "    </tr>\n",
       "  </tbody>\n",
       "</table>\n",
       "</div>"
      ],
      "text/plain": [
       "   CustomerID  gender_Female  gender_Male  Kidhome_0  Kidhome_1  Kidhome_2  \\\n",
       "0        4426              0            1          1          0          0   \n",
       "1        1100              0            1          0          0          1   \n",
       "2        3602              1            0          0          0          1   \n",
       "3        5268              0            1          0          1          0   \n",
       "4         716              0            1          1          0          0   \n",
       "\n",
       "   Teenhome_0  Teenhome_1  Teenhome_2  region_Asia  region_Europe  \n",
       "0           0           1           0            1              0  \n",
       "1           1           0           0            1              0  \n",
       "2           0           0           1            1              0  \n",
       "3           0           1           0            1              0  \n",
       "4           0           1           0            0              1  "
      ]
     },
     "execution_count": 12,
     "metadata": {},
     "output_type": "execute_result"
    }
   ],
   "source": [
    "# Show the reduced_features DataFrame\n",
    "print(\"Reduced Features DataFrame:\")\n",
    "reduced_features.head()"
   ]
  },
  {
   "cell_type": "code",
   "execution_count": 13,
   "id": "1535085b-ae75-4efa-b08c-08cdfc63f77b",
   "metadata": {},
   "outputs": [
    {
     "data": {
      "text/plain": [
       "(284778, 11)"
      ]
     },
     "execution_count": 13,
     "metadata": {},
     "output_type": "execute_result"
    }
   ],
   "source": [
    "reduced_features.shape"
   ]
  },
  {
   "cell_type": "markdown",
   "id": "d008dceb-113e-48f7-86af-67c525b902ef",
   "metadata": {},
   "source": [
    "## Model Training with KMeans Algorithm"
   ]
  },
  {
   "cell_type": "markdown",
   "id": "9e6936b5-b763-4927-874c-66cdb6bc94a4",
   "metadata": {},
   "source": [
    "### Use Elbow Method to Determine Ideal K"
   ]
  },
  {
   "cell_type": "code",
   "execution_count": 26,
   "id": "2884e5f2-ad72-4a41-8337-0608d548de67",
   "metadata": {
    "tags": []
   },
   "outputs": [
    {
     "name": "stdout",
     "output_type": "stream",
     "text": [
      "Elbow method already run. Image found in folder.\n"
     ]
    }
   ],
   "source": [
    "import os\n",
    "\n",
    "# Check if the image file already exists\n",
    "if os.path.isfile('elbow_method.png'):\n",
    "    print(\"Elbow method already run. Image found in folder.\")\n",
    "else:\n",
    "    # Define a range of k values\n",
    "    k_values = range(2, 11)  \n",
    "\n",
    "    # Convert the reduced_features DataFrame to float32\n",
    "    reduced_features_float32 = reduced_features.astype('float32')\n",
    "\n",
    "    # Train KMeans models for each k value and compute WCSS\n",
    "    wcss_values = []\n",
    "    for k in k_values:\n",
    "        kmeans = KMeans(role=role,\n",
    "                        instance_count=1,\n",
    "                        instance_type='ml.c4.xlarge',\n",
    "                        k=k)\n",
    "        kmeans.fit(kmeans.record_set(reduced_features_float32.values)) \n",
    "        # Filter the DataFrame for the row where metric_name is 'train:msd'\n",
    "        wcss_row = kmeans.training_job_analytics.dataframe().loc[kmeans.training_job_analytics.dataframe()['metric_name'] == 'train:msd']\n",
    "        # Extract the WCSS value from the 'value' column of the filtered row\n",
    "        wcss_value = wcss_row['value'].iloc[0]\n",
    "        # Append the WCSS value to the list\n",
    "        wcss_values.append(wcss_value)\n",
    "\n",
    "    # Plot the WCSS values against k\n",
    "    plt.plot(k_values, wcss_values, marker='o')\n",
    "    plt.title('Elbow Method')\n",
    "    plt.xlabel('Number of clusters (k)')\n",
    "    plt.ylabel('Within-cluster sum of squares (WCSS)')\n",
    "    plt.savefig('elbow_method.png')  # Save the plot as an image\n",
    "    plt.show()\n",
    "    print(\"Elbow method run successfully. Image saved in folder.\")\n"
   ]
  },
  {
   "cell_type": "code",
   "execution_count": 14,
   "id": "0ebc1040-bf8d-4de5-8b45-90a446cb8154",
   "metadata": {
    "tags": []
   },
   "outputs": [
    {
     "name": "stdout",
     "output_type": "stream",
     "text": [
      "Training model for k=4...\n",
      "sagemaker.config INFO - Not applying SDK defaults from location: /etc/xdg/sagemaker/config.yaml\n",
      "sagemaker.config INFO - Not applying SDK defaults from location: /root/.config/sagemaker/config.yaml\n"
     ]
    },
    {
     "name": "stderr",
     "output_type": "stream",
     "text": [
      "INFO:sagemaker.image_uris:Same images used for training and inference. Defaulting to image scope: inference.\n",
      "INFO:sagemaker.image_uris:Ignoring unnecessary instance type: None.\n",
      "INFO:sagemaker:Creating training-job with name: kmeans-4-142\n"
     ]
    },
    {
     "name": "stdout",
     "output_type": "stream",
     "text": [
      "2024-04-09 03:49:15 Starting - Starting the training job...\n",
      "2024-04-09 03:49:31 Starting - Preparing the instances for training...\n",
      "2024-04-09 03:50:05 Downloading - Downloading input data...\n",
      "2024-04-09 03:50:40 Downloading - Downloading the training image.........\n",
      "2024-04-09 03:52:11 Training - Training image download completed. Training in progress.\n",
      "2024-04-09 03:52:11 Uploading - Uploading generated training model\u001b[34mDocker entrypoint called with argument(s): train\u001b[0m\n",
      "\u001b[34mRunning default environment configuration script\u001b[0m\n",
      "\u001b[34m[04/09/2024 03:52:05 INFO 140689755305792] Reading default configuration from /opt/amazon/lib/python3.8/site-packages/algorithm/resources/default-input.json: {'init_method': 'random', 'mini_batch_size': '5000', 'epochs': '1', 'extra_center_factor': 'auto', 'local_lloyd_max_iter': '300', 'local_lloyd_tol': '0.0001', 'local_lloyd_init_method': 'kmeans++', 'local_lloyd_num_trials': 'auto', 'half_life_time_size': '0', 'eval_metrics': '[\"msd\"]', 'force_dense': 'true', '_disable_wait_to_read': 'false', '_enable_profiler': 'false', '_kvstore': 'auto', '_log_level': 'info', '_num_gpus': 'auto', '_num_kv_servers': '1', '_num_slices': '1', '_tuning_objective_metric': ''}\u001b[0m\n",
      "\u001b[34m[04/09/2024 03:52:05 INFO 140689755305792] Merging with provided configuration from /opt/ml/input/config/hyperparameters.json: {'feature_dim': '10', 'force_dense': 'True', 'k': '4'}\u001b[0m\n",
      "\u001b[34m[04/09/2024 03:52:05 INFO 140689755305792] Final configuration: {'init_method': 'random', 'mini_batch_size': '5000', 'epochs': '1', 'extra_center_factor': 'auto', 'local_lloyd_max_iter': '300', 'local_lloyd_tol': '0.0001', 'local_lloyd_init_method': 'kmeans++', 'local_lloyd_num_trials': 'auto', 'half_life_time_size': '0', 'eval_metrics': '[\"msd\"]', 'force_dense': 'True', '_disable_wait_to_read': 'false', '_enable_profiler': 'false', '_kvstore': 'auto', '_log_level': 'info', '_num_gpus': 'auto', '_num_kv_servers': '1', '_num_slices': '1', '_tuning_objective_metric': '', 'feature_dim': '10', 'k': '4'}\u001b[0m\n",
      "\u001b[34m/opt/amazon/lib/python3.8/site-packages/mxnet/model.py:97: SyntaxWarning: \"is\" with a literal. Did you mean \"==\"?\n",
      "  if num_device is 1 and 'dist' not in kvstore:\u001b[0m\n",
      "\u001b[34m[04/09/2024 03:52:07 WARNING 140689755305792] Loggers have already been setup.\u001b[0m\n",
      "\u001b[34m[04/09/2024 03:52:07 INFO 140689755305792] Final configuration: {'init_method': 'random', 'mini_batch_size': '5000', 'epochs': '1', 'extra_center_factor': 'auto', 'local_lloyd_max_iter': '300', 'local_lloyd_tol': '0.0001', 'local_lloyd_init_method': 'kmeans++', 'local_lloyd_num_trials': 'auto', 'half_life_time_size': '0', 'eval_metrics': '[\"msd\"]', 'force_dense': 'True', '_disable_wait_to_read': 'false', '_enable_profiler': 'false', '_kvstore': 'auto', '_log_level': 'info', '_num_gpus': 'auto', '_num_kv_servers': '1', '_num_slices': '1', '_tuning_objective_metric': '', 'feature_dim': '10', 'k': '4'}\u001b[0m\n",
      "\u001b[34m[04/09/2024 03:52:07 WARNING 140689755305792] Loggers have already been setup.\u001b[0m\n",
      "\u001b[34mProcess 7 is a worker.\u001b[0m\n",
      "\u001b[34m[04/09/2024 03:52:07 INFO 140689755305792] Using default worker.\u001b[0m\n",
      "\u001b[34m[04/09/2024 03:52:07 INFO 140689755305792] Loaded iterator creator application/x-recordio-protobuf for content type ('application/x-recordio-protobuf', '1.0')\u001b[0m\n",
      "\u001b[34m[04/09/2024 03:52:07 INFO 140689755305792] Create Store: local\u001b[0m\n",
      "\u001b[34m/opt/amazon/python3.8/lib/python3.8/subprocess.py:848: RuntimeWarning: line buffering (buffering=1) isn't supported in binary mode, the default buffer size will be used\n",
      "  self.stdout = io.open(c2pread, 'rb', bufsize)\u001b[0m\n",
      "\u001b[34m[04/09/2024 03:52:07 INFO 140689755305792] nvidia-smi: took 0.057 seconds to run.\u001b[0m\n",
      "\u001b[34m[04/09/2024 03:52:07 INFO 140689755305792] nvidia-smi identified 0 GPUs.\u001b[0m\n",
      "\u001b[34m[04/09/2024 03:52:07 INFO 140689755305792] Number of GPUs being used: 0\u001b[0m\n",
      "\u001b[34m[04/09/2024 03:52:07 INFO 140689755305792] Checkpoint loading and saving are disabled.\u001b[0m\n",
      "\u001b[34m[04/09/2024 03:52:07 INFO 140689755305792] Setting up with params: {'init_method': 'random', 'mini_batch_size': '5000', 'epochs': '1', 'extra_center_factor': 'auto', 'local_lloyd_max_iter': '300', 'local_lloyd_tol': '0.0001', 'local_lloyd_init_method': 'kmeans++', 'local_lloyd_num_trials': 'auto', 'half_life_time_size': '0', 'eval_metrics': '[\"msd\"]', 'force_dense': 'True', '_disable_wait_to_read': 'false', '_enable_profiler': 'false', '_kvstore': 'auto', '_log_level': 'info', '_num_gpus': 'auto', '_num_kv_servers': '1', '_num_slices': '1', '_tuning_objective_metric': '', 'feature_dim': '10', 'k': '4'}\u001b[0m\n",
      "\u001b[34m[04/09/2024 03:52:07 INFO 140689755305792] 'extra_center_factor' was set to 'auto', evaluated to 10.\u001b[0m\n",
      "\u001b[34m[04/09/2024 03:52:07 INFO 140689755305792] Number of GPUs being used: 0\u001b[0m\n",
      "\u001b[34m[04/09/2024 03:52:07 INFO 140689755305792] number of center slices 1\u001b[0m\n",
      "\u001b[34m#metrics {\"StartTime\": 1712634727.7173667, \"EndTime\": 1712634727.717411, \"Dimensions\": {\"Algorithm\": \"AWS/KMeansWebscale\", \"Host\": \"algo-1\", \"Operation\": \"training\", \"Meta\": \"init_train_data_iter\"}, \"Metrics\": {\"Total Records Seen\": {\"sum\": 5000.0, \"count\": 1, \"min\": 5000, \"max\": 5000}, \"Total Batches Seen\": {\"sum\": 1.0, \"count\": 1, \"min\": 1, \"max\": 1}, \"Max Records Seen Between Resets\": {\"sum\": 5000.0, \"count\": 1, \"min\": 5000, \"max\": 5000}, \"Max Batches Seen Between Resets\": {\"sum\": 1.0, \"count\": 1, \"min\": 1, \"max\": 1}, \"Reset Count\": {\"sum\": 0.0, \"count\": 1, \"min\": 0, \"max\": 0}, \"Number of Records Since Last Reset\": {\"sum\": 5000.0, \"count\": 1, \"min\": 5000, \"max\": 5000}, \"Number of Batches Since Last Reset\": {\"sum\": 1.0, \"count\": 1, \"min\": 1, \"max\": 1}}}\u001b[0m\n",
      "\u001b[34m[2024-04-09 03:52:07.722] [tensorio] [info] epoch_stats={\"data_pipeline\": \"/opt/ml/input/data/train\", \"epoch\": 0, \"duration\": 25, \"num_examples\": 1, \"num_bytes\": 320000}\u001b[0m\n",
      "\u001b[34m[04/09/2024 03:52:07 INFO 140689755305792] Iter 10: Short term msd 0.411269. Long term msd 0.436810\u001b[0m\n",
      "\u001b[34m[04/09/2024 03:52:07 INFO 140689755305792] Iter 20: Short term msd 0.384555. Long term msd 0.397057\u001b[0m\n",
      "\u001b[34m[04/09/2024 03:52:07 INFO 140689755305792] Iter 30: Short term msd 0.345415. Long term msd 0.360497\u001b[0m\n",
      "\u001b[34m[04/09/2024 03:52:08 INFO 140689755305792] Iter 40: Short term msd 0.338826. Long term msd 0.345900\u001b[0m\n",
      "\u001b[34m[04/09/2024 03:52:08 INFO 140689755305792] Iter 50: Short term msd 0.336903. Long term msd 0.339995\u001b[0m\n",
      "\u001b[34m[2024-04-09 03:52:08.148] [tensorio] [info] epoch_stats={\"data_pipeline\": \"/opt/ml/input/data/train\", \"epoch\": 1, \"duration\": 425, \"num_examples\": 57, \"num_bytes\": 18225792}\u001b[0m\n",
      "\u001b[34m[04/09/2024 03:52:08 INFO 140689755305792] processed a total of 284778 examples\u001b[0m\n",
      "\u001b[34m[04/09/2024 03:52:08 INFO 140689755305792] #progress_metric: host=algo-1, completed 100.0 % of epochs\u001b[0m\n",
      "\u001b[34m#metrics {\"StartTime\": 1712634727.7225704, \"EndTime\": 1712634728.1494782, \"Dimensions\": {\"Algorithm\": \"AWS/KMeansWebscale\", \"Host\": \"algo-1\", \"Operation\": \"training\", \"epoch\": 0, \"Meta\": \"training_data_iter\"}, \"Metrics\": {\"Total Records Seen\": {\"sum\": 289778.0, \"count\": 1, \"min\": 289778, \"max\": 289778}, \"Total Batches Seen\": {\"sum\": 58.0, \"count\": 1, \"min\": 58, \"max\": 58}, \"Max Records Seen Between Resets\": {\"sum\": 284778.0, \"count\": 1, \"min\": 284778, \"max\": 284778}, \"Max Batches Seen Between Resets\": {\"sum\": 57.0, \"count\": 1, \"min\": 57, \"max\": 57}, \"Reset Count\": {\"sum\": 1.0, \"count\": 1, \"min\": 1, \"max\": 1}, \"Number of Records Since Last Reset\": {\"sum\": 284778.0, \"count\": 1, \"min\": 284778, \"max\": 284778}, \"Number of Batches Since Last Reset\": {\"sum\": 57.0, \"count\": 1, \"min\": 57, \"max\": 57}}}\u001b[0m\n",
      "\u001b[34m[04/09/2024 03:52:08 INFO 140689755305792] #throughput_metric: host=algo-1, train throughput=666836.1074378089 records/second\u001b[0m\n",
      "\u001b[34m[04/09/2024 03:52:08 WARNING 140689755305792] wait_for_all_workers will not sync workers since the kv store is not running distributed\u001b[0m\n",
      "\u001b[34m[04/09/2024 03:52:08 INFO 140689755305792] shrinking 40 centers into 4\u001b[0m\n",
      "\u001b[34m[04/09/2024 03:52:08 INFO 140689755305792] local kmeans attempt #0. Current mean square distance 1.307212\u001b[0m\n",
      "\u001b[34m[04/09/2024 03:52:08 INFO 140689755305792] local kmeans attempt #1. Current mean square distance 1.346093\u001b[0m\n",
      "\u001b[34m[04/09/2024 03:52:08 INFO 140689755305792] local kmeans attempt #2. Current mean square distance 1.305537\u001b[0m\n",
      "\u001b[34m[04/09/2024 03:52:08 INFO 140689755305792] local kmeans attempt #3. Current mean square distance 1.236401\u001b[0m\n",
      "\u001b[34m[04/09/2024 03:52:08 INFO 140689755305792] local kmeans attempt #4. Current mean square distance 1.313499\u001b[0m\n",
      "\u001b[34m[04/09/2024 03:52:08 INFO 140689755305792] local kmeans attempt #5. Current mean square distance 1.344428\u001b[0m\n",
      "\u001b[34m[04/09/2024 03:52:08 INFO 140689755305792] local kmeans attempt #6. Current mean square distance 1.191461\u001b[0m\n",
      "\u001b[34m[04/09/2024 03:52:08 INFO 140689755305792] local kmeans attempt #7. Current mean square distance 1.349980\u001b[0m\n",
      "\u001b[34m[04/09/2024 03:52:08 INFO 140689755305792] local kmeans attempt #8. Current mean square distance 1.340896\u001b[0m\n",
      "\u001b[34m[04/09/2024 03:52:08 INFO 140689755305792] local kmeans attempt #9. Current mean square distance 1.290876\u001b[0m\n",
      "\u001b[34m[04/09/2024 03:52:08 INFO 140689755305792] finished shrinking process. Mean Square Distance = 1\u001b[0m\n",
      "\u001b[34m[04/09/2024 03:52:08 INFO 140689755305792] #quality_metric: host=algo-1, train msd <loss>=1.191461205482483\u001b[0m\n",
      "\u001b[34m[04/09/2024 03:52:08 INFO 140689755305792] predict compute msd took: 30.2147%, (0.129176 secs)\u001b[0m\n",
      "\u001b[34m[04/09/2024 03:52:08 INFO 140689755305792] gradient: cluster size  took: 17.9313%, (0.076661 secs)\u001b[0m\n",
      "\u001b[34m[04/09/2024 03:52:08 INFO 140689755305792] compute all data-center distances: inner product took: 13.1400%, (0.056177 secs)\u001b[0m\n",
      "\u001b[34m[04/09/2024 03:52:08 INFO 140689755305792] gradient: cluster center took: 9.8362%, (0.042053 secs)\u001b[0m\n",
      "\u001b[34m[04/09/2024 03:52:08 INFO 140689755305792] compute all data-center distances: point norm took: 6.2678%, (0.026797 secs)\u001b[0m\n",
      "\u001b[34m[04/09/2024 03:52:08 INFO 140689755305792] batch data loading with context took: 5.7653%, (0.024648 secs)\u001b[0m\n",
      "\u001b[34m[04/09/2024 03:52:08 INFO 140689755305792] update state and report convergance took: 5.0410%, (0.021552 secs)\u001b[0m\n",
      "\u001b[34m[04/09/2024 03:52:08 INFO 140689755305792] collect from kv store took: 4.1786%, (0.017865 secs)\u001b[0m\n",
      "\u001b[34m[04/09/2024 03:52:08 INFO 140689755305792] splitting centers key-value pair took: 2.9399%, (0.012569 secs)\u001b[0m\n",
      "\u001b[34m[04/09/2024 03:52:08 INFO 140689755305792] gradient: one_hot took: 2.5938%, (0.011089 secs)\u001b[0m\n",
      "\u001b[34m[04/09/2024 03:52:08 INFO 140689755305792] compute all data-center distances: center norm took: 1.7950%, (0.007674 secs)\u001b[0m\n",
      "\u001b[34m[04/09/2024 03:52:08 INFO 140689755305792] predict minus dist took: 0.2224%, (0.000951 secs)\u001b[0m\n",
      "\u001b[34m[04/09/2024 03:52:08 INFO 140689755305792] update set-up time took: 0.0739%, (0.000316 secs)\u001b[0m\n",
      "\u001b[34m[04/09/2024 03:52:08 INFO 140689755305792] TOTAL took: 0.42752766609191895\u001b[0m\n",
      "\u001b[34m[04/09/2024 03:52:08 INFO 140689755305792] Number of GPUs being used: 0\u001b[0m\n",
      "\u001b[34m#metrics {\"StartTime\": 1712634727.6967921, \"EndTime\": 1712634728.2679472, \"Dimensions\": {\"Algorithm\": \"AWS/KMeansWebscale\", \"Host\": \"algo-1\", \"Operation\": \"training\"}, \"Metrics\": {\"initialize.time\": {\"sum\": 14.140129089355469, \"count\": 1, \"min\": 14.140129089355469, \"max\": 14.140129089355469}, \"epochs\": {\"sum\": 1.0, \"count\": 1, \"min\": 1, \"max\": 1}, \"update.time\": {\"sum\": 426.68938636779785, \"count\": 1, \"min\": 426.68938636779785, \"max\": 426.68938636779785}, \"_shrink.time\": {\"sum\": 116.39261245727539, \"count\": 1, \"min\": 116.39261245727539, \"max\": 116.39261245727539}, \"finalize.time\": {\"sum\": 117.95473098754883, \"count\": 1, \"min\": 117.95473098754883, \"max\": 117.95473098754883}, \"model.serialize.time\": {\"sum\": 0.1926422119140625, \"count\": 1, \"min\": 0.1926422119140625, \"max\": 0.1926422119140625}}}\u001b[0m\n",
      "\u001b[34m[04/09/2024 03:52:08 INFO 140689755305792] Test data is not provided.\u001b[0m\n",
      "\u001b[34m#metrics {\"StartTime\": 1712634728.2680414, \"EndTime\": 1712634728.2693253, \"Dimensions\": {\"Algorithm\": \"AWS/KMeansWebscale\", \"Host\": \"algo-1\", \"Operation\": \"training\"}, \"Metrics\": {\"setuptime\": {\"sum\": 2.229452133178711, \"count\": 1, \"min\": 2.229452133178711, \"max\": 2.229452133178711}, \"totaltime\": {\"sum\": 647.5980281829834, \"count\": 1, \"min\": 647.5980281829834, \"max\": 647.5980281829834}}}\u001b[0m\n",
      "\n",
      "2024-04-09 03:52:27 Completed - Training job completed\n",
      "Training seconds: 142\n",
      "Billable seconds: 142\n",
      "Model for k=4 trained and saved to s3://team6datasets/kmeans_model_output//kmeans-4-142/output/\n"
     ]
    }
   ],
   "source": [
    "# Define a function to generate a random 3-digit serial number\n",
    "def generate_serial_number():\n",
    "    return ''.join(random.choices(string.digits, k=3))\n",
    "\n",
    "# Drop the CustomerID column from the feature DataFrame\n",
    "features_for_training = reduced_features.drop(columns=['CustomerID'])\n",
    "\n",
    "# Store CustomerID separately for reference\n",
    "customer_ids = reduced_features['CustomerID']\n",
    "\n",
    "# Initialize S3 client\n",
    "s3 = boto3.client('s3')\n",
    "\n",
    "# Define hyperparameters for KMeans model\n",
    "hyperparameters = {'k': 4, 'init_method': 'random'}\n",
    "\n",
    "# Set the output path\n",
    "output_path = 's3://team6datasets/kmeans_model_output/'\n",
    "\n",
    "# Set k value\n",
    "k_value = hyperparameters['k']\n",
    "model_output_path = f'{output_path}kmeans-{k_value}/output/'\n",
    "\n",
    "# Train the model\n",
    "print(f\"Training model for k={k_value}...\")\n",
    "\n",
    "# Convert DataFrame to NumPy array (excluding CustomerID)\n",
    "features_np = features_for_training.values.astype('float32')\n",
    "\n",
    "# Create KMeans estimator\n",
    "kmeans = KMeans(role=role,\n",
    "                instance_count=1,\n",
    "                instance_type='ml.c4.xlarge',\n",
    "                k=k_value,\n",
    "                output_path=output_path)\n",
    "\n",
    "# Generate a random 3-digit serial number for the job name\n",
    "serial_number = generate_serial_number()\n",
    "# Append the serial number to the job name\n",
    "job_name = f\"kmeans-{k_value}-{serial_number}\"\n",
    "\n",
    "\n",
    "# Set the output path with job name\n",
    "model_output_path = f'{output_path}/{job_name}/output/'\n",
    "\n",
    "# Fit the model with the updated output path\n",
    "kmeans.fit(kmeans.record_set(features_np), job_name=job_name)\n",
    "\n",
    "print(f\"Model for k={k_value} trained and saved to {model_output_path}\")\n"
   ]
  },
  {
   "cell_type": "markdown",
   "id": "8dd55442-7b6b-4430-9cd6-ce841610b5a6",
   "metadata": {},
   "source": [
    "## Model Validation"
   ]
  },
  {
   "cell_type": "markdown",
   "id": "af55e7d6-9c30-4f49-960d-d33634caba28",
   "metadata": {},
   "source": [
    "### Load Validation Data from S3"
   ]
  },
  {
   "cell_type": "code",
   "execution_count": 15,
   "id": "4b2f1850-5c2b-4c91-a2b1-b9e7d7d6d195",
   "metadata": {
    "tags": []
   },
   "outputs": [],
   "source": [
    "validate_df = pd.read_csv('s3://team6datasets/splitDatasets/validation.csv')"
   ]
  },
  {
   "cell_type": "code",
   "execution_count": 16,
   "id": "e29ddb45-b3d5-420d-9aef-4c713c00d4da",
   "metadata": {
    "tags": []
   },
   "outputs": [
    {
     "data": {
      "text/plain": [
       "(61024, 46)"
      ]
     },
     "execution_count": 16,
     "metadata": {},
     "output_type": "execute_result"
    }
   ],
   "source": [
    "validate_df.shape"
   ]
  },
  {
   "cell_type": "markdown",
   "id": "d05ebf68-36f8-44c3-963d-8cca4547e173",
   "metadata": {},
   "source": [
    "### Dimensionality Reduction using Variance "
   ]
  },
  {
   "cell_type": "code",
   "execution_count": 17,
   "id": "278edfb6-c729-4989-aadb-bf997bafcd8e",
   "metadata": {
    "tags": []
   },
   "outputs": [
    {
     "name": "stdout",
     "output_type": "stream",
     "text": [
      "Number of features removed: 35\n"
     ]
    }
   ],
   "source": [
    "# Set the variance threshold\n",
    "variance_threshold = 0.2\n",
    "\n",
    "# Create a VarianceThreshold object\n",
    "selector = VarianceThreshold(threshold=variance_threshold)\n",
    "\n",
    "# Fit the selector to the original data (train_df)\n",
    "selector.fit(validate_df)\n",
    "\n",
    "# Get the support mask (boolean array indicating features to keep)\n",
    "support = selector.get_support(indices=True)\n",
    "\n",
    "# Select features based on the support mask\n",
    "reduced_features_validate = validate_df.iloc[:, support]  # Using .iloc for clarity\n",
    "\n",
    "# Now 'reduced_features' is a DataFrame containing features with variance exceeding the threshold\n",
    "print(f\"Number of features removed: {len(validate_df.columns) - len(reduced_features_validate.columns)}\")"
   ]
  },
  {
   "cell_type": "code",
   "execution_count": 18,
   "id": "c082d381-702a-4bb9-aa55-f3bd3cde980b",
   "metadata": {
    "tags": []
   },
   "outputs": [
    {
     "name": "stdout",
     "output_type": "stream",
     "text": [
      "Reduced Features DataFrame:\n"
     ]
    },
    {
     "data": {
      "text/html": [
       "<div>\n",
       "<style scoped>\n",
       "    .dataframe tbody tr th:only-of-type {\n",
       "        vertical-align: middle;\n",
       "    }\n",
       "\n",
       "    .dataframe tbody tr th {\n",
       "        vertical-align: top;\n",
       "    }\n",
       "\n",
       "    .dataframe thead th {\n",
       "        text-align: right;\n",
       "    }\n",
       "</style>\n",
       "<table border=\"1\" class=\"dataframe\">\n",
       "  <thead>\n",
       "    <tr style=\"text-align: right;\">\n",
       "      <th></th>\n",
       "      <th>CustomerID</th>\n",
       "      <th>gender_Female</th>\n",
       "      <th>gender_Male</th>\n",
       "      <th>Kidhome_0</th>\n",
       "      <th>Kidhome_1</th>\n",
       "      <th>Kidhome_2</th>\n",
       "      <th>Teenhome_0</th>\n",
       "      <th>Teenhome_1</th>\n",
       "      <th>Teenhome_2</th>\n",
       "      <th>region_Asia</th>\n",
       "      <th>region_Europe</th>\n",
       "    </tr>\n",
       "  </thead>\n",
       "  <tbody>\n",
       "    <tr>\n",
       "      <th>0</th>\n",
       "      <td>9706</td>\n",
       "      <td>0</td>\n",
       "      <td>0</td>\n",
       "      <td>1</td>\n",
       "      <td>0</td>\n",
       "      <td>0</td>\n",
       "      <td>1</td>\n",
       "      <td>0</td>\n",
       "      <td>0</td>\n",
       "      <td>0</td>\n",
       "      <td>0</td>\n",
       "    </tr>\n",
       "    <tr>\n",
       "      <th>1</th>\n",
       "      <td>5555</td>\n",
       "      <td>1</td>\n",
       "      <td>0</td>\n",
       "      <td>0</td>\n",
       "      <td>0</td>\n",
       "      <td>1</td>\n",
       "      <td>0</td>\n",
       "      <td>0</td>\n",
       "      <td>1</td>\n",
       "      <td>0</td>\n",
       "      <td>0</td>\n",
       "    </tr>\n",
       "    <tr>\n",
       "      <th>2</th>\n",
       "      <td>3766</td>\n",
       "      <td>0</td>\n",
       "      <td>1</td>\n",
       "      <td>1</td>\n",
       "      <td>0</td>\n",
       "      <td>0</td>\n",
       "      <td>0</td>\n",
       "      <td>0</td>\n",
       "      <td>1</td>\n",
       "      <td>0</td>\n",
       "      <td>1</td>\n",
       "    </tr>\n",
       "    <tr>\n",
       "      <th>3</th>\n",
       "      <td>6515</td>\n",
       "      <td>1</td>\n",
       "      <td>0</td>\n",
       "      <td>1</td>\n",
       "      <td>0</td>\n",
       "      <td>0</td>\n",
       "      <td>0</td>\n",
       "      <td>0</td>\n",
       "      <td>1</td>\n",
       "      <td>0</td>\n",
       "      <td>0</td>\n",
       "    </tr>\n",
       "    <tr>\n",
       "      <th>4</th>\n",
       "      <td>1158</td>\n",
       "      <td>0</td>\n",
       "      <td>0</td>\n",
       "      <td>0</td>\n",
       "      <td>0</td>\n",
       "      <td>1</td>\n",
       "      <td>1</td>\n",
       "      <td>0</td>\n",
       "      <td>0</td>\n",
       "      <td>0</td>\n",
       "      <td>1</td>\n",
       "    </tr>\n",
       "  </tbody>\n",
       "</table>\n",
       "</div>"
      ],
      "text/plain": [
       "   CustomerID  gender_Female  gender_Male  Kidhome_0  Kidhome_1  Kidhome_2  \\\n",
       "0        9706              0            0          1          0          0   \n",
       "1        5555              1            0          0          0          1   \n",
       "2        3766              0            1          1          0          0   \n",
       "3        6515              1            0          1          0          0   \n",
       "4        1158              0            0          0          0          1   \n",
       "\n",
       "   Teenhome_0  Teenhome_1  Teenhome_2  region_Asia  region_Europe  \n",
       "0           1           0           0            0              0  \n",
       "1           0           0           1            0              0  \n",
       "2           0           0           1            0              1  \n",
       "3           0           0           1            0              0  \n",
       "4           1           0           0            0              1  "
      ]
     },
     "execution_count": 18,
     "metadata": {},
     "output_type": "execute_result"
    }
   ],
   "source": [
    "# Show the reduced_features_validate DataFrame\n",
    "print(\"Reduced Features DataFrame:\")\n",
    "reduced_features_validate.head()"
   ]
  },
  {
   "cell_type": "markdown",
   "id": "631f2ea5-7855-4583-b060-af922cfa14dd",
   "metadata": {},
   "source": [
    "### Validate Model"
   ]
  },
  {
   "cell_type": "code",
   "execution_count": 27,
   "id": "3f514cd7-94da-4f2f-b073-3e21fe77227f",
   "metadata": {
    "tags": []
   },
   "outputs": [
    {
     "name": "stdout",
     "output_type": "stream",
     "text": [
      "sagemaker.config INFO - Not applying SDK defaults from location: /etc/xdg/sagemaker/config.yaml\n",
      "sagemaker.config INFO - Not applying SDK defaults from location: /root/.config/sagemaker/config.yaml\n",
      "sagemaker.config INFO - Not applying SDK defaults from location: /etc/xdg/sagemaker/config.yaml\n",
      "sagemaker.config INFO - Not applying SDK defaults from location: /root/.config/sagemaker/config.yaml\n",
      "sagemaker.config INFO - Not applying SDK defaults from location: /etc/xdg/sagemaker/config.yaml\n",
      "sagemaker.config INFO - Not applying SDK defaults from location: /root/.config/sagemaker/config.yaml\n"
     ]
    },
    {
     "name": "stderr",
     "output_type": "stream",
     "text": [
      "INFO:sagemaker:Creating model with name: kmeans-2024-04-09-05-42-17-820\n",
      "INFO:sagemaker:Creating endpoint-config with name kmeans-endpoint-095\n",
      "INFO:sagemaker:Creating endpoint with name kmeans-endpoint-095\n"
     ]
    },
    {
     "name": "stdout",
     "output_type": "stream",
     "text": [
      "------!Endpoint deployed successfully!\n",
      "Failed to deploy endpoint or predictor is not properly initialized.\n"
     ]
    }
   ],
   "source": [
    "# Generate a random 3-digit serial number\n",
    "serial_number = ''.join(random.choices(string.digits, k=3))\n",
    "\n",
    "# Define the endpoint name with the serial number appended\n",
    "endpoint_name = f'kmeans-endpoint-{serial_number}'\n",
    "\n",
    "# Define the role\n",
    "role = get_execution_role()\n",
    "\n",
    "# Load the trained model\n",
    "model_key = f'kmeans_model_output/{job_name}/output/model.tar.gz'\n",
    "model_location = f's3://team6datasets/{model_key}'\n",
    "\n",
    "# Create a SageMaker Model object\n",
    "model = Model(model_data=model_location,\n",
    "              image_uri='382416733822.dkr.ecr.us-east-1.amazonaws.com/kmeans:1',  \n",
    "              role=role)\n",
    "\n",
    "try:\n",
    "    # Deploy the model to create an endpoint\n",
    "    predictor = model.deploy(initial_instance_count=1,\n",
    "                             instance_type='ml.c4.xlarge',\n",
    "                             endpoint_name=endpoint_name)\n",
    "    \n",
    "    print(\"Endpoint deployed successfully!\")\n",
    "\n",
    "    # Check if predictor is properly initialized\n",
    "    if predictor is not None and predictor.endpoint_name is not None:\n",
    "        # Extract features for validation (excluding CustomerID)\n",
    "        features_for_validation = reduced_features_validate.drop(columns=['CustomerID'])\n",
    "        features_np_validation = features_for_validation.values.astype('float32')\n",
    "\n",
    "        # Convert data to JSON format\n",
    "        json_data = json.dumps(features_np_validation.tolist())  # Convert NumPy array to a list for JSON\n",
    "\n",
    "        # Serialize the JSON data to bytes\n",
    "        buffer = BytesIO()\n",
    "        buffer.write(json_data.encode('utf-8'))  # Encode JSON string as UTF-8 bytes\n",
    "        buffer.seek(0)\n",
    "        data_bytes = buffer.read()\n",
    "\n",
    "        # Predict clusters for the validation data with content type set to application/json\n",
    "        initial_args = {'ContentType': 'application/json'}\n",
    "        clusters = predictor.predict(data_bytes, initial_args=initial_args)\n",
    "\n",
    "        # Add the cluster labels to the validation DataFrame\n",
    "        reduced_features_validate['Cluster'] = clusters\n",
    "        print(\"Prediction successful. Cluster labels added to validation DataFrame.\")\n",
    "    else:\n",
    "        print(\"Failed to deploy endpoint or predictor is not properly initialized.\")\n",
    "\n",
    "except Exception as e:\n",
    "    print(\"Failed to deploy endpoint:\", e)\n",
    "    \n",
    "    # Optional: Rollback the endpoint creation if it fails\n",
    "    if predictor:\n",
    "        predictor.delete_endpoint()\n"
   ]
  },
  {
   "cell_type": "markdown",
   "id": "d7c4388c-ca72-41a1-b297-63ce33946f59",
   "metadata": {},
   "source": [
    "## Evaluating KMeans Model"
   ]
  }
 ],
 "metadata": {
  "availableInstances": [
   {
    "_defaultOrder": 0,
    "_isFastLaunch": true,
    "category": "General purpose",
    "gpuNum": 0,
    "hideHardwareSpecs": false,
    "memoryGiB": 4,
    "name": "ml.t3.medium",
    "vcpuNum": 2
   },
   {
    "_defaultOrder": 1,
    "_isFastLaunch": false,
    "category": "General purpose",
    "gpuNum": 0,
    "hideHardwareSpecs": false,
    "memoryGiB": 8,
    "name": "ml.t3.large",
    "vcpuNum": 2
   },
   {
    "_defaultOrder": 2,
    "_isFastLaunch": false,
    "category": "General purpose",
    "gpuNum": 0,
    "hideHardwareSpecs": false,
    "memoryGiB": 16,
    "name": "ml.t3.xlarge",
    "vcpuNum": 4
   },
   {
    "_defaultOrder": 3,
    "_isFastLaunch": false,
    "category": "General purpose",
    "gpuNum": 0,
    "hideHardwareSpecs": false,
    "memoryGiB": 32,
    "name": "ml.t3.2xlarge",
    "vcpuNum": 8
   },
   {
    "_defaultOrder": 4,
    "_isFastLaunch": true,
    "category": "General purpose",
    "gpuNum": 0,
    "hideHardwareSpecs": false,
    "memoryGiB": 8,
    "name": "ml.m5.large",
    "vcpuNum": 2
   },
   {
    "_defaultOrder": 5,
    "_isFastLaunch": false,
    "category": "General purpose",
    "gpuNum": 0,
    "hideHardwareSpecs": false,
    "memoryGiB": 16,
    "name": "ml.m5.xlarge",
    "vcpuNum": 4
   },
   {
    "_defaultOrder": 6,
    "_isFastLaunch": false,
    "category": "General purpose",
    "gpuNum": 0,
    "hideHardwareSpecs": false,
    "memoryGiB": 32,
    "name": "ml.m5.2xlarge",
    "vcpuNum": 8
   },
   {
    "_defaultOrder": 7,
    "_isFastLaunch": false,
    "category": "General purpose",
    "gpuNum": 0,
    "hideHardwareSpecs": false,
    "memoryGiB": 64,
    "name": "ml.m5.4xlarge",
    "vcpuNum": 16
   },
   {
    "_defaultOrder": 8,
    "_isFastLaunch": false,
    "category": "General purpose",
    "gpuNum": 0,
    "hideHardwareSpecs": false,
    "memoryGiB": 128,
    "name": "ml.m5.8xlarge",
    "vcpuNum": 32
   },
   {
    "_defaultOrder": 9,
    "_isFastLaunch": false,
    "category": "General purpose",
    "gpuNum": 0,
    "hideHardwareSpecs": false,
    "memoryGiB": 192,
    "name": "ml.m5.12xlarge",
    "vcpuNum": 48
   },
   {
    "_defaultOrder": 10,
    "_isFastLaunch": false,
    "category": "General purpose",
    "gpuNum": 0,
    "hideHardwareSpecs": false,
    "memoryGiB": 256,
    "name": "ml.m5.16xlarge",
    "vcpuNum": 64
   },
   {
    "_defaultOrder": 11,
    "_isFastLaunch": false,
    "category": "General purpose",
    "gpuNum": 0,
    "hideHardwareSpecs": false,
    "memoryGiB": 384,
    "name": "ml.m5.24xlarge",
    "vcpuNum": 96
   },
   {
    "_defaultOrder": 12,
    "_isFastLaunch": false,
    "category": "General purpose",
    "gpuNum": 0,
    "hideHardwareSpecs": false,
    "memoryGiB": 8,
    "name": "ml.m5d.large",
    "vcpuNum": 2
   },
   {
    "_defaultOrder": 13,
    "_isFastLaunch": false,
    "category": "General purpose",
    "gpuNum": 0,
    "hideHardwareSpecs": false,
    "memoryGiB": 16,
    "name": "ml.m5d.xlarge",
    "vcpuNum": 4
   },
   {
    "_defaultOrder": 14,
    "_isFastLaunch": false,
    "category": "General purpose",
    "gpuNum": 0,
    "hideHardwareSpecs": false,
    "memoryGiB": 32,
    "name": "ml.m5d.2xlarge",
    "vcpuNum": 8
   },
   {
    "_defaultOrder": 15,
    "_isFastLaunch": false,
    "category": "General purpose",
    "gpuNum": 0,
    "hideHardwareSpecs": false,
    "memoryGiB": 64,
    "name": "ml.m5d.4xlarge",
    "vcpuNum": 16
   },
   {
    "_defaultOrder": 16,
    "_isFastLaunch": false,
    "category": "General purpose",
    "gpuNum": 0,
    "hideHardwareSpecs": false,
    "memoryGiB": 128,
    "name": "ml.m5d.8xlarge",
    "vcpuNum": 32
   },
   {
    "_defaultOrder": 17,
    "_isFastLaunch": false,
    "category": "General purpose",
    "gpuNum": 0,
    "hideHardwareSpecs": false,
    "memoryGiB": 192,
    "name": "ml.m5d.12xlarge",
    "vcpuNum": 48
   },
   {
    "_defaultOrder": 18,
    "_isFastLaunch": false,
    "category": "General purpose",
    "gpuNum": 0,
    "hideHardwareSpecs": false,
    "memoryGiB": 256,
    "name": "ml.m5d.16xlarge",
    "vcpuNum": 64
   },
   {
    "_defaultOrder": 19,
    "_isFastLaunch": false,
    "category": "General purpose",
    "gpuNum": 0,
    "hideHardwareSpecs": false,
    "memoryGiB": 384,
    "name": "ml.m5d.24xlarge",
    "vcpuNum": 96
   },
   {
    "_defaultOrder": 20,
    "_isFastLaunch": false,
    "category": "General purpose",
    "gpuNum": 0,
    "hideHardwareSpecs": true,
    "memoryGiB": 0,
    "name": "ml.geospatial.interactive",
    "supportedImageNames": [
     "sagemaker-geospatial-v1-0"
    ],
    "vcpuNum": 0
   },
   {
    "_defaultOrder": 21,
    "_isFastLaunch": true,
    "category": "Compute optimized",
    "gpuNum": 0,
    "hideHardwareSpecs": false,
    "memoryGiB": 4,
    "name": "ml.c5.large",
    "vcpuNum": 2
   },
   {
    "_defaultOrder": 22,
    "_isFastLaunch": false,
    "category": "Compute optimized",
    "gpuNum": 0,
    "hideHardwareSpecs": false,
    "memoryGiB": 8,
    "name": "ml.c5.xlarge",
    "vcpuNum": 4
   },
   {
    "_defaultOrder": 23,
    "_isFastLaunch": false,
    "category": "Compute optimized",
    "gpuNum": 0,
    "hideHardwareSpecs": false,
    "memoryGiB": 16,
    "name": "ml.c5.2xlarge",
    "vcpuNum": 8
   },
   {
    "_defaultOrder": 24,
    "_isFastLaunch": false,
    "category": "Compute optimized",
    "gpuNum": 0,
    "hideHardwareSpecs": false,
    "memoryGiB": 32,
    "name": "ml.c5.4xlarge",
    "vcpuNum": 16
   },
   {
    "_defaultOrder": 25,
    "_isFastLaunch": false,
    "category": "Compute optimized",
    "gpuNum": 0,
    "hideHardwareSpecs": false,
    "memoryGiB": 72,
    "name": "ml.c5.9xlarge",
    "vcpuNum": 36
   },
   {
    "_defaultOrder": 26,
    "_isFastLaunch": false,
    "category": "Compute optimized",
    "gpuNum": 0,
    "hideHardwareSpecs": false,
    "memoryGiB": 96,
    "name": "ml.c5.12xlarge",
    "vcpuNum": 48
   },
   {
    "_defaultOrder": 27,
    "_isFastLaunch": false,
    "category": "Compute optimized",
    "gpuNum": 0,
    "hideHardwareSpecs": false,
    "memoryGiB": 144,
    "name": "ml.c5.18xlarge",
    "vcpuNum": 72
   },
   {
    "_defaultOrder": 28,
    "_isFastLaunch": false,
    "category": "Compute optimized",
    "gpuNum": 0,
    "hideHardwareSpecs": false,
    "memoryGiB": 192,
    "name": "ml.c5.24xlarge",
    "vcpuNum": 96
   },
   {
    "_defaultOrder": 29,
    "_isFastLaunch": true,
    "category": "Accelerated computing",
    "gpuNum": 1,
    "hideHardwareSpecs": false,
    "memoryGiB": 16,
    "name": "ml.g4dn.xlarge",
    "vcpuNum": 4
   },
   {
    "_defaultOrder": 30,
    "_isFastLaunch": false,
    "category": "Accelerated computing",
    "gpuNum": 1,
    "hideHardwareSpecs": false,
    "memoryGiB": 32,
    "name": "ml.g4dn.2xlarge",
    "vcpuNum": 8
   },
   {
    "_defaultOrder": 31,
    "_isFastLaunch": false,
    "category": "Accelerated computing",
    "gpuNum": 1,
    "hideHardwareSpecs": false,
    "memoryGiB": 64,
    "name": "ml.g4dn.4xlarge",
    "vcpuNum": 16
   },
   {
    "_defaultOrder": 32,
    "_isFastLaunch": false,
    "category": "Accelerated computing",
    "gpuNum": 1,
    "hideHardwareSpecs": false,
    "memoryGiB": 128,
    "name": "ml.g4dn.8xlarge",
    "vcpuNum": 32
   },
   {
    "_defaultOrder": 33,
    "_isFastLaunch": false,
    "category": "Accelerated computing",
    "gpuNum": 4,
    "hideHardwareSpecs": false,
    "memoryGiB": 192,
    "name": "ml.g4dn.12xlarge",
    "vcpuNum": 48
   },
   {
    "_defaultOrder": 34,
    "_isFastLaunch": false,
    "category": "Accelerated computing",
    "gpuNum": 1,
    "hideHardwareSpecs": false,
    "memoryGiB": 256,
    "name": "ml.g4dn.16xlarge",
    "vcpuNum": 64
   },
   {
    "_defaultOrder": 35,
    "_isFastLaunch": false,
    "category": "Accelerated computing",
    "gpuNum": 1,
    "hideHardwareSpecs": false,
    "memoryGiB": 61,
    "name": "ml.p3.2xlarge",
    "vcpuNum": 8
   },
   {
    "_defaultOrder": 36,
    "_isFastLaunch": false,
    "category": "Accelerated computing",
    "gpuNum": 4,
    "hideHardwareSpecs": false,
    "memoryGiB": 244,
    "name": "ml.p3.8xlarge",
    "vcpuNum": 32
   },
   {
    "_defaultOrder": 37,
    "_isFastLaunch": false,
    "category": "Accelerated computing",
    "gpuNum": 8,
    "hideHardwareSpecs": false,
    "memoryGiB": 488,
    "name": "ml.p3.16xlarge",
    "vcpuNum": 64
   },
   {
    "_defaultOrder": 38,
    "_isFastLaunch": false,
    "category": "Accelerated computing",
    "gpuNum": 8,
    "hideHardwareSpecs": false,
    "memoryGiB": 768,
    "name": "ml.p3dn.24xlarge",
    "vcpuNum": 96
   },
   {
    "_defaultOrder": 39,
    "_isFastLaunch": false,
    "category": "Memory Optimized",
    "gpuNum": 0,
    "hideHardwareSpecs": false,
    "memoryGiB": 16,
    "name": "ml.r5.large",
    "vcpuNum": 2
   },
   {
    "_defaultOrder": 40,
    "_isFastLaunch": false,
    "category": "Memory Optimized",
    "gpuNum": 0,
    "hideHardwareSpecs": false,
    "memoryGiB": 32,
    "name": "ml.r5.xlarge",
    "vcpuNum": 4
   },
   {
    "_defaultOrder": 41,
    "_isFastLaunch": false,
    "category": "Memory Optimized",
    "gpuNum": 0,
    "hideHardwareSpecs": false,
    "memoryGiB": 64,
    "name": "ml.r5.2xlarge",
    "vcpuNum": 8
   },
   {
    "_defaultOrder": 42,
    "_isFastLaunch": false,
    "category": "Memory Optimized",
    "gpuNum": 0,
    "hideHardwareSpecs": false,
    "memoryGiB": 128,
    "name": "ml.r5.4xlarge",
    "vcpuNum": 16
   },
   {
    "_defaultOrder": 43,
    "_isFastLaunch": false,
    "category": "Memory Optimized",
    "gpuNum": 0,
    "hideHardwareSpecs": false,
    "memoryGiB": 256,
    "name": "ml.r5.8xlarge",
    "vcpuNum": 32
   },
   {
    "_defaultOrder": 44,
    "_isFastLaunch": false,
    "category": "Memory Optimized",
    "gpuNum": 0,
    "hideHardwareSpecs": false,
    "memoryGiB": 384,
    "name": "ml.r5.12xlarge",
    "vcpuNum": 48
   },
   {
    "_defaultOrder": 45,
    "_isFastLaunch": false,
    "category": "Memory Optimized",
    "gpuNum": 0,
    "hideHardwareSpecs": false,
    "memoryGiB": 512,
    "name": "ml.r5.16xlarge",
    "vcpuNum": 64
   },
   {
    "_defaultOrder": 46,
    "_isFastLaunch": false,
    "category": "Memory Optimized",
    "gpuNum": 0,
    "hideHardwareSpecs": false,
    "memoryGiB": 768,
    "name": "ml.r5.24xlarge",
    "vcpuNum": 96
   },
   {
    "_defaultOrder": 47,
    "_isFastLaunch": false,
    "category": "Accelerated computing",
    "gpuNum": 1,
    "hideHardwareSpecs": false,
    "memoryGiB": 16,
    "name": "ml.g5.xlarge",
    "vcpuNum": 4
   },
   {
    "_defaultOrder": 48,
    "_isFastLaunch": false,
    "category": "Accelerated computing",
    "gpuNum": 1,
    "hideHardwareSpecs": false,
    "memoryGiB": 32,
    "name": "ml.g5.2xlarge",
    "vcpuNum": 8
   },
   {
    "_defaultOrder": 49,
    "_isFastLaunch": false,
    "category": "Accelerated computing",
    "gpuNum": 1,
    "hideHardwareSpecs": false,
    "memoryGiB": 64,
    "name": "ml.g5.4xlarge",
    "vcpuNum": 16
   },
   {
    "_defaultOrder": 50,
    "_isFastLaunch": false,
    "category": "Accelerated computing",
    "gpuNum": 1,
    "hideHardwareSpecs": false,
    "memoryGiB": 128,
    "name": "ml.g5.8xlarge",
    "vcpuNum": 32
   },
   {
    "_defaultOrder": 51,
    "_isFastLaunch": false,
    "category": "Accelerated computing",
    "gpuNum": 1,
    "hideHardwareSpecs": false,
    "memoryGiB": 256,
    "name": "ml.g5.16xlarge",
    "vcpuNum": 64
   },
   {
    "_defaultOrder": 52,
    "_isFastLaunch": false,
    "category": "Accelerated computing",
    "gpuNum": 4,
    "hideHardwareSpecs": false,
    "memoryGiB": 192,
    "name": "ml.g5.12xlarge",
    "vcpuNum": 48
   },
   {
    "_defaultOrder": 53,
    "_isFastLaunch": false,
    "category": "Accelerated computing",
    "gpuNum": 4,
    "hideHardwareSpecs": false,
    "memoryGiB": 384,
    "name": "ml.g5.24xlarge",
    "vcpuNum": 96
   },
   {
    "_defaultOrder": 54,
    "_isFastLaunch": false,
    "category": "Accelerated computing",
    "gpuNum": 8,
    "hideHardwareSpecs": false,
    "memoryGiB": 768,
    "name": "ml.g5.48xlarge",
    "vcpuNum": 192
   },
   {
    "_defaultOrder": 55,
    "_isFastLaunch": false,
    "category": "Accelerated computing",
    "gpuNum": 8,
    "hideHardwareSpecs": false,
    "memoryGiB": 1152,
    "name": "ml.p4d.24xlarge",
    "vcpuNum": 96
   },
   {
    "_defaultOrder": 56,
    "_isFastLaunch": false,
    "category": "Accelerated computing",
    "gpuNum": 8,
    "hideHardwareSpecs": false,
    "memoryGiB": 1152,
    "name": "ml.p4de.24xlarge",
    "vcpuNum": 96
   },
   {
    "_defaultOrder": 57,
    "_isFastLaunch": false,
    "category": "Accelerated computing",
    "gpuNum": 0,
    "hideHardwareSpecs": false,
    "memoryGiB": 32,
    "name": "ml.trn1.2xlarge",
    "vcpuNum": 8
   },
   {
    "_defaultOrder": 58,
    "_isFastLaunch": false,
    "category": "Accelerated computing",
    "gpuNum": 0,
    "hideHardwareSpecs": false,
    "memoryGiB": 512,
    "name": "ml.trn1.32xlarge",
    "vcpuNum": 128
   },
   {
    "_defaultOrder": 59,
    "_isFastLaunch": false,
    "category": "Accelerated computing",
    "gpuNum": 0,
    "hideHardwareSpecs": false,
    "memoryGiB": 512,
    "name": "ml.trn1n.32xlarge",
    "vcpuNum": 128
   }
  ],
  "kernelspec": {
   "display_name": "Python 3 (Data Science 2.0)",
   "language": "python",
   "name": "python3__SAGEMAKER_INTERNAL__arn:aws:sagemaker:us-east-1:081325390199:image/sagemaker-data-science-38"
  },
  "language_info": {
   "codemirror_mode": {
    "name": "ipython",
    "version": 3
   },
   "file_extension": ".py",
   "mimetype": "text/x-python",
   "name": "python",
   "nbconvert_exporter": "python",
   "pygments_lexer": "ipython3",
   "version": "3.8.13"
  }
 },
 "nbformat": 4,
 "nbformat_minor": 5
}
