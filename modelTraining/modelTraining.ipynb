{
 "cells": [
  {
   "cell_type": "markdown",
   "id": "f54e0dc8-b016-4fce-b03b-68a8278533e5",
   "metadata": {
    "tags": []
   },
   "source": [
    "# Model Training"
   ]
  },
  {
   "cell_type": "markdown",
   "id": "8894776f-37af-4ab4-a4b3-3587a372a5f8",
   "metadata": {},
   "source": [
    "### Imports"
   ]
  },
  {
   "cell_type": "code",
   "execution_count": 17,
   "id": "787a57c9-a569-41cc-b3ff-e7302e761211",
   "metadata": {
    "collapsed": true,
    "jupyter": {
     "outputs_hidden": true
    },
    "tags": []
   },
   "outputs": [
    {
     "name": "stdout",
     "output_type": "stream",
     "text": [
      "\u001b[33mWARNING: Ignoring invalid distribution -umpy (/opt/conda/lib/python3.8/site-packages)\u001b[0m\u001b[33m\n",
      "\u001b[0mRequirement already satisfied: sagemaker in /opt/conda/lib/python3.8/site-packages (2.29.0)\n",
      "Requirement already satisfied: boto3 in /opt/conda/lib/python3.8/site-packages (1.16.56)\n",
      "Requirement already satisfied: smdebug in /opt/conda/lib/python3.8/site-packages (1.0.1)\n",
      "Requirement already satisfied: sagemaker-experiments in /opt/conda/lib/python3.8/site-packages (0.1.26)\n",
      "Requirement already satisfied: attrs in /opt/conda/lib/python3.8/site-packages (from sagemaker) (23.1.0)\n",
      "Requirement already satisfied: google-pasta in /opt/conda/lib/python3.8/site-packages (from sagemaker) (0.2.0)\n",
      "Requirement already satisfied: numpy>=1.9.0 in /opt/conda/lib/python3.8/site-packages (from sagemaker) (1.24.4)\n",
      "Requirement already satisfied: protobuf>=3.1 in /opt/conda/lib/python3.8/site-packages (from sagemaker) (3.20.3)\n",
      "Requirement already satisfied: protobuf3-to-dict>=0.1.5 in /opt/conda/lib/python3.8/site-packages (from sagemaker) (0.1.5)\n",
      "Requirement already satisfied: smdebug-rulesconfig==1.0.1 in /opt/conda/lib/python3.8/site-packages (from sagemaker) (1.0.1)\n",
      "Requirement already satisfied: importlib-metadata>=1.4.0 in /opt/conda/lib/python3.8/site-packages (from sagemaker) (4.8.1)\n",
      "Requirement already satisfied: packaging>=20.0 in /opt/conda/lib/python3.8/site-packages (from sagemaker) (21.0)\n",
      "Requirement already satisfied: botocore<1.20.0,>=1.19.56 in /opt/conda/lib/python3.8/site-packages (from boto3) (1.19.56)\n",
      "Requirement already satisfied: jmespath<1.0.0,>=0.7.1 in /opt/conda/lib/python3.8/site-packages (from boto3) (0.10.0)\n",
      "Requirement already satisfied: s3transfer<0.4.0,>=0.3.0 in /opt/conda/lib/python3.8/site-packages (from boto3) (0.3.7)\n",
      "Requirement already satisfied: pyinstrument>=3.1.3 in /opt/conda/lib/python3.8/site-packages (from smdebug) (4.6.2)\n",
      "Requirement already satisfied: python-dateutil<3.0.0,>=2.1 in /opt/conda/lib/python3.8/site-packages (from botocore<1.20.0,>=1.19.56->boto3) (2.8.2)\n",
      "Requirement already satisfied: urllib3<1.27,>=1.25.4 in /opt/conda/lib/python3.8/site-packages (from botocore<1.20.0,>=1.19.56->boto3) (1.26.18)\n",
      "Requirement already satisfied: zipp>=0.5 in /opt/conda/lib/python3.8/site-packages (from importlib-metadata>=1.4.0->sagemaker) (3.6.0)\n",
      "Requirement already satisfied: pyparsing>=2.0.2 in /opt/conda/lib/python3.8/site-packages (from packaging>=20.0->sagemaker) (3.0.4)\n",
      "Requirement already satisfied: six in /opt/conda/lib/python3.8/site-packages (from protobuf3-to-dict>=0.1.5->sagemaker) (1.16.0)\n",
      "\u001b[33mWARNING: Ignoring invalid distribution -umpy (/opt/conda/lib/python3.8/site-packages)\u001b[0m\u001b[33m\n",
      "\u001b[0m\u001b[33mDEPRECATION: pyodbc 4.0.0-unsupported has a non-standard version number. pip 24.1 will enforce this behaviour change. A possible replacement is to upgrade to a newer version of pyodbc or contact the author to suggest that they release a version with a conforming version number. Discussion can be found at https://github.com/pypa/pip/issues/12063\u001b[0m\u001b[33m\n",
      "\u001b[0m\u001b[33mWARNING: Running pip as the 'root' user can result in broken permissions and conflicting behaviour with the system package manager. It is recommended to use a virtual environment instead: https://pip.pypa.io/warnings/venv\u001b[0m\u001b[33m\n",
      "\u001b[0m"
     ]
    }
   ],
   "source": [
    "!pip install sagemaker boto3 smdebug sagemaker-experiments"
   ]
  },
  {
   "cell_type": "code",
   "execution_count": 28,
   "id": "bbdb5083-0e51-471e-9f40-d5081b4f4947",
   "metadata": {
    "collapsed": true,
    "jupyter": {
     "outputs_hidden": true
    },
    "tags": []
   },
   "outputs": [
    {
     "name": "stdout",
     "output_type": "stream",
     "text": [
      "\u001b[33mWARNING: Ignoring invalid distribution -umpy (/opt/conda/lib/python3.8/site-packages)\u001b[0m\u001b[33m\n",
      "\u001b[0mRequirement already satisfied: awscli in /opt/conda/lib/python3.8/site-packages (1.18.216)\n",
      "Collecting awscli\n",
      "  Downloading awscli-1.32.74-py3-none-any.whl.metadata (11 kB)\n",
      "Requirement already satisfied: boto3 in /opt/conda/lib/python3.8/site-packages (1.16.56)\n",
      "Collecting boto3\n",
      "  Downloading boto3-1.34.74-py3-none-any.whl.metadata (6.6 kB)\n",
      "Collecting botocore==1.34.74 (from awscli)\n",
      "  Downloading botocore-1.34.74-py3-none-any.whl.metadata (5.7 kB)\n",
      "Requirement already satisfied: docutils<0.17,>=0.10 in /opt/conda/lib/python3.8/site-packages (from awscli) (0.15.2)\n",
      "Collecting s3transfer<0.11.0,>=0.10.0 (from awscli)\n",
      "  Downloading s3transfer-0.10.1-py3-none-any.whl.metadata (1.7 kB)\n",
      "Requirement already satisfied: PyYAML<6.1,>=3.10 in /opt/conda/lib/python3.8/site-packages (from awscli) (5.3.1)\n",
      "Requirement already satisfied: colorama<0.4.5,>=0.2.5 in /opt/conda/lib/python3.8/site-packages (from awscli) (0.4.3)\n",
      "Requirement already satisfied: rsa<4.8,>=3.1.2 in /opt/conda/lib/python3.8/site-packages (from awscli) (4.5)\n",
      "Requirement already satisfied: jmespath<2.0.0,>=0.7.1 in /opt/conda/lib/python3.8/site-packages (from botocore==1.34.74->awscli) (0.10.0)\n",
      "Requirement already satisfied: python-dateutil<3.0.0,>=2.1 in /opt/conda/lib/python3.8/site-packages (from botocore==1.34.74->awscli) (2.8.2)\n",
      "Requirement already satisfied: urllib3<1.27,>=1.25.4 in /opt/conda/lib/python3.8/site-packages (from botocore==1.34.74->awscli) (1.26.18)\n",
      "Requirement already satisfied: pyasn1>=0.1.3 in /opt/conda/lib/python3.8/site-packages (from rsa<4.8,>=3.1.2->awscli) (0.5.1)\n",
      "Requirement already satisfied: six>=1.5 in /opt/conda/lib/python3.8/site-packages (from python-dateutil<3.0.0,>=2.1->botocore==1.34.74->awscli) (1.16.0)\n",
      "Downloading awscli-1.32.74-py3-none-any.whl (4.4 MB)\n",
      "\u001b[2K   \u001b[90m━━━━━━━━━━━━━━━━━━━━━━━━━━━━━━━━━━━━━━━━\u001b[0m \u001b[32m4.4/4.4 MB\u001b[0m \u001b[31m28.0 MB/s\u001b[0m eta \u001b[36m0:00:00\u001b[0m:00:01\u001b[0m\n",
      "\u001b[?25hDownloading botocore-1.34.74-py3-none-any.whl (12.1 MB)\n",
      "\u001b[2K   \u001b[90m━━━━━━━━━━━━━━━━━━━━━━━━━━━━━━━━━━━━━━━━\u001b[0m \u001b[32m12.1/12.1 MB\u001b[0m \u001b[31m36.1 MB/s\u001b[0m eta \u001b[36m0:00:00\u001b[0m:00:01\u001b[0m0:01\u001b[0m\n",
      "\u001b[?25hDownloading boto3-1.34.74-py3-none-any.whl (139 kB)\n",
      "\u001b[2K   \u001b[90m━━━━━━━━━━━━━━━━━━━━━━━━━━━━━━━━━━━━━━━━\u001b[0m \u001b[32m139.3/139.3 kB\u001b[0m \u001b[31m1.6 MB/s\u001b[0m eta \u001b[36m0:00:00\u001b[0mta \u001b[36m0:00:01\u001b[0m\n",
      "\u001b[?25hDownloading s3transfer-0.10.1-py3-none-any.whl (82 kB)\n",
      "\u001b[2K   \u001b[90m━━━━━━━━━━━━━━━━━━━━━━━━━━━━━━━━━━━━━━━━\u001b[0m \u001b[32m82.2/82.2 kB\u001b[0m \u001b[31m967.2 kB/s\u001b[0m eta \u001b[36m0:00:00\u001b[0m00:01\u001b[0m\n",
      "\u001b[?25h\u001b[33mWARNING: Ignoring invalid distribution -umpy (/opt/conda/lib/python3.8/site-packages)\u001b[0m\u001b[33m\n",
      "\u001b[0m\u001b[33mDEPRECATION: pyodbc 4.0.0-unsupported has a non-standard version number. pip 24.1 will enforce this behaviour change. A possible replacement is to upgrade to a newer version of pyodbc or contact the author to suggest that they release a version with a conforming version number. Discussion can be found at https://github.com/pypa/pip/issues/12063\u001b[0m\u001b[33m\n",
      "\u001b[0mInstalling collected packages: botocore, s3transfer, boto3, awscli\n",
      "  Attempting uninstall: botocore\n",
      "    Found existing installation: botocore 1.19.56\n",
      "    Uninstalling botocore-1.19.56:\n",
      "      Successfully uninstalled botocore-1.19.56\n",
      "  Attempting uninstall: s3transfer\n",
      "    Found existing installation: s3transfer 0.3.7\n",
      "    Uninstalling s3transfer-0.3.7:\n",
      "      Successfully uninstalled s3transfer-0.3.7\n",
      "  Attempting uninstall: boto3\n",
      "    Found existing installation: boto3 1.16.56\n",
      "    Uninstalling boto3-1.16.56:\n",
      "      Successfully uninstalled boto3-1.16.56\n",
      "  Attempting uninstall: awscli\n",
      "    Found existing installation: awscli 1.18.216\n",
      "    Uninstalling awscli-1.18.216:\n",
      "      Successfully uninstalled awscli-1.18.216\n",
      "\u001b[31mERROR: pip's dependency resolver does not currently take into account all the packages that are installed. This behaviour is the source of the following dependency conflicts.\n",
      "awswrangler 2.3.0 requires numpy<1.20.0,>=1.18.0, but you have numpy 1.24.4 which is incompatible.\u001b[0m\u001b[31m\n",
      "\u001b[0mSuccessfully installed awscli-1.32.74 boto3-1.34.74 botocore-1.34.74 s3transfer-0.10.1\n",
      "\u001b[33mWARNING: Running pip as the 'root' user can result in broken permissions and conflicting behaviour with the system package manager. It is recommended to use a virtual environment instead: https://pip.pypa.io/warnings/venv\u001b[0m\u001b[33m\n",
      "\u001b[0mNote: you may need to restart the kernel to use updated packages.\n"
     ]
    }
   ],
   "source": [
    "pip install --upgrade awscli boto3"
   ]
  },
  {
   "cell_type": "code",
   "execution_count": 2,
   "id": "5ef29e1d-895f-49f8-890d-5d5c049edd8a",
   "metadata": {
    "tags": []
   },
   "outputs": [],
   "source": [
    "import sagemaker\n",
    "import boto3\n",
    "import pandas as pd\n",
    "from sagemaker import get_execution_role, KMeans, session\n",
    "from sagemaker import PCA\n",
    "from sklearn.preprocessing import StandardScaler\n",
    "import numpy as np\n",
    "import matplotlib.pyplot as plt\n",
    "from sklearn.decomposition import IncrementalPCA\n",
    "from sklearn.preprocessing import StandardScaler\n",
    "from sagemaker import KMeans\n",
    "from sklearn.metrics import silhouette_score\n",
    "import time\n",
    "import json\n",
    "from smexperiments.experiment import Experiment\n",
    "from smexperiments.trial import Trial\n",
    "from smexperiments.trial_component import TrialComponent\n",
    "from smexperiments.tracker import Tracker\n",
    "from sagemaker.model import Model\n",
    "from sagemaker.serializers import CSVSerializer\n",
    "from sagemaker.deserializers import JSONDeserializer\n",
    "import os\n",
    "import tarfile"
   ]
  },
  {
   "cell_type": "markdown",
   "id": "20c67708-4705-4cdd-978f-01c9e558229b",
   "metadata": {},
   "source": [
    "## Get Training Data From S3"
   ]
  },
  {
   "cell_type": "code",
   "execution_count": 3,
   "id": "f31a6fc4-b87a-41b3-b7bc-f909dba801ee",
   "metadata": {
    "tags": []
   },
   "outputs": [
    {
     "name": "stdout",
     "output_type": "stream",
     "text": [
      "   CustomerID  Year_Birth  Purchase_Frequency  Age  Total_Spent_byCustomer  \\\n",
      "0          92        1995                 169   29                 3657.63   \n",
      "1       10299        1954                 172   70                 1859.15   \n",
      "2        3428        1973                 172   51                 3019.30   \n",
      "3        4832        1943                 164   81                 2866.52   \n",
      "4        5837        1964                 195   60                 4012.45   \n",
      "\n",
      "   gender_Agender  gender_Bigender  gender_Female  gender_Genderfluid  \\\n",
      "0               0                0              0                   0   \n",
      "1               0                0              1                   0   \n",
      "2               0                0              0                   0   \n",
      "3               0                0              1                   0   \n",
      "4               0                0              0                   0   \n",
      "\n",
      "   gender_Genderqueer  ...  SpendingCategory_High  SpendingCategory_Very High  \\\n",
      "0                   0  ...                      0                           0   \n",
      "1                   0  ...                      0                           0   \n",
      "2                   0  ...                      0                           0   \n",
      "3                   0  ...                      0                           0   \n",
      "4                   0  ...                      0                           0   \n",
      "\n",
      "   IncomeLevel_Low  IncomeLevel_Medium  IncomeLevel_High  \\\n",
      "0                0                   0                 0   \n",
      "1                0                   0                 1   \n",
      "2                0                   0                 0   \n",
      "3                0                   0                 0   \n",
      "4                0                   0                 0   \n",
      "\n",
      "   IncomeLevel_Very High  Year_Birth.1  Purchase_Frequency.1     Age.1  \\\n",
      "0                      1      0.982143              0.373626  0.017857   \n",
      "1                      0      0.250000              0.406593  0.750000   \n",
      "2                      1      0.589286              0.406593  0.410714   \n",
      "3                      1      0.053571              0.318681  0.946429   \n",
      "4                      1      0.428571              0.659341  0.571429   \n",
      "\n",
      "   Total_Spent_byCustomer.1  \n",
      "0                  0.020893  \n",
      "1                  0.010495  \n",
      "2                  0.017202  \n",
      "3                  0.016319  \n",
      "4                  0.022944  \n",
      "\n",
      "[5 rows x 182 columns]\n"
     ]
    }
   ],
   "source": [
    "# Load the train dataset from S3\n",
    "train_df = pd.read_csv('s3://team6datasets/splitDatasets/train.csv')\n",
    "print(train_df.head())"
   ]
  },
  {
   "cell_type": "markdown",
   "id": "cd346d2e-e93c-47a6-9587-d2f05d3eb147",
   "metadata": {},
   "source": [
    "## Train KNN Model"
   ]
  },
  {
   "cell_type": "markdown",
   "id": "2dddc60a-ac59-42dc-9ac1-95cc4c6b9a88",
   "metadata": {},
   "source": [
    "### Feature Selection with SKLearn IPCA & SageMaker Built-In PCA"
   ]
  },
  {
   "cell_type": "code",
   "execution_count": 4,
   "id": "bad2b8f4-9bd6-4206-b131-3c80e4ae28a6",
   "metadata": {
    "tags": []
   },
   "outputs": [
    {
     "data": {
      "image/png": "[encoded data removed]",
      "text/plain": [
       "<Figure size 720x504 with 1 Axes>"
      ]
     },
     "metadata": {
      "needs_background": "light"
     },
     "output_type": "display_data"
    }
   ],
   "source": [
    "# Scaler\n",
    "scaler = StandardScaler()\n",
    "\n",
    "# Convert to float32 for memory efficiency\n",
    "scaled_data = scaler.fit_transform(train_df.astype('float32'))\n",
    "\n",
    "# Use IncrementalPCA\n",
    "ipca = IncrementalPCA(n_components=100, batch_size=150)  # Adjust batch_size\n",
    "ipca.fit(scaled_data)\n",
    "\n",
    "# Plot the explained variance ratio\n",
    "plt.figure(figsize=(10, 7))\n",
    "plt.bar(range(1, ipca.n_components_ + 1), ipca.explained_variance_ratio_, alpha=0.5, align='center',\n",
    "        label='Individual explained variance')\n",
    "plt.step(range(1, ipca.n_components_ + 1), np.cumsum(ipca.explained_variance_ratio_), where='mid',\n",
    "         label='Cumulative explained variance')\n",
    "plt.ylabel('Explained variance ratio')\n",
    "plt.xlabel('Principal component index')\n",
    "plt.legend(loc='best')\n",
    "plt.show()"
   ]
  },
  {
   "cell_type": "code",
   "execution_count": 28,
   "id": "54d3e898-d049-456c-8e18-9b6c432013ac",
   "metadata": {
    "tags": []
   },
   "outputs": [
    {
     "name": "stderr",
     "output_type": "stream",
     "text": [
      "INFO:sagemaker.image_uris:Same images used for training and inference. Defaulting to image scope: inference.\n",
      "WARNING:sagemaker.image_uris:Defaulting to the only supported framework/algorithm version: 1. Ignoring framework/algorithm version: 1.\n",
      "INFO:sagemaker.image_uris:Ignoring unnecessary instance type: None.\n",
      "INFO:sagemaker.image_uris:Defaulting to the only supported framework/algorithm version: latest.\n",
      "INFO:sagemaker.image_uris:Ignoring unnecessary instance type: None.\n",
      "INFO:sagemaker.image_uris:Same images used for training and inference. Defaulting to image scope: inference.\n",
      "WARNING:sagemaker.image_uris:Defaulting to the only supported framework/algorithm version: 1. Ignoring framework/algorithm version: 1.\n",
      "INFO:sagemaker.image_uris:Ignoring unnecessary instance type: None.\n",
      "INFO:sagemaker:Creating training-job with name: pca-2024-03-30-22-09-47-786\n"
     ]
    },
    {
     "name": "stdout",
     "output_type": "stream",
     "text": [
      "2024-03-30 22:09:47 Starting - Starting the training job...\n",
      "2024-03-30 22:10:11 Starting - Preparing the instances for trainingProfilerReport-1711836587: InProgress\n",
      "...\n",
      "2024-03-30 22:10:37 Downloading - Downloading input data...\n",
      "2024-03-30 22:11:17 Downloading - Downloading the training image.........\n",
      "2024-03-30 22:12:33 Training - Training image download completed. Training in progress..\u001b[34mDocker entrypoint called with argument(s): train\u001b[0m\n",
      "\u001b[34mRunning default environment configuration script\u001b[0m\n",
      "\u001b[34m/opt/amazon/lib/python3.8/site-packages/mxnet/model.py:97: SyntaxWarning: \"is\" with a literal. Did you mean \"==\"?\n",
      "  if num_device is 1 and 'dist' not in kvstore:\u001b[0m\n",
      "\u001b[34m[03/30/2024 22:12:48 INFO 140210834298688] Reading default configuration from /opt/amazon/lib/python3.8/site-packages/algorithm/resources/default-conf.json: {'algorithm_mode': 'regular', 'subtract_mean': 'true', 'extra_components': '-1', 'force_dense': 'true', 'epochs': 1, '_log_level': 'info', '_kvstore': 'dist_sync', '_num_kv_servers': 'auto', '_num_gpus': 'auto'}\u001b[0m\n",
      "\u001b[34m[03/30/2024 22:12:48 INFO 140210834298688] Merging with provided configuration from /opt/ml/input/config/hyperparameters.json: {'feature_dim': '182', 'mini_batch_size': '500', 'num_components': '10'}\u001b[0m\n",
      "\u001b[34m[03/30/2024 22:12:48 INFO 140210834298688] Final configuration: {'algorithm_mode': 'regular', 'subtract_mean': 'true', 'extra_components': '-1', 'force_dense': 'true', 'epochs': 1, '_log_level': 'info', '_kvstore': 'dist_sync', '_num_kv_servers': 'auto', '_num_gpus': 'auto', 'feature_dim': '182', 'mini_batch_size': '500', 'num_components': '10'}\u001b[0m\n",
      "\u001b[34m[03/30/2024 22:12:48 WARNING 140210834298688] Loggers have already been setup.\u001b[0m\n",
      "\u001b[34m[03/30/2024 22:12:48 INFO 140210834298688] Launching parameter server for role scheduler\u001b[0m\n",
      "\u001b[34m[03/30/2024 22:12:48 INFO 140210834298688] {'ENVROOT': '/opt/amazon', 'PROTOCOL_BUFFERS_PYTHON_IMPLEMENTATION': 'cpp', 'HOSTNAME': 'ip-10-0-127-78.ec2.internal', 'TRAINING_JOB_NAME': 'pca-2024-03-30-22-09-47-786', 'NVIDIA_REQUIRE_CUDA': 'cuda>=9.0', 'TRAINING_JOB_ARN': 'arn:aws:sagemaker:us-east-1:851725438030:training-job/pca-2024-03-30-22-09-47-786', 'AWS_CONTAINER_CREDENTIALS_RELATIVE_URI': '/v2/credentials/proxy-8bcf0228a217649211468d307714f2d4813ebd7944176a2b7b4e9a0ed35df4aa-customer', 'CANONICAL_ENVROOT': '/opt/amazon', 'PYTHONUNBUFFERED': 'TRUE', 'NVIDIA_VISIBLE_DEVICES': 'all', 'LD_LIBRARY_PATH': '/opt/amazon/lib/python3.8/site-packages/cv2/../../../../lib:/usr/local/nvidia/lib64:/opt/amazon/lib', 'NVIDIA_DRIVER_CAPABILITIES': 'compute,utility', 'SAGEMAKER_MANAGED_WARMPOOL_CACHE_DIRECTORY': '/opt/ml/sagemaker/warmpoolcache', 'PATH': '/opt/amazon/bin:/usr/local/nvidia/bin:/usr/local/sbin:/usr/local/bin:/usr/sbin:/usr/bin:/sbin:/bin', 'PWD': '/', 'LANG': 'en_US.utf8', 'AWS_REGION': 'us-east-1', 'CUDA_VERSION': '11.1', 'HOME': '/root', 'SHLVL': '1', 'CUDA_COMPAT_NDRIVER_SUPPORTED_VERSION': '455.32.00', 'PROTOCOL_BUFFERS_PYTHON_IMPLEMENTATION_VERSION': '2', 'OMP_NUM_THREADS': '2', 'DMLC_INTERFACE': 'eth0', 'SAGEMAKER_HTTP_PORT': '8080', 'SAGEMAKER_DATA_PATH': '/opt/ml'}\u001b[0m\n",
      "\u001b[34m[03/30/2024 22:12:48 INFO 140210834298688] envs={'ENVROOT': '/opt/amazon', 'PROTOCOL_BUFFERS_PYTHON_IMPLEMENTATION': 'cpp', 'HOSTNAME': 'ip-10-0-127-78.ec2.internal', 'TRAINING_JOB_NAME': 'pca-2024-03-30-22-09-47-786', 'NVIDIA_REQUIRE_CUDA': 'cuda>=9.0', 'TRAINING_JOB_ARN': 'arn:aws:sagemaker:us-east-1:851725438030:training-job/pca-2024-03-30-22-09-47-786', 'AWS_CONTAINER_CREDENTIALS_RELATIVE_URI': '/v2/credentials/proxy-8bcf0228a217649211468d307714f2d4813ebd7944176a2b7b4e9a0ed35df4aa-customer', 'CANONICAL_ENVROOT': '/opt/amazon', 'PYTHONUNBUFFERED': 'TRUE', 'NVIDIA_VISIBLE_DEVICES': 'all', 'LD_LIBRARY_PATH': '/opt/amazon/lib/python3.8/site-packages/cv2/../../../../lib:/usr/local/nvidia/lib64:/opt/amazon/lib', 'NVIDIA_DRIVER_CAPABILITIES': 'compute,utility', 'SAGEMAKER_MANAGED_WARMPOOL_CACHE_DIRECTORY': '/opt/ml/sagemaker/warmpoolcache', 'PATH': '/opt/amazon/bin:/usr/local/nvidia/bin:/usr/local/sbin:/usr/local/bin:/usr/sbin:/usr/bin:/sbin:/bin', 'PWD': '/', 'LANG': 'en_US.utf8', 'AWS_REGION': 'us-east-1', 'CUDA_VERSION': '11.1', 'HOME': '/root', 'SHLVL': '1', 'CUDA_COMPAT_NDRIVER_SUPPORTED_VERSION': '455.32.00', 'PROTOCOL_BUFFERS_PYTHON_IMPLEMENTATION_VERSION': '2', 'OMP_NUM_THREADS': '2', 'DMLC_INTERFACE': 'eth0', 'SAGEMAKER_HTTP_PORT': '8080', 'SAGEMAKER_DATA_PATH': '/opt/ml', 'DMLC_ROLE': 'scheduler', 'DMLC_PS_ROOT_URI': '10.0.127.78', 'DMLC_PS_ROOT_PORT': '9000', 'DMLC_NUM_SERVER': '1', 'DMLC_NUM_WORKER': '1'}\u001b[0m\n",
      "\u001b[34m[03/30/2024 22:12:48 INFO 140210834298688] Launching parameter server for role server\u001b[0m\n",
      "\u001b[34m[03/30/2024 22:12:48 INFO 140210834298688] {'ENVROOT': '/opt/amazon', 'PROTOCOL_BUFFERS_PYTHON_IMPLEMENTATION': 'cpp', 'HOSTNAME': 'ip-10-0-127-78.ec2.internal', 'TRAINING_JOB_NAME': 'pca-2024-03-30-22-09-47-786', 'NVIDIA_REQUIRE_CUDA': 'cuda>=9.0', 'TRAINING_JOB_ARN': 'arn:aws:sagemaker:us-east-1:851725438030:training-job/pca-2024-03-30-22-09-47-786', 'AWS_CONTAINER_CREDENTIALS_RELATIVE_URI': '/v2/credentials/proxy-8bcf0228a217649211468d307714f2d4813ebd7944176a2b7b4e9a0ed35df4aa-customer', 'CANONICAL_ENVROOT': '/opt/amazon', 'PYTHONUNBUFFERED': 'TRUE', 'NVIDIA_VISIBLE_DEVICES': 'all', 'LD_LIBRARY_PATH': '/opt/amazon/lib/python3.8/site-packages/cv2/../../../../lib:/usr/local/nvidia/lib64:/opt/amazon/lib', 'NVIDIA_DRIVER_CAPABILITIES': 'compute,utility', 'SAGEMAKER_MANAGED_WARMPOOL_CACHE_DIRECTORY': '/opt/ml/sagemaker/warmpoolcache', 'PATH': '/opt/amazon/bin:/usr/local/nvidia/bin:/usr/local/sbin:/usr/local/bin:/usr/sbin:/usr/bin:/sbin:/bin', 'PWD': '/', 'LANG': 'en_US.utf8', 'AWS_REGION': 'us-east-1', 'CUDA_VERSION': '11.1', 'HOME': '/root', 'SHLVL': '1', 'CUDA_COMPAT_NDRIVER_SUPPORTED_VERSION': '455.32.00', 'PROTOCOL_BUFFERS_PYTHON_IMPLEMENTATION_VERSION': '2', 'OMP_NUM_THREADS': '2', 'DMLC_INTERFACE': 'eth0', 'SAGEMAKER_HTTP_PORT': '8080', 'SAGEMAKER_DATA_PATH': '/opt/ml'}\u001b[0m\n",
      "\u001b[34m[03/30/2024 22:12:48 INFO 140210834298688] envs={'ENVROOT': '/opt/amazon', 'PROTOCOL_BUFFERS_PYTHON_IMPLEMENTATION': 'cpp', 'HOSTNAME': 'ip-10-0-127-78.ec2.internal', 'TRAINING_JOB_NAME': 'pca-2024-03-30-22-09-47-786', 'NVIDIA_REQUIRE_CUDA': 'cuda>=9.0', 'TRAINING_JOB_ARN': 'arn:aws:sagemaker:us-east-1:851725438030:training-job/pca-2024-03-30-22-09-47-786', 'AWS_CONTAINER_CREDENTIALS_RELATIVE_URI': '/v2/credentials/proxy-8bcf0228a217649211468d307714f2d4813ebd7944176a2b7b4e9a0ed35df4aa-customer', 'CANONICAL_ENVROOT': '/opt/amazon', 'PYTHONUNBUFFERED': 'TRUE', 'NVIDIA_VISIBLE_DEVICES': 'all', 'LD_LIBRARY_PATH': '/opt/amazon/lib/python3.8/site-packages/cv2/../../../../lib:/usr/local/nvidia/lib64:/opt/amazon/lib', 'NVIDIA_DRIVER_CAPABILITIES': 'compute,utility', 'SAGEMAKER_MANAGED_WARMPOOL_CACHE_DIRECTORY': '/opt/ml/sagemaker/warmpoolcache', 'PATH': '/opt/amazon/bin:/usr/local/nvidia/bin:/usr/local/sbin:/usr/local/bin:/usr/sbin:/usr/bin:/sbin:/bin', 'PWD': '/', 'LANG': 'en_US.utf8', 'AWS_REGION': 'us-east-1', 'CUDA_VERSION': '11.1', 'HOME': '/root', 'SHLVL': '1', 'CUDA_COMPAT_NDRIVER_SUPPORTED_VERSION': '455.32.00', 'PROTOCOL_BUFFERS_PYTHON_IMPLEMENTATION_VERSION': '2', 'OMP_NUM_THREADS': '2', 'DMLC_INTERFACE': 'eth0', 'SAGEMAKER_HTTP_PORT': '8080', 'SAGEMAKER_DATA_PATH': '/opt/ml', 'DMLC_ROLE': 'server', 'DMLC_PS_ROOT_URI': '10.0.127.78', 'DMLC_PS_ROOT_PORT': '9000', 'DMLC_NUM_SERVER': '1', 'DMLC_NUM_WORKER': '1'}\u001b[0m\n",
      "\u001b[34m[03/30/2024 22:12:48 INFO 140210834298688] Environment: {'ENVROOT': '/opt/amazon', 'PROTOCOL_BUFFERS_PYTHON_IMPLEMENTATION': 'cpp', 'HOSTNAME': 'ip-10-0-127-78.ec2.internal', 'TRAINING_JOB_NAME': 'pca-2024-03-30-22-09-47-786', 'NVIDIA_REQUIRE_CUDA': 'cuda>=9.0', 'TRAINING_JOB_ARN': 'arn:aws:sagemaker:us-east-1:851725438030:training-job/pca-2024-03-30-22-09-47-786', 'AWS_CONTAINER_CREDENTIALS_RELATIVE_URI': '/v2/credentials/proxy-8bcf0228a217649211468d307714f2d4813ebd7944176a2b7b4e9a0ed35df4aa-customer', 'CANONICAL_ENVROOT': '/opt/amazon', 'PYTHONUNBUFFERED': 'TRUE', 'NVIDIA_VISIBLE_DEVICES': 'all', 'LD_LIBRARY_PATH': '/opt/amazon/lib/python3.8/site-packages/cv2/../../../../lib:/usr/local/nvidia/lib64:/opt/amazon/lib', 'NVIDIA_DRIVER_CAPABILITIES': 'compute,utility', 'SAGEMAKER_MANAGED_WARMPOOL_CACHE_DIRECTORY': '/opt/ml/sagemaker/warmpoolcache', 'PATH': '/opt/amazon/bin:/usr/local/nvidia/bin:/usr/local/sbin:/usr/local/bin:/usr/sbin:/usr/bin:/sbin:/bin', 'PWD': '/', 'LANG': 'en_US.utf8', 'AWS_REGION': 'us-east-1', 'CUDA_VERSION': '11.1', 'HOME': '/root', 'SHLVL': '1', 'CUDA_COMPAT_NDRIVER_SUPPORTED_VERSION': '455.32.00', 'PROTOCOL_BUFFERS_PYTHON_IMPLEMENTATION_VERSION': '2', 'OMP_NUM_THREADS': '2', 'DMLC_INTERFACE': 'eth0', 'SAGEMAKER_HTTP_PORT': '8080', 'SAGEMAKER_DATA_PATH': '/opt/ml', 'DMLC_ROLE': 'worker', 'DMLC_PS_ROOT_URI': '10.0.127.78', 'DMLC_PS_ROOT_PORT': '9000', 'DMLC_NUM_SERVER': '1', 'DMLC_NUM_WORKER': '1'}\u001b[0m\n",
      "\u001b[34mProcess 34 is a shell:scheduler.\u001b[0m\n",
      "\u001b[34mProcess 43 is a shell:server.\u001b[0m\n",
      "\u001b[34mProcess 7 is a worker.\u001b[0m\n",
      "\u001b[34m[03/30/2024 22:12:48 INFO 140210834298688] Using default worker.\u001b[0m\n",
      "\u001b[34m[03/30/2024 22:12:48 INFO 140210834298688] Loaded iterator creator application/x-labeled-vector-protobuf for content type ('application/x-labeled-vector-protobuf', '1.0')\u001b[0m\n",
      "\u001b[34m[03/30/2024 22:12:48 INFO 140210834298688] Loaded iterator creator application/x-recordio-protobuf for content type ('application/x-recordio-protobuf', '1.0')\u001b[0m\n",
      "\u001b[34m[03/30/2024 22:12:48 INFO 140210834298688] Loaded iterator creator protobuf for content type ('protobuf', '1.0')\u001b[0m\n",
      "\u001b[34m[03/30/2024 22:12:48 INFO 140210834298688] Checkpoint loading and saving are disabled.\u001b[0m\n",
      "\u001b[34m[03/30/2024 22:12:48 INFO 140210834298688] Create Store: dist_sync\u001b[0m\n",
      "\u001b[34m/opt/amazon/python3.8/lib/python3.8/subprocess.py:848: RuntimeWarning: line buffering (buffering=1) isn't supported in binary mode, the default buffer size will be used\n",
      "  self.stdout = io.open(c2pread, 'rb', bufsize)\u001b[0m\n",
      "\u001b[34m[03/30/2024 22:12:49 INFO 140210834298688] nvidia-smi: took 0.058 seconds to run.\u001b[0m\n",
      "\u001b[34m[03/30/2024 22:12:49 INFO 140210834298688] nvidia-smi identified 0 GPUs.\u001b[0m\n",
      "\u001b[34m[03/30/2024 22:12:49 INFO 140210834298688] Number of GPUs being used: 0\u001b[0m\n",
      "\u001b[34m[03/30/2024 22:12:49 INFO 140210834298688] The default executor is <PCAExecutor on cpu(0)>.\u001b[0m\n",
      "\u001b[34m[03/30/2024 22:12:49 INFO 140210834298688] 182 feature(s) found in 'data'.\u001b[0m\n",
      "\u001b[34m[03/30/2024 22:12:49 INFO 140210834298688] <PCAExecutor on cpu(0)> is assigned to batch slice from 0 to 499.\u001b[0m\n",
      "\u001b[34m#metrics {\"StartTime\": 1711836768.2443, \"EndTime\": 1711836769.1054008, \"Dimensions\": {\"Algorithm\": \"PCA\", \"Host\": \"algo-1\", \"Operation\": \"training\"}, \"Metrics\": {\"initialize.time\": {\"sum\": 827.277660369873, \"count\": 1, \"min\": 827.277660369873, \"max\": 827.277660369873}}}\u001b[0m\n",
      "\u001b[34m#metrics {\"StartTime\": 1711836769.105589, \"EndTime\": 1711836769.1056364, \"Dimensions\": {\"Algorithm\": \"PCA\", \"Host\": \"algo-1\", \"Operation\": \"training\", \"Meta\": \"init_train_data_iter\"}, \"Metrics\": {\"Total Records Seen\": {\"sum\": 0.0, \"count\": 1, \"min\": 0, \"max\": 0}, \"Total Batches Seen\": {\"sum\": 0.0, \"count\": 1, \"min\": 0, \"max\": 0}, \"Max Records Seen Between Resets\": {\"sum\": 0.0, \"count\": 1, \"min\": 0, \"max\": 0}, \"Max Batches Seen Between Resets\": {\"sum\": 0.0, \"count\": 1, \"min\": 0, \"max\": 0}, \"Reset Count\": {\"sum\": 0.0, \"count\": 1, \"min\": 0, \"max\": 0}, \"Number of Records Since Last Reset\": {\"sum\": 0.0, \"count\": 1, \"min\": 0, \"max\": 0}, \"Number of Batches Since Last Reset\": {\"sum\": 0.0, \"count\": 1, \"min\": 0, \"max\": 0}}}\u001b[0m\n",
      "\u001b[34m[2024-03-30 22:12:49.109] [tensorio] [info] epoch_stats={\"data_pipeline\": \"/opt/ml/input/data/train\", \"epoch\": 0, \"duration\": 864, \"num_examples\": 1, \"num_bytes\": 378000}\u001b[0m\n",
      "\u001b[34m[2024-03-30 22:12:50.120] [tensorio] [info] epoch_stats={\"data_pipeline\": \"/opt/ml/input/data/train\", \"epoch\": 1, \"duration\": 1005, \"num_examples\": 733, \"num_bytes\": 276805620}\u001b[0m\n",
      "\u001b[34m#metrics {\"StartTime\": 1711836769.1055217, \"EndTime\": 1711836770.1205506, \"Dimensions\": {\"Algorithm\": \"PCA\", \"Host\": \"algo-1\", \"Operation\": \"training\"}, \"Metrics\": {\"epochs\": {\"sum\": 1.0, \"count\": 1, \"min\": 1, \"max\": 1}, \"update.time\": {\"sum\": 1010.7131004333496, \"count\": 1, \"min\": 1010.7131004333496, \"max\": 1010.7131004333496}}}\u001b[0m\n",
      "\u001b[34m[03/30/2024 22:12:50 INFO 140210834298688] #progress_metric: host=algo-1, completed 100.0 % of epochs\u001b[0m\n",
      "\u001b[34m#metrics {\"StartTime\": 1711836769.109802, \"EndTime\": 1711836770.1215954, \"Dimensions\": {\"Algorithm\": \"PCA\", \"Host\": \"algo-1\", \"Operation\": \"training\", \"epoch\": 0, \"Meta\": \"training_data_iter\"}, \"Metrics\": {\"Total Records Seen\": {\"sum\": 366145.0, \"count\": 1, \"min\": 366145, \"max\": 366145}, \"Total Batches Seen\": {\"sum\": 733.0, \"count\": 1, \"min\": 733, \"max\": 733}, \"Max Records Seen Between Resets\": {\"sum\": 366145.0, \"count\": 1, \"min\": 366145, \"max\": 366145}, \"Max Batches Seen Between Resets\": {\"sum\": 733.0, \"count\": 1, \"min\": 733, \"max\": 733}, \"Reset Count\": {\"sum\": 1.0, \"count\": 1, \"min\": 1, \"max\": 1}, \"Number of Records Since Last Reset\": {\"sum\": 366145.0, \"count\": 1, \"min\": 366145, \"max\": 366145}, \"Number of Batches Since Last Reset\": {\"sum\": 733.0, \"count\": 1, \"min\": 733, \"max\": 733}}}\u001b[0m\n",
      "\u001b[34m[03/30/2024 22:12:50 INFO 140210834298688] #throughput_metric: host=algo-1, train throughput=361832.56859976443 records/second\u001b[0m\n",
      "\u001b[34m#metrics {\"StartTime\": 1711836770.1207, \"EndTime\": 1711836770.1334035, \"Dimensions\": {\"Algorithm\": \"PCA\", \"Host\": \"algo-1\", \"Operation\": \"training\"}, \"Metrics\": {\"finalize.time\": {\"sum\": 11.471271514892578, \"count\": 1, \"min\": 11.471271514892578, \"max\": 11.471271514892578}}}\u001b[0m\n",
      "\u001b[34m[03/30/2024 22:12:50 INFO 140210834298688] Test data is not provided.\u001b[0m\n",
      "\u001b[34m#metrics {\"StartTime\": 1711836770.1334581, \"EndTime\": 1711836770.1353889, \"Dimensions\": {\"Algorithm\": \"PCA\", \"Host\": \"algo-1\", \"Operation\": \"training\"}, \"Metrics\": {\"setuptime\": {\"sum\": 23.297786712646484, \"count\": 1, \"min\": 23.297786712646484, \"max\": 23.297786712646484}, \"totaltime\": {\"sum\": 1997.8063106536865, \"count\": 1, \"min\": 1997.8063106536865, \"max\": 1997.8063106536865}}}\u001b[0m\n",
      "\n",
      "2024-03-30 22:13:12 Uploading - Uploading generated training model\n",
      "2024-03-30 22:13:12 Completed - Training job completed\n",
      "Training seconds: 152\n",
      "Billable seconds: 152\n"
     ]
    }
   ],
   "source": [
    "# Define PCA model\n",
    "pca_estimator = PCA(role=get_execution_role(),\n",
    "                    instance_count=1,\n",
    "                    instance_type='ml.c4.xlarge',\n",
    "                    num_components=10,\n",
    "                    sagemaker_session=sagemaker_session)\n",
    "\n",
    "# Fit PCA model\n",
    "pca_estimator.fit(pca_estimator.record_set(scaled_data))"
   ]
  },
  {
   "cell_type": "code",
   "execution_count": 43,
   "id": "7de55e0a-f5d7-41ea-bc5d-2a2150b7f9fc",
   "metadata": {
    "tags": []
   },
   "outputs": [
    {
     "name": "stdout",
     "output_type": "stream",
     "text": [
      "Model artifacts saved at: s3://sagemaker-us-east-1-851725438030/pca-2024-03-30-22-09-47-786/output/model.tar.gz\n"
     ]
    }
   ],
   "source": [
    "# # access PCA artifacts\n",
    "# model_artifacts_s3_uri = pca_estimator.model_data\n",
    "# print(\"Model artifacts saved at:\", model_artifacts_s3_uri)"
   ]
  },
  {
   "cell_type": "code",
   "execution_count": 45,
   "id": "7999db2c-3d7d-430a-bd14-f8ed141da435",
   "metadata": {
    "tags": []
   },
   "outputs": [
    {
     "name": "stdout",
     "output_type": "stream",
     "text": [
      "Extracted model artifacts in the current directory\n"
     ]
    }
   ],
   "source": [
    "# # Create a S3 client\n",
    "# s3 = boto3.client('s3')\n",
    "# bucket_name = model_artifacts_s3_uri.split('/')[2]\n",
    "# object_key = '/'.join(model_artifacts_s3_uri.split('/')[3:])\n",
    "\n",
    "# # Download the model artifacts file\n",
    "# s3.download_file(bucket_name, object_key, 'model.tar.gz')\n",
    "\n",
    "# # Extract the model artifacts file\n",
    "# with tarfile.open('model.tar.gz') as tar:\n",
    "#     tar.extractall()\n",
    "#     print(\"Extracted model artifacts in the current directory\")"
   ]
  },
  {
   "cell_type": "code",
   "execution_count": null,
   "id": "1eb21342-c896-4699-90d7-312a0cc6b716",
   "metadata": {},
   "outputs": [],
   "source": [
    "# import mxnet as mx\n",
    "\n",
    "# data = mx.ndarray.load('model_algo-1')\n",
    "# # MXNet NDArrays named 's' usually contain the singular values, which can be related to explained variance"
   ]
  },
  {
   "cell_type": "code",
   "execution_count": null,
   "id": "d4a9c86c-063b-4eb8-9e50-d8713a0f39cc",
   "metadata": {},
   "outputs": [],
   "source": [
    "# # total variance ratios\n",
    "# explained_variance_ratio = np.square(data['s'].asnumpy()) / np.sum(np.square(data['s'].asnumpy()))\n",
    "\n",
    "# # Plotting the cumulative explained variance\n",
    "# plt.figure(figsize=(10, 7))\n",
    "# plt.plot(np.cumsum(explained_variance_ratio), marker='o', linestyle='-', color='b')\n",
    "# plt.title('Cumulative Explained Variance by Principal Component')\n",
    "# plt.xlabel('Number of Principal Components')\n",
    "# plt.ylabel('Cumulative Explained Variance')\n",
    "# plt.grid(True)\n",
    "# plt.show()"
   ]
  },
  {
   "cell_type": "markdown",
   "id": "e919faa0-5ca0-4bbd-8471-34a615df4944",
   "metadata": {},
   "source": [
    "### Set Up Experiment for KNN Model Training Trials"
   ]
  },
  {
   "cell_type": "code",
   "execution_count": 5,
   "id": "956908f9-ff0a-4605-af8a-9863a43b6f5d",
   "metadata": {
    "tags": []
   },
   "outputs": [],
   "source": [
    "# set up experiment\n",
    "experiment_name = f\"KMeans-Clustering-Experiment-{int(time.time())}\"\n",
    "experiment_description = \"Comparing 3 KMeans models with different hyperparameters.\"\n",
    "\n",
    "experiment = Experiment.create(\n",
    "    experiment_name=experiment_name,\n",
    "    description=experiment_description,\n",
    "    sagemaker_boto_client=boto3.client('sagemaker')\n",
    ")"
   ]
  },
  {
   "cell_type": "code",
   "execution_count": 6,
   "id": "be7a4183-7491-44a3-aca2-a85fa3493ce1",
   "metadata": {
    "tags": []
   },
   "outputs": [],
   "source": [
    "# define hyperparameters for 3 KNN models\n",
    "hyperparameter_sets = [\n",
    "    {'k': '5', 'init_method': 'random'},\n",
    "    {'k': '10', 'init_method': 'random'},\n",
    "    {'k': '15', 'init_method': 'random'}\n",
    "]"
   ]
  },
  {
   "cell_type": "markdown",
   "id": "5068521d-06d9-40c9-bffa-dbd71f564010",
   "metadata": {},
   "source": [
    "### Run Experiment Trials for KNN Models"
   ]
  },
  {
   "cell_type": "code",
   "execution_count": 7,
   "id": "fd47ee6a-d5a4-4255-bc06-7f5bd74eabe2",
   "metadata": {
    "tags": []
   },
   "outputs": [
    {
     "data": {
      "text/plain": [
       "{'ResponseMetadata': {'RequestId': 'MSFC5XQHS90JZQ01',\n",
       "  'HostId': '5Cb6shbfHOHg00xGqapoXiRofoKM107TO0vkxLErX6nqvCgrCLVgv6jk83JEPZvlmobG263Lvzo=',\n",
       "  'HTTPStatusCode': 200,\n",
       "  'HTTPHeaders': {'x-amz-id-2': '5Cb6shbfHOHg00xGqapoXiRofoKM107TO0vkxLErX6nqvCgrCLVgv6jk83JEPZvlmobG263Lvzo=',\n",
       "   'x-amz-request-id': 'MSFC5XQHS90JZQ01',\n",
       "   'date': 'Sun, 31 Mar 2024 21:59:20 GMT',\n",
       "   'location': '/team6experiments',\n",
       "   'server': 'AmazonS3',\n",
       "   'content-length': '0'},\n",
       "  'RetryAttempts': 0},\n",
       " 'Location': '/team6experiments'}"
      ]
     },
     "execution_count": 7,
     "metadata": {},
     "output_type": "execute_result"
    }
   ],
   "source": [
    "# create my own S3 bucket\n",
    "s3 = boto3.client('s3')\n",
    "s3.create_bucket(Bucket='team6experiments')"
   ]
  },
  {
   "cell_type": "code",
   "execution_count": 11,
   "id": "035b4bbf-5c91-44f7-a55b-ec1e038819c2",
   "metadata": {
    "tags": []
   },
   "outputs": [
    {
     "name": "stderr",
     "output_type": "stream",
     "text": [
      "INFO:sagemaker.image_uris:Same images used for training and inference. Defaulting to image scope: inference.\n",
      "WARNING:sagemaker.image_uris:Defaulting to the only supported framework/algorithm version: 1. Ignoring framework/algorithm version: 1.\n",
      "INFO:sagemaker.image_uris:Ignoring unnecessary instance type: None.\n",
      "INFO:sagemaker.image_uris:Defaulting to the only supported framework/algorithm version: latest.\n",
      "INFO:sagemaker.image_uris:Ignoring unnecessary instance type: None.\n",
      "INFO:sagemaker.image_uris:Same images used for training and inference. Defaulting to image scope: inference.\n",
      "WARNING:sagemaker.image_uris:Defaulting to the only supported framework/algorithm version: 1. Ignoring framework/algorithm version: 1.\n",
      "INFO:sagemaker.image_uris:Ignoring unnecessary instance type: None.\n",
      "INFO:sagemaker:Creating training-job with name: kmeans-2024-03-31-22-05-02-255\n"
     ]
    },
    {
     "name": "stdout",
     "output_type": "stream",
     "text": [
      "2024-03-31 22:05:02 Starting - Starting the training job...\n",
      "2024-03-31 22:05:26 Starting - Preparing the instances for trainingProfilerReport-1711922702: InProgress\n",
      "...\n",
      "2024-03-31 22:05:57 Downloading - Downloading input data......\n",
      "2024-03-31 22:06:47 Downloading - Downloading the training image......\n",
      "2024-03-31 22:07:58 Training - Training image download completed. Training in progress...\u001b[34mDocker entrypoint called with argument(s): train\u001b[0m\n",
      "\u001b[34mRunning default environment configuration script\u001b[0m\n",
      "\u001b[34m[03/31/2024 22:08:06 INFO 140354741135168] Reading default configuration from /opt/amazon/lib/python3.8/site-packages/algorithm/resources/default-input.json: {'init_method': 'random', 'mini_batch_size': '5000', 'epochs': '1', 'extra_center_factor': 'auto', 'local_lloyd_max_iter': '300', 'local_lloyd_tol': '0.0001', 'local_lloyd_init_method': 'kmeans++', 'local_lloyd_num_trials': 'auto', 'half_life_time_size': '0', 'eval_metrics': '[\"msd\"]', 'force_dense': 'true', '_disable_wait_to_read': 'false', '_enable_profiler': 'false', '_kvstore': 'auto', '_log_level': 'info', '_num_gpus': 'auto', '_num_kv_servers': '1', '_num_slices': '1', '_tuning_objective_metric': ''}\u001b[0m\n",
      "\u001b[34m[03/31/2024 22:08:06 INFO 140354741135168] Merging with provided configuration from /opt/ml/input/config/hyperparameters.json: {'feature_dim': '182', 'force_dense': 'True', 'k': '5'}\u001b[0m\n",
      "\u001b[34m[03/31/2024 22:08:06 INFO 140354741135168] Final configuration: {'init_method': 'random', 'mini_batch_size': '5000', 'epochs': '1', 'extra_center_factor': 'auto', 'local_lloyd_max_iter': '300', 'local_lloyd_tol': '0.0001', 'local_lloyd_init_method': 'kmeans++', 'local_lloyd_num_trials': 'auto', 'half_life_time_size': '0', 'eval_metrics': '[\"msd\"]', 'force_dense': 'True', '_disable_wait_to_read': 'false', '_enable_profiler': 'false', '_kvstore': 'auto', '_log_level': 'info', '_num_gpus': 'auto', '_num_kv_servers': '1', '_num_slices': '1', '_tuning_objective_metric': '', 'feature_dim': '182', 'k': '5'}\u001b[0m\n",
      "\u001b[34m/opt/amazon/lib/python3.8/site-packages/mxnet/model.py:97: SyntaxWarning: \"is\" with a literal. Did you mean \"==\"?\n",
      "  if num_device is 1 and 'dist' not in kvstore:\u001b[0m\n",
      "\u001b[34m[03/31/2024 22:08:08 WARNING 140354741135168] Loggers have already been setup.\u001b[0m\n",
      "\u001b[34m[03/31/2024 22:08:08 INFO 140354741135168] Final configuration: {'init_method': 'random', 'mini_batch_size': '5000', 'epochs': '1', 'extra_center_factor': 'auto', 'local_lloyd_max_iter': '300', 'local_lloyd_tol': '0.0001', 'local_lloyd_init_method': 'kmeans++', 'local_lloyd_num_trials': 'auto', 'half_life_time_size': '0', 'eval_metrics': '[\"msd\"]', 'force_dense': 'True', '_disable_wait_to_read': 'false', '_enable_profiler': 'false', '_kvstore': 'auto', '_log_level': 'info', '_num_gpus': 'auto', '_num_kv_servers': '1', '_num_slices': '1', '_tuning_objective_metric': '', 'feature_dim': '182', 'k': '5'}\u001b[0m\n",
      "\u001b[34m[03/31/2024 22:08:08 WARNING 140354741135168] Loggers have already been setup.\u001b[0m\n",
      "\u001b[34mProcess 7 is a worker.\u001b[0m\n",
      "\u001b[34m[03/31/2024 22:08:08 INFO 140354741135168] Using default worker.\u001b[0m\n",
      "\u001b[34m[03/31/2024 22:08:08 INFO 140354741135168] Loaded iterator creator application/x-recordio-protobuf for content type ('application/x-recordio-protobuf', '1.0')\u001b[0m\n",
      "\u001b[34m[03/31/2024 22:08:08 INFO 140354741135168] Create Store: local\u001b[0m\n",
      "\u001b[34m/opt/amazon/python3.8/lib/python3.8/subprocess.py:848: RuntimeWarning: line buffering (buffering=1) isn't supported in binary mode, the default buffer size will be used\n",
      "  self.stdout = io.open(c2pread, 'rb', bufsize)\u001b[0m\n",
      "\u001b[34m[03/31/2024 22:08:08 INFO 140354741135168] nvidia-smi: took 0.055 seconds to run.\u001b[0m\n",
      "\u001b[34m[03/31/2024 22:08:08 INFO 140354741135168] nvidia-smi identified 0 GPUs.\u001b[0m\n",
      "\u001b[34m[03/31/2024 22:08:08 INFO 140354741135168] Number of GPUs being used: 0\u001b[0m\n",
      "\u001b[34m[03/31/2024 22:08:08 INFO 140354741135168] Checkpoint loading and saving are disabled.\u001b[0m\n",
      "\u001b[34m[03/31/2024 22:08:08 INFO 140354741135168] Setting up with params: {'init_method': 'random', 'mini_batch_size': '5000', 'epochs': '1', 'extra_center_factor': 'auto', 'local_lloyd_max_iter': '300', 'local_lloyd_tol': '0.0001', 'local_lloyd_init_method': 'kmeans++', 'local_lloyd_num_trials': 'auto', 'half_life_time_size': '0', 'eval_metrics': '[\"msd\"]', 'force_dense': 'True', '_disable_wait_to_read': 'false', '_enable_profiler': 'false', '_kvstore': 'auto', '_log_level': 'info', '_num_gpus': 'auto', '_num_kv_servers': '1', '_num_slices': '1', '_tuning_objective_metric': '', 'feature_dim': '182', 'k': '5'}\u001b[0m\n",
      "\u001b[34m[03/31/2024 22:08:08 INFO 140354741135168] 'extra_center_factor' was set to 'auto', evaluated to 10.\u001b[0m\n",
      "\u001b[34m[03/31/2024 22:08:08 INFO 140354741135168] Number of GPUs being used: 0\u001b[0m\n",
      "\u001b[34m[03/31/2024 22:08:08 INFO 140354741135168] number of center slices 1\u001b[0m\n",
      "\u001b[34m#metrics {\"StartTime\": 1711922888.396571, \"EndTime\": 1711922888.3966222, \"Dimensions\": {\"Algorithm\": \"AWS/KMeansWebscale\", \"Host\": \"algo-1\", \"Operation\": \"training\", \"Meta\": \"init_train_data_iter\"}, \"Metrics\": {\"Total Records Seen\": {\"sum\": 5000.0, \"count\": 1, \"min\": 5000, \"max\": 5000}, \"Total Batches Seen\": {\"sum\": 1.0, \"count\": 1, \"min\": 1, \"max\": 1}, \"Max Records Seen Between Resets\": {\"sum\": 5000.0, \"count\": 1, \"min\": 5000, \"max\": 5000}, \"Max Batches Seen Between Resets\": {\"sum\": 1.0, \"count\": 1, \"min\": 1, \"max\": 1}, \"Reset Count\": {\"sum\": 0.0, \"count\": 1, \"min\": 0, \"max\": 0}, \"Number of Records Since Last Reset\": {\"sum\": 5000.0, \"count\": 1, \"min\": 5000, \"max\": 5000}, \"Number of Batches Since Last Reset\": {\"sum\": 1.0, \"count\": 1, \"min\": 1, \"max\": 1}}}\u001b[0m\n",
      "\u001b[34m[2024-03-31 22:08:08.410] [tensorio] [info] epoch_stats={\"data_pipeline\": \"/opt/ml/input/data/train\", \"epoch\": 0, \"duration\": 52, \"num_examples\": 1, \"num_bytes\": 3780000}\u001b[0m\n",
      "\u001b[34m[03/31/2024 22:08:08 INFO 140354741135168] Iter 10: Short term msd 145.025940. Long term msd 151.918796\u001b[0m\n",
      "\u001b[34m[03/31/2024 22:08:08 INFO 140354741135168] Iter 20: Short term msd 137.825535. Long term msd 141.026211\u001b[0m\n",
      "\u001b[34m[03/31/2024 22:08:09 INFO 140354741135168] Iter 30: Short term msd 136.100696. Long term msd 137.660655\u001b[0m\n",
      "\u001b[34m[03/31/2024 22:08:09 INFO 140354741135168] Iter 40: Short term msd 136.152817. Long term msd 136.677107\u001b[0m\n",
      "\u001b[34m[03/31/2024 22:08:09 INFO 140354741135168] Iter 50: Short term msd 136.056606. Long term msd 136.258365\u001b[0m\n",
      "\u001b[34m[03/31/2024 22:08:09 INFO 140354741135168] Iter 60: Short term msd 136.522287. Long term msd 136.521021\u001b[0m\n",
      "\u001b[34m[03/31/2024 22:08:09 INFO 140354741135168] Iter 70: Short term msd 136.475679. Long term msd 136.555251\u001b[0m\n",
      "\u001b[34m[2024-03-31 22:08:09.719] [tensorio] [info] epoch_stats={\"data_pipeline\": \"/opt/ml/input/data/train\", \"epoch\": 1, \"duration\": 1308, \"num_examples\": 74, \"num_bytes\": 276805620}\u001b[0m\n",
      "\u001b[34m[03/31/2024 22:08:09 INFO 140354741135168] processed a total of 366145 examples\u001b[0m\n",
      "\u001b[34m[03/31/2024 22:08:09 INFO 140354741135168] #progress_metric: host=algo-1, completed 100.0 % of epochs\u001b[0m\n",
      "\u001b[34m#metrics {\"StartTime\": 1711922888.410297, \"EndTime\": 1711922889.7199504, \"Dimensions\": {\"Algorithm\": \"AWS/KMeansWebscale\", \"Host\": \"algo-1\", \"Operation\": \"training\", \"epoch\": 0, \"Meta\": \"training_data_iter\"}, \"Metrics\": {\"Total Records Seen\": {\"sum\": 371145.0, \"count\": 1, \"min\": 371145, \"max\": 371145}, \"Total Batches Seen\": {\"sum\": 75.0, \"count\": 1, \"min\": 75, \"max\": 75}, \"Max Records Seen Between Resets\": {\"sum\": 366145.0, \"count\": 1, \"min\": 366145, \"max\": 366145}, \"Max Batches Seen Between Resets\": {\"sum\": 74.0, \"count\": 1, \"min\": 74, \"max\": 74}, \"Reset Count\": {\"sum\": 1.0, \"count\": 1, \"min\": 1, \"max\": 1}, \"Number of Records Since Last Reset\": {\"sum\": 366145.0, \"count\": 1, \"min\": 366145, \"max\": 366145}, \"Number of Batches Since Last Reset\": {\"sum\": 74.0, \"count\": 1, \"min\": 74, \"max\": 74}}}\u001b[0m\n",
      "\u001b[34m[03/31/2024 22:08:09 INFO 140354741135168] #throughput_metric: host=algo-1, train throughput=279546.10685244296 records/second\u001b[0m\n",
      "\u001b[34m[03/31/2024 22:08:09 WARNING 140354741135168] wait_for_all_workers will not sync workers since the kv store is not running distributed\u001b[0m\n",
      "\u001b[34m[03/31/2024 22:08:09 INFO 140354741135168] shrinking 50 centers into 5\u001b[0m\n",
      "\u001b[34m[03/31/2024 22:08:09 INFO 140354741135168] local kmeans attempt #0. Current mean square distance 40.831879\u001b[0m\n",
      "\u001b[34m[03/31/2024 22:08:09 INFO 140354741135168] local kmeans attempt #1. Current mean square distance 40.582966\u001b[0m\n",
      "\u001b[34m[03/31/2024 22:08:09 INFO 140354741135168] local kmeans attempt #2. Current mean square distance 41.133434\u001b[0m\n",
      "\u001b[34m[03/31/2024 22:08:09 INFO 140354741135168] local kmeans attempt #3. Current mean square distance 40.543297\u001b[0m\n",
      "\u001b[34m[03/31/2024 22:08:09 INFO 140354741135168] local kmeans attempt #4. Current mean square distance 41.414318\u001b[0m\n",
      "\u001b[34m[03/31/2024 22:08:09 INFO 140354741135168] local kmeans attempt #5. Current mean square distance 41.645584\u001b[0m\n",
      "\u001b[34m[03/31/2024 22:08:09 INFO 140354741135168] local kmeans attempt #6. Current mean square distance 41.148792\u001b[0m\n",
      "\u001b[34m[03/31/2024 22:08:09 INFO 140354741135168] local kmeans attempt #7. Current mean square distance 41.289669\u001b[0m\n",
      "\u001b[34m[03/31/2024 22:08:09 INFO 140354741135168] local kmeans attempt #8. Current mean square distance 40.665867\u001b[0m\n",
      "\u001b[34m[03/31/2024 22:08:09 INFO 140354741135168] local kmeans attempt #9. Current mean square distance 40.774323\u001b[0m\n",
      "\u001b[34m[03/31/2024 22:08:09 INFO 140354741135168] finished shrinking process. Mean Square Distance = 41\u001b[0m\n",
      "\u001b[34m[03/31/2024 22:08:09 INFO 140354741135168] #quality_metric: host=algo-1, train msd <loss>=40.543296813964844\u001b[0m\n",
      "\u001b[34m[03/31/2024 22:08:09 INFO 140354741135168] compute all data-center distances: point norm took: 31.3164%, (0.408448 secs)\u001b[0m\n",
      "\u001b[34m[03/31/2024 22:08:09 INFO 140354741135168] predict compute msd took: 15.5747%, (0.203135 secs)\u001b[0m\n",
      "\u001b[34m[03/31/2024 22:08:09 INFO 140354741135168] batch data loading with context took: 15.0179%, (0.195873 secs)\u001b[0m\n",
      "\u001b[34m[03/31/2024 22:08:09 INFO 140354741135168] compute all data-center distances: inner product took: 11.8392%, (0.154414 secs)\u001b[0m\n",
      "\u001b[34m[03/31/2024 22:08:09 INFO 140354741135168] gradient: cluster size  took: 9.3474%, (0.121915 secs)\u001b[0m\n",
      "\u001b[34m[03/31/2024 22:08:09 INFO 140354741135168] gradient: cluster center took: 8.6302%, (0.112561 secs)\u001b[0m\n",
      "\u001b[34m[03/31/2024 22:08:09 INFO 140354741135168] update state and report convergance took: 2.3720%, (0.030937 secs)\u001b[0m\n",
      "\u001b[34m[03/31/2024 22:08:09 INFO 140354741135168] collect from kv store took: 1.7598%, (0.022952 secs)\u001b[0m\n",
      "\u001b[34m[03/31/2024 22:08:09 INFO 140354741135168] compute all data-center distances: center norm took: 1.5089%, (0.019680 secs)\u001b[0m\n",
      "\u001b[34m[03/31/2024 22:08:09 INFO 140354741135168] gradient: one_hot took: 1.3633%, (0.017781 secs)\u001b[0m\n",
      "\u001b[34m[03/31/2024 22:08:09 INFO 140354741135168] splitting centers key-value pair took: 1.1335%, (0.014784 secs)\u001b[0m\n",
      "\u001b[34m[03/31/2024 22:08:09 INFO 140354741135168] predict minus dist took: 0.1185%, (0.001545 secs)\u001b[0m\n",
      "\u001b[34m[03/31/2024 22:08:09 INFO 140354741135168] update set-up time took: 0.0181%, (0.000236 secs)\u001b[0m\n",
      "\u001b[34m[03/31/2024 22:08:09 INFO 140354741135168] TOTAL took: 1.3042628765106201\u001b[0m\n",
      "\u001b[34m[03/31/2024 22:08:09 INFO 140354741135168] Number of GPUs being used: 0\u001b[0m\n",
      "\u001b[34m#metrics {\"StartTime\": 1711922888.357122, \"EndTime\": 1711922889.8268127, \"Dimensions\": {\"Algorithm\": \"AWS/KMeansWebscale\", \"Host\": \"algo-1\", \"Operation\": \"training\"}, \"Metrics\": {\"initialize.time\": {\"sum\": 12.81118392944336, \"count\": 1, \"min\": 12.81118392944336, \"max\": 12.81118392944336}, \"epochs\": {\"sum\": 1.0, \"count\": 1, \"min\": 1, \"max\": 1}, \"update.time\": {\"sum\": 1309.4587326049805, \"count\": 1, \"min\": 1309.4587326049805, \"max\": 1309.4587326049805}, \"_shrink.time\": {\"sum\": 104.81667518615723, \"count\": 1, \"min\": 104.81667518615723, \"max\": 104.81667518615723}, \"finalize.time\": {\"sum\": 106.3222885131836, \"count\": 1, \"min\": 106.3222885131836, \"max\": 106.3222885131836}, \"model.serialize.time\": {\"sum\": 0.19478797912597656, \"count\": 1, \"min\": 0.19478797912597656, \"max\": 0.19478797912597656}}}\u001b[0m\n",
      "\u001b[34m[03/31/2024 22:08:09 INFO 140354741135168] Test data is not provided.\u001b[0m\n",
      "\u001b[34m#metrics {\"StartTime\": 1711922889.8268905, \"EndTime\": 1711922889.834674, \"Dimensions\": {\"Algorithm\": \"AWS/KMeansWebscale\", \"Host\": \"algo-1\", \"Operation\": \"training\"}, \"Metrics\": {\"setuptime\": {\"sum\": 1.9207000732421875, \"count\": 1, \"min\": 1.9207000732421875, \"max\": 1.9207000732421875}, \"totaltime\": {\"sum\": 1549.426555633545, \"count\": 1, \"min\": 1549.426555633545, \"max\": 1549.426555633545}}}\u001b[0m\n",
      "\n",
      "2024-03-31 22:08:27 Uploading - Uploading generated training model\n",
      "2024-03-31 22:08:27 Completed - Training job completed\n",
      "Training seconds: 148\n",
      "Billable seconds: 148\n"
     ]
    },
    {
     "name": "stderr",
     "output_type": "stream",
     "text": [
      "INFO:sagemaker.image_uris:Same images used for training and inference. Defaulting to image scope: inference.\n",
      "WARNING:sagemaker.image_uris:Defaulting to the only supported framework/algorithm version: 1. Ignoring framework/algorithm version: 1.\n",
      "INFO:sagemaker.image_uris:Ignoring unnecessary instance type: None.\n",
      "INFO:sagemaker.image_uris:Defaulting to the only supported framework/algorithm version: latest.\n",
      "INFO:sagemaker.image_uris:Ignoring unnecessary instance type: None.\n",
      "INFO:sagemaker.image_uris:Same images used for training and inference. Defaulting to image scope: inference.\n",
      "WARNING:sagemaker.image_uris:Defaulting to the only supported framework/algorithm version: 1. Ignoring framework/algorithm version: 1.\n",
      "INFO:sagemaker.image_uris:Ignoring unnecessary instance type: None.\n",
      "INFO:sagemaker:Creating training-job with name: kmeans-2024-03-31-22-09-00-300\n"
     ]
    },
    {
     "name": "stdout",
     "output_type": "stream",
     "text": [
      "2024-03-31 22:09:00 Starting - Starting the training job...\n",
      "2024-03-31 22:09:24 Starting - Preparing the instances for trainingProfilerReport-1711922940: InProgress\n",
      "...\n",
      "2024-03-31 22:09:51 Downloading - Downloading input data...\n",
      "2024-03-31 22:10:31 Downloading - Downloading the training image.........\n",
      "2024-03-31 22:11:51 Training - Training image download completed. Training in progress..\u001b[34mDocker entrypoint called with argument(s): train\u001b[0m\n",
      "\u001b[34mRunning default environment configuration script\u001b[0m\n",
      "\u001b[34m[03/31/2024 22:11:59 INFO 139683796514624] Reading default configuration from /opt/amazon/lib/python3.8/site-packages/algorithm/resources/default-input.json: {'init_method': 'random', 'mini_batch_size': '5000', 'epochs': '1', 'extra_center_factor': 'auto', 'local_lloyd_max_iter': '300', 'local_lloyd_tol': '0.0001', 'local_lloyd_init_method': 'kmeans++', 'local_lloyd_num_trials': 'auto', 'half_life_time_size': '0', 'eval_metrics': '[\"msd\"]', 'force_dense': 'true', '_disable_wait_to_read': 'false', '_enable_profiler': 'false', '_kvstore': 'auto', '_log_level': 'info', '_num_gpus': 'auto', '_num_kv_servers': '1', '_num_slices': '1', '_tuning_objective_metric': ''}\u001b[0m\n",
      "\u001b[34m[03/31/2024 22:11:59 INFO 139683796514624] Merging with provided configuration from /opt/ml/input/config/hyperparameters.json: {'feature_dim': '182', 'force_dense': 'True', 'k': '10'}\u001b[0m\n",
      "\u001b[34m[03/31/2024 22:11:59 INFO 139683796514624] Final configuration: {'init_method': 'random', 'mini_batch_size': '5000', 'epochs': '1', 'extra_center_factor': 'auto', 'local_lloyd_max_iter': '300', 'local_lloyd_tol': '0.0001', 'local_lloyd_init_method': 'kmeans++', 'local_lloyd_num_trials': 'auto', 'half_life_time_size': '0', 'eval_metrics': '[\"msd\"]', 'force_dense': 'True', '_disable_wait_to_read': 'false', '_enable_profiler': 'false', '_kvstore': 'auto', '_log_level': 'info', '_num_gpus': 'auto', '_num_kv_servers': '1', '_num_slices': '1', '_tuning_objective_metric': '', 'feature_dim': '182', 'k': '10'}\u001b[0m\n",
      "\u001b[34m/opt/amazon/lib/python3.8/site-packages/mxnet/model.py:97: SyntaxWarning: \"is\" with a literal. Did you mean \"==\"?\n",
      "  if num_device is 1 and 'dist' not in kvstore:\u001b[0m\n",
      "\u001b[34m[03/31/2024 22:12:01 WARNING 139683796514624] Loggers have already been setup.\u001b[0m\n",
      "\u001b[34m[03/31/2024 22:12:01 INFO 139683796514624] Final configuration: {'init_method': 'random', 'mini_batch_size': '5000', 'epochs': '1', 'extra_center_factor': 'auto', 'local_lloyd_max_iter': '300', 'local_lloyd_tol': '0.0001', 'local_lloyd_init_method': 'kmeans++', 'local_lloyd_num_trials': 'auto', 'half_life_time_size': '0', 'eval_metrics': '[\"msd\"]', 'force_dense': 'True', '_disable_wait_to_read': 'false', '_enable_profiler': 'false', '_kvstore': 'auto', '_log_level': 'info', '_num_gpus': 'auto', '_num_kv_servers': '1', '_num_slices': '1', '_tuning_objective_metric': '', 'feature_dim': '182', 'k': '10'}\u001b[0m\n",
      "\u001b[34m[03/31/2024 22:12:01 WARNING 139683796514624] Loggers have already been setup.\u001b[0m\n",
      "\u001b[34mProcess 7 is a worker.\u001b[0m\n",
      "\u001b[34m[03/31/2024 22:12:01 INFO 139683796514624] Using default worker.\u001b[0m\n",
      "\u001b[34m[03/31/2024 22:12:01 INFO 139683796514624] Loaded iterator creator application/x-recordio-protobuf for content type ('application/x-recordio-protobuf', '1.0')\u001b[0m\n",
      "\u001b[34m[03/31/2024 22:12:01 INFO 139683796514624] Create Store: local\u001b[0m\n",
      "\u001b[34m/opt/amazon/python3.8/lib/python3.8/subprocess.py:848: RuntimeWarning: line buffering (buffering=1) isn't supported in binary mode, the default buffer size will be used\n",
      "  self.stdout = io.open(c2pread, 'rb', bufsize)\u001b[0m\n",
      "\u001b[34m[03/31/2024 22:12:01 INFO 139683796514624] nvidia-smi: took 0.056 seconds to run.\u001b[0m\n",
      "\u001b[34m[03/31/2024 22:12:01 INFO 139683796514624] nvidia-smi identified 0 GPUs.\u001b[0m\n",
      "\u001b[34m[03/31/2024 22:12:01 INFO 139683796514624] Number of GPUs being used: 0\u001b[0m\n",
      "\u001b[34m[03/31/2024 22:12:01 INFO 139683796514624] Checkpoint loading and saving are disabled.\u001b[0m\n",
      "\u001b[34m[03/31/2024 22:12:01 INFO 139683796514624] Setting up with params: {'init_method': 'random', 'mini_batch_size': '5000', 'epochs': '1', 'extra_center_factor': 'auto', 'local_lloyd_max_iter': '300', 'local_lloyd_tol': '0.0001', 'local_lloyd_init_method': 'kmeans++', 'local_lloyd_num_trials': 'auto', 'half_life_time_size': '0', 'eval_metrics': '[\"msd\"]', 'force_dense': 'True', '_disable_wait_to_read': 'false', '_enable_profiler': 'false', '_kvstore': 'auto', '_log_level': 'info', '_num_gpus': 'auto', '_num_kv_servers': '1', '_num_slices': '1', '_tuning_objective_metric': '', 'feature_dim': '182', 'k': '10'}\u001b[0m\n",
      "\u001b[34m[03/31/2024 22:12:01 INFO 139683796514624] 'extra_center_factor' was set to 'auto', evaluated to 10.\u001b[0m\n",
      "\u001b[34m[03/31/2024 22:12:01 INFO 139683796514624] Number of GPUs being used: 0\u001b[0m\n",
      "\u001b[34m[03/31/2024 22:12:01 INFO 139683796514624] number of center slices 1\u001b[0m\n",
      "\u001b[34m#metrics {\"StartTime\": 1711923121.217977, \"EndTime\": 1711923121.2180083, \"Dimensions\": {\"Algorithm\": \"AWS/KMeansWebscale\", \"Host\": \"algo-1\", \"Operation\": \"training\", \"Meta\": \"init_train_data_iter\"}, \"Metrics\": {\"Total Records Seen\": {\"sum\": 5000.0, \"count\": 1, \"min\": 5000, \"max\": 5000}, \"Total Batches Seen\": {\"sum\": 1.0, \"count\": 1, \"min\": 1, \"max\": 1}, \"Max Records Seen Between Resets\": {\"sum\": 5000.0, \"count\": 1, \"min\": 5000, \"max\": 5000}, \"Max Batches Seen Between Resets\": {\"sum\": 1.0, \"count\": 1, \"min\": 1, \"max\": 1}, \"Reset Count\": {\"sum\": 0.0, \"count\": 1, \"min\": 0, \"max\": 0}, \"Number of Records Since Last Reset\": {\"sum\": 5000.0, \"count\": 1, \"min\": 5000, \"max\": 5000}, \"Number of Batches Since Last Reset\": {\"sum\": 1.0, \"count\": 1, \"min\": 1, \"max\": 1}}}\u001b[0m\n",
      "\u001b[34m[2024-03-31 22:12:01.232] [tensorio] [info] epoch_stats={\"data_pipeline\": \"/opt/ml/input/data/train\", \"epoch\": 0, \"duration\": 59, \"num_examples\": 1, \"num_bytes\": 3780000}\u001b[0m\n",
      "\u001b[34m[03/31/2024 22:12:01 INFO 139683796514624] Iter 10: Short term msd 110.472859. Long term msd 116.688333\u001b[0m\n",
      "\u001b[34m[03/31/2024 22:12:01 INFO 139683796514624] Iter 20: Short term msd 104.483154. Long term msd 107.274421\u001b[0m\n",
      "\u001b[34m[03/31/2024 22:12:02 INFO 139683796514624] Iter 30: Short term msd 103.472343. Long term msd 104.697646\u001b[0m\n",
      "\u001b[34m[03/31/2024 22:12:02 INFO 139683796514624] Iter 40: Short term msd 103.036127. Long term msd 103.575045\u001b[0m\n",
      "\u001b[34m[03/31/2024 22:12:02 INFO 139683796514624] Iter 50: Short term msd 103.166704. Long term msd 103.310652\u001b[0m\n",
      "\u001b[34m[03/31/2024 22:12:02 INFO 139683796514624] Iter 60: Short term msd 103.386868. Long term msd 103.462359\u001b[0m\n",
      "\u001b[34m[03/31/2024 22:12:03 INFO 139683796514624] Iter 70: Short term msd 103.566012. Long term msd 103.561010\u001b[0m\n",
      "\u001b[34m[2024-03-31 22:12:03.100] [tensorio] [info] epoch_stats={\"data_pipeline\": \"/opt/ml/input/data/train\", \"epoch\": 1, \"duration\": 1867, \"num_examples\": 74, \"num_bytes\": 276805620}\u001b[0m\n",
      "\u001b[34m[03/31/2024 22:12:03 INFO 139683796514624] processed a total of 366145 examples\u001b[0m\n",
      "\u001b[34m[03/31/2024 22:12:03 INFO 139683796514624] #progress_metric: host=algo-1, completed 100.0 % of epochs\u001b[0m\n",
      "\u001b[34m#metrics {\"StartTime\": 1711923121.2327251, \"EndTime\": 1711923123.1021245, \"Dimensions\": {\"Algorithm\": \"AWS/KMeansWebscale\", \"Host\": \"algo-1\", \"Operation\": \"training\", \"epoch\": 0, \"Meta\": \"training_data_iter\"}, \"Metrics\": {\"Total Records Seen\": {\"sum\": 371145.0, \"count\": 1, \"min\": 371145, \"max\": 371145}, \"Total Batches Seen\": {\"sum\": 75.0, \"count\": 1, \"min\": 75, \"max\": 75}, \"Max Records Seen Between Resets\": {\"sum\": 366145.0, \"count\": 1, \"min\": 366145, \"max\": 366145}, \"Max Batches Seen Between Resets\": {\"sum\": 74.0, \"count\": 1, \"min\": 74, \"max\": 74}, \"Reset Count\": {\"sum\": 1.0, \"count\": 1, \"min\": 1, \"max\": 1}, \"Number of Records Since Last Reset\": {\"sum\": 366145.0, \"count\": 1, \"min\": 366145, \"max\": 366145}, \"Number of Batches Since Last Reset\": {\"sum\": 74.0, \"count\": 1, \"min\": 74, \"max\": 74}}}\u001b[0m\n",
      "\u001b[34m[03/31/2024 22:12:03 INFO 139683796514624] #throughput_metric: host=algo-1, train throughput=195848.09373733087 records/second\u001b[0m\n",
      "\u001b[34m[03/31/2024 22:12:03 WARNING 139683796514624] wait_for_all_workers will not sync workers since the kv store is not running distributed\u001b[0m\n",
      "\u001b[34m[03/31/2024 22:12:03 INFO 139683796514624] shrinking 100 centers into 10\u001b[0m\n",
      "\u001b[34m[03/31/2024 22:12:03 INFO 139683796514624] local kmeans attempt #0. Current mean square distance 67.563515\u001b[0m\n",
      "\u001b[34m[03/31/2024 22:12:03 INFO 139683796514624] local kmeans attempt #1. Current mean square distance 67.590027\u001b[0m\n",
      "\u001b[34m[03/31/2024 22:12:03 INFO 139683796514624] local kmeans attempt #2. Current mean square distance 68.966347\u001b[0m\n",
      "\u001b[34m[03/31/2024 22:12:03 INFO 139683796514624] local kmeans attempt #3. Current mean square distance 67.671829\u001b[0m\n",
      "\u001b[34m[03/31/2024 22:12:03 INFO 139683796514624] local kmeans attempt #4. Current mean square distance 67.657700\u001b[0m\n",
      "\u001b[34m[03/31/2024 22:12:03 INFO 139683796514624] local kmeans attempt #5. Current mean square distance 67.515381\u001b[0m\n",
      "\u001b[34m[03/31/2024 22:12:03 INFO 139683796514624] local kmeans attempt #6. Current mean square distance 68.833923\u001b[0m\n",
      "\u001b[34m[03/31/2024 22:12:03 INFO 139683796514624] local kmeans attempt #7. Current mean square distance 68.731735\u001b[0m\n",
      "\u001b[34m[03/31/2024 22:12:03 INFO 139683796514624] local kmeans attempt #8. Current mean square distance 67.372696\u001b[0m\n",
      "\u001b[34m[03/31/2024 22:12:03 INFO 139683796514624] local kmeans attempt #9. Current mean square distance 67.645905\u001b[0m\n",
      "\u001b[34m[03/31/2024 22:12:03 INFO 139683796514624] finished shrinking process. Mean Square Distance = 67\u001b[0m\n",
      "\u001b[34m[03/31/2024 22:12:03 INFO 139683796514624] #quality_metric: host=algo-1, train msd <loss>=67.37269592285156\u001b[0m\n",
      "\u001b[34m[03/31/2024 22:12:03 INFO 139683796514624] compute all data-center distances: point norm took: 25.4494%, (0.475853 secs)\u001b[0m\n",
      "\u001b[34m[03/31/2024 22:12:03 INFO 139683796514624] predict compute msd took: 21.2775%, (0.397847 secs)\u001b[0m\n",
      "\u001b[34m[03/31/2024 22:12:03 INFO 139683796514624] compute all data-center distances: inner product took: 17.0584%, (0.318958 secs)\u001b[0m\n",
      "\u001b[34m[03/31/2024 22:12:03 INFO 139683796514624] gradient: cluster size  took: 13.1681%, (0.246217 secs)\u001b[0m\n",
      "\u001b[34m[03/31/2024 22:12:03 INFO 139683796514624] gradient: cluster center took: 11.1934%, (0.209294 secs)\u001b[0m\n",
      "\u001b[34m[03/31/2024 22:12:03 INFO 139683796514624] batch data loading with context took: 4.6921%, (0.087733 secs)\u001b[0m\n",
      "\u001b[34m[03/31/2024 22:12:03 INFO 139683796514624] collect from kv store took: 1.6586%, (0.031013 secs)\u001b[0m\n",
      "\u001b[34m[03/31/2024 22:12:03 INFO 139683796514624] update state and report convergance took: 1.6558%, (0.030961 secs)\u001b[0m\n",
      "\u001b[34m[03/31/2024 22:12:03 INFO 139683796514624] compute all data-center distances: center norm took: 1.3702%, (0.025619 secs)\u001b[0m\n",
      "\u001b[34m[03/31/2024 22:12:03 INFO 139683796514624] gradient: one_hot took: 1.1971%, (0.022383 secs)\u001b[0m\n",
      "\u001b[34m[03/31/2024 22:12:03 INFO 139683796514624] splitting centers key-value pair took: 1.1790%, (0.022045 secs)\u001b[0m\n",
      "\u001b[34m[03/31/2024 22:12:03 INFO 139683796514624] predict minus dist took: 0.0857%, (0.001603 secs)\u001b[0m\n",
      "\u001b[34m[03/31/2024 22:12:03 INFO 139683796514624] update set-up time took: 0.0149%, (0.000279 secs)\u001b[0m\n",
      "\u001b[34m[03/31/2024 22:12:03 INFO 139683796514624] TOTAL took: 1.8698029518127441\u001b[0m\n",
      "\u001b[34m[03/31/2024 22:12:03 INFO 139683796514624] Number of GPUs being used: 0\u001b[0m\n",
      "\u001b[34m#metrics {\"StartTime\": 1711923121.1729596, \"EndTime\": 1711923123.3958995, \"Dimensions\": {\"Algorithm\": \"AWS/KMeansWebscale\", \"Host\": \"algo-1\", \"Operation\": \"training\"}, \"Metrics\": {\"initialize.time\": {\"sum\": 25.06709098815918, \"count\": 1, \"min\": 25.06709098815918, \"max\": 25.06709098815918}, \"epochs\": {\"sum\": 1.0, \"count\": 1, \"min\": 1, \"max\": 1}, \"update.time\": {\"sum\": 1869.171142578125, \"count\": 1, \"min\": 1869.171142578125, \"max\": 1869.171142578125}, \"_shrink.time\": {\"sum\": 288.71774673461914, \"count\": 1, \"min\": 288.71774673461914, \"max\": 288.71774673461914}, \"finalize.time\": {\"sum\": 291.06783866882324, \"count\": 1, \"min\": 291.06783866882324, \"max\": 291.06783866882324}, \"model.serialize.time\": {\"sum\": 0.16641616821289062, \"count\": 1, \"min\": 0.16641616821289062, \"max\": 0.16641616821289062}}}\u001b[0m\n",
      "\u001b[34m[03/31/2024 22:12:03 INFO 139683796514624] Test data is not provided.\u001b[0m\n",
      "\u001b[34m#metrics {\"StartTime\": 1711923123.3959887, \"EndTime\": 1711923123.4061394, \"Dimensions\": {\"Algorithm\": \"AWS/KMeansWebscale\", \"Host\": \"algo-1\", \"Operation\": \"training\"}, \"Metrics\": {\"setuptime\": {\"sum\": 2.008676528930664, \"count\": 1, \"min\": 2.008676528930664, \"max\": 2.008676528930664}, \"totaltime\": {\"sum\": 2305.88698387146, \"count\": 1, \"min\": 2305.88698387146, \"max\": 2305.88698387146}}}\u001b[0m\n",
      "\n",
      "2024-03-31 22:12:24 Uploading - Uploading generated training model\n",
      "2024-03-31 22:12:24 Completed - Training job completed\n",
      "Training seconds: 152\n",
      "Billable seconds: 152\n"
     ]
    },
    {
     "name": "stderr",
     "output_type": "stream",
     "text": [
      "INFO:sagemaker.image_uris:Same images used for training and inference. Defaulting to image scope: inference.\n",
      "WARNING:sagemaker.image_uris:Defaulting to the only supported framework/algorithm version: 1. Ignoring framework/algorithm version: 1.\n",
      "INFO:sagemaker.image_uris:Ignoring unnecessary instance type: None.\n",
      "INFO:sagemaker.image_uris:Defaulting to the only supported framework/algorithm version: latest.\n",
      "INFO:sagemaker.image_uris:Ignoring unnecessary instance type: None.\n",
      "INFO:sagemaker.image_uris:Same images used for training and inference. Defaulting to image scope: inference.\n",
      "WARNING:sagemaker.image_uris:Defaulting to the only supported framework/algorithm version: 1. Ignoring framework/algorithm version: 1.\n",
      "INFO:sagemaker.image_uris:Ignoring unnecessary instance type: None.\n",
      "INFO:sagemaker:Creating training-job with name: kmeans-2024-03-31-22-12-59-677\n"
     ]
    },
    {
     "name": "stdout",
     "output_type": "stream",
     "text": [
      "2024-03-31 22:12:59 Starting - Starting the training job...\n",
      "2024-03-31 22:13:23 Starting - Preparing the instances for trainingProfilerReport-1711923179: InProgress\n",
      "...\n",
      "2024-03-31 22:13:54 Downloading - Downloading input data......\n",
      "2024-03-31 22:14:43 Downloading - Downloading the training image......\n",
      "2024-03-31 22:15:55 Training - Training image download completed. Training in progress...\u001b[34mDocker entrypoint called with argument(s): train\u001b[0m\n",
      "\u001b[34mRunning default environment configuration script\u001b[0m\n",
      "\u001b[34m[03/31/2024 22:16:07 INFO 139780067415872] Reading default configuration from /opt/amazon/lib/python3.8/site-packages/algorithm/resources/default-input.json: {'init_method': 'random', 'mini_batch_size': '5000', 'epochs': '1', 'extra_center_factor': 'auto', 'local_lloyd_max_iter': '300', 'local_lloyd_tol': '0.0001', 'local_lloyd_init_method': 'kmeans++', 'local_lloyd_num_trials': 'auto', 'half_life_time_size': '0', 'eval_metrics': '[\"msd\"]', 'force_dense': 'true', '_disable_wait_to_read': 'false', '_enable_profiler': 'false', '_kvstore': 'auto', '_log_level': 'info', '_num_gpus': 'auto', '_num_kv_servers': '1', '_num_slices': '1', '_tuning_objective_metric': ''}\u001b[0m\n",
      "\u001b[34m[03/31/2024 22:16:07 INFO 139780067415872] Merging with provided configuration from /opt/ml/input/config/hyperparameters.json: {'feature_dim': '182', 'force_dense': 'True', 'k': '15'}\u001b[0m\n",
      "\u001b[34m[03/31/2024 22:16:07 INFO 139780067415872] Final configuration: {'init_method': 'random', 'mini_batch_size': '5000', 'epochs': '1', 'extra_center_factor': 'auto', 'local_lloyd_max_iter': '300', 'local_lloyd_tol': '0.0001', 'local_lloyd_init_method': 'kmeans++', 'local_lloyd_num_trials': 'auto', 'half_life_time_size': '0', 'eval_metrics': '[\"msd\"]', 'force_dense': 'True', '_disable_wait_to_read': 'false', '_enable_profiler': 'false', '_kvstore': 'auto', '_log_level': 'info', '_num_gpus': 'auto', '_num_kv_servers': '1', '_num_slices': '1', '_tuning_objective_metric': '', 'feature_dim': '182', 'k': '15'}\u001b[0m\n",
      "\u001b[34m/opt/amazon/lib/python3.8/site-packages/mxnet/model.py:97: SyntaxWarning: \"is\" with a literal. Did you mean \"==\"?\n",
      "  if num_device is 1 and 'dist' not in kvstore:\u001b[0m\n",
      "\u001b[34m[03/31/2024 22:16:09 WARNING 139780067415872] Loggers have already been setup.\u001b[0m\n",
      "\u001b[34m[03/31/2024 22:16:09 INFO 139780067415872] Final configuration: {'init_method': 'random', 'mini_batch_size': '5000', 'epochs': '1', 'extra_center_factor': 'auto', 'local_lloyd_max_iter': '300', 'local_lloyd_tol': '0.0001', 'local_lloyd_init_method': 'kmeans++', 'local_lloyd_num_trials': 'auto', 'half_life_time_size': '0', 'eval_metrics': '[\"msd\"]', 'force_dense': 'True', '_disable_wait_to_read': 'false', '_enable_profiler': 'false', '_kvstore': 'auto', '_log_level': 'info', '_num_gpus': 'auto', '_num_kv_servers': '1', '_num_slices': '1', '_tuning_objective_metric': '', 'feature_dim': '182', 'k': '15'}\u001b[0m\n",
      "\u001b[34m[03/31/2024 22:16:09 WARNING 139780067415872] Loggers have already been setup.\u001b[0m\n",
      "\u001b[34mProcess 7 is a worker.\u001b[0m\n",
      "\u001b[34m[03/31/2024 22:16:09 INFO 139780067415872] Using default worker.\u001b[0m\n",
      "\u001b[34m[03/31/2024 22:16:09 INFO 139780067415872] Loaded iterator creator application/x-recordio-protobuf for content type ('application/x-recordio-protobuf', '1.0')\u001b[0m\n",
      "\u001b[34m[03/31/2024 22:16:09 INFO 139780067415872] Create Store: local\u001b[0m\n",
      "\u001b[34m/opt/amazon/python3.8/lib/python3.8/subprocess.py:848: RuntimeWarning: line buffering (buffering=1) isn't supported in binary mode, the default buffer size will be used\n",
      "  self.stdout = io.open(c2pread, 'rb', bufsize)\u001b[0m\n",
      "\u001b[34m[03/31/2024 22:16:09 INFO 139780067415872] nvidia-smi: took 0.056 seconds to run.\u001b[0m\n",
      "\u001b[34m[03/31/2024 22:16:09 INFO 139780067415872] nvidia-smi identified 0 GPUs.\u001b[0m\n",
      "\u001b[34m[03/31/2024 22:16:09 INFO 139780067415872] Number of GPUs being used: 0\u001b[0m\n",
      "\u001b[34m[03/31/2024 22:16:09 INFO 139780067415872] Checkpoint loading and saving are disabled.\u001b[0m\n",
      "\u001b[34m[03/31/2024 22:16:09 INFO 139780067415872] Setting up with params: {'init_method': 'random', 'mini_batch_size': '5000', 'epochs': '1', 'extra_center_factor': 'auto', 'local_lloyd_max_iter': '300', 'local_lloyd_tol': '0.0001', 'local_lloyd_init_method': 'kmeans++', 'local_lloyd_num_trials': 'auto', 'half_life_time_size': '0', 'eval_metrics': '[\"msd\"]', 'force_dense': 'True', '_disable_wait_to_read': 'false', '_enable_profiler': 'false', '_kvstore': 'auto', '_log_level': 'info', '_num_gpus': 'auto', '_num_kv_servers': '1', '_num_slices': '1', '_tuning_objective_metric': '', 'feature_dim': '182', 'k': '15'}\u001b[0m\n",
      "\u001b[34m[03/31/2024 22:16:09 INFO 139780067415872] 'extra_center_factor' was set to 'auto', evaluated to 10.\u001b[0m\n",
      "\u001b[34m[03/31/2024 22:16:09 INFO 139780067415872] Number of GPUs being used: 0\u001b[0m\n",
      "\u001b[34m[03/31/2024 22:16:09 INFO 139780067415872] number of center slices 1\u001b[0m\n",
      "\u001b[34m#metrics {\"StartTime\": 1711923369.4612935, \"EndTime\": 1711923369.4613376, \"Dimensions\": {\"Algorithm\": \"AWS/KMeansWebscale\", \"Host\": \"algo-1\", \"Operation\": \"training\", \"Meta\": \"init_train_data_iter\"}, \"Metrics\": {\"Total Records Seen\": {\"sum\": 5000.0, \"count\": 1, \"min\": 5000, \"max\": 5000}, \"Total Batches Seen\": {\"sum\": 1.0, \"count\": 1, \"min\": 1, \"max\": 1}, \"Max Records Seen Between Resets\": {\"sum\": 5000.0, \"count\": 1, \"min\": 5000, \"max\": 5000}, \"Max Batches Seen Between Resets\": {\"sum\": 1.0, \"count\": 1, \"min\": 1, \"max\": 1}, \"Reset Count\": {\"sum\": 0.0, \"count\": 1, \"min\": 0, \"max\": 0}, \"Number of Records Since Last Reset\": {\"sum\": 5000.0, \"count\": 1, \"min\": 5000, \"max\": 5000}, \"Number of Batches Since Last Reset\": {\"sum\": 1.0, \"count\": 1, \"min\": 1, \"max\": 1}}}\u001b[0m\n",
      "\u001b[34m[2024-03-31 22:16:09.464] [tensorio] [info] epoch_stats={\"data_pipeline\": \"/opt/ml/input/data/train\", \"epoch\": 0, \"duration\": 61, \"num_examples\": 1, \"num_bytes\": 3780000}\u001b[0m\n",
      "\u001b[34m[03/31/2024 22:16:09 INFO 139780067415872] Iter 10: Short term msd 93.579629. Long term msd 99.306831\u001b[0m\n",
      "\u001b[34m[03/31/2024 22:16:10 INFO 139780067415872] Iter 20: Short term msd 87.156439. Long term msd 89.843624\u001b[0m\n",
      "\u001b[34m[03/31/2024 22:16:10 INFO 139780067415872] Iter 30: Short term msd 85.730843. Long term msd 86.989244\u001b[0m\n",
      "\u001b[34m[03/31/2024 22:16:10 INFO 139780067415872] Iter 40: Short term msd 85.225801. Long term msd 85.762584\u001b[0m\n",
      "\u001b[34m[03/31/2024 22:16:10 INFO 139780067415872] Iter 50: Short term msd 85.393582. Long term msd 85.511792\u001b[0m\n",
      "\u001b[34m[03/31/2024 22:16:11 INFO 139780067415872] Iter 60: Short term msd 84.906046. Long term msd 85.152122\u001b[0m\n",
      "\u001b[34m[03/31/2024 22:16:11 INFO 139780067415872] Iter 70: Short term msd 85.179515. Long term msd 85.227374\u001b[0m\n",
      "\u001b[34m[2024-03-31 22:16:11.447] [tensorio] [info] epoch_stats={\"data_pipeline\": \"/opt/ml/input/data/train\", \"epoch\": 1, \"duration\": 1981, \"num_examples\": 74, \"num_bytes\": 276805620}\u001b[0m\n",
      "\u001b[34m[03/31/2024 22:16:11 INFO 139780067415872] processed a total of 366145 examples\u001b[0m\n",
      "\u001b[34m[03/31/2024 22:16:11 INFO 139780067415872] #progress_metric: host=algo-1, completed 100.0 % of epochs\u001b[0m\n",
      "\u001b[34m#metrics {\"StartTime\": 1711923369.4647427, \"EndTime\": 1711923371.447542, \"Dimensions\": {\"Algorithm\": \"AWS/KMeansWebscale\", \"Host\": \"algo-1\", \"Operation\": \"training\", \"epoch\": 0, \"Meta\": \"training_data_iter\"}, \"Metrics\": {\"Total Records Seen\": {\"sum\": 371145.0, \"count\": 1, \"min\": 371145, \"max\": 371145}, \"Total Batches Seen\": {\"sum\": 75.0, \"count\": 1, \"min\": 75, \"max\": 75}, \"Max Records Seen Between Resets\": {\"sum\": 366145.0, \"count\": 1, \"min\": 366145, \"max\": 366145}, \"Max Batches Seen Between Resets\": {\"sum\": 74.0, \"count\": 1, \"min\": 74, \"max\": 74}, \"Reset Count\": {\"sum\": 1.0, \"count\": 1, \"min\": 1, \"max\": 1}, \"Number of Records Since Last Reset\": {\"sum\": 366145.0, \"count\": 1, \"min\": 366145, \"max\": 366145}, \"Number of Batches Since Last Reset\": {\"sum\": 74.0, \"count\": 1, \"min\": 74, \"max\": 74}}}\u001b[0m\n",
      "\u001b[34m[03/31/2024 22:16:11 INFO 139780067415872] #throughput_metric: host=algo-1, train throughput=184647.92482321826 records/second\u001b[0m\n",
      "\u001b[34m[03/31/2024 22:16:11 WARNING 139780067415872] wait_for_all_workers will not sync workers since the kv store is not running distributed\u001b[0m\n",
      "\u001b[34m[03/31/2024 22:16:11 INFO 139780067415872] shrinking 150 centers into 15\u001b[0m\n",
      "\u001b[34m[03/31/2024 22:16:11 INFO 139780067415872] local kmeans attempt #0. Current mean square distance 80.370560\u001b[0m\n",
      "\u001b[34m[03/31/2024 22:16:11 INFO 139780067415872] local kmeans attempt #1. Current mean square distance 81.331245\u001b[0m\n",
      "\u001b[34m[03/31/2024 22:16:11 INFO 139780067415872] local kmeans attempt #2. Current mean square distance 80.266533\u001b[0m\n",
      "\u001b[34m[03/31/2024 22:16:11 INFO 139780067415872] local kmeans attempt #3. Current mean square distance 81.412804\u001b[0m\n",
      "\u001b[34m[03/31/2024 22:16:11 INFO 139780067415872] local kmeans attempt #4. Current mean square distance 81.438065\u001b[0m\n",
      "\u001b[34m[03/31/2024 22:16:11 INFO 139780067415872] local kmeans attempt #5. Current mean square distance 80.373314\u001b[0m\n",
      "\u001b[34m[03/31/2024 22:16:11 INFO 139780067415872] local kmeans attempt #6. Current mean square distance 80.370766\u001b[0m\n",
      "\u001b[34m[03/31/2024 22:16:11 INFO 139780067415872] local kmeans attempt #7. Current mean square distance 80.217331\u001b[0m\n",
      "\u001b[34m[03/31/2024 22:16:11 INFO 139780067415872] local kmeans attempt #8. Current mean square distance 80.601753\u001b[0m\n",
      "\u001b[34m[03/31/2024 22:16:11 INFO 139780067415872] local kmeans attempt #9. Current mean square distance 80.079437\u001b[0m\n",
      "\u001b[34m[03/31/2024 22:16:11 INFO 139780067415872] finished shrinking process. Mean Square Distance = 80\u001b[0m\n",
      "\u001b[34m[03/31/2024 22:16:11 INFO 139780067415872] #quality_metric: host=algo-1, train msd <loss>=80.07943725585938\u001b[0m\n",
      "\u001b[34m[03/31/2024 22:16:11 INFO 139780067415872] predict compute msd took: 24.4834%, (0.488200 secs)\u001b[0m\n",
      "\u001b[34m[03/31/2024 22:16:11 INFO 139780067415872] compute all data-center distances: point norm took: 19.7937%, (0.394687 secs)\u001b[0m\n",
      "\u001b[34m[03/31/2024 22:16:11 INFO 139780067415872] compute all data-center distances: inner product took: 17.8441%, (0.355812 secs)\u001b[0m\n",
      "\u001b[34m[03/31/2024 22:16:11 INFO 139780067415872] gradient: cluster size  took: 15.4849%, (0.308770 secs)\u001b[0m\n",
      "\u001b[34m[03/31/2024 22:16:11 INFO 139780067415872] gradient: cluster center took: 12.2565%, (0.244395 secs)\u001b[0m\n",
      "\u001b[34m[03/31/2024 22:16:11 INFO 139780067415872] batch data loading with context took: 3.5434%, (0.070655 secs)\u001b[0m\n",
      "\u001b[34m[03/31/2024 22:16:11 INFO 139780067415872] collect from kv store took: 1.5189%, (0.030287 secs)\u001b[0m\n",
      "\u001b[34m[03/31/2024 22:16:11 INFO 139780067415872] update state and report convergance took: 1.4742%, (0.029396 secs)\u001b[0m\n",
      "\u001b[34m[03/31/2024 22:16:11 INFO 139780067415872] gradient: one_hot took: 1.2915%, (0.025753 secs)\u001b[0m\n",
      "\u001b[34m[03/31/2024 22:16:11 INFO 139780067415872] compute all data-center distances: center norm took: 1.1245%, (0.022424 secs)\u001b[0m\n",
      "\u001b[34m[03/31/2024 22:16:11 INFO 139780067415872] splitting centers key-value pair took: 1.1013%, (0.021960 secs)\u001b[0m\n",
      "\u001b[34m[03/31/2024 22:16:11 INFO 139780067415872] predict minus dist took: 0.0713%, (0.001421 secs)\u001b[0m\n",
      "\u001b[34m[03/31/2024 22:16:11 INFO 139780067415872] update set-up time took: 0.0123%, (0.000244 secs)\u001b[0m\n",
      "\u001b[34m[03/31/2024 22:16:11 INFO 139780067415872] TOTAL took: 1.994002342224121\u001b[0m\n",
      "\u001b[34m[03/31/2024 22:16:11 INFO 139780067415872] Number of GPUs being used: 0\u001b[0m\n",
      "\u001b[34m#metrics {\"StartTime\": 1711923369.402938, \"EndTime\": 1711923371.7220554, \"Dimensions\": {\"Algorithm\": \"AWS/KMeansWebscale\", \"Host\": \"algo-1\", \"Operation\": \"training\"}, \"Metrics\": {\"initialize.time\": {\"sum\": 34.29365158081055, \"count\": 1, \"min\": 34.29365158081055, \"max\": 34.29365158081055}, \"epochs\": {\"sum\": 1.0, \"count\": 1, \"min\": 1, \"max\": 1}, \"update.time\": {\"sum\": 1982.602834701538, \"count\": 1, \"min\": 1982.602834701538, \"max\": 1982.602834701538}, \"_shrink.time\": {\"sum\": 272.8879451751709, \"count\": 1, \"min\": 272.8879451751709, \"max\": 272.8879451751709}, \"finalize.time\": {\"sum\": 274.0044593811035, \"count\": 1, \"min\": 274.0044593811035, \"max\": 274.0044593811035}, \"model.serialize.time\": {\"sum\": 0.17142295837402344, \"count\": 1, \"min\": 0.17142295837402344, \"max\": 0.17142295837402344}}}\u001b[0m\n",
      "\u001b[34m[03/31/2024 22:16:11 INFO 139780067415872] Test data is not provided.\u001b[0m\n",
      "\u001b[34m#metrics {\"StartTime\": 1711923371.7221508, \"EndTime\": 1711923371.7280915, \"Dimensions\": {\"Algorithm\": \"AWS/KMeansWebscale\", \"Host\": \"algo-1\", \"Operation\": \"training\"}, \"Metrics\": {\"setuptime\": {\"sum\": 2.0389556884765625, \"count\": 1, \"min\": 2.0389556884765625, \"max\": 2.0389556884765625}, \"totaltime\": {\"sum\": 2397.0181941986084, \"count\": 1, \"min\": 2397.0181941986084, \"max\": 2397.0181941986084}}}\u001b[0m\n",
      "\n",
      "2024-03-31 22:16:31 Uploading - Uploading generated training model\n",
      "2024-03-31 22:16:31 Completed - Training job completed\n",
      "Training seconds: 157\n",
      "Billable seconds: 157\n"
     ]
    }
   ],
   "source": [
    "# Run trials\n",
    "role = get_execution_role()\n",
    "sagemaker_session = sagemaker.Session()\n",
    "region = sagemaker_session.boto_region_name\n",
    "\n",
    "for hyperparameters in hyperparameter_sets:\n",
    "    # Create a trial\n",
    "    trial_name = f\"kmeans-trial-k-{hyperparameters['k']}-{int(time.time())}\"\n",
    "    trial = Trial.create(\n",
    "        trial_name=trial_name, \n",
    "        experiment_name=experiment.experiment_name,\n",
    "        sagemaker_boto_client=boto3.client('sagemaker'),\n",
    "    )\n",
    "    \n",
    "    # define output path\n",
    "    output_path = f's3://team6experiments/{trial_name}/'\n",
    "    \n",
    "    # Create the KMeans estimator\n",
    "    kmeans = KMeans(role=role,\n",
    "                    instance_count=1,\n",
    "                    instance_type='ml.c4.xlarge',\n",
    "                    k=int(hyperparameters['k']),\n",
    "                    sagemaker_session=sagemaker_session,\n",
    "                    output_path= output_path)\n",
    "\n",
    "    # Fit the model\n",
    "    kmeans.fit(kmeans.record_set(scaled_data), wait=True)"
   ]
  },
  {
   "cell_type": "markdown",
   "id": "2f6310f3-741e-48a6-b1f8-fa9bbe259ccd",
   "metadata": {},
   "source": [
    "### Calculate Silhouette Scores for KNN Models"
   ]
  },
  {
   "cell_type": "code",
   "execution_count": 12,
   "id": "b6b6d8c0-1ade-4d40-a09f-3e55baa3a73e",
   "metadata": {},
   "outputs": [],
   "source": [
    "# define model artifacts and hyperparameters\n",
    "model_artifacts = [\n",
    "    {\n",
    "        \"model_data\": \"s3://team6experiments/kmeans-trial-k-5-1711914356/kmeans-2024-03-31-19-46-11-504/output/model.tar.gz\", # need to get links to S3 artifacts first!\n",
    "        \"hyperparameters\": {\"k\": 5}\n",
    "    },\n",
    "    {\n",
    "        \"model_data\": \"s3://team6experiments/kmeans-trial-k-10-1711914593/kmeans-2024-03-31-19-50-08-046/output/model.tar.gz\", # need to get links to S3 artifacts first!\n",
    "        \"hyperparameters\": {\"k\": 10}\n",
    "    },\n",
    "    {\n",
    "        \"model_data\": \"s3://team6experiments/kmeans-trial-k-15-1711914830/kmeans-2024-03-31-19-54-05-839/output/model.tar.gz\", # need to get links to S3 artifacts first!\n",
    "        \"hyperparameters\": {\"k\": 15}\n",
    "    }\n",
    "]"
   ]
  },
  {
   "cell_type": "code",
   "execution_count": 13,
   "id": "05c97c80-d34f-47bf-8d20-4ecbaad72b60",
   "metadata": {
    "collapsed": true,
    "jupyter": {
     "outputs_hidden": true
    },
    "tags": []
   },
   "outputs": [
    {
     "name": "stderr",
     "output_type": "stream",
     "text": [
      "INFO:sagemaker.image_uris:Same images used for training and inference. Defaulting to image scope: inference.\n",
      "INFO:sagemaker.image_uris:Defaulting to the only supported framework/algorithm version: 1.\n",
      "INFO:sagemaker.image_uris:Ignoring unnecessary instance type: None.\n",
      "INFO:sagemaker:Creating model with name: kmeans-2024-03-31-22-18-30-407\n"
     ]
    },
    {
     "name": "stdout",
     "output_type": "stream",
     "text": [
      "Deploying model with data: s3://team6experiments/kmeans-trial-k-5-1711914356/kmeans-2024-03-31-19-46-11-504/output/model.tar.gz\n"
     ]
    },
    {
     "name": "stderr",
     "output_type": "stream",
     "text": [
      "INFO:sagemaker:Creating endpoint with name kmeans-2024-03-31-22-18-31-132\n"
     ]
    },
    {
     "name": "stdout",
     "output_type": "stream",
     "text": [
      "-----------------!"
     ]
    },
    {
     "name": "stderr",
     "output_type": "stream",
     "text": [
      "INFO:sagemaker.image_uris:Same images used for training and inference. Defaulting to image scope: inference.\n",
      "INFO:sagemaker.image_uris:Defaulting to the only supported framework/algorithm version: 1.\n",
      "INFO:sagemaker.image_uris:Ignoring unnecessary instance type: None.\n",
      "INFO:sagemaker:Creating model with name: kmeans-2024-03-31-22-27-04-418\n"
     ]
    },
    {
     "name": "stdout",
     "output_type": "stream",
     "text": [
      "Model deployed successfully.\n",
      "Deployment failed. Predictor is None.\n",
      "Deploying model with data: s3://team6experiments/kmeans-trial-k-10-1711914593/kmeans-2024-03-31-19-50-08-046/output/model.tar.gz\n"
     ]
    },
    {
     "name": "stderr",
     "output_type": "stream",
     "text": [
      "INFO:sagemaker:Creating endpoint with name kmeans-2024-03-31-22-27-05-204\n"
     ]
    },
    {
     "name": "stdout",
     "output_type": "stream",
     "text": [
      "--------------------!"
     ]
    },
    {
     "name": "stderr",
     "output_type": "stream",
     "text": [
      "INFO:sagemaker.image_uris:Same images used for training and inference. Defaulting to image scope: inference.\n",
      "INFO:sagemaker.image_uris:Defaulting to the only supported framework/algorithm version: 1.\n",
      "INFO:sagemaker.image_uris:Ignoring unnecessary instance type: None.\n",
      "INFO:sagemaker:Creating model with name: kmeans-2024-03-31-22-37-09-447\n"
     ]
    },
    {
     "name": "stdout",
     "output_type": "stream",
     "text": [
      "Model deployed successfully.\n",
      "Deployment failed. Predictor is None.\n",
      "Deploying model with data: s3://team6experiments/kmeans-trial-k-15-1711914830/kmeans-2024-03-31-19-54-05-839/output/model.tar.gz\n"
     ]
    },
    {
     "name": "stderr",
     "output_type": "stream",
     "text": [
      "INFO:sagemaker:Creating endpoint with name kmeans-2024-03-31-22-37-10-173\n"
     ]
    },
    {
     "name": "stdout",
     "output_type": "stream",
     "text": [
      "-------------------"
     ]
    },
    {
     "ename": "KeyboardInterrupt",
     "evalue": "",
     "output_type": "error",
     "traceback": [
      "\u001b[0;31m---------------------------------------------------------------------------\u001b[0m",
      "\u001b[0;31mKeyboardInterrupt\u001b[0m                         Traceback (most recent call last)",
      "Cell \u001b[0;32mIn[13], line 51\u001b[0m\n\u001b[1;32m     48\u001b[0m     \u001b[38;5;28;01mreturn\u001b[39;00m score\n\u001b[1;32m     50\u001b[0m \u001b[38;5;66;03m# Assuming 'model_artifacts' and 'scaled_data' are defined earlier in your code\u001b[39;00m\n\u001b[0;32m---> 51\u001b[0m silhouette_scores \u001b[38;5;241m=\u001b[39m [deploy_predict_evaluate(artifact[\u001b[38;5;124m'\u001b[39m\u001b[38;5;124mmodel_data\u001b[39m\u001b[38;5;124m'\u001b[39m], artifact[\u001b[38;5;124m'\u001b[39m\u001b[38;5;124mhyperparameters\u001b[39m\u001b[38;5;124m'\u001b[39m]) \u001b[38;5;28;01mfor\u001b[39;00m artifact \u001b[38;5;129;01min\u001b[39;00m model_artifacts]\n\u001b[1;32m     53\u001b[0m \u001b[38;5;28mprint\u001b[39m(\u001b[38;5;124m\"\u001b[39m\u001b[38;5;124mSilhouette scores:\u001b[39m\u001b[38;5;124m\"\u001b[39m, silhouette_scores)\n",
      "Cell \u001b[0;32mIn[13], line 51\u001b[0m, in \u001b[0;36m<listcomp>\u001b[0;34m(.0)\u001b[0m\n\u001b[1;32m     48\u001b[0m     \u001b[38;5;28;01mreturn\u001b[39;00m score\n\u001b[1;32m     50\u001b[0m \u001b[38;5;66;03m# Assuming 'model_artifacts' and 'scaled_data' are defined earlier in your code\u001b[39;00m\n\u001b[0;32m---> 51\u001b[0m silhouette_scores \u001b[38;5;241m=\u001b[39m [\u001b[43mdeploy_predict_evaluate\u001b[49m\u001b[43m(\u001b[49m\u001b[43martifact\u001b[49m\u001b[43m[\u001b[49m\u001b[38;5;124;43m'\u001b[39;49m\u001b[38;5;124;43mmodel_data\u001b[39;49m\u001b[38;5;124;43m'\u001b[39;49m\u001b[43m]\u001b[49m\u001b[43m,\u001b[49m\u001b[43m \u001b[49m\u001b[43martifact\u001b[49m\u001b[43m[\u001b[49m\u001b[38;5;124;43m'\u001b[39;49m\u001b[38;5;124;43mhyperparameters\u001b[39;49m\u001b[38;5;124;43m'\u001b[39;49m\u001b[43m]\u001b[49m\u001b[43m)\u001b[49m \u001b[38;5;28;01mfor\u001b[39;00m artifact \u001b[38;5;129;01min\u001b[39;00m model_artifacts]\n\u001b[1;32m     53\u001b[0m \u001b[38;5;28mprint\u001b[39m(\u001b[38;5;124m\"\u001b[39m\u001b[38;5;124mSilhouette scores:\u001b[39m\u001b[38;5;124m\"\u001b[39m, silhouette_scores)\n",
      "Cell \u001b[0;32mIn[13], line 15\u001b[0m, in \u001b[0;36mdeploy_predict_evaluate\u001b[0;34m(model_data, hyperparameters)\u001b[0m\n\u001b[1;32m     13\u001b[0m \u001b[38;5;66;03m# Attempt to deploy the model\u001b[39;00m\n\u001b[1;32m     14\u001b[0m \u001b[38;5;28;01mtry\u001b[39;00m:\n\u001b[0;32m---> 15\u001b[0m     predictor \u001b[38;5;241m=\u001b[39m \u001b[43mmodel\u001b[49m\u001b[38;5;241;43m.\u001b[39;49m\u001b[43mdeploy\u001b[49m\u001b[43m(\u001b[49m\u001b[43minitial_instance_count\u001b[49m\u001b[38;5;241;43m=\u001b[39;49m\u001b[38;5;241;43m1\u001b[39;49m\u001b[43m,\u001b[49m\u001b[43m \u001b[49m\u001b[43minstance_type\u001b[49m\u001b[38;5;241;43m=\u001b[39;49m\u001b[38;5;124;43m\"\u001b[39;49m\u001b[38;5;124;43mml.t2.medium\u001b[39;49m\u001b[38;5;124;43m\"\u001b[39;49m\u001b[43m)\u001b[49m\n\u001b[1;32m     16\u001b[0m     \u001b[38;5;28mprint\u001b[39m(\u001b[38;5;124m\"\u001b[39m\u001b[38;5;124mModel deployed successfully.\u001b[39m\u001b[38;5;124m\"\u001b[39m)\n\u001b[1;32m     17\u001b[0m \u001b[38;5;28;01mexcept\u001b[39;00m \u001b[38;5;167;01mException\u001b[39;00m \u001b[38;5;28;01mas\u001b[39;00m e:\n",
      "File \u001b[0;32m/opt/conda/lib/python3.8/site-packages/sagemaker/model.py:777\u001b[0m, in \u001b[0;36mModel.deploy\u001b[0;34m(self, initial_instance_count, instance_type, serializer, deserializer, accelerator_type, endpoint_name, tags, kms_key, wait, data_capture_config, **kwargs)\u001b[0m\n\u001b[1;32m    774\u001b[0m \u001b[38;5;28;01mif\u001b[39;00m data_capture_config \u001b[38;5;129;01mis\u001b[39;00m \u001b[38;5;129;01mnot\u001b[39;00m \u001b[38;5;28;01mNone\u001b[39;00m:\n\u001b[1;32m    775\u001b[0m     data_capture_config_dict \u001b[38;5;241m=\u001b[39m data_capture_config\u001b[38;5;241m.\u001b[39m_to_request_dict()\n\u001b[0;32m--> 777\u001b[0m \u001b[38;5;28;43mself\u001b[39;49m\u001b[38;5;241;43m.\u001b[39;49m\u001b[43msagemaker_session\u001b[49m\u001b[38;5;241;43m.\u001b[39;49m\u001b[43mendpoint_from_production_variants\u001b[49m\u001b[43m(\u001b[49m\n\u001b[1;32m    778\u001b[0m \u001b[43m    \u001b[49m\u001b[43mname\u001b[49m\u001b[38;5;241;43m=\u001b[39;49m\u001b[38;5;28;43mself\u001b[39;49m\u001b[38;5;241;43m.\u001b[39;49m\u001b[43mendpoint_name\u001b[49m\u001b[43m,\u001b[49m\n\u001b[1;32m    779\u001b[0m \u001b[43m    \u001b[49m\u001b[43mproduction_variants\u001b[49m\u001b[38;5;241;43m=\u001b[39;49m\u001b[43m[\u001b[49m\u001b[43mproduction_variant\u001b[49m\u001b[43m]\u001b[49m\u001b[43m,\u001b[49m\n\u001b[1;32m    780\u001b[0m \u001b[43m    \u001b[49m\u001b[43mtags\u001b[49m\u001b[38;5;241;43m=\u001b[39;49m\u001b[43mtags\u001b[49m\u001b[43m,\u001b[49m\n\u001b[1;32m    781\u001b[0m \u001b[43m    \u001b[49m\u001b[43mkms_key\u001b[49m\u001b[38;5;241;43m=\u001b[39;49m\u001b[43mkms_key\u001b[49m\u001b[43m,\u001b[49m\n\u001b[1;32m    782\u001b[0m \u001b[43m    \u001b[49m\u001b[43mwait\u001b[49m\u001b[38;5;241;43m=\u001b[39;49m\u001b[43mwait\u001b[49m\u001b[43m,\u001b[49m\n\u001b[1;32m    783\u001b[0m \u001b[43m    \u001b[49m\u001b[43mdata_capture_config_dict\u001b[49m\u001b[38;5;241;43m=\u001b[39;49m\u001b[43mdata_capture_config_dict\u001b[49m\u001b[43m,\u001b[49m\n\u001b[1;32m    784\u001b[0m \u001b[43m\u001b[49m\u001b[43m)\u001b[49m\n\u001b[1;32m    786\u001b[0m \u001b[38;5;28;01mif\u001b[39;00m \u001b[38;5;28mself\u001b[39m\u001b[38;5;241m.\u001b[39mpredictor_cls:\n\u001b[1;32m    787\u001b[0m     predictor \u001b[38;5;241m=\u001b[39m \u001b[38;5;28mself\u001b[39m\u001b[38;5;241m.\u001b[39mpredictor_cls(\u001b[38;5;28mself\u001b[39m\u001b[38;5;241m.\u001b[39mendpoint_name, \u001b[38;5;28mself\u001b[39m\u001b[38;5;241m.\u001b[39msagemaker_session)\n",
      "File \u001b[0;32m/opt/conda/lib/python3.8/site-packages/sagemaker/session.py:3456\u001b[0m, in \u001b[0;36mSession.endpoint_from_production_variants\u001b[0;34m(self, name, production_variants, tags, kms_key, wait, data_capture_config_dict)\u001b[0m\n\u001b[1;32m   3453\u001b[0m         config_options[\u001b[38;5;124m\"\u001b[39m\u001b[38;5;124mDataCaptureConfig\u001b[39m\u001b[38;5;124m\"\u001b[39m] \u001b[38;5;241m=\u001b[39m data_capture_config_dict\n\u001b[1;32m   3455\u001b[0m     \u001b[38;5;28mself\u001b[39m\u001b[38;5;241m.\u001b[39msagemaker_client\u001b[38;5;241m.\u001b[39mcreate_endpoint_config(\u001b[38;5;241m*\u001b[39m\u001b[38;5;241m*\u001b[39mconfig_options)\n\u001b[0;32m-> 3456\u001b[0m \u001b[38;5;28;01mreturn\u001b[39;00m \u001b[38;5;28;43mself\u001b[39;49m\u001b[38;5;241;43m.\u001b[39;49m\u001b[43mcreate_endpoint\u001b[49m\u001b[43m(\u001b[49m\u001b[43mendpoint_name\u001b[49m\u001b[38;5;241;43m=\u001b[39;49m\u001b[43mname\u001b[49m\u001b[43m,\u001b[49m\u001b[43m \u001b[49m\u001b[43mconfig_name\u001b[49m\u001b[38;5;241;43m=\u001b[39;49m\u001b[43mname\u001b[49m\u001b[43m,\u001b[49m\u001b[43m \u001b[49m\u001b[43mtags\u001b[49m\u001b[38;5;241;43m=\u001b[39;49m\u001b[43mtags\u001b[49m\u001b[43m,\u001b[49m\u001b[43m \u001b[49m\u001b[43mwait\u001b[49m\u001b[38;5;241;43m=\u001b[39;49m\u001b[43mwait\u001b[49m\u001b[43m)\u001b[49m\n",
      "File \u001b[0;32m/opt/conda/lib/python3.8/site-packages/sagemaker/session.py:2959\u001b[0m, in \u001b[0;36mSession.create_endpoint\u001b[0;34m(self, endpoint_name, config_name, tags, wait)\u001b[0m\n\u001b[1;32m   2955\u001b[0m \u001b[38;5;28mself\u001b[39m\u001b[38;5;241m.\u001b[39msagemaker_client\u001b[38;5;241m.\u001b[39mcreate_endpoint(\n\u001b[1;32m   2956\u001b[0m     EndpointName\u001b[38;5;241m=\u001b[39mendpoint_name, EndpointConfigName\u001b[38;5;241m=\u001b[39mconfig_name, Tags\u001b[38;5;241m=\u001b[39mtags\n\u001b[1;32m   2957\u001b[0m )\n\u001b[1;32m   2958\u001b[0m \u001b[38;5;28;01mif\u001b[39;00m wait:\n\u001b[0;32m-> 2959\u001b[0m     \u001b[38;5;28;43mself\u001b[39;49m\u001b[38;5;241;43m.\u001b[39;49m\u001b[43mwait_for_endpoint\u001b[49m\u001b[43m(\u001b[49m\u001b[43mendpoint_name\u001b[49m\u001b[43m)\u001b[49m\n\u001b[1;32m   2960\u001b[0m \u001b[38;5;28;01mreturn\u001b[39;00m endpoint_name\n",
      "File \u001b[0;32m/opt/conda/lib/python3.8/site-packages/sagemaker/session.py:3235\u001b[0m, in \u001b[0;36mSession.wait_for_endpoint\u001b[0;34m(self, endpoint, poll)\u001b[0m\n\u001b[1;32m   3225\u001b[0m \u001b[38;5;28;01mdef\u001b[39;00m \u001b[38;5;21mwait_for_endpoint\u001b[39m(\u001b[38;5;28mself\u001b[39m, endpoint, poll\u001b[38;5;241m=\u001b[39m\u001b[38;5;241m30\u001b[39m):\n\u001b[1;32m   3226\u001b[0m \u001b[38;5;250m    \u001b[39m\u001b[38;5;124;03m\"\"\"Wait for an Amazon SageMaker endpoint deployment to complete.\u001b[39;00m\n\u001b[1;32m   3227\u001b[0m \n\u001b[1;32m   3228\u001b[0m \u001b[38;5;124;03m    Args:\u001b[39;00m\n\u001b[0;32m   (...)\u001b[0m\n\u001b[1;32m   3233\u001b[0m \u001b[38;5;124;03m        dict: Return value from the ``DescribeEndpoint`` API.\u001b[39;00m\n\u001b[1;32m   3234\u001b[0m \u001b[38;5;124;03m    \"\"\"\u001b[39;00m\n\u001b[0;32m-> 3235\u001b[0m     desc \u001b[38;5;241m=\u001b[39m \u001b[43m_wait_until\u001b[49m\u001b[43m(\u001b[49m\u001b[38;5;28;43;01mlambda\u001b[39;49;00m\u001b[43m:\u001b[49m\u001b[43m \u001b[49m\u001b[43m_deploy_done\u001b[49m\u001b[43m(\u001b[49m\u001b[38;5;28;43mself\u001b[39;49m\u001b[38;5;241;43m.\u001b[39;49m\u001b[43msagemaker_client\u001b[49m\u001b[43m,\u001b[49m\u001b[43m \u001b[49m\u001b[43mendpoint\u001b[49m\u001b[43m)\u001b[49m\u001b[43m,\u001b[49m\u001b[43m \u001b[49m\u001b[43mpoll\u001b[49m\u001b[43m)\u001b[49m\n\u001b[1;32m   3236\u001b[0m     status \u001b[38;5;241m=\u001b[39m desc[\u001b[38;5;124m\"\u001b[39m\u001b[38;5;124mEndpointStatus\u001b[39m\u001b[38;5;124m\"\u001b[39m]\n\u001b[1;32m   3238\u001b[0m     \u001b[38;5;28;01mif\u001b[39;00m status \u001b[38;5;241m!=\u001b[39m \u001b[38;5;124m\"\u001b[39m\u001b[38;5;124mInService\u001b[39m\u001b[38;5;124m\"\u001b[39m:\n",
      "File \u001b[0;32m/opt/conda/lib/python3.8/site-packages/sagemaker/session.py:4391\u001b[0m, in \u001b[0;36m_wait_until\u001b[0;34m(callable_fn, poll)\u001b[0m\n\u001b[1;32m   4389\u001b[0m result \u001b[38;5;241m=\u001b[39m callable_fn()\n\u001b[1;32m   4390\u001b[0m \u001b[38;5;28;01mwhile\u001b[39;00m result \u001b[38;5;129;01mis\u001b[39;00m \u001b[38;5;28;01mNone\u001b[39;00m:\n\u001b[0;32m-> 4391\u001b[0m     \u001b[43mtime\u001b[49m\u001b[38;5;241;43m.\u001b[39;49m\u001b[43msleep\u001b[49m\u001b[43m(\u001b[49m\u001b[43mpoll\u001b[49m\u001b[43m)\u001b[49m\n\u001b[1;32m   4392\u001b[0m     result \u001b[38;5;241m=\u001b[39m callable_fn()\n\u001b[1;32m   4393\u001b[0m \u001b[38;5;28;01mreturn\u001b[39;00m result\n",
      "\u001b[0;31mKeyboardInterrupt\u001b[0m: "
     ]
    }
   ],
   "source": [
    "# automate deployment, prediction, and evaluation for KNN models\n",
    "def deploy_predict_evaluate(model_data, hyperparameters):\n",
    "    print(f\"Deploying model with data: {model_data}\")\n",
    "    \n",
    "    # Define model\n",
    "    model = Model(\n",
    "        model_data=model_data,\n",
    "        image_uri=sagemaker.image_uris.retrieve('kmeans', region),\n",
    "        role=role,\n",
    "        sagemaker_session=sagemaker_session\n",
    "    )\n",
    "    \n",
    "    # Attempt to deploy the model\n",
    "    try:\n",
    "        predictor = model.deploy(initial_instance_count=1, instance_type=\"ml.t2.medium\")\n",
    "        print(\"Model deployed successfully.\")\n",
    "    except Exception as e:\n",
    "        print(f\"An error occurred during model deployment: {e}\")\n",
    "        return None\n",
    "    \n",
    "    if predictor:\n",
    "        # Set serializer and deserializer\n",
    "        predictor.serializer = CSVSerializer()\n",
    "        predictor.deserializer = JSONDeserializer()\n",
    "        \n",
    "        try:\n",
    "            # Make predictions\n",
    "            results = predictor.predict(scaled_data.tolist())\n",
    "            cluster_labels = np.array([r['closest_cluster'] for r in results['predictions']])\n",
    "            \n",
    "            # Evaluate with Silhouette Score\n",
    "            score = silhouette_score(scaled_data, cluster_labels)\n",
    "            print(f\"Silhouette Score for k={hyperparameters['k']}: {score}\")\n",
    "        except Exception as e:\n",
    "            print(f\"An error occurred during prediction or evaluation: {e}\")\n",
    "            score = None\n",
    "        finally:\n",
    "            # Clean up\n",
    "            try:\n",
    "                sagemaker.Session().delete_endpoint(predictor.endpoint_name)\n",
    "                print(\"Endpoint deleted successfully.\")\n",
    "            except Exception as e:\n",
    "                print(f\"Failed to delete endpoint {predictor.endpoint_name}: {e}\")\n",
    "    else:\n",
    "        print(\"Deployment failed. Predictor is None.\")\n",
    "        score = None\n",
    "    \n",
    "    return score\n",
    "\n",
    "# Assuming 'model_artifacts' and 'scaled_data' are defined earlier in your code\n",
    "silhouette_scores = [deploy_predict_evaluate(artifact['model_data'], artifact['hyperparameters']) for artifact in model_artifacts]\n",
    "\n",
    "print(\"Silhouette scores:\", silhouette_scores)"
   ]
  },
  {
   "cell_type": "code",
   "execution_count": null,
   "id": "b6f0f597-1296-4884-880e-c91e75803be3",
   "metadata": {},
   "outputs": [],
   "source": [
    "# release end-point\n",
    "sagemaker.Session().delete_endpoint(predictor.endpoint_name)"
   ]
  }
 ],
 "metadata": {
  "availableInstances": [
   {
    "_defaultOrder": 0,
    "_isFastLaunch": true,
    "category": "General purpose",
    "gpuNum": 0,
    "hideHardwareSpecs": false,
    "memoryGiB": 4,
    "name": "ml.t3.medium",
    "vcpuNum": 2
   },
   {
    "_defaultOrder": 1,
    "_isFastLaunch": false,
    "category": "General purpose",
    "gpuNum": 0,
    "hideHardwareSpecs": false,
    "memoryGiB": 8,
    "name": "ml.t3.large",
    "vcpuNum": 2
   },
   {
    "_defaultOrder": 2,
    "_isFastLaunch": false,
    "category": "General purpose",
    "gpuNum": 0,
    "hideHardwareSpecs": false,
    "memoryGiB": 16,
    "name": "ml.t3.xlarge",
    "vcpuNum": 4
   },
   {
    "_defaultOrder": 3,
    "_isFastLaunch": false,
    "category": "General purpose",
    "gpuNum": 0,
    "hideHardwareSpecs": false,
    "memoryGiB": 32,
    "name": "ml.t3.2xlarge",
    "vcpuNum": 8
   },
   {
    "_defaultOrder": 4,
    "_isFastLaunch": true,
    "category": "General purpose",
    "gpuNum": 0,
    "hideHardwareSpecs": false,
    "memoryGiB": 8,
    "name": "ml.m5.large",
    "vcpuNum": 2
   },
   {
    "_defaultOrder": 5,
    "_isFastLaunch": false,
    "category": "General purpose",
    "gpuNum": 0,
    "hideHardwareSpecs": false,
    "memoryGiB": 16,
    "name": "ml.m5.xlarge",
    "vcpuNum": 4
   },
   {
    "_defaultOrder": 6,
    "_isFastLaunch": false,
    "category": "General purpose",
    "gpuNum": 0,
    "hideHardwareSpecs": false,
    "memoryGiB": 32,
    "name": "ml.m5.2xlarge",
    "vcpuNum": 8
   },
   {
    "_defaultOrder": 7,
    "_isFastLaunch": false,
    "category": "General purpose",
    "gpuNum": 0,
    "hideHardwareSpecs": false,
    "memoryGiB": 64,
    "name": "ml.m5.4xlarge",
    "vcpuNum": 16
   },
   {
    "_defaultOrder": 8,
    "_isFastLaunch": false,
    "category": "General purpose",
    "gpuNum": 0,
    "hideHardwareSpecs": false,
    "memoryGiB": 128,
    "name": "ml.m5.8xlarge",
    "vcpuNum": 32
   },
   {
    "_defaultOrder": 9,
    "_isFastLaunch": false,
    "category": "General purpose",
    "gpuNum": 0,
    "hideHardwareSpecs": false,
    "memoryGiB": 192,
    "name": "ml.m5.12xlarge",
    "vcpuNum": 48
   },
   {
    "_defaultOrder": 10,
    "_isFastLaunch": false,
    "category": "General purpose",
    "gpuNum": 0,
    "hideHardwareSpecs": false,
    "memoryGiB": 256,
    "name": "ml.m5.16xlarge",
    "vcpuNum": 64
   },
   {
    "_defaultOrder": 11,
    "_isFastLaunch": false,
    "category": "General purpose",
    "gpuNum": 0,
    "hideHardwareSpecs": false,
    "memoryGiB": 384,
    "name": "ml.m5.24xlarge",
    "vcpuNum": 96
   },
   {
    "_defaultOrder": 12,
    "_isFastLaunch": false,
    "category": "General purpose",
    "gpuNum": 0,
    "hideHardwareSpecs": false,
    "memoryGiB": 8,
    "name": "ml.m5d.large",
    "vcpuNum": 2
   },
   {
    "_defaultOrder": 13,
    "_isFastLaunch": false,
    "category": "General purpose",
    "gpuNum": 0,
    "hideHardwareSpecs": false,
    "memoryGiB": 16,
    "name": "ml.m5d.xlarge",
    "vcpuNum": 4
   },
   {
    "_defaultOrder": 14,
    "_isFastLaunch": false,
    "category": "General purpose",
    "gpuNum": 0,
    "hideHardwareSpecs": false,
    "memoryGiB": 32,
    "name": "ml.m5d.2xlarge",
    "vcpuNum": 8
   },
   {
    "_defaultOrder": 15,
    "_isFastLaunch": false,
    "category": "General purpose",
    "gpuNum": 0,
    "hideHardwareSpecs": false,
    "memoryGiB": 64,
    "name": "ml.m5d.4xlarge",
    "vcpuNum": 16
   },
   {
    "_defaultOrder": 16,
    "_isFastLaunch": false,
    "category": "General purpose",
    "gpuNum": 0,
    "hideHardwareSpecs": false,
    "memoryGiB": 128,
    "name": "ml.m5d.8xlarge",
    "vcpuNum": 32
   },
   {
    "_defaultOrder": 17,
    "_isFastLaunch": false,
    "category": "General purpose",
    "gpuNum": 0,
    "hideHardwareSpecs": false,
    "memoryGiB": 192,
    "name": "ml.m5d.12xlarge",
    "vcpuNum": 48
   },
   {
    "_defaultOrder": 18,
    "_isFastLaunch": false,
    "category": "General purpose",
    "gpuNum": 0,
    "hideHardwareSpecs": false,
    "memoryGiB": 256,
    "name": "ml.m5d.16xlarge",
    "vcpuNum": 64
   },
   {
    "_defaultOrder": 19,
    "_isFastLaunch": false,
    "category": "General purpose",
    "gpuNum": 0,
    "hideHardwareSpecs": false,
    "memoryGiB": 384,
    "name": "ml.m5d.24xlarge",
    "vcpuNum": 96
   },
   {
    "_defaultOrder": 20,
    "_isFastLaunch": false,
    "category": "General purpose",
    "gpuNum": 0,
    "hideHardwareSpecs": true,
    "memoryGiB": 0,
    "name": "ml.geospatial.interactive",
    "supportedImageNames": [
     "sagemaker-geospatial-v1-0"
    ],
    "vcpuNum": 0
   },
   {
    "_defaultOrder": 21,
    "_isFastLaunch": true,
    "category": "Compute optimized",
    "gpuNum": 0,
    "hideHardwareSpecs": false,
    "memoryGiB": 4,
    "name": "ml.c5.large",
    "vcpuNum": 2
   },
   {
    "_defaultOrder": 22,
    "_isFastLaunch": false,
    "category": "Compute optimized",
    "gpuNum": 0,
    "hideHardwareSpecs": false,
    "memoryGiB": 8,
    "name": "ml.c5.xlarge",
    "vcpuNum": 4
   },
   {
    "_defaultOrder": 23,
    "_isFastLaunch": false,
    "category": "Compute optimized",
    "gpuNum": 0,
    "hideHardwareSpecs": false,
    "memoryGiB": 16,
    "name": "ml.c5.2xlarge",
    "vcpuNum": 8
   },
   {
    "_defaultOrder": 24,
    "_isFastLaunch": false,
    "category": "Compute optimized",
    "gpuNum": 0,
    "hideHardwareSpecs": false,
    "memoryGiB": 32,
    "name": "ml.c5.4xlarge",
    "vcpuNum": 16
   },
   {
    "_defaultOrder": 25,
    "_isFastLaunch": false,
    "category": "Compute optimized",
    "gpuNum": 0,
    "hideHardwareSpecs": false,
    "memoryGiB": 72,
    "name": "ml.c5.9xlarge",
    "vcpuNum": 36
   },
   {
    "_defaultOrder": 26,
    "_isFastLaunch": false,
    "category": "Compute optimized",
    "gpuNum": 0,
    "hideHardwareSpecs": false,
    "memoryGiB": 96,
    "name": "ml.c5.12xlarge",
    "vcpuNum": 48
   },
   {
    "_defaultOrder": 27,
    "_isFastLaunch": false,
    "category": "Compute optimized",
    "gpuNum": 0,
    "hideHardwareSpecs": false,
    "memoryGiB": 144,
    "name": "ml.c5.18xlarge",
    "vcpuNum": 72
   },
   {
    "_defaultOrder": 28,
    "_isFastLaunch": false,
    "category": "Compute optimized",
    "gpuNum": 0,
    "hideHardwareSpecs": false,
    "memoryGiB": 192,
    "name": "ml.c5.24xlarge",
    "vcpuNum": 96
   },
   {
    "_defaultOrder": 29,
    "_isFastLaunch": true,
    "category": "Accelerated computing",
    "gpuNum": 1,
    "hideHardwareSpecs": false,
    "memoryGiB": 16,
    "name": "ml.g4dn.xlarge",
    "vcpuNum": 4
   },
   {
    "_defaultOrder": 30,
    "_isFastLaunch": false,
    "category": "Accelerated computing",
    "gpuNum": 1,
    "hideHardwareSpecs": false,
    "memoryGiB": 32,
    "name": "ml.g4dn.2xlarge",
    "vcpuNum": 8
   },
   {
    "_defaultOrder": 31,
    "_isFastLaunch": false,
    "category": "Accelerated computing",
    "gpuNum": 1,
    "hideHardwareSpecs": false,
    "memoryGiB": 64,
    "name": "ml.g4dn.4xlarge",
    "vcpuNum": 16
   },
   {
    "_defaultOrder": 32,
    "_isFastLaunch": false,
    "category": "Accelerated computing",
    "gpuNum": 1,
    "hideHardwareSpecs": false,
    "memoryGiB": 128,
    "name": "ml.g4dn.8xlarge",
    "vcpuNum": 32
   },
   {
    "_defaultOrder": 33,
    "_isFastLaunch": false,
    "category": "Accelerated computing",
    "gpuNum": 4,
    "hideHardwareSpecs": false,
    "memoryGiB": 192,
    "name": "ml.g4dn.12xlarge",
    "vcpuNum": 48
   },
   {
    "_defaultOrder": 34,
    "_isFastLaunch": false,
    "category": "Accelerated computing",
    "gpuNum": 1,
    "hideHardwareSpecs": false,
    "memoryGiB": 256,
    "name": "ml.g4dn.16xlarge",
    "vcpuNum": 64
   },
   {
    "_defaultOrder": 35,
    "_isFastLaunch": false,
    "category": "Accelerated computing",
    "gpuNum": 1,
    "hideHardwareSpecs": false,
    "memoryGiB": 61,
    "name": "ml.p3.2xlarge",
    "vcpuNum": 8
   },
   {
    "_defaultOrder": 36,
    "_isFastLaunch": false,
    "category": "Accelerated computing",
    "gpuNum": 4,
    "hideHardwareSpecs": false,
    "memoryGiB": 244,
    "name": "ml.p3.8xlarge",
    "vcpuNum": 32
   },
   {
    "_defaultOrder": 37,
    "_isFastLaunch": false,
    "category": "Accelerated computing",
    "gpuNum": 8,
    "hideHardwareSpecs": false,
    "memoryGiB": 488,
    "name": "ml.p3.16xlarge",
    "vcpuNum": 64
   },
   {
    "_defaultOrder": 38,
    "_isFastLaunch": false,
    "category": "Accelerated computing",
    "gpuNum": 8,
    "hideHardwareSpecs": false,
    "memoryGiB": 768,
    "name": "ml.p3dn.24xlarge",
    "vcpuNum": 96
   },
   {
    "_defaultOrder": 39,
    "_isFastLaunch": false,
    "category": "Memory Optimized",
    "gpuNum": 0,
    "hideHardwareSpecs": false,
    "memoryGiB": 16,
    "name": "ml.r5.large",
    "vcpuNum": 2
   },
   {
    "_defaultOrder": 40,
    "_isFastLaunch": false,
    "category": "Memory Optimized",
    "gpuNum": 0,
    "hideHardwareSpecs": false,
    "memoryGiB": 32,
    "name": "ml.r5.xlarge",
    "vcpuNum": 4
   },
   {
    "_defaultOrder": 41,
    "_isFastLaunch": false,
    "category": "Memory Optimized",
    "gpuNum": 0,
    "hideHardwareSpecs": false,
    "memoryGiB": 64,
    "name": "ml.r5.2xlarge",
    "vcpuNum": 8
   },
   {
    "_defaultOrder": 42,
    "_isFastLaunch": false,
    "category": "Memory Optimized",
    "gpuNum": 0,
    "hideHardwareSpecs": false,
    "memoryGiB": 128,
    "name": "ml.r5.4xlarge",
    "vcpuNum": 16
   },
   {
    "_defaultOrder": 43,
    "_isFastLaunch": false,
    "category": "Memory Optimized",
    "gpuNum": 0,
    "hideHardwareSpecs": false,
    "memoryGiB": 256,
    "name": "ml.r5.8xlarge",
    "vcpuNum": 32
   },
   {
    "_defaultOrder": 44,
    "_isFastLaunch": false,
    "category": "Memory Optimized",
    "gpuNum": 0,
    "hideHardwareSpecs": false,
    "memoryGiB": 384,
    "name": "ml.r5.12xlarge",
    "vcpuNum": 48
   },
   {
    "_defaultOrder": 45,
    "_isFastLaunch": false,
    "category": "Memory Optimized",
    "gpuNum": 0,
    "hideHardwareSpecs": false,
    "memoryGiB": 512,
    "name": "ml.r5.16xlarge",
    "vcpuNum": 64
   },
   {
    "_defaultOrder": 46,
    "_isFastLaunch": false,
    "category": "Memory Optimized",
    "gpuNum": 0,
    "hideHardwareSpecs": false,
    "memoryGiB": 768,
    "name": "ml.r5.24xlarge",
    "vcpuNum": 96
   },
   {
    "_defaultOrder": 47,
    "_isFastLaunch": false,
    "category": "Accelerated computing",
    "gpuNum": 1,
    "hideHardwareSpecs": false,
    "memoryGiB": 16,
    "name": "ml.g5.xlarge",
    "vcpuNum": 4
   },
   {
    "_defaultOrder": 48,
    "_isFastLaunch": false,
    "category": "Accelerated computing",
    "gpuNum": 1,
    "hideHardwareSpecs": false,
    "memoryGiB": 32,
    "name": "ml.g5.2xlarge",
    "vcpuNum": 8
   },
   {
    "_defaultOrder": 49,
    "_isFastLaunch": false,
    "category": "Accelerated computing",
    "gpuNum": 1,
    "hideHardwareSpecs": false,
    "memoryGiB": 64,
    "name": "ml.g5.4xlarge",
    "vcpuNum": 16
   },
   {
    "_defaultOrder": 50,
    "_isFastLaunch": false,
    "category": "Accelerated computing",
    "gpuNum": 1,
    "hideHardwareSpecs": false,
    "memoryGiB": 128,
    "name": "ml.g5.8xlarge",
    "vcpuNum": 32
   },
   {
    "_defaultOrder": 51,
    "_isFastLaunch": false,
    "category": "Accelerated computing",
    "gpuNum": 1,
    "hideHardwareSpecs": false,
    "memoryGiB": 256,
    "name": "ml.g5.16xlarge",
    "vcpuNum": 64
   },
   {
    "_defaultOrder": 52,
    "_isFastLaunch": false,
    "category": "Accelerated computing",
    "gpuNum": 4,
    "hideHardwareSpecs": false,
    "memoryGiB": 192,
    "name": "ml.g5.12xlarge",
    "vcpuNum": 48
   },
   {
    "_defaultOrder": 53,
    "_isFastLaunch": false,
    "category": "Accelerated computing",
    "gpuNum": 4,
    "hideHardwareSpecs": false,
    "memoryGiB": 384,
    "name": "ml.g5.24xlarge",
    "vcpuNum": 96
   },
   {
    "_defaultOrder": 54,
    "_isFastLaunch": false,
    "category": "Accelerated computing",
    "gpuNum": 8,
    "hideHardwareSpecs": false,
    "memoryGiB": 768,
    "name": "ml.g5.48xlarge",
    "vcpuNum": 192
   },
   {
    "_defaultOrder": 55,
    "_isFastLaunch": false,
    "category": "Accelerated computing",
    "gpuNum": 8,
    "hideHardwareSpecs": false,
    "memoryGiB": 1152,
    "name": "ml.p4d.24xlarge",
    "vcpuNum": 96
   },
   {
    "_defaultOrder": 56,
    "_isFastLaunch": false,
    "category": "Accelerated computing",
    "gpuNum": 8,
    "hideHardwareSpecs": false,
    "memoryGiB": 1152,
    "name": "ml.p4de.24xlarge",
    "vcpuNum": 96
   },
   {
    "_defaultOrder": 57,
    "_isFastLaunch": false,
    "category": "Accelerated computing",
    "gpuNum": 0,
    "hideHardwareSpecs": false,
    "memoryGiB": 32,
    "name": "ml.trn1.2xlarge",
    "vcpuNum": 8
   },
   {
    "_defaultOrder": 58,
    "_isFastLaunch": false,
    "category": "Accelerated computing",
    "gpuNum": 0,
    "hideHardwareSpecs": false,
    "memoryGiB": 512,
    "name": "ml.trn1.32xlarge",
    "vcpuNum": 128
   },
   {
    "_defaultOrder": 59,
    "_isFastLaunch": false,
    "category": "Accelerated computing",
    "gpuNum": 0,
    "hideHardwareSpecs": false,
    "memoryGiB": 512,
    "name": "ml.trn1n.32xlarge",
    "vcpuNum": 128
   }
  ],
  "instance_type": "ml.t3.medium",
  "kernelspec": {
   "display_name": "Python 3 (Data Science 2.0)",
   "language": "python",
   "name": "python3__SAGEMAKER_INTERNAL__arn:aws:sagemaker:us-east-1:081325390199:image/sagemaker-data-science-38"
  },
  "language_info": {
   "codemirror_mode": {
    "name": "ipython",
    "version": 3
   },
   "file_extension": ".py",
   "mimetype": "text/x-python",
   "name": "python",
   "nbconvert_exporter": "python",
   "pygments_lexer": "ipython3",
   "version": "3.8.13"
  }
 },
 "nbformat": 4,
 "nbformat_minor": 5
}
