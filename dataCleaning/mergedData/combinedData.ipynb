{
 "cells": [
  {
   "cell_type": "markdown",
   "id": "cde6f312-7c04-4083-8f8d-b7a71c22b7d0",
   "metadata": {},
   "source": [
    "# Combining Three Datasets into One"
   ]
  },
  {
   "cell_type": "markdown",
   "id": "f6e3f1cb-1fa8-4c0a-9f5d-be2db6c6af83",
   "metadata": {},
   "source": [
    "### Imports"
   ]
  },
  {
   "cell_type": "code",
   "execution_count": 2,
   "id": "46ac7fad-20fb-43f6-a484-6e34b4be0262",
   "metadata": {
    "tags": []
   },
   "outputs": [],
   "source": [
    "import pandas as pd\n",
    "import numpy as np\n",
    "import random\n",
    "import matplotlib.pyplot as plt\n",
    "import seaborn as sns\n",
    "import boto3\n",
    "\n",
    "from sklearn.preprocessing import LabelEncoder\n",
    "from sklearn.preprocessing import MinMaxScaler\n",
    "from sklearn.decomposition import PCA\n",
    "from sklearn.cluster import KMeans\n",
    "from sklearn.preprocessing import OneHotEncoder\n",
    "from sklearn.model_selection import train_test_split\n",
    "from io import StringIO\n"
   ]
  },
  {
   "cell_type": "markdown",
   "id": "d975c391-be8a-4445-9c0a-29a01dc6bdda",
   "metadata": {},
   "source": [
    "## Load the Three Datasets"
   ]
  },
  {
   "cell_type": "code",
   "execution_count": 3,
   "id": "46c26fc9-3daf-42eb-b5c4-c5f9e0093a73",
   "metadata": {
    "tags": []
   },
   "outputs": [],
   "source": [
    "# Load the cleaned datasets from S3\n",
    "# Load cust_seg_df from S3\n",
    "custseg_trans = pd.read_csv('s3://team6datasets/transformedDatasets/custseg_trans.csv')\n",
    "\n",
    "# Load markcamp_clean from S3\n",
    "markcamp_trans = pd.read_csv('s3://team6datasets/transformedDatasets/markcamp_trans.csv')\n",
    "\n",
    "# Load onlineretal_clean from S3\n",
    "onlineretail_trans = pd.read_csv('s3://team6datasets/transformedDatasets/onlineretail_trans.csv')"
   ]
  },
  {
   "cell_type": "markdown",
   "id": "561722c4-ca00-481c-9f16-70aa5ad723af",
   "metadata": {},
   "source": [
    "## Combine datasets"
   ]
  },
  {
   "cell_type": "code",
   "execution_count": 4,
   "id": "df690ca8-cbaa-454d-9d64-b143e8ec72fd",
   "metadata": {
    "tags": []
   },
   "outputs": [],
   "source": [
    "# Combine the datasets\n",
    "customerinfo_df = pd.merge(custseg_trans, markcamp_trans, on='CustomerID', how='inner')"
   ]
  },
  {
   "cell_type": "code",
   "execution_count": 5,
   "id": "3b975837-34cf-4d4e-8340-3c4c26a2986c",
   "metadata": {},
   "outputs": [],
   "source": [
    "# Perform inner merge based on 'CustomerID'\n",
    "customer_sales_df = pd.merge(customerinfo_df, onlineretail_trans, on='CustomerID', how='inner')"
   ]
  },
  {
   "cell_type": "markdown",
   "id": "a9d28a3b-0323-4e37-a2a6-8095dda557cc",
   "metadata": {},
   "source": [
    "## Data Cleaning/Scrubbing"
   ]
  },
  {
   "cell_type": "code",
   "execution_count": 6,
   "id": "3de1e7be-3224-40a7-97ff-150283e4e599",
   "metadata": {},
   "outputs": [
    {
     "data": {
      "text/html": [
       "<div>\n",
       "<style scoped>\n",
       "    .dataframe tbody tr th:only-of-type {\n",
       "        vertical-align: middle;\n",
       "    }\n",
       "\n",
       "    .dataframe tbody tr th {\n",
       "        vertical-align: top;\n",
       "    }\n",
       "\n",
       "    .dataframe thead th {\n",
       "        text-align: right;\n",
       "    }\n",
       "</style>\n",
       "<table border=\"1\" class=\"dataframe\">\n",
       "  <thead>\n",
       "    <tr style=\"text-align: right;\">\n",
       "      <th></th>\n",
       "      <th>CustomerID</th>\n",
       "      <th>first_name</th>\n",
       "      <th>last_name</th>\n",
       "      <th>title</th>\n",
       "      <th>gender</th>\n",
       "      <th>email</th>\n",
       "      <th>company_name</th>\n",
       "      <th>department</th>\n",
       "      <th>job_title</th>\n",
       "      <th>job_category</th>\n",
       "      <th>...</th>\n",
       "      <th>street_suffix</th>\n",
       "      <th>time_zone</th>\n",
       "      <th>ip_address</th>\n",
       "      <th>InvoiceNo</th>\n",
       "      <th>StockCode</th>\n",
       "      <th>Description</th>\n",
       "      <th>Quantity</th>\n",
       "      <th>InvoiceDate</th>\n",
       "      <th>UnitPrice</th>\n",
       "      <th>TotalPrice</th>\n",
       "    </tr>\n",
       "  </thead>\n",
       "  <tbody>\n",
       "    <tr>\n",
       "      <th>0</th>\n",
       "      <td>4725</td>\n",
       "      <td>Butch</td>\n",
       "      <td>Rawls</td>\n",
       "      <td>Mrs</td>\n",
       "      <td>Male</td>\n",
       "      <td>brawls2@slideshare.net</td>\n",
       "      <td>Edgewire</td>\n",
       "      <td>Support</td>\n",
       "      <td>Health Coach II</td>\n",
       "      <td>Healthcare</td>\n",
       "      <td>...</td>\n",
       "      <td>Point</td>\n",
       "      <td>America/Lima</td>\n",
       "      <td>48.161.197.47</td>\n",
       "      <td>536532</td>\n",
       "      <td>22557</td>\n",
       "      <td>PLASTERS IN TIN VINTAGE PAISLEY</td>\n",
       "      <td>36</td>\n",
       "      <td>2010-12-01 13:24:00</td>\n",
       "      <td>1.65</td>\n",
       "      <td>59.40</td>\n",
       "    </tr>\n",
       "    <tr>\n",
       "      <th>1</th>\n",
       "      <td>4725</td>\n",
       "      <td>Butch</td>\n",
       "      <td>Rawls</td>\n",
       "      <td>Mrs</td>\n",
       "      <td>Male</td>\n",
       "      <td>brawls2@slideshare.net</td>\n",
       "      <td>Edgewire</td>\n",
       "      <td>Support</td>\n",
       "      <td>Health Coach II</td>\n",
       "      <td>Healthcare</td>\n",
       "      <td>...</td>\n",
       "      <td>Point</td>\n",
       "      <td>America/Lima</td>\n",
       "      <td>48.161.197.47</td>\n",
       "      <td>536874</td>\n",
       "      <td>21078</td>\n",
       "      <td>SET/20 STRAWBERRY PAPER NAPKINS</td>\n",
       "      <td>1</td>\n",
       "      <td>2010-12-03 11:35:00</td>\n",
       "      <td>0.85</td>\n",
       "      <td>0.85</td>\n",
       "    </tr>\n",
       "    <tr>\n",
       "      <th>2</th>\n",
       "      <td>4725</td>\n",
       "      <td>Butch</td>\n",
       "      <td>Rawls</td>\n",
       "      <td>Mrs</td>\n",
       "      <td>Male</td>\n",
       "      <td>brawls2@slideshare.net</td>\n",
       "      <td>Edgewire</td>\n",
       "      <td>Support</td>\n",
       "      <td>Health Coach II</td>\n",
       "      <td>Healthcare</td>\n",
       "      <td>...</td>\n",
       "      <td>Point</td>\n",
       "      <td>America/Lima</td>\n",
       "      <td>48.161.197.47</td>\n",
       "      <td>537034</td>\n",
       "      <td>21086</td>\n",
       "      <td>SET/6 RED SPOTTY PAPER CUPS</td>\n",
       "      <td>12</td>\n",
       "      <td>2010-12-03 17:20:00</td>\n",
       "      <td>0.65</td>\n",
       "      <td>7.80</td>\n",
       "    </tr>\n",
       "    <tr>\n",
       "      <th>3</th>\n",
       "      <td>4725</td>\n",
       "      <td>Butch</td>\n",
       "      <td>Rawls</td>\n",
       "      <td>Mrs</td>\n",
       "      <td>Male</td>\n",
       "      <td>brawls2@slideshare.net</td>\n",
       "      <td>Edgewire</td>\n",
       "      <td>Support</td>\n",
       "      <td>Health Coach II</td>\n",
       "      <td>Healthcare</td>\n",
       "      <td>...</td>\n",
       "      <td>Point</td>\n",
       "      <td>America/Lima</td>\n",
       "      <td>48.161.197.47</td>\n",
       "      <td>537362</td>\n",
       "      <td>22175</td>\n",
       "      <td>PINK OWL SOFT TOY</td>\n",
       "      <td>1</td>\n",
       "      <td>2010-12-06 12:34:00</td>\n",
       "      <td>2.95</td>\n",
       "      <td>2.95</td>\n",
       "    </tr>\n",
       "    <tr>\n",
       "      <th>4</th>\n",
       "      <td>4725</td>\n",
       "      <td>Butch</td>\n",
       "      <td>Rawls</td>\n",
       "      <td>Mrs</td>\n",
       "      <td>Male</td>\n",
       "      <td>brawls2@slideshare.net</td>\n",
       "      <td>Edgewire</td>\n",
       "      <td>Support</td>\n",
       "      <td>Health Coach II</td>\n",
       "      <td>Healthcare</td>\n",
       "      <td>...</td>\n",
       "      <td>Point</td>\n",
       "      <td>America/Lima</td>\n",
       "      <td>48.161.197.47</td>\n",
       "      <td>538397</td>\n",
       "      <td>22088</td>\n",
       "      <td>PAPER BUNTING COLOURED LACE</td>\n",
       "      <td>40</td>\n",
       "      <td>2010-12-12 11:44:00</td>\n",
       "      <td>2.55</td>\n",
       "      <td>102.00</td>\n",
       "    </tr>\n",
       "    <tr>\n",
       "      <th>5</th>\n",
       "      <td>4725</td>\n",
       "      <td>Butch</td>\n",
       "      <td>Rawls</td>\n",
       "      <td>Mrs</td>\n",
       "      <td>Male</td>\n",
       "      <td>brawls2@slideshare.net</td>\n",
       "      <td>Edgewire</td>\n",
       "      <td>Support</td>\n",
       "      <td>Health Coach II</td>\n",
       "      <td>Healthcare</td>\n",
       "      <td>...</td>\n",
       "      <td>Point</td>\n",
       "      <td>America/Lima</td>\n",
       "      <td>48.161.197.47</td>\n",
       "      <td>538917</td>\n",
       "      <td>22854</td>\n",
       "      <td>CREAM SWEETHEART EGG HOLDER</td>\n",
       "      <td>2</td>\n",
       "      <td>2010-12-15 10:57:00</td>\n",
       "      <td>4.95</td>\n",
       "      <td>9.90</td>\n",
       "    </tr>\n",
       "    <tr>\n",
       "      <th>6</th>\n",
       "      <td>4725</td>\n",
       "      <td>Butch</td>\n",
       "      <td>Rawls</td>\n",
       "      <td>Mrs</td>\n",
       "      <td>Male</td>\n",
       "      <td>brawls2@slideshare.net</td>\n",
       "      <td>Edgewire</td>\n",
       "      <td>Support</td>\n",
       "      <td>Health Coach II</td>\n",
       "      <td>Healthcare</td>\n",
       "      <td>...</td>\n",
       "      <td>Point</td>\n",
       "      <td>America/Lima</td>\n",
       "      <td>48.161.197.47</td>\n",
       "      <td>539050</td>\n",
       "      <td>21012</td>\n",
       "      <td>ANTIQUE ALL GLASS CANDLESTICK</td>\n",
       "      <td>2</td>\n",
       "      <td>2010-12-15 16:21:00</td>\n",
       "      <td>2.10</td>\n",
       "      <td>4.20</td>\n",
       "    </tr>\n",
       "    <tr>\n",
       "      <th>7</th>\n",
       "      <td>4725</td>\n",
       "      <td>Butch</td>\n",
       "      <td>Rawls</td>\n",
       "      <td>Mrs</td>\n",
       "      <td>Male</td>\n",
       "      <td>brawls2@slideshare.net</td>\n",
       "      <td>Edgewire</td>\n",
       "      <td>Support</td>\n",
       "      <td>Health Coach II</td>\n",
       "      <td>Healthcare</td>\n",
       "      <td>...</td>\n",
       "      <td>Point</td>\n",
       "      <td>America/Lima</td>\n",
       "      <td>48.161.197.47</td>\n",
       "      <td>539957</td>\n",
       "      <td>22047</td>\n",
       "      <td>EMPIRE GIFT WRAP</td>\n",
       "      <td>25</td>\n",
       "      <td>2010-12-23 12:58:00</td>\n",
       "      <td>0.42</td>\n",
       "      <td>10.50</td>\n",
       "    </tr>\n",
       "    <tr>\n",
       "      <th>8</th>\n",
       "      <td>4725</td>\n",
       "      <td>Butch</td>\n",
       "      <td>Rawls</td>\n",
       "      <td>Mrs</td>\n",
       "      <td>Male</td>\n",
       "      <td>brawls2@slideshare.net</td>\n",
       "      <td>Edgewire</td>\n",
       "      <td>Support</td>\n",
       "      <td>Health Coach II</td>\n",
       "      <td>Healthcare</td>\n",
       "      <td>...</td>\n",
       "      <td>Point</td>\n",
       "      <td>America/Lima</td>\n",
       "      <td>48.161.197.47</td>\n",
       "      <td>540176</td>\n",
       "      <td>22170</td>\n",
       "      <td>PICTURE FRAME WOOD TRIPLE PORTRAIT</td>\n",
       "      <td>12</td>\n",
       "      <td>2011-01-05 12:40:00</td>\n",
       "      <td>5.95</td>\n",
       "      <td>71.40</td>\n",
       "    </tr>\n",
       "    <tr>\n",
       "      <th>9</th>\n",
       "      <td>4725</td>\n",
       "      <td>Butch</td>\n",
       "      <td>Rawls</td>\n",
       "      <td>Mrs</td>\n",
       "      <td>Male</td>\n",
       "      <td>brawls2@slideshare.net</td>\n",
       "      <td>Edgewire</td>\n",
       "      <td>Support</td>\n",
       "      <td>Health Coach II</td>\n",
       "      <td>Healthcare</td>\n",
       "      <td>...</td>\n",
       "      <td>Point</td>\n",
       "      <td>America/Lima</td>\n",
       "      <td>48.161.197.47</td>\n",
       "      <td>540350</td>\n",
       "      <td>22644</td>\n",
       "      <td>CERAMIC CHERRY CAKE MONEY BANK</td>\n",
       "      <td>1</td>\n",
       "      <td>2011-01-06 14:14:00</td>\n",
       "      <td>1.45</td>\n",
       "      <td>1.45</td>\n",
       "    </tr>\n",
       "  </tbody>\n",
       "</table>\n",
       "<p>10 rows × 39 columns</p>\n",
       "</div>"
      ],
      "text/plain": [
       "   CustomerID first_name last_name title gender                   email  \\\n",
       "0        4725      Butch     Rawls   Mrs   Male  brawls2@slideshare.net   \n",
       "1        4725      Butch     Rawls   Mrs   Male  brawls2@slideshare.net   \n",
       "2        4725      Butch     Rawls   Mrs   Male  brawls2@slideshare.net   \n",
       "3        4725      Butch     Rawls   Mrs   Male  brawls2@slideshare.net   \n",
       "4        4725      Butch     Rawls   Mrs   Male  brawls2@slideshare.net   \n",
       "5        4725      Butch     Rawls   Mrs   Male  brawls2@slideshare.net   \n",
       "6        4725      Butch     Rawls   Mrs   Male  brawls2@slideshare.net   \n",
       "7        4725      Butch     Rawls   Mrs   Male  brawls2@slideshare.net   \n",
       "8        4725      Butch     Rawls   Mrs   Male  brawls2@slideshare.net   \n",
       "9        4725      Butch     Rawls   Mrs   Male  brawls2@slideshare.net   \n",
       "\n",
       "  company_name department        job_title job_category  ... street_suffix  \\\n",
       "0     Edgewire    Support  Health Coach II   Healthcare  ...         Point   \n",
       "1     Edgewire    Support  Health Coach II   Healthcare  ...         Point   \n",
       "2     Edgewire    Support  Health Coach II   Healthcare  ...         Point   \n",
       "3     Edgewire    Support  Health Coach II   Healthcare  ...         Point   \n",
       "4     Edgewire    Support  Health Coach II   Healthcare  ...         Point   \n",
       "5     Edgewire    Support  Health Coach II   Healthcare  ...         Point   \n",
       "6     Edgewire    Support  Health Coach II   Healthcare  ...         Point   \n",
       "7     Edgewire    Support  Health Coach II   Healthcare  ...         Point   \n",
       "8     Edgewire    Support  Health Coach II   Healthcare  ...         Point   \n",
       "9     Edgewire    Support  Health Coach II   Healthcare  ...         Point   \n",
       "\n",
       "      time_zone     ip_address InvoiceNo  StockCode  \\\n",
       "0  America/Lima  48.161.197.47    536532      22557   \n",
       "1  America/Lima  48.161.197.47    536874      21078   \n",
       "2  America/Lima  48.161.197.47    537034      21086   \n",
       "3  America/Lima  48.161.197.47    537362      22175   \n",
       "4  America/Lima  48.161.197.47    538397      22088   \n",
       "5  America/Lima  48.161.197.47    538917      22854   \n",
       "6  America/Lima  48.161.197.47    539050      21012   \n",
       "7  America/Lima  48.161.197.47    539957      22047   \n",
       "8  America/Lima  48.161.197.47    540176      22170   \n",
       "9  America/Lima  48.161.197.47    540350      22644   \n",
       "\n",
       "                          Description Quantity          InvoiceDate  \\\n",
       "0    PLASTERS IN TIN VINTAGE PAISLEY        36  2010-12-01 13:24:00   \n",
       "1    SET/20 STRAWBERRY PAPER NAPKINS         1  2010-12-03 11:35:00   \n",
       "2         SET/6 RED SPOTTY PAPER CUPS       12  2010-12-03 17:20:00   \n",
       "3                   PINK OWL SOFT TOY        1  2010-12-06 12:34:00   \n",
       "4         PAPER BUNTING COLOURED LACE       40  2010-12-12 11:44:00   \n",
       "5         CREAM SWEETHEART EGG HOLDER        2  2010-12-15 10:57:00   \n",
       "6       ANTIQUE ALL GLASS CANDLESTICK        2  2010-12-15 16:21:00   \n",
       "7                    EMPIRE GIFT WRAP       25  2010-12-23 12:58:00   \n",
       "8  PICTURE FRAME WOOD TRIPLE PORTRAIT       12  2011-01-05 12:40:00   \n",
       "9      CERAMIC CHERRY CAKE MONEY BANK        1  2011-01-06 14:14:00   \n",
       "\n",
       "   UnitPrice TotalPrice  \n",
       "0       1.65      59.40  \n",
       "1       0.85       0.85  \n",
       "2       0.65       7.80  \n",
       "3       2.95       2.95  \n",
       "4       2.55     102.00  \n",
       "5       4.95       9.90  \n",
       "6       2.10       4.20  \n",
       "7       0.42      10.50  \n",
       "8       5.95      71.40  \n",
       "9       1.45       1.45  \n",
       "\n",
       "[10 rows x 39 columns]"
      ]
     },
     "execution_count": 6,
     "metadata": {},
     "output_type": "execute_result"
    }
   ],
   "source": [
    "customer_sales_df.head(10)"
   ]
  },
  {
   "cell_type": "code",
   "execution_count": 7,
   "id": "7a025064-a366-4f12-9bae-b6ee1aec518d",
   "metadata": {},
   "outputs": [
    {
     "data": {
      "text/plain": [
       "CustomerID          int64\n",
       "first_name         object\n",
       "last_name          object\n",
       "title              object\n",
       "gender             object\n",
       "email              object\n",
       "company_name       object\n",
       "department         object\n",
       "job_title          object\n",
       "job_category       object\n",
       "language           object\n",
       "university         object\n",
       "linkedin_skill     object\n",
       "Education          object\n",
       "Income              int64\n",
       "Kidhome             int64\n",
       "Marital_Status     object\n",
       "Teenhome            int64\n",
       "Year_Birth          int64\n",
       "city               object\n",
       "country            object\n",
       "country_code       object\n",
       "region             object\n",
       "latitude          float64\n",
       "longitude         float64\n",
       "phone              object\n",
       "street_address     object\n",
       "street_name        object\n",
       "street_number       int64\n",
       "street_suffix      object\n",
       "time_zone          object\n",
       "ip_address         object\n",
       "InvoiceNo          object\n",
       "StockCode          object\n",
       "Description        object\n",
       "Quantity            int64\n",
       "InvoiceDate        object\n",
       "UnitPrice         float64\n",
       "TotalPrice        float64\n",
       "dtype: object"
      ]
     },
     "execution_count": 7,
     "metadata": {},
     "output_type": "execute_result"
    }
   ],
   "source": [
    "customer_sales_df.dtypes"
   ]
  },
  {
   "cell_type": "code",
   "execution_count": 8,
   "id": "040db7b5-c016-4f10-ad95-1596c2ec4a0e",
   "metadata": {
    "tags": []
   },
   "outputs": [
    {
     "name": "stdout",
     "output_type": "stream",
     "text": [
      "CustomerID         2216\n",
      "first_name         1950\n",
      "last_name          2147\n",
      "title                 6\n",
      "gender                8\n",
      "email              2216\n",
      "company_name        382\n",
      "department           12\n",
      "job_title           193\n",
      "job_category         22\n",
      "language             97\n",
      "university         1649\n",
      "linkedin_skill     1822\n",
      "Education             5\n",
      "Income             2211\n",
      "Kidhome               3\n",
      "Marital_Status        8\n",
      "Teenhome              3\n",
      "Year_Birth           57\n",
      "city               2098\n",
      "country             157\n",
      "country_code        156\n",
      "region                7\n",
      "latitude           2128\n",
      "longitude          2125\n",
      "phone              2216\n",
      "street_address     2214\n",
      "street_name         498\n",
      "street_number      1288\n",
      "street_suffix        21\n",
      "time_zone           217\n",
      "ip_address         2216\n",
      "InvoiceNo         22190\n",
      "StockCode          3684\n",
      "Description        3896\n",
      "Quantity            436\n",
      "InvoiceDate       20460\n",
      "UnitPrice           620\n",
      "TotalPrice         3878\n",
      "dtype: int64\n"
     ]
    }
   ],
   "source": [
    "# Check unique values in each column\n",
    "unique_counts = customer_sales_df.nunique()\n",
    "print(unique_counts)"
   ]
  },
  {
   "cell_type": "markdown",
   "id": "a471b9c0-caaa-4f67-9be1-3b6ee1a1e846",
   "metadata": {},
   "source": [
    "### Handle Missing values"
   ]
  },
  {
   "cell_type": "code",
   "execution_count": 9,
   "id": "2f7d35fa-e3e3-4b73-a053-5846e429f4e6",
   "metadata": {
    "tags": []
   },
   "outputs": [
    {
     "name": "stdout",
     "output_type": "stream",
     "text": [
      "CustomerID           0\n",
      "first_name           0\n",
      "last_name            0\n",
      "title                0\n",
      "gender               0\n",
      "email                0\n",
      "company_name         0\n",
      "department           0\n",
      "job_title            0\n",
      "job_category      3448\n",
      "language             0\n",
      "university           0\n",
      "linkedin_skill       0\n",
      "Education            0\n",
      "Income               0\n",
      "Kidhome              0\n",
      "Marital_Status       0\n",
      "Teenhome             0\n",
      "Year_Birth           0\n",
      "city                 0\n",
      "country              0\n",
      "country_code       611\n",
      "region               0\n",
      "latitude             0\n",
      "longitude            0\n",
      "phone                0\n",
      "street_address       0\n",
      "street_name          0\n",
      "street_number        0\n",
      "street_suffix        0\n",
      "time_zone            0\n",
      "ip_address           0\n",
      "InvoiceNo            0\n",
      "StockCode            0\n",
      "Description          0\n",
      "Quantity             0\n",
      "InvoiceDate          0\n",
      "UnitPrice            0\n",
      "TotalPrice           0\n",
      "dtype: int64\n"
     ]
    }
   ],
   "source": [
    "# Check missing values\n",
    "missing_counts = customer_sales_df.isnull().sum()\n",
    "print(missing_counts)"
   ]
  },
  {
   "cell_type": "code",
   "execution_count": 10,
   "id": "14743871-e4e7-4d88-a0ea-a29cb4cc2b60",
   "metadata": {
    "tags": []
   },
   "outputs": [
    {
     "name": "stdout",
     "output_type": "stream",
     "text": [
      "['Nurse Practicioner']\n"
     ]
    }
   ],
   "source": [
    "# Filter the dataframe where 'job_category' is blank\n",
    "blank_job_category_df = customer_sales_df[customer_sales_df['job_category'].isnull()]\n",
    "\n",
    "# Extract the unique values of 'job_title' from the filtered dataframe\n",
    "unique_job_titles = blank_job_category_df['job_title'].unique()\n",
    "\n",
    "# Print the unique job titles\n",
    "print(unique_job_titles)"
   ]
  },
  {
   "cell_type": "code",
   "execution_count": 11,
   "id": "28dbfb05-5b2b-41c2-9e2b-04373fa14f8f",
   "metadata": {
    "tags": []
   },
   "outputs": [],
   "source": [
    "# Fill the blank 'job_category' with 'Medical' where 'job_title' is 'Nurse Practicioner'\n",
    "customer_sales_df.loc[customer_sales_df['job_title'] == 'Nurse Practicioner', 'job_category'] = customer_sales_df['job_category'].fillna('Healthcare')\n"
   ]
  },
  {
   "cell_type": "code",
   "execution_count": 12,
   "id": "6637c0ad-9f41-4b88-8538-dd05f717c534",
   "metadata": {
    "tags": []
   },
   "outputs": [
    {
     "name": "stdout",
     "output_type": "stream",
     "text": [
      "CustomerID          0\n",
      "first_name          0\n",
      "last_name           0\n",
      "title               0\n",
      "gender              0\n",
      "email               0\n",
      "company_name        0\n",
      "department          0\n",
      "job_title           0\n",
      "job_category        0\n",
      "language            0\n",
      "university          0\n",
      "linkedin_skill      0\n",
      "Education           0\n",
      "Income              0\n",
      "Kidhome             0\n",
      "Marital_Status      0\n",
      "Teenhome            0\n",
      "Year_Birth          0\n",
      "city                0\n",
      "country             0\n",
      "country_code      611\n",
      "region              0\n",
      "latitude            0\n",
      "longitude           0\n",
      "phone               0\n",
      "street_address      0\n",
      "street_name         0\n",
      "street_number       0\n",
      "street_suffix       0\n",
      "time_zone           0\n",
      "ip_address          0\n",
      "InvoiceNo           0\n",
      "StockCode           0\n",
      "Description         0\n",
      "Quantity            0\n",
      "InvoiceDate         0\n",
      "UnitPrice           0\n",
      "TotalPrice          0\n",
      "dtype: int64\n"
     ]
    }
   ],
   "source": [
    "# Check missing values\n",
    "missing_counts = customer_sales_df.isnull().sum()\n",
    "print(missing_counts)"
   ]
  },
  {
   "cell_type": "markdown",
   "id": "2bf5b3fa-cea9-4099-93bd-abba9e5dec9f",
   "metadata": {},
   "source": [
    "### Check for Duplicate Rows"
   ]
  },
  {
   "cell_type": "code",
   "execution_count": 13,
   "id": "a2493828-f2a9-4561-9ef0-38b911e02204",
   "metadata": {},
   "outputs": [
    {
     "name": "stdout",
     "output_type": "stream",
     "text": [
      "Number of duplicate rows: 2\n"
     ]
    }
   ],
   "source": [
    "# Check for true duplicate rows in the DataFrame based on all columns\n",
    "duplicate_rows = customer_sales_df.duplicated()\n",
    "\n",
    "# Count the number of duplicate rows\n",
    "num_duplicate_rows = duplicate_rows.sum()\n",
    "\n",
    "# Retrieve the duplicate rows\n",
    "duplicate_data = customer_sales_df[duplicate_rows]\n",
    "\n",
    "# Display the number of duplicate rows\n",
    "print(\"Number of duplicate rows:\", num_duplicate_rows)"
   ]
  },
  {
   "cell_type": "code",
   "execution_count": 14,
   "id": "91e2e282-8434-42a5-b2ab-6bc67e5c4b93",
   "metadata": {
    "tags": []
   },
   "outputs": [
    {
     "data": {
      "text/plain": [
       "(406827, 39)"
      ]
     },
     "execution_count": 14,
     "metadata": {},
     "output_type": "execute_result"
    }
   ],
   "source": [
    "# Remove the duplicate row(s) from the DataFrame\n",
    "customer_sales_df = customer_sales_df.drop_duplicates()\n",
    "\n",
    "# Check dataset\n",
    "customer_sales_df.shape"
   ]
  },
  {
   "cell_type": "markdown",
   "id": "6d17fdb3-4f67-4cbe-b5df-f71069e391bc",
   "metadata": {},
   "source": [
    "## Feature Creation"
   ]
  },
  {
   "cell_type": "markdown",
   "id": "851ad1ee-762a-47ab-9bf4-9994cc8f5108",
   "metadata": {},
   "source": [
    "### Create 'Purchase_Frequency' Column"
   ]
  },
  {
   "cell_type": "code",
   "execution_count": 15,
   "id": "071306fb-a199-4707-87e4-79ca81b353b9",
   "metadata": {
    "tags": []
   },
   "outputs": [],
   "source": [
    "# Convert 'InvoiceDate' to datetime if it's not already in datetime format\n",
    "customer_sales_df['InvoiceDate'] = pd.to_datetime(customer_sales_df['InvoiceDate'])\n",
    "\n",
    "# Calculate purchase frequency using 'InvoiceNo'\n",
    "purchase_frequency = customer_sales_df.groupby('CustomerID')['InvoiceNo'].nunique().rename('Purchase_Frequency')\n",
    "\n",
    "# Merge the purchase frequency calculation based on 'InvoiceNo' directly into customer_sales_df\n",
    "customer_sales_df = pd.merge(customer_sales_df, purchase_frequency, on='CustomerID', how='left')"
   ]
  },
  {
   "cell_type": "code",
   "execution_count": 16,
   "id": "1236276b-9437-42b8-a8ac-96b23d90f6a9",
   "metadata": {
    "tags": []
   },
   "outputs": [
    {
     "name": "stdout",
     "output_type": "stream",
     "text": [
      "Minimum Purchase Frequency: 138.0\n",
      "Maximum Purchase Frequency: 233.0\n",
      "Purchase Frequency Quartiles:\n",
      "25%    174.0\n",
      "50%    183.0\n",
      "75%    192.0\n",
      "Name: Purchase_Frequency, dtype: float64\n"
     ]
    }
   ],
   "source": [
    "# Describe the 'Purchase_Frequency' column to get statistics including min, max, and quartiles\n",
    "purchase_frequency_description = customer_sales_df['Purchase_Frequency'].describe()\n",
    "\n",
    "# Extract relevant statistics\n",
    "purchase_frequency_min = purchase_frequency_description['min']\n",
    "purchase_frequency_max = purchase_frequency_description['max']\n",
    "purchase_frequency_quartiles = purchase_frequency_description[['25%', '50%', '75%']]\n",
    "\n",
    "# Display the results\n",
    "print(\"Minimum Purchase Frequency:\", purchase_frequency_min)\n",
    "print(\"Maximum Purchase Frequency:\", purchase_frequency_max)\n",
    "print(\"Purchase Frequency Quartiles:\")\n",
    "print(purchase_frequency_quartiles)\n"
   ]
  },
  {
   "cell_type": "markdown",
   "id": "6907a5d4-8f61-4ee3-8009-759fc5665b5f",
   "metadata": {},
   "source": [
    "### Check for Central Tendancy and Outliers"
   ]
  },
  {
   "cell_type": "code",
   "execution_count": 17,
   "id": "cd6e01de-b8b2-43d5-b945-ff1437b6b47e",
   "metadata": {
    "tags": []
   },
   "outputs": [
    {
     "data": {
      "image/png": "[encoded data removed]",
      "text/plain": [
       "<Figure size 576x432 with 1 Axes>"
      ]
     },
     "metadata": {
      "needs_background": "light"
     },
     "output_type": "display_data"
    }
   ],
   "source": [
    "# Calculate mean and median\n",
    "purchase_frequency_mean = customer_sales_df['Purchase_Frequency'].mean()\n",
    "purchase_frequency_median = customer_sales_df['Purchase_Frequency'].median()\n",
    "\n",
    "# Create a box plot for 'Purchase_Frequency' with mean, median, and outliers\n",
    "plt.figure(figsize=(8, 6))\n",
    "box = plt.boxplot(customer_sales_df['Purchase_Frequency'], vert=False, showmeans=True, \n",
    "                  meanline=True, showcaps=True, showbox=True, flierprops=dict(marker='o', markerfacecolor='g', markersize=8))\n",
    "plt.axvline(purchase_frequency_median, color='r', linestyle='--', label='Median')\n",
    "plt.axvline(purchase_frequency_mean, color='blue', linestyle='-.', label='Mean')\n",
    "\n",
    "# Create custom legend entries for mean, median, and outliers\n",
    "legend_entries = [plt.Line2D([0], [0], color='r', linestyle='--', label='Median'),\n",
    "                  plt.Line2D([0], [0], color='blue', linestyle='-.', label='Mean'),\n",
    "                  plt.Line2D([0], [0], marker='o', color='green', label='Outliers', markerfacecolor='green', markersize=8)]\n",
    "plt.legend(handles=legend_entries)\n",
    "\n",
    "plt.title('Box Plot of Purchase Frequency')\n",
    "plt.xlabel('Purchase Frequency')\n",
    "plt.show()"
   ]
  },
  {
   "cell_type": "markdown",
   "id": "9a1c4d6d-faaa-4183-8940-8ca0d13a55e4",
   "metadata": {},
   "source": [
    "### Create 'Age' Column"
   ]
  },
  {
   "cell_type": "code",
   "execution_count": 18,
   "id": "970a4c98-3bfc-4688-b082-4e024155d85a",
   "metadata": {
    "tags": []
   },
   "outputs": [],
   "source": [
    "# Calculate age from 'Year_Birth'\n",
    "current_year = pd.Timestamp.now().year\n",
    "customer_sales_df['Age'] = current_year - customer_sales_df['Year_Birth']"
   ]
  },
  {
   "cell_type": "code",
   "execution_count": 19,
   "id": "0389d839-70a3-48ec-a4ee-b94d3ead7dab",
   "metadata": {
    "tags": []
   },
   "outputs": [
    {
     "name": "stdout",
     "output_type": "stream",
     "text": [
      "Minimum age: 28.0\n",
      "Maximum age: 84.0\n",
      "Age Quartiles:\n",
      "25%    41.0\n",
      "50%    57.0\n",
      "75%    70.0\n",
      "Name: Age, dtype: float64\n"
     ]
    }
   ],
   "source": [
    "# Describe the 'Age' column to get statistics including min, max, and quartiles\n",
    "age_description = customer_sales_df['Age'].describe()\n",
    "\n",
    "# Extract relevant statistics\n",
    "age_min = age_description['min']\n",
    "age_max = age_description['max']\n",
    "age_quartiles = age_description[['25%', '50%', '75%']]\n",
    "\n",
    "# Display the results\n",
    "print(\"Minimum age:\", age_min)\n",
    "print(\"Maximum age:\", age_max)\n",
    "print(\"Age Quartiles:\")\n",
    "print(age_quartiles)\n"
   ]
  },
  {
   "cell_type": "markdown",
   "id": "e67a881b-b832-4747-8ef6-d76b4290c2fe",
   "metadata": {},
   "source": [
    "### Check for Central Tendancy and Outliers"
   ]
  },
  {
   "cell_type": "code",
   "execution_count": 20,
   "id": "3bbf4a90-e91f-4f0a-96d9-a638e05c2748",
   "metadata": {
    "tags": []
   },
   "outputs": [
    {
     "data": {
      "image/png": "[encoded data removed]",
      "text/plain": [
       "<Figure size 576x432 with 1 Axes>"
      ]
     },
     "metadata": {
      "needs_background": "light"
     },
     "output_type": "display_data"
    }
   ],
   "source": [
    "# Calculate mean and median for Purchase_Frequency\n",
    "purchase_frequency_mean = customer_sales_df['Purchase_Frequency'].mean()\n",
    "purchase_frequency_median = customer_sales_df['Purchase_Frequency'].median()\n",
    "\n",
    "# Create a box plot for 'Purchase_Frequency' with mean, median, and outliers\n",
    "plt.figure(figsize=(8, 6))\n",
    "box = plt.boxplot(customer_sales_df['Purchase_Frequency'], vert=False, showmeans=True, \n",
    "                  meanline=True, showcaps=True, showbox=True, flierprops=dict(marker='o', markerfacecolor='g', markersize=8))\n",
    "plt.axvline(purchase_frequency_median, color='r', linestyle='--', label='Median')\n",
    "plt.axvline(purchase_frequency_mean, color='blue', linestyle='-.', label='Mean')\n",
    "\n",
    "# Create custom legend entries for mean, median, and outliers\n",
    "legend_entries = [plt.Line2D([0], [0], color='r', linestyle='--', label='Median'),\n",
    "                  plt.Line2D([0], [0], color='blue', linestyle='-.', label='Mean'),\n",
    "                  plt.Line2D([0], [0], marker='o', color='green', label='Outliers', markerfacecolor='green', markersize=8)]\n",
    "plt.legend(handles=legend_entries)\n",
    "\n",
    "plt.title('Box Plot of Purchase Frequency')\n",
    "plt.xlabel('Purchase Frequency')\n",
    "plt.show()"
   ]
  },
  {
   "cell_type": "markdown",
   "id": "205ecd99-f106-4862-9943-2c649c8a8731",
   "metadata": {},
   "source": [
    "### Create 'Total_Spent_byCustomer' Column"
   ]
  },
  {
   "cell_type": "code",
   "execution_count": 21,
   "id": "a614eab7-632e-4116-a270-7417ec799504",
   "metadata": {},
   "outputs": [],
   "source": [
    "# Calculate total spending for each customer by summing up their 'TotalPrice'\n",
    "total_spending = customer_sales_df.groupby('CustomerID')['TotalPrice'].sum().rename('Total_Spent_byCustomer')\n",
    "\n",
    "# Merge the total spending information back into the original DataFrame\n",
    "customer_sales_df = pd.merge(customer_sales_df, total_spending, on='CustomerID', how='left')\n",
    "\n",
    "# Change negative values to positive in total spending\n",
    "customer_sales_df['Total_Spent_byCustomer'] = customer_sales_df['Total_Spent_byCustomer'].abs()"
   ]
  },
  {
   "cell_type": "code",
   "execution_count": 22,
   "id": "2fd30328-aea6-4e0b-8221-5dfc212511a4",
   "metadata": {},
   "outputs": [
    {
     "name": "stdout",
     "output_type": "stream",
     "text": [
      "Minimum Total Spending by Customer: 85.78999999999954\n",
      "Maximum Total Spending by Customer: 172379.15\n",
      "Total Spending by Customer Quartiles:\n",
      "25%    3144.98\n",
      "50%    3599.53\n",
      "75%    4212.54\n",
      "Name: Total_Spent_byCustomer, dtype: float64\n"
     ]
    }
   ],
   "source": [
    "# Describe the 'Total_Spent_byCustomer' column to get statistics including min, max, and quartiles\n",
    "total_spending_description = customer_sales_df['Total_Spent_byCustomer'].describe()\n",
    "\n",
    "# Extract relevant statistics\n",
    "total_spending_min = total_spending_description['min']\n",
    "total_spending_max = total_spending_description['max']\n",
    "total_spending_quartiles = total_spending_description[['25%', '50%', '75%']]\n",
    "\n",
    "# Display the results\n",
    "print(\"Minimum Total Spending by Customer:\", total_spending_min)\n",
    "print(\"Maximum Total Spending by Customer:\", total_spending_max)\n",
    "print(\"Total Spending by Customer Quartiles:\")\n",
    "print(total_spending_quartiles)\n"
   ]
  },
  {
   "cell_type": "markdown",
   "id": "3e330c24-c95b-4db5-a31b-0c76d1d06331",
   "metadata": {},
   "source": [
    "### Check for Central Tendancy and Outliers"
   ]
  },
  {
   "cell_type": "code",
   "execution_count": 23,
   "id": "aa32a70c-9352-4c14-a4c6-3e6521c6b3db",
   "metadata": {
    "tags": []
   },
   "outputs": [
    {
     "data": {
      "image/png": "[encoded data removed]",
      "text/plain": [
       "<Figure size 576x432 with 1 Axes>"
      ]
     },
     "metadata": {
      "needs_background": "light"
     },
     "output_type": "display_data"
    }
   ],
   "source": [
    "# Calculate mean and median for Total_Spent_byCustomer\n",
    "total_spending_mean = customer_sales_df['Total_Spent_byCustomer'].mean()\n",
    "total_spending_median = customer_sales_df['Total_Spent_byCustomer'].median()\n",
    "\n",
    "# Create a box plot for 'Total_Spent_byCustomer' with mean, median, and outliers\n",
    "plt.figure(figsize=(8, 6))\n",
    "box = plt.boxplot(customer_sales_df['Total_Spent_byCustomer'], vert=False, showmeans=True, \n",
    "                  meanline=True, showcaps=True, showbox=True, flierprops=dict(marker='o', markerfacecolor='g', markersize=8))\n",
    "plt.axvline(total_spending_median, color='r', linestyle='--', label='Median')\n",
    "plt.axvline(total_spending_mean, color='blue', linestyle='-.', label='Mean')\n",
    "\n",
    "# Create custom legend entries for mean, median, and outliers\n",
    "legend_entries = [plt.Line2D([0], [0], color='r', linestyle='--', label='Median'),\n",
    "                  plt.Line2D([0], [0], color='blue', linestyle='-.', label='Mean'),\n",
    "                  plt.Line2D([0], [0], marker='o', color='green', label='Outliers', markerfacecolor='green', markersize=8)]\n",
    "plt.legend(handles=legend_entries)\n",
    "\n",
    "plt.title('Box Plot of Total Spending by Customer')\n",
    "plt.xlabel('Total Spending by Customer')\n",
    "plt.show()"
   ]
  },
  {
   "cell_type": "markdown",
   "id": "5aae18c7-2246-470c-8b88-3bf4ed5be486",
   "metadata": {},
   "source": [
    "### Create 'SpendingCategory' column based on 'Total_Spent_byCustomer' Column"
   ]
  },
  {
   "cell_type": "code",
   "execution_count": 24,
   "id": "bcfddc7f-eed8-4f0a-bac6-8edca0b6c723",
   "metadata": {
    "tags": []
   },
   "outputs": [],
   "source": [
    "# Define spending brackets based on the observed range of total spending\n",
    "spending_bins = [0, 1000, 5000, 10000, float('inf')]\n",
    "spending_labels = ['Low', 'Medium', 'High', 'Very High']\n",
    "\n",
    "# Categorize total spending into spending brackets\n",
    "customer_sales_df['SpendingCategory'] = pd.cut(customer_sales_df['Total_Spent_byCustomer'], bins=spending_bins, labels=spending_labels)\n"
   ]
  },
  {
   "cell_type": "code",
   "execution_count": 25,
   "id": "9a0f2af0-79eb-47ef-9cca-ce2589952a18",
   "metadata": {
    "tags": []
   },
   "outputs": [
    {
     "name": "stdout",
     "output_type": "stream",
     "text": [
      "Count of Each Spending Category:\n",
      "Medium       361721\n",
      "High          41711\n",
      "Very High      1862\n",
      "Low            1533\n",
      "Name: SpendingCategory, dtype: int64\n"
     ]
    }
   ],
   "source": [
    "# Display count of each unique value in the 'SpendingCategory' column\n",
    "spending_category_counts = customer_sales_df['SpendingCategory'].value_counts()\n",
    "\n",
    "# Display the counts\n",
    "print(\"Count of Each Spending Category:\")\n",
    "print(spending_category_counts)\n"
   ]
  },
  {
   "cell_type": "markdown",
   "id": "7d5274a6-2110-4190-9701-df652d55f9d4",
   "metadata": {},
   "source": [
    "### Check for Central Tendancy"
   ]
  },
  {
   "cell_type": "code",
   "execution_count": 26,
   "id": "79fae51d-86dd-4bd7-beae-204e26e9639d",
   "metadata": {
    "tags": []
   },
   "outputs": [
    {
     "data": {
      "image/png": "[encoded data removed]",
      "text/plain": [
       "<Figure size 576x432 with 1 Axes>"
      ]
     },
     "metadata": {
      "needs_background": "light"
     },
     "output_type": "display_data"
    }
   ],
   "source": [
    "# Encode spending categories numerically\n",
    "spending_category_numeric = customer_sales_df['SpendingCategory'].cat.codes\n",
    "\n",
    "# Calculate mean and median for encoded spending categories\n",
    "spending_category_mean = spending_category_numeric.mean()\n",
    "spending_category_median = spending_category_numeric.median()\n",
    "\n",
    "# Create a histogram for encoded spending categories\n",
    "plt.figure(figsize=(8, 6))\n",
    "plt.hist(spending_category_numeric, bins=len(spending_labels), color='skyblue', edgecolor='black', alpha=0.7)\n",
    "\n",
    "# Add markers for mean and median\n",
    "plt.axvline(spending_category_mean, color='blue', linestyle='-.', label='Mean')\n",
    "plt.axvline(spending_category_median, color='orange', linestyle='--', label='Median')\n",
    "\n",
    "# Set x-axis ticks and labels\n",
    "plt.xticks(range(len(spending_labels)), spending_labels)\n",
    "\n",
    "plt.title('Histogram of Spending Category')\n",
    "plt.xlabel('Spending Category')\n",
    "plt.ylabel('Frequency')\n",
    "\n",
    "plt.legend()\n",
    "plt.show()"
   ]
  },
  {
   "cell_type": "markdown",
   "id": "f920cbdf-1acb-487a-be07-181474512224",
   "metadata": {},
   "source": [
    "### Create 'IncomeLevel' column based on 'Income' Column"
   ]
  },
  {
   "cell_type": "code",
   "execution_count": 27,
   "id": "a2660ec6-dd84-4985-94a2-5b2c784f4d13",
   "metadata": {
    "tags": []
   },
   "outputs": [],
   "source": [
    "# Define income brackets\n",
    "income_bins = [0, 30000, 60000, 90000, float('inf')]\n",
    "income_labels = ['Low', 'Medium', 'High', 'Very High']\n",
    "\n",
    "# Categorize customers into income brackets\n",
    "customer_sales_df['IncomeLevel'] = pd.cut(customer_sales_df['Income'], bins=income_bins, labels=income_labels)\n"
   ]
  },
  {
   "cell_type": "code",
   "execution_count": 28,
   "id": "4ab76902-ff48-4484-9fe9-a8ca467f40f2",
   "metadata": {
    "tags": []
   },
   "outputs": [
    {
     "name": "stdout",
     "output_type": "stream",
     "text": [
      "Count of Each Income Level:\n",
      "Very High    363312\n",
      "Low           14955\n",
      "High          14909\n",
      "Medium        13651\n",
      "Name: IncomeLevel, dtype: int64\n"
     ]
    }
   ],
   "source": [
    "# Display count of each unique value in the 'IncomeLevel' column\n",
    "income_level_counts = customer_sales_df['IncomeLevel'].value_counts()\n",
    "\n",
    "# Display the counts\n",
    "print(\"Count of Each Income Level:\")\n",
    "print(income_level_counts)\n"
   ]
  },
  {
   "cell_type": "markdown",
   "id": "35c8cac3-9aa0-4f57-bf59-1cf54871f67e",
   "metadata": {},
   "source": [
    "### Check for Central Tendancy"
   ]
  },
  {
   "cell_type": "code",
   "execution_count": 29,
   "id": "e921fffe-b0cf-497b-b7b0-95949fd16b91",
   "metadata": {
    "tags": []
   },
   "outputs": [
    {
     "data": {
      "image/png": "[encoded data removed]",
      "text/plain": [
       "<Figure size 576x432 with 1 Axes>"
      ]
     },
     "metadata": {
      "needs_background": "light"
     },
     "output_type": "display_data"
    }
   ],
   "source": [
    "# Calculate mean and median for 'IncomeLevel'\n",
    "income_level_mean = customer_sales_df['IncomeLevel'].cat.codes.mean()\n",
    "income_level_median = customer_sales_df['IncomeLevel'].cat.codes.median()\n",
    "\n",
    "# Create a histogram for 'IncomeLevel' with original category labels on x-axis\n",
    "plt.figure(figsize=(8, 6))\n",
    "plt.hist(customer_sales_df['IncomeLevel'].cat.codes, bins=len(income_labels), color='skyblue', edgecolor='black', alpha=0.7)\n",
    "\n",
    "# Add markers for mean and median\n",
    "plt.axvline(income_level_mean, color='blue', linestyle='-.', label='Mean')\n",
    "plt.axvline(income_level_median, color='orange', linestyle='--', label='Median')\n",
    "\n",
    "# Set x-axis ticks and labels\n",
    "plt.xticks(range(len(income_labels)), income_labels)\n",
    "\n",
    "plt.title('Histogram of Income Level')\n",
    "plt.xlabel('Income Level')\n",
    "plt.ylabel('Frequency')\n",
    "\n",
    "plt.legend()\n",
    "plt.show()"
   ]
  },
  {
   "cell_type": "markdown",
   "id": "daeedeb8-ca61-428d-b09b-83d71a98f81a",
   "metadata": {},
   "source": [
    "### Create 'Purchase_Recency' Column"
   ]
  },
  {
   "cell_type": "code",
   "execution_count": 30,
   "id": "0fb16a6b-c5ac-45eb-b042-ea38c393f6d7",
   "metadata": {
    "tags": []
   },
   "outputs": [],
   "source": [
    "# Group by 'CustomerID' and find distinct invoice dates for each customer\n",
    "distinct_purchase_dates = customer_sales_df.groupby('CustomerID')['InvoiceDate'].apply(lambda x: x.max().normalize())\n",
    "\n",
    "# Calculate the current date\n",
    "current_date = pd.Timestamp.now().normalize()  # Normalizing to remove timestamp\n",
    "\n",
    "# Calculate the difference between the current date and the latest purchase date to get recency\n",
    "purchase_recency = (current_date - distinct_purchase_dates).dt.days\n",
    "\n",
    "# Create the 'Purchase_Recency' column\n",
    "customer_sales_df['Purchase_Recency'] = customer_sales_df['CustomerID'].map(purchase_recency)\n",
    "\n",
    "# Convert numerical recency to datetime format\n",
    "customer_sales_df['Purchase_Recency_Date'] = current_date - pd.to_timedelta(customer_sales_df['Purchase_Recency'], unit='D')\n",
    "\n",
    "# Remove the time component from the 'Purchase_Recency_Date' column\n",
    "customer_sales_df['Purchase_Recency_Date'] = customer_sales_df['Purchase_Recency_Date'].dt.date"
   ]
  },
  {
   "cell_type": "code",
   "execution_count": 31,
   "id": "96d247f1-80cf-4b61-bfc4-afca31cc7377",
   "metadata": {
    "tags": []
   },
   "outputs": [
    {
     "name": "stdout",
     "output_type": "stream",
     "text": [
      "Count of Unique Purchase Recency Dates: 8\n"
     ]
    }
   ],
   "source": [
    "# Count the number of unique dates in the 'Purchase_Recency_Date' column\n",
    "unique_purchase_recency_dates_count = customer_sales_df['Purchase_Recency_Date'].nunique()\n",
    "\n",
    "# Display the count\n",
    "print(\"Count of Unique Purchase Recency Dates:\", unique_purchase_recency_dates_count)"
   ]
  },
  {
   "cell_type": "markdown",
   "id": "ff0d92f7-3d64-4f7c-acf7-a1cbf01009cd",
   "metadata": {},
   "source": [
    "## Drop unwanted columns"
   ]
  },
  {
   "cell_type": "code",
   "execution_count": 32,
   "id": "31a19a70-c2a6-4d24-bda3-ed9bd4b182b0",
   "metadata": {
    "tags": []
   },
   "outputs": [],
   "source": [
    "columns_to_remove = ['first_name', 'last_name', 'title', 'job_title', 'Year_Birth', 'email', 'company_name', 'university', 'linkedin_skill', \n",
    "                    'latitude', 'longitude', 'Income', 'phone', 'city', 'country', 'country_code', 'street_address', \n",
    "                     'street_name', 'street_number', 'street_suffix', 'ip_address', 'time_zone', 'InvoiceNo', 'StockCode', \n",
    "                    'Description', 'InvoiceDate', 'UnitPrice', 'TotalPrice', 'Purchase_Recency', 'Quantity', 'Purchase_Recency_Date', \n",
    "                     'department', 'job_category', 'language',]\n",
    "\n",
    "# Drop the specified columns\n",
    "customer_sales_df.drop(columns=columns_to_remove, inplace=True)"
   ]
  },
  {
   "cell_type": "markdown",
   "id": "ef51b7cb-3cea-4e6b-a3d8-bdef4617e0fd",
   "metadata": {},
   "source": [
    "## Check number of unique values in each column "
   ]
  },
  {
   "cell_type": "code",
   "execution_count": 33,
   "id": "86a1b81e-492c-43cf-bc5d-d468edf99db5",
   "metadata": {
    "tags": []
   },
   "outputs": [
    {
     "name": "stdout",
     "output_type": "stream",
     "text": [
      "CustomerID                2216\n",
      "gender                       8\n",
      "Education                    5\n",
      "Kidhome                      3\n",
      "Marital_Status               8\n",
      "Teenhome                     3\n",
      "region                       7\n",
      "Purchase_Frequency          81\n",
      "Age                         57\n",
      "Total_Spent_byCustomer    2206\n",
      "SpendingCategory             4\n",
      "IncomeLevel                  4\n",
      "dtype: int64\n"
     ]
    }
   ],
   "source": [
    "# Check unique values in each column\n",
    "unique_counts = customer_sales_df.nunique()\n",
    "print(unique_counts)"
   ]
  },
  {
   "cell_type": "code",
   "execution_count": 34,
   "id": "d215fde6-5cb7-497c-85d4-aba1c62ed656",
   "metadata": {
    "tags": []
   },
   "outputs": [
    {
     "data": {
      "text/plain": [
       "(406827, 12)"
      ]
     },
     "execution_count": 34,
     "metadata": {},
     "output_type": "execute_result"
    }
   ],
   "source": [
    "# Display Shape\n",
    "customer_sales_df.shape"
   ]
  },
  {
   "cell_type": "markdown",
   "id": "2e7867b4-2b5c-48e6-b75e-7204f1e1a573",
   "metadata": {},
   "source": [
    "## Encode Categorical Features for Further Analysis"
   ]
  },
  {
   "cell_type": "code",
   "execution_count": 35,
   "id": "ca6f6172-036d-4b0b-9fb9-ad805c79881f",
   "metadata": {
    "tags": []
   },
   "outputs": [
    {
     "data": {
      "text/plain": [
       "(406827, 46)"
      ]
     },
     "execution_count": 35,
     "metadata": {},
     "output_type": "execute_result"
    }
   ],
   "source": [
    "# Define the columns to encode\n",
    "columns_to_encode = ['gender', 'Education',  'Marital_Status', 'Kidhome', 'Teenhome', 'region', 'SpendingCategory', \n",
    "                     'IncomeLevel']\n",
    "\n",
    "# Perform One-Hot Encoding\n",
    "one_hot_encoder = OneHotEncoder(sparse=False)\n",
    "coded_customer_sales_df = pd.get_dummies(customer_sales_df, columns=columns_to_encode)\n",
    "\n",
    "# Display Shape\n",
    "coded_customer_sales_df.shape"
   ]
  },
  {
   "cell_type": "code",
   "execution_count": 36,
   "id": "0c9fa107-6926-4a13-9243-095a2cb26905",
   "metadata": {
    "tags": []
   },
   "outputs": [
    {
     "data": {
      "text/plain": [
       "CustomerID                      int64\n",
       "Purchase_Frequency              int64\n",
       "Age                             int64\n",
       "Total_Spent_byCustomer        float64\n",
       "gender_Agender                  uint8\n",
       "gender_Bigender                 uint8\n",
       "gender_Female                   uint8\n",
       "gender_Genderfluid              uint8\n",
       "gender_Genderqueer              uint8\n",
       "gender_Male                     uint8\n",
       "gender_Non-binary               uint8\n",
       "gender_Polygender               uint8\n",
       "Education_2n Cycle              uint8\n",
       "Education_Basic                 uint8\n",
       "Education_Graduation            uint8\n",
       "Education_Master                uint8\n",
       "Education_PhD                   uint8\n",
       "Marital_Status_Absurd           uint8\n",
       "Marital_Status_Alone            uint8\n",
       "Marital_Status_Divorced         uint8\n",
       "Marital_Status_Married          uint8\n",
       "Marital_Status_Single           uint8\n",
       "Marital_Status_Together         uint8\n",
       "Marital_Status_Widow            uint8\n",
       "Marital_Status_YOLO             uint8\n",
       "Kidhome_0                       uint8\n",
       "Kidhome_1                       uint8\n",
       "Kidhome_2                       uint8\n",
       "Teenhome_0                      uint8\n",
       "Teenhome_1                      uint8\n",
       "Teenhome_2                      uint8\n",
       "region_Africa                   uint8\n",
       "region_Asia                     uint8\n",
       "region_Central America          uint8\n",
       "region_Europe                   uint8\n",
       "region_North America            uint8\n",
       "region_Oceania                  uint8\n",
       "region_South America            uint8\n",
       "SpendingCategory_Low            uint8\n",
       "SpendingCategory_Medium         uint8\n",
       "SpendingCategory_High           uint8\n",
       "SpendingCategory_Very High      uint8\n",
       "IncomeLevel_Low                 uint8\n",
       "IncomeLevel_Medium              uint8\n",
       "IncomeLevel_High                uint8\n",
       "IncomeLevel_Very High           uint8\n",
       "dtype: object"
      ]
     },
     "execution_count": 36,
     "metadata": {},
     "output_type": "execute_result"
    }
   ],
   "source": [
    "coded_customer_sales_df.dtypes"
   ]
  },
  {
   "cell_type": "markdown",
   "id": "5aff962f-8434-4e05-93e6-924d1f635931",
   "metadata": {},
   "source": [
    "## Apply Normalization"
   ]
  },
  {
   "cell_type": "code",
   "execution_count": 37,
   "id": "05307499-ddef-4a05-8f78-47dd1d20591d",
   "metadata": {
    "tags": []
   },
   "outputs": [
    {
     "name": "stdout",
     "output_type": "stream",
     "text": [
      "(406827, 46)\n"
     ]
    }
   ],
   "source": [
    "# Initialize the MinMaxScaler\n",
    "scaler = MinMaxScaler()\n",
    "\n",
    "# Select numerical columns for scaling\n",
    "numerical_columns = ['Purchase_Frequency', 'Age', 'Total_Spent_byCustomer']\n",
    "\n",
    "# Apply Min-Max scaling to the selected numerical columns\n",
    "normalized_numerical_df = pd.DataFrame(scaler.fit_transform(coded_customer_sales_df[numerical_columns]), \n",
    "                                       columns=numerical_columns)\n",
    "\n",
    "# Concatenate the one-hot encoded DataFrame with the normalized numerical DataFrame\n",
    "normal_cust_sales_df = pd.concat([coded_customer_sales_df.drop(columns=numerical_columns), normalized_numerical_df], axis=1)\n",
    "\n",
    "# Display Shape\n",
    "print(normal_cust_sales_df.shape)"
   ]
  },
  {
   "cell_type": "code",
   "execution_count": 38,
   "id": "b5fdceaa-aed9-4925-9c60-32e30ded0426",
   "metadata": {
    "tags": []
   },
   "outputs": [
    {
     "data": {
      "text/plain": [
       "Index(['CustomerID', 'gender_Agender', 'gender_Bigender', 'gender_Female',\n",
       "       'gender_Genderfluid', 'gender_Genderqueer', 'gender_Male',\n",
       "       'gender_Non-binary', 'gender_Polygender', 'Education_2n Cycle',\n",
       "       'Education_Basic', 'Education_Graduation', 'Education_Master',\n",
       "       'Education_PhD', 'Marital_Status_Absurd', 'Marital_Status_Alone',\n",
       "       'Marital_Status_Divorced', 'Marital_Status_Married',\n",
       "       'Marital_Status_Single', 'Marital_Status_Together',\n",
       "       'Marital_Status_Widow', 'Marital_Status_YOLO', 'Kidhome_0', 'Kidhome_1',\n",
       "       'Kidhome_2', 'Teenhome_0', 'Teenhome_1', 'Teenhome_2', 'region_Africa',\n",
       "       'region_Asia', 'region_Central America', 'region_Europe',\n",
       "       'region_North America', 'region_Oceania', 'region_South America',\n",
       "       'SpendingCategory_Low', 'SpendingCategory_Medium',\n",
       "       'SpendingCategory_High', 'SpendingCategory_Very High',\n",
       "       'IncomeLevel_Low', 'IncomeLevel_Medium', 'IncomeLevel_High',\n",
       "       'IncomeLevel_Very High', 'Purchase_Frequency', 'Age',\n",
       "       'Total_Spent_byCustomer'],\n",
       "      dtype='object')"
      ]
     },
     "execution_count": 38,
     "metadata": {},
     "output_type": "execute_result"
    }
   ],
   "source": [
    "normal_cust_sales_df.columns"
   ]
  },
  {
   "cell_type": "markdown",
   "id": "2c2bf5c1-7969-42ff-8581-a3e1611bb807",
   "metadata": {},
   "source": [
    "## Split Dataset"
   ]
  },
  {
   "cell_type": "code",
   "execution_count": 39,
   "id": "639dc8f7-7b30-4d21-ae7a-4174665e319e",
   "metadata": {
    "tags": []
   },
   "outputs": [],
   "source": [
    "train_df, test_val_df = train_test_split(normal_cust_sales_df, test_size=0.3, random_state=42)\n",
    "val_df, test_df = train_test_split(test_val_df, test_size=0.5, random_state=42)"
   ]
  },
  {
   "cell_type": "markdown",
   "id": "03f69c16-71cc-4153-828c-2c6bab5585f3",
   "metadata": {},
   "source": [
    "## Upload to S3"
   ]
  },
  {
   "cell_type": "code",
   "execution_count": 40,
   "id": "2ff02059-02f2-461f-b512-fa579180a5e8",
   "metadata": {
    "tags": []
   },
   "outputs": [
    {
     "name": "stdout",
     "output_type": "stream",
     "text": [
      "Datasets uploaded to S3 successfully.\n"
     ]
    }
   ],
   "source": [
    "# Define S3 bucket name\n",
    "bucket_name = 'team6datasets'\n",
    "\n",
    "# Initialize S3 client\n",
    "s3 = boto3.client('s3')\n",
    "\n",
    "# Function to upload DataFrame to S3 as CSV\n",
    "def upload_df_to_s3(df, filename):\n",
    "    csv_buffer = StringIO()\n",
    "    df.to_csv(csv_buffer, index=False)\n",
    "    s3.put_object(Bucket=bucket_name, Key='splitDatasets/' + filename, Body=csv_buffer.getvalue())\n",
    "\n",
    "# Upload train, validation, and test sets to S3\n",
    "upload_df_to_s3(train_df, 'train.csv')\n",
    "upload_df_to_s3(val_df, 'validation.csv')\n",
    "upload_df_to_s3(test_df, 'test.csv')\n",
    "\n",
    "print(\"Datasets uploaded to S3 successfully.\")"
   ]
  },
  {
   "cell_type": "code",
   "execution_count": null,
   "id": "4a1c2d25-f9a9-4f0e-ac6b-335bb2fcd9ca",
   "metadata": {},
   "outputs": [],
   "source": []
  }
 ],
 "metadata": {
  "availableInstances": [
   {
    "_defaultOrder": 0,
    "_isFastLaunch": true,
    "category": "General purpose",
    "gpuNum": 0,
    "hideHardwareSpecs": false,
    "memoryGiB": 4,
    "name": "ml.t3.medium",
    "vcpuNum": 2
   },
   {
    "_defaultOrder": 1,
    "_isFastLaunch": false,
    "category": "General purpose",
    "gpuNum": 0,
    "hideHardwareSpecs": false,
    "memoryGiB": 8,
    "name": "ml.t3.large",
    "vcpuNum": 2
   },
   {
    "_defaultOrder": 2,
    "_isFastLaunch": false,
    "category": "General purpose",
    "gpuNum": 0,
    "hideHardwareSpecs": false,
    "memoryGiB": 16,
    "name": "ml.t3.xlarge",
    "vcpuNum": 4
   },
   {
    "_defaultOrder": 3,
    "_isFastLaunch": false,
    "category": "General purpose",
    "gpuNum": 0,
    "hideHardwareSpecs": false,
    "memoryGiB": 32,
    "name": "ml.t3.2xlarge",
    "vcpuNum": 8
   },
   {
    "_defaultOrder": 4,
    "_isFastLaunch": true,
    "category": "General purpose",
    "gpuNum": 0,
    "hideHardwareSpecs": false,
    "memoryGiB": 8,
    "name": "ml.m5.large",
    "vcpuNum": 2
   },
   {
    "_defaultOrder": 5,
    "_isFastLaunch": false,
    "category": "General purpose",
    "gpuNum": 0,
    "hideHardwareSpecs": false,
    "memoryGiB": 16,
    "name": "ml.m5.xlarge",
    "vcpuNum": 4
   },
   {
    "_defaultOrder": 6,
    "_isFastLaunch": false,
    "category": "General purpose",
    "gpuNum": 0,
    "hideHardwareSpecs": false,
    "memoryGiB": 32,
    "name": "ml.m5.2xlarge",
    "vcpuNum": 8
   },
   {
    "_defaultOrder": 7,
    "_isFastLaunch": false,
    "category": "General purpose",
    "gpuNum": 0,
    "hideHardwareSpecs": false,
    "memoryGiB": 64,
    "name": "ml.m5.4xlarge",
    "vcpuNum": 16
   },
   {
    "_defaultOrder": 8,
    "_isFastLaunch": false,
    "category": "General purpose",
    "gpuNum": 0,
    "hideHardwareSpecs": false,
    "memoryGiB": 128,
    "name": "ml.m5.8xlarge",
    "vcpuNum": 32
   },
   {
    "_defaultOrder": 9,
    "_isFastLaunch": false,
    "category": "General purpose",
    "gpuNum": 0,
    "hideHardwareSpecs": false,
    "memoryGiB": 192,
    "name": "ml.m5.12xlarge",
    "vcpuNum": 48
   },
   {
    "_defaultOrder": 10,
    "_isFastLaunch": false,
    "category": "General purpose",
    "gpuNum": 0,
    "hideHardwareSpecs": false,
    "memoryGiB": 256,
    "name": "ml.m5.16xlarge",
    "vcpuNum": 64
   },
   {
    "_defaultOrder": 11,
    "_isFastLaunch": false,
    "category": "General purpose",
    "gpuNum": 0,
    "hideHardwareSpecs": false,
    "memoryGiB": 384,
    "name": "ml.m5.24xlarge",
    "vcpuNum": 96
   },
   {
    "_defaultOrder": 12,
    "_isFastLaunch": false,
    "category": "General purpose",
    "gpuNum": 0,
    "hideHardwareSpecs": false,
    "memoryGiB": 8,
    "name": "ml.m5d.large",
    "vcpuNum": 2
   },
   {
    "_defaultOrder": 13,
    "_isFastLaunch": false,
    "category": "General purpose",
    "gpuNum": 0,
    "hideHardwareSpecs": false,
    "memoryGiB": 16,
    "name": "ml.m5d.xlarge",
    "vcpuNum": 4
   },
   {
    "_defaultOrder": 14,
    "_isFastLaunch": false,
    "category": "General purpose",
    "gpuNum": 0,
    "hideHardwareSpecs": false,
    "memoryGiB": 32,
    "name": "ml.m5d.2xlarge",
    "vcpuNum": 8
   },
   {
    "_defaultOrder": 15,
    "_isFastLaunch": false,
    "category": "General purpose",
    "gpuNum": 0,
    "hideHardwareSpecs": false,
    "memoryGiB": 64,
    "name": "ml.m5d.4xlarge",
    "vcpuNum": 16
   },
   {
    "_defaultOrder": 16,
    "_isFastLaunch": false,
    "category": "General purpose",
    "gpuNum": 0,
    "hideHardwareSpecs": false,
    "memoryGiB": 128,
    "name": "ml.m5d.8xlarge",
    "vcpuNum": 32
   },
   {
    "_defaultOrder": 17,
    "_isFastLaunch": false,
    "category": "General purpose",
    "gpuNum": 0,
    "hideHardwareSpecs": false,
    "memoryGiB": 192,
    "name": "ml.m5d.12xlarge",
    "vcpuNum": 48
   },
   {
    "_defaultOrder": 18,
    "_isFastLaunch": false,
    "category": "General purpose",
    "gpuNum": 0,
    "hideHardwareSpecs": false,
    "memoryGiB": 256,
    "name": "ml.m5d.16xlarge",
    "vcpuNum": 64
   },
   {
    "_defaultOrder": 19,
    "_isFastLaunch": false,
    "category": "General purpose",
    "gpuNum": 0,
    "hideHardwareSpecs": false,
    "memoryGiB": 384,
    "name": "ml.m5d.24xlarge",
    "vcpuNum": 96
   },
   {
    "_defaultOrder": 20,
    "_isFastLaunch": false,
    "category": "General purpose",
    "gpuNum": 0,
    "hideHardwareSpecs": true,
    "memoryGiB": 0,
    "name": "ml.geospatial.interactive",
    "supportedImageNames": [
     "sagemaker-geospatial-v1-0"
    ],
    "vcpuNum": 0
   },
   {
    "_defaultOrder": 21,
    "_isFastLaunch": true,
    "category": "Compute optimized",
    "gpuNum": 0,
    "hideHardwareSpecs": false,
    "memoryGiB": 4,
    "name": "ml.c5.large",
    "vcpuNum": 2
   },
   {
    "_defaultOrder": 22,
    "_isFastLaunch": false,
    "category": "Compute optimized",
    "gpuNum": 0,
    "hideHardwareSpecs": false,
    "memoryGiB": 8,
    "name": "ml.c5.xlarge",
    "vcpuNum": 4
   },
   {
    "_defaultOrder": 23,
    "_isFastLaunch": false,
    "category": "Compute optimized",
    "gpuNum": 0,
    "hideHardwareSpecs": false,
    "memoryGiB": 16,
    "name": "ml.c5.2xlarge",
    "vcpuNum": 8
   },
   {
    "_defaultOrder": 24,
    "_isFastLaunch": false,
    "category": "Compute optimized",
    "gpuNum": 0,
    "hideHardwareSpecs": false,
    "memoryGiB": 32,
    "name": "ml.c5.4xlarge",
    "vcpuNum": 16
   },
   {
    "_defaultOrder": 25,
    "_isFastLaunch": false,
    "category": "Compute optimized",
    "gpuNum": 0,
    "hideHardwareSpecs": false,
    "memoryGiB": 72,
    "name": "ml.c5.9xlarge",
    "vcpuNum": 36
   },
   {
    "_defaultOrder": 26,
    "_isFastLaunch": false,
    "category": "Compute optimized",
    "gpuNum": 0,
    "hideHardwareSpecs": false,
    "memoryGiB": 96,
    "name": "ml.c5.12xlarge",
    "vcpuNum": 48
   },
   {
    "_defaultOrder": 27,
    "_isFastLaunch": false,
    "category": "Compute optimized",
    "gpuNum": 0,
    "hideHardwareSpecs": false,
    "memoryGiB": 144,
    "name": "ml.c5.18xlarge",
    "vcpuNum": 72
   },
   {
    "_defaultOrder": 28,
    "_isFastLaunch": false,
    "category": "Compute optimized",
    "gpuNum": 0,
    "hideHardwareSpecs": false,
    "memoryGiB": 192,
    "name": "ml.c5.24xlarge",
    "vcpuNum": 96
   },
   {
    "_defaultOrder": 29,
    "_isFastLaunch": true,
    "category": "Accelerated computing",
    "gpuNum": 1,
    "hideHardwareSpecs": false,
    "memoryGiB": 16,
    "name": "ml.g4dn.xlarge",
    "vcpuNum": 4
   },
   {
    "_defaultOrder": 30,
    "_isFastLaunch": false,
    "category": "Accelerated computing",
    "gpuNum": 1,
    "hideHardwareSpecs": false,
    "memoryGiB": 32,
    "name": "ml.g4dn.2xlarge",
    "vcpuNum": 8
   },
   {
    "_defaultOrder": 31,
    "_isFastLaunch": false,
    "category": "Accelerated computing",
    "gpuNum": 1,
    "hideHardwareSpecs": false,
    "memoryGiB": 64,
    "name": "ml.g4dn.4xlarge",
    "vcpuNum": 16
   },
   {
    "_defaultOrder": 32,
    "_isFastLaunch": false,
    "category": "Accelerated computing",
    "gpuNum": 1,
    "hideHardwareSpecs": false,
    "memoryGiB": 128,
    "name": "ml.g4dn.8xlarge",
    "vcpuNum": 32
   },
   {
    "_defaultOrder": 33,
    "_isFastLaunch": false,
    "category": "Accelerated computing",
    "gpuNum": 4,
    "hideHardwareSpecs": false,
    "memoryGiB": 192,
    "name": "ml.g4dn.12xlarge",
    "vcpuNum": 48
   },
   {
    "_defaultOrder": 34,
    "_isFastLaunch": false,
    "category": "Accelerated computing",
    "gpuNum": 1,
    "hideHardwareSpecs": false,
    "memoryGiB": 256,
    "name": "ml.g4dn.16xlarge",
    "vcpuNum": 64
   },
   {
    "_defaultOrder": 35,
    "_isFastLaunch": false,
    "category": "Accelerated computing",
    "gpuNum": 1,
    "hideHardwareSpecs": false,
    "memoryGiB": 61,
    "name": "ml.p3.2xlarge",
    "vcpuNum": 8
   },
   {
    "_defaultOrder": 36,
    "_isFastLaunch": false,
    "category": "Accelerated computing",
    "gpuNum": 4,
    "hideHardwareSpecs": false,
    "memoryGiB": 244,
    "name": "ml.p3.8xlarge",
    "vcpuNum": 32
   },
   {
    "_defaultOrder": 37,
    "_isFastLaunch": false,
    "category": "Accelerated computing",
    "gpuNum": 8,
    "hideHardwareSpecs": false,
    "memoryGiB": 488,
    "name": "ml.p3.16xlarge",
    "vcpuNum": 64
   },
   {
    "_defaultOrder": 38,
    "_isFastLaunch": false,
    "category": "Accelerated computing",
    "gpuNum": 8,
    "hideHardwareSpecs": false,
    "memoryGiB": 768,
    "name": "ml.p3dn.24xlarge",
    "vcpuNum": 96
   },
   {
    "_defaultOrder": 39,
    "_isFastLaunch": false,
    "category": "Memory Optimized",
    "gpuNum": 0,
    "hideHardwareSpecs": false,
    "memoryGiB": 16,
    "name": "ml.r5.large",
    "vcpuNum": 2
   },
   {
    "_defaultOrder": 40,
    "_isFastLaunch": false,
    "category": "Memory Optimized",
    "gpuNum": 0,
    "hideHardwareSpecs": false,
    "memoryGiB": 32,
    "name": "ml.r5.xlarge",
    "vcpuNum": 4
   },
   {
    "_defaultOrder": 41,
    "_isFastLaunch": false,
    "category": "Memory Optimized",
    "gpuNum": 0,
    "hideHardwareSpecs": false,
    "memoryGiB": 64,
    "name": "ml.r5.2xlarge",
    "vcpuNum": 8
   },
   {
    "_defaultOrder": 42,
    "_isFastLaunch": false,
    "category": "Memory Optimized",
    "gpuNum": 0,
    "hideHardwareSpecs": false,
    "memoryGiB": 128,
    "name": "ml.r5.4xlarge",
    "vcpuNum": 16
   },
   {
    "_defaultOrder": 43,
    "_isFastLaunch": false,
    "category": "Memory Optimized",
    "gpuNum": 0,
    "hideHardwareSpecs": false,
    "memoryGiB": 256,
    "name": "ml.r5.8xlarge",
    "vcpuNum": 32
   },
   {
    "_defaultOrder": 44,
    "_isFastLaunch": false,
    "category": "Memory Optimized",
    "gpuNum": 0,
    "hideHardwareSpecs": false,
    "memoryGiB": 384,
    "name": "ml.r5.12xlarge",
    "vcpuNum": 48
   },
   {
    "_defaultOrder": 45,
    "_isFastLaunch": false,
    "category": "Memory Optimized",
    "gpuNum": 0,
    "hideHardwareSpecs": false,
    "memoryGiB": 512,
    "name": "ml.r5.16xlarge",
    "vcpuNum": 64
   },
   {
    "_defaultOrder": 46,
    "_isFastLaunch": false,
    "category": "Memory Optimized",
    "gpuNum": 0,
    "hideHardwareSpecs": false,
    "memoryGiB": 768,
    "name": "ml.r5.24xlarge",
    "vcpuNum": 96
   },
   {
    "_defaultOrder": 47,
    "_isFastLaunch": false,
    "category": "Accelerated computing",
    "gpuNum": 1,
    "hideHardwareSpecs": false,
    "memoryGiB": 16,
    "name": "ml.g5.xlarge",
    "vcpuNum": 4
   },
   {
    "_defaultOrder": 48,
    "_isFastLaunch": false,
    "category": "Accelerated computing",
    "gpuNum": 1,
    "hideHardwareSpecs": false,
    "memoryGiB": 32,
    "name": "ml.g5.2xlarge",
    "vcpuNum": 8
   },
   {
    "_defaultOrder": 49,
    "_isFastLaunch": false,
    "category": "Accelerated computing",
    "gpuNum": 1,
    "hideHardwareSpecs": false,
    "memoryGiB": 64,
    "name": "ml.g5.4xlarge",
    "vcpuNum": 16
   },
   {
    "_defaultOrder": 50,
    "_isFastLaunch": false,
    "category": "Accelerated computing",
    "gpuNum": 1,
    "hideHardwareSpecs": false,
    "memoryGiB": 128,
    "name": "ml.g5.8xlarge",
    "vcpuNum": 32
   },
   {
    "_defaultOrder": 51,
    "_isFastLaunch": false,
    "category": "Accelerated computing",
    "gpuNum": 1,
    "hideHardwareSpecs": false,
    "memoryGiB": 256,
    "name": "ml.g5.16xlarge",
    "vcpuNum": 64
   },
   {
    "_defaultOrder": 52,
    "_isFastLaunch": false,
    "category": "Accelerated computing",
    "gpuNum": 4,
    "hideHardwareSpecs": false,
    "memoryGiB": 192,
    "name": "ml.g5.12xlarge",
    "vcpuNum": 48
   },
   {
    "_defaultOrder": 53,
    "_isFastLaunch": false,
    "category": "Accelerated computing",
    "gpuNum": 4,
    "hideHardwareSpecs": false,
    "memoryGiB": 384,
    "name": "ml.g5.24xlarge",
    "vcpuNum": 96
   },
   {
    "_defaultOrder": 54,
    "_isFastLaunch": false,
    "category": "Accelerated computing",
    "gpuNum": 8,
    "hideHardwareSpecs": false,
    "memoryGiB": 768,
    "name": "ml.g5.48xlarge",
    "vcpuNum": 192
   },
   {
    "_defaultOrder": 55,
    "_isFastLaunch": false,
    "category": "Accelerated computing",
    "gpuNum": 8,
    "hideHardwareSpecs": false,
    "memoryGiB": 1152,
    "name": "ml.p4d.24xlarge",
    "vcpuNum": 96
   },
   {
    "_defaultOrder": 56,
    "_isFastLaunch": false,
    "category": "Accelerated computing",
    "gpuNum": 8,
    "hideHardwareSpecs": false,
    "memoryGiB": 1152,
    "name": "ml.p4de.24xlarge",
    "vcpuNum": 96
   },
   {
    "_defaultOrder": 57,
    "_isFastLaunch": false,
    "category": "Accelerated computing",
    "gpuNum": 0,
    "hideHardwareSpecs": false,
    "memoryGiB": 32,
    "name": "ml.trn1.2xlarge",
    "vcpuNum": 8
   },
   {
    "_defaultOrder": 58,
    "_isFastLaunch": false,
    "category": "Accelerated computing",
    "gpuNum": 0,
    "hideHardwareSpecs": false,
    "memoryGiB": 512,
    "name": "ml.trn1.32xlarge",
    "vcpuNum": 128
   },
   {
    "_defaultOrder": 59,
    "_isFastLaunch": false,
    "category": "Accelerated computing",
    "gpuNum": 0,
    "hideHardwareSpecs": false,
    "memoryGiB": 512,
    "name": "ml.trn1n.32xlarge",
    "vcpuNum": 128
   }
  ],
  "instance_type": "ml.t3.medium",
  "kernelspec": {
   "display_name": "Python 3 (ipykernel)",
   "language": "python",
   "name": "python3"
  },
  "language_info": {
   "codemirror_mode": {
    "name": "ipython",
    "version": 3
   },
   "file_extension": ".py",
   "mimetype": "text/x-python",
   "name": "python",
   "nbconvert_exporter": "python",
   "pygments_lexer": "ipython3",
   "version": "3.11.5"
  }
 },
 "nbformat": 4,
 "nbformat_minor": 5
}
