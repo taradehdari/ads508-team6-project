{
 "cells": [
  {
   "cell_type": "code",
   "execution_count": 5,
   "id": "fb79cb44-e9b0-463e-a469-1d1b1f236e96",
   "metadata": {},
   "outputs": [
    {
     "name": "stdout",
     "output_type": "stream",
     "text": [
      "Python 3.8.13\n"
     ]
    }
   ],
   "source": [
    "!python --version"
   ]
  },
  {
   "cell_type": "markdown",
   "id": "d4e5c248-8d95-47bb-9e21-596492e76f5b",
   "metadata": {},
   "source": [
    "## PIP"
   ]
  },
  {
   "cell_type": "code",
   "execution_count": 6,
   "id": "a33dcf8f-9412-4c0b-96b2-fcba19070f89",
   "metadata": {},
   "outputs": [
    {
     "name": "stdout",
     "output_type": "stream",
     "text": [
      "\u001b[33mDEPRECATION: pyodbc 4.0.0-unsupported has a non-standard version number. pip 24.0 will enforce this behaviour change. A possible replacement is to upgrade to a newer version of pyodbc or contact the author to suggest that they release a version with a conforming version number. Discussion can be found at https://github.com/pypa/pip/issues/12063\u001b[0m\u001b[33m\n",
      "\u001b[0m\u001b[33mWARNING: Running pip as the 'root' user can result in broken permissions and conflicting behaviour with the system package manager. It is recommended to use a virtual environment instead: https://pip.pypa.io/warnings/venv\u001b[0m\u001b[33m\n",
      "\u001b[0m\u001b[33mDEPRECATION: pyodbc 4.0.0-unsupported has a non-standard version number. pip 24.1 will enforce this behaviour change. A possible replacement is to upgrade to a newer version of pyodbc or contact the author to suggest that they release a version with a conforming version number. Discussion can be found at https://github.com/pypa/pip/issues/12063\u001b[0m\u001b[33m\n",
      "\u001b[0m\u001b[33mWARNING: Running pip as the 'root' user can result in broken permissions and conflicting behaviour with the system package manager. It is recommended to use a virtual environment instead: https://pip.pypa.io/warnings/venv\u001b[0m\u001b[33m\n",
      "\u001b[0m"
     ]
    }
   ],
   "source": [
    "!pip install --disable-pip-version-check -q pip --upgrade > /dev/null\n",
    "!pip install --disable-pip-version-check -q wrapt --upgrade > /dev/null"
   ]
  },
  {
   "cell_type": "markdown",
   "id": "538f726d-88c7-4c8b-ad0b-65e7ae593ac5",
   "metadata": {},
   "source": [
    "## AWS CLI and AWS Python SDK (boto3)"
   ]
  },
  {
   "cell_type": "code",
   "execution_count": 7,
   "id": "6f67c1ad-8102-4682-bc41-6e556205526b",
   "metadata": {},
   "outputs": [
    {
     "name": "stdout",
     "output_type": "stream",
     "text": [
      "\u001b[33mDEPRECATION: pyodbc 4.0.0-unsupported has a non-standard version number. pip 24.1 will enforce this behaviour change. A possible replacement is to upgrade to a newer version of pyodbc or contact the author to suggest that they release a version with a conforming version number. Discussion can be found at https://github.com/pypa/pip/issues/12063\u001b[0m\u001b[33m\n",
      "\u001b[0m\u001b[31mERROR: pip's dependency resolver does not currently take into account all the packages that are installed. This behaviour is the source of the following dependency conflicts.\n",
      "spyder 5.1.5 requires pyqt5<5.13, which is not installed.\n",
      "spyder 5.1.5 requires pyqtwebengine<5.13, which is not installed.\n",
      "jupyterlab 3.2.1 requires jupyter-server~=1.4, but you have jupyter-server 2.12.1 which is incompatible.\n",
      "jupyterlab 3.2.1 requires nbclassic~=0.2, but you have nbclassic 1.0.0 which is incompatible.\n",
      "jupyterlab-server 2.8.2 requires jupyter-server~=1.4, but you have jupyter-server 2.12.1 which is incompatible.\n",
      "sagemaker-studio-analytics-extension 0.0.21 requires boto3<2.0,>=1.26.49, but you have boto3 1.16.56 which is incompatible.\n",
      "spyder 5.1.5 requires pylint<2.10.0,>=2.5.0, but you have pylint 3.0.2 which is incompatible.\u001b[0m\u001b[31m\n",
      "\u001b[0m\u001b[33mWARNING: Running pip as the 'root' user can result in broken permissions and conflicting behaviour with the system package manager. It is recommended to use a virtual environment instead: https://pip.pypa.io/warnings/venv\u001b[0m\u001b[33m\n",
      "\u001b[0m"
     ]
    }
   ],
   "source": [
    "!pip install --disable-pip-version-check -q awscli==1.18.216 boto3==1.16.56 botocore==1.19.56"
   ]
  },
  {
   "cell_type": "markdown",
   "id": "00215447-35bd-4cb9-98b2-49572fbd2b31",
   "metadata": {},
   "source": [
    "## SageMaker"
   ]
  },
  {
   "cell_type": "code",
   "execution_count": 8,
   "id": "6f4d3dc1-9865-4ef4-acb7-eddc433c5303",
   "metadata": {},
   "outputs": [
    {
     "name": "stdout",
     "output_type": "stream",
     "text": [
      "\u001b[33mDEPRECATION: pyodbc 4.0.0-unsupported has a non-standard version number. pip 24.1 will enforce this behaviour change. A possible replacement is to upgrade to a newer version of pyodbc or contact the author to suggest that they release a version with a conforming version number. Discussion can be found at https://github.com/pypa/pip/issues/12063\u001b[0m\u001b[33m\n",
      "\u001b[0m\u001b[33mWARNING: Running pip as the 'root' user can result in broken permissions and conflicting behaviour with the system package manager. It is recommended to use a virtual environment instead: https://pip.pypa.io/warnings/venv\u001b[0m\u001b[33m\n",
      "\u001b[0m\u001b[33mDEPRECATION: pyodbc 4.0.0-unsupported has a non-standard version number. pip 24.1 will enforce this behaviour change. A possible replacement is to upgrade to a newer version of pyodbc or contact the author to suggest that they release a version with a conforming version number. Discussion can be found at https://github.com/pypa/pip/issues/12063\u001b[0m\u001b[33m\n",
      "\u001b[0m\u001b[33mWARNING: Running pip as the 'root' user can result in broken permissions and conflicting behaviour with the system package manager. It is recommended to use a virtual environment instead: https://pip.pypa.io/warnings/venv\u001b[0m\u001b[33m\n",
      "\u001b[0m\u001b[33mDEPRECATION: pyodbc 4.0.0-unsupported has a non-standard version number. pip 24.1 will enforce this behaviour change. A possible replacement is to upgrade to a newer version of pyodbc or contact the author to suggest that they release a version with a conforming version number. Discussion can be found at https://github.com/pypa/pip/issues/12063\u001b[0m\u001b[33m\n",
      "\u001b[0m\u001b[33mWARNING: Running pip as the 'root' user can result in broken permissions and conflicting behaviour with the system package manager. It is recommended to use a virtual environment instead: https://pip.pypa.io/warnings/venv\u001b[0m\u001b[33m\n",
      "\u001b[0m"
     ]
    }
   ],
   "source": [
    "!pip install --disable-pip-version-check -q sagemaker\n",
    "!pip install --disable-pip-version-check -q smdebug\n",
    "!pip install --disable-pip-version-check -q sagemaker-experiments"
   ]
  },
  {
   "cell_type": "markdown",
   "id": "9c9a8d60-2e18-4f69-a49c-3a9580cf522b",
   "metadata": {},
   "source": [
    "## PyTorch"
   ]
  },
  {
   "cell_type": "code",
   "execution_count": 9,
   "id": "a57123e1-8ec9-4d88-8744-01f6396d41bc",
   "metadata": {},
   "outputs": [
    {
     "name": "stdout",
     "output_type": "stream",
     "text": [
      "Collecting package metadata (current_repodata.json): done\n",
      "Solving environment: failed with initial frozen solve. Retrying with flexible solve.\n",
      "Collecting package metadata (repodata.json): done\n",
      "Solving environment: done\n",
      "\n",
      "## Package Plan ##\n",
      "\n",
      "  environment location: /opt/conda\n",
      "\n",
      "  added / updated specs:\n",
      "    - pytorch==1.6.0\n",
      "\n",
      "\n",
      "The following packages will be downloaded:\n",
      "\n",
      "    package                    |            build\n",
      "    ---------------------------|-----------------\n",
      "    ca-certificates-2024.3.11  |       h06a4308_0         127 KB\n",
      "    certifi-2024.2.2           |   py38h06a4308_0         159 KB\n",
      "    cudatoolkit-10.2.89        |       hfd86e86_1       365.1 MB\n",
      "    ninja-1.10.2               |       h06a4308_5           8 KB\n",
      "    ninja-base-1.10.2          |       hd09550d_5         109 KB\n",
      "    pytorch-1.6.0              |py3.8_cuda10.2.89_cudnn7.6.5_0       538.6 MB  pytorch\n",
      "    ------------------------------------------------------------\n",
      "                                           Total:       904.0 MB\n",
      "\n",
      "The following NEW packages will be INSTALLED:\n",
      "\n",
      "  cudatoolkit        pkgs/main/linux-64::cudatoolkit-10.2.89-hfd86e86_1 None\n",
      "  ninja              pkgs/main/linux-64::ninja-1.10.2-h06a4308_5 None\n",
      "  ninja-base         pkgs/main/linux-64::ninja-base-1.10.2-hd09550d_5 None\n",
      "  pytorch            pytorch/linux-64::pytorch-1.6.0-py3.8_cuda10.2.89_cudnn7.6.5_0 None\n",
      "\n",
      "The following packages will be UPDATED:\n",
      "\n",
      "  ca-certificates    conda-forge::ca-certificates-2023.11.~ --> pkgs/main::ca-certificates-2024.3.11-h06a4308_0 None\n",
      "  certifi            conda-forge/noarch::certifi-2023.11.1~ --> pkgs/main/linux-64::certifi-2024.2.2-py38h06a4308_0 None\n",
      "\n",
      "\n",
      "\n",
      "Downloading and Extracting Packages\n",
      "ninja-base-1.10.2    | 109 KB    | ##################################### | 100% \n",
      "pytorch-1.6.0        | 538.6 MB  | ##################################### | 100% \n",
      "ninja-1.10.2         | 8 KB      | ##################################### | 100% \n",
      "certifi-2024.2.2     | 159 KB    | ##################################### | 100% \n",
      "cudatoolkit-10.2.89  | 365.1 MB  | ##################################### | 100% \n",
      "ca-certificates-2024 | 127 KB    | ##################################### | 100% \n",
      "Preparing transaction: done\n",
      "Verifying transaction: done\n",
      "Executing transaction: done\n",
      "Retrieving notices: ...working... done\n"
     ]
    }
   ],
   "source": [
    "!conda install -y pytorch==1.6.0 -c pytorch"
   ]
  },
  {
   "cell_type": "markdown",
   "id": "c535ad42-32a6-437c-9dbc-47cb06352cda",
   "metadata": {},
   "source": [
    "## TensorFlow"
   ]
  },
  {
   "cell_type": "code",
   "execution_count": 10,
   "id": "3d0d0c3e-3931-4f65-ad49-69866207e2f6",
   "metadata": {},
   "outputs": [
    {
     "name": "stdout",
     "output_type": "stream",
     "text": [
      "\u001b[33mDEPRECATION: pyodbc 4.0.0-unsupported has a non-standard version number. pip 24.1 will enforce this behaviour change. A possible replacement is to upgrade to a newer version of pyodbc or contact the author to suggest that they release a version with a conforming version number. Discussion can be found at https://github.com/pypa/pip/issues/12063\u001b[0m\u001b[33m\n",
      "\u001b[0m\u001b[31mERROR: pip's dependency resolver does not currently take into account all the packages that are installed. This behaviour is the source of the following dependency conflicts.\n",
      "daal4py 2021.3.0 requires daal==2021.2.3, which is not installed.\n",
      "sagemaker-data-insights 0.3.3 requires numpy>=1.21.6, but you have numpy 1.18.5 which is incompatible.\n",
      "sagemaker-datawrangler 0.4.3 requires sagemaker-data-insights==0.4.0, but you have sagemaker-data-insights 0.3.3 which is incompatible.\n",
      "scipy 1.10.1 requires numpy<1.27.0,>=1.19.5, but you have numpy 1.18.5 which is incompatible.\u001b[0m\u001b[31m\n",
      "\u001b[0m\u001b[33mWARNING: Running pip as the 'root' user can result in broken permissions and conflicting behaviour with the system package manager. It is recommended to use a virtual environment instead: https://pip.pypa.io/warnings/venv\u001b[0m\u001b[33m\n",
      "\u001b[0m"
     ]
    }
   ],
   "source": [
    "!pip install --disable-pip-version-check -q tensorflow==2.3.1"
   ]
  },
  {
   "cell_type": "markdown",
   "id": "b1fe58e7-4d5a-4a19-830f-64ae5758ae9d",
   "metadata": {},
   "source": [
    "Hugging Face Transformers (BERT)"
   ]
  },
  {
   "cell_type": "code",
   "execution_count": 11,
   "id": "662e1e90-df65-4bc8-805d-be183770c6d6",
   "metadata": {},
   "outputs": [
    {
     "name": "stdout",
     "output_type": "stream",
     "text": [
      "\u001b[33mDEPRECATION: pyodbc 4.0.0-unsupported has a non-standard version number. pip 24.1 will enforce this behaviour change. A possible replacement is to upgrade to a newer version of pyodbc or contact the author to suggest that they release a version with a conforming version number. Discussion can be found at https://github.com/pypa/pip/issues/12063\u001b[0m\u001b[33m\n",
      "\u001b[0m\u001b[33mWARNING: Running pip as the 'root' user can result in broken permissions and conflicting behaviour with the system package manager. It is recommended to use a virtual environment instead: https://pip.pypa.io/warnings/venv\u001b[0m\u001b[33m\n",
      "\u001b[0m"
     ]
    }
   ],
   "source": [
    "!pip install --disable-pip-version-check -q transformers==3.5.1"
   ]
  },
  {
   "cell_type": "markdown",
   "id": "fef14289-d153-4a1b-9210-62bbdf1caac5",
   "metadata": {},
   "source": [
    "## TorchServe"
   ]
  },
  {
   "cell_type": "code",
   "execution_count": 12,
   "id": "e213f1c4-9a16-41a8-be32-5f2858e4bb41",
   "metadata": {},
   "outputs": [
    {
     "name": "stdout",
     "output_type": "stream",
     "text": [
      "\u001b[33mDEPRECATION: pyodbc 4.0.0-unsupported has a non-standard version number. pip 24.1 will enforce this behaviour change. A possible replacement is to upgrade to a newer version of pyodbc or contact the author to suggest that they release a version with a conforming version number. Discussion can be found at https://github.com/pypa/pip/issues/12063\u001b[0m\u001b[33m\n",
      "\u001b[0m\u001b[33mWARNING: Running pip as the 'root' user can result in broken permissions and conflicting behaviour with the system package manager. It is recommended to use a virtual environment instead: https://pip.pypa.io/warnings/venv\u001b[0m\u001b[33m\n",
      "\u001b[0m\u001b[33mDEPRECATION: pyodbc 4.0.0-unsupported has a non-standard version number. pip 24.1 will enforce this behaviour change. A possible replacement is to upgrade to a newer version of pyodbc or contact the author to suggest that they release a version with a conforming version number. Discussion can be found at https://github.com/pypa/pip/issues/12063\u001b[0m\u001b[33m\n",
      "\u001b[0m\u001b[33mWARNING: Running pip as the 'root' user can result in broken permissions and conflicting behaviour with the system package manager. It is recommended to use a virtual environment instead: https://pip.pypa.io/warnings/venv\u001b[0m\u001b[33m\n",
      "\u001b[0m"
     ]
    }
   ],
   "source": [
    "!pip install --disable-pip-version-check -q torchserve==0.3.0\n",
    "!pip install --disable-pip-version-check -q torch-model-archiver==0.3.0"
   ]
  },
  {
   "cell_type": "markdown",
   "id": "104d9eb6-27c2-4e3f-97db-470073a82d53",
   "metadata": {},
   "source": [
    "## PyAthena"
   ]
  },
  {
   "cell_type": "code",
   "execution_count": 13,
   "id": "9b96b812-e642-42a8-98a3-5907cdf6ff0b",
   "metadata": {},
   "outputs": [
    {
     "name": "stdout",
     "output_type": "stream",
     "text": [
      "\u001b[33mDEPRECATION: pyodbc 4.0.0-unsupported has a non-standard version number. pip 24.1 will enforce this behaviour change. A possible replacement is to upgrade to a newer version of pyodbc or contact the author to suggest that they release a version with a conforming version number. Discussion can be found at https://github.com/pypa/pip/issues/12063\u001b[0m\u001b[33m\n",
      "\u001b[0m\u001b[33mWARNING: Running pip as the 'root' user can result in broken permissions and conflicting behaviour with the system package manager. It is recommended to use a virtual environment instead: https://pip.pypa.io/warnings/venv\u001b[0m\u001b[33m\n",
      "\u001b[0m"
     ]
    }
   ],
   "source": [
    "!pip install --disable-pip-version-check -q PyAthena==2.1.0"
   ]
  },
  {
   "cell_type": "markdown",
   "id": "3fe5f520-806c-46f1-83ea-4f82fbe2a6e2",
   "metadata": {},
   "source": [
    "## Redshift"
   ]
  },
  {
   "cell_type": "code",
   "execution_count": 14,
   "id": "9812284f-3594-4af4-89d4-43b8e26fed69",
   "metadata": {},
   "outputs": [
    {
     "name": "stdout",
     "output_type": "stream",
     "text": [
      "\u001b[33mDEPRECATION: pyodbc 4.0.0-unsupported has a non-standard version number. pip 24.1 will enforce this behaviour change. A possible replacement is to upgrade to a newer version of pyodbc or contact the author to suggest that they release a version with a conforming version number. Discussion can be found at https://github.com/pypa/pip/issues/12063\u001b[0m\u001b[33m\n",
      "\u001b[0m\u001b[33mWARNING: Running pip as the 'root' user can result in broken permissions and conflicting behaviour with the system package manager. It is recommended to use a virtual environment instead: https://pip.pypa.io/warnings/venv\u001b[0m\u001b[33m\n",
      "\u001b[0m"
     ]
    }
   ],
   "source": [
    "!pip install --disable-pip-version-check -q SQLAlchemy==1.3.22"
   ]
  },
  {
   "cell_type": "markdown",
   "id": "c04eb482-7a3b-426e-9e35-de791cd45a93",
   "metadata": {},
   "source": [
    "## AWS Data Wrangler"
   ]
  },
  {
   "cell_type": "code",
   "execution_count": 15,
   "id": "8198b3ab-a989-4de9-bbc5-878b082cc644",
   "metadata": {},
   "outputs": [
    {
     "name": "stdout",
     "output_type": "stream",
     "text": [
      "\u001b[33mDEPRECATION: pyodbc 4.0.0-unsupported has a non-standard version number. pip 24.1 will enforce this behaviour change. A possible replacement is to upgrade to a newer version of pyodbc or contact the author to suggest that they release a version with a conforming version number. Discussion can be found at https://github.com/pypa/pip/issues/12063\u001b[0m\u001b[33m\n",
      "\u001b[0m\u001b[31mERROR: pip's dependency resolver does not currently take into account all the packages that are installed. This behaviour is the source of the following dependency conflicts.\n",
      "sagemaker-data-insights 0.3.3 requires numpy>=1.21.6, but you have numpy 1.18.5 which is incompatible.\n",
      "sagemaker-datawrangler 0.4.3 requires sagemaker-data-insights==0.4.0, but you have sagemaker-data-insights 0.3.3 which is incompatible.\u001b[0m\u001b[31m\n",
      "\u001b[0m\u001b[33mWARNING: Running pip as the 'root' user can result in broken permissions and conflicting behaviour with the system package manager. It is recommended to use a virtual environment instead: https://pip.pypa.io/warnings/venv\u001b[0m\u001b[33m\n",
      "\u001b[0m"
     ]
    }
   ],
   "source": [
    "!pip install --disable-pip-version-check -q awswrangler==2.3.0"
   ]
  },
  {
   "cell_type": "markdown",
   "id": "27899e79-f817-4e8d-bfd8-e14259f76e17",
   "metadata": {},
   "source": [
    "## StepFunctions"
   ]
  },
  {
   "cell_type": "code",
   "execution_count": 16,
   "id": "ab4ba5e8-9f6d-4793-a489-461e8a77ac5e",
   "metadata": {},
   "outputs": [
    {
     "name": "stdout",
     "output_type": "stream",
     "text": [
      "\u001b[33mDEPRECATION: pyodbc 4.0.0-unsupported has a non-standard version number. pip 24.1 will enforce this behaviour change. A possible replacement is to upgrade to a newer version of pyodbc or contact the author to suggest that they release a version with a conforming version number. Discussion can be found at https://github.com/pypa/pip/issues/12063\u001b[0m\u001b[33m\n",
      "\u001b[0m\u001b[33mWARNING: Running pip as the 'root' user can result in broken permissions and conflicting behaviour with the system package manager. It is recommended to use a virtual environment instead: https://pip.pypa.io/warnings/venv\u001b[0m\u001b[33m\n",
      "\u001b[0m"
     ]
    }
   ],
   "source": [
    "!pip install --disable-pip-version-check -q stepfunctions==2.0.0rc1"
   ]
  },
  {
   "cell_type": "markdown",
   "id": "e4678d48-b1bb-4b4c-8e99-6ae1087870ae",
   "metadata": {},
   "source": [
    "## Zip"
   ]
  },
  {
   "cell_type": "code",
   "execution_count": 17,
   "id": "977a1c4b-092d-41b4-bba0-87e02852c1cd",
   "metadata": {},
   "outputs": [
    {
     "name": "stdout",
     "output_type": "stream",
     "text": [
      "Collecting package metadata (current_repodata.json): done\n",
      "Solving environment: done\n",
      "\n",
      "## Package Plan ##\n",
      "\n",
      "  environment location: /opt/conda\n",
      "\n",
      "  added / updated specs:\n",
      "    - zip\n",
      "\n",
      "\n",
      "The following packages will be downloaded:\n",
      "\n",
      "    package                    |            build\n",
      "    ---------------------------|-----------------\n",
      "    zip-3.0                    |       h7f8727e_1         111 KB\n",
      "    ------------------------------------------------------------\n",
      "                                           Total:         111 KB\n",
      "\n",
      "The following NEW packages will be INSTALLED:\n",
      "\n",
      "  zip                pkgs/main/linux-64::zip-3.0-h7f8727e_1 None\n",
      "\n",
      "\n",
      "\n",
      "Downloading and Extracting Packages\n",
      "zip-3.0              | 111 KB    | ##################################### | 100% \n",
      "Preparing transaction: done\n",
      "Verifying transaction: done\n",
      "Executing transaction: done\n",
      "Retrieving notices: ...working... done\n"
     ]
    }
   ],
   "source": [
    "!conda install -y zip"
   ]
  },
  {
   "cell_type": "markdown",
   "id": "396c2228-cacd-42d4-97ff-a576c5ece77a",
   "metadata": {},
   "source": [
    "## Matplotlib"
   ]
  },
  {
   "cell_type": "code",
   "execution_count": 18,
   "id": "c5163719-36d0-4dcf-b1ca-293984ae128f",
   "metadata": {},
   "outputs": [
    {
     "name": "stdout",
     "output_type": "stream",
     "text": [
      "\u001b[33mDEPRECATION: pyodbc 4.0.0-unsupported has a non-standard version number. pip 24.1 will enforce this behaviour change. A possible replacement is to upgrade to a newer version of pyodbc or contact the author to suggest that they release a version with a conforming version number. Discussion can be found at https://github.com/pypa/pip/issues/12063\u001b[0m\u001b[33m\n",
      "\u001b[0m\u001b[33mWARNING: Running pip as the 'root' user can result in broken permissions and conflicting behaviour with the system package manager. It is recommended to use a virtual environment instead: https://pip.pypa.io/warnings/venv\u001b[0m\u001b[33m\n",
      "\u001b[0m"
     ]
    }
   ],
   "source": [
    "!pip install --disable-pip-version-check -q matplotlib==3.1.3"
   ]
  },
  {
   "cell_type": "markdown",
   "id": "dc22a864-eedd-4d57-a00d-21e9626c13d9",
   "metadata": {},
   "source": [
    "## Seaborn"
   ]
  },
  {
   "cell_type": "code",
   "execution_count": 19,
   "id": "01a74f68-9d18-45d2-b080-b740178647b8",
   "metadata": {},
   "outputs": [
    {
     "name": "stdout",
     "output_type": "stream",
     "text": [
      "\u001b[33mDEPRECATION: pyodbc 4.0.0-unsupported has a non-standard version number. pip 24.1 will enforce this behaviour change. A possible replacement is to upgrade to a newer version of pyodbc or contact the author to suggest that they release a version with a conforming version number. Discussion can be found at https://github.com/pypa/pip/issues/12063\u001b[0m\u001b[33m\n",
      "\u001b[0m\u001b[31mERROR: pip's dependency resolver does not currently take into account all the packages that are installed. This behaviour is the source of the following dependency conflicts.\n",
      "daal4py 2021.3.0 requires daal==2021.2.3, which is not installed.\n",
      "awswrangler 2.3.0 requires numpy<1.20.0,>=1.18.0, but you have numpy 1.24.4 which is incompatible.\n",
      "numba 0.54.1 requires numpy<1.21,>=1.17, but you have numpy 1.24.4 which is incompatible.\n",
      "sagemaker-datawrangler 0.4.3 requires sagemaker-data-insights==0.4.0, but you have sagemaker-data-insights 0.3.3 which is incompatible.\n",
      "tensorflow 2.3.1 requires numpy<1.19.0,>=1.16.0, but you have numpy 1.24.4 which is incompatible.\u001b[0m\u001b[31m\n",
      "\u001b[0m\u001b[33mWARNING: Running pip as the 'root' user can result in broken permissions and conflicting behaviour with the system package manager. It is recommended to use a virtual environment instead: https://pip.pypa.io/warnings/venv\u001b[0m\u001b[33m\n",
      "\u001b[0m"
     ]
    }
   ],
   "source": [
    "!pip install --disable-pip-version-check -q seaborn==0.10.0"
   ]
  },
  {
   "cell_type": "markdown",
   "id": "b2431a54-9661-4a53-ac10-47a26b381918",
   "metadata": {},
   "source": [
    "## Basemap"
   ]
  },
  {
   "cell_type": "code",
   "execution_count": 20,
   "id": "0716e590-1599-46b6-a328-85f8a3e736d5",
   "metadata": {},
   "outputs": [
    {
     "name": "stdout",
     "output_type": "stream",
     "text": [
      "\u001b[33mDEPRECATION: pyodbc 4.0.0-unsupported has a non-standard version number. pip 24.1 will enforce this behaviour change. A possible replacement is to upgrade to a newer version of pyodbc or contact the author to suggest that they release a version with a conforming version number. Discussion can be found at https://github.com/pypa/pip/issues/12063\u001b[0m\u001b[33m\n",
      "\u001b[0m\u001b[33mWARNING: Running pip as the 'root' user can result in broken permissions and conflicting behaviour with the system package manager. It is recommended to use a virtual environment instead: https://pip.pypa.io/warnings/venv\u001b[0m\u001b[33m\n",
      "\u001b[0m"
     ]
    }
   ],
   "source": [
    "!pip install --disable-pip-version-check -q basemap"
   ]
  },
  {
   "cell_type": "markdown",
   "id": "755e1858-f26e-4034-964e-82982b9a749d",
   "metadata": {},
   "source": [
    "## Geopy"
   ]
  },
  {
   "cell_type": "code",
   "execution_count": 21,
   "id": "d991e5cd-f892-4fbe-b990-2e31377dce2a",
   "metadata": {},
   "outputs": [
    {
     "name": "stdout",
     "output_type": "stream",
     "text": [
      "\u001b[33mDEPRECATION: pyodbc 4.0.0-unsupported has a non-standard version number. pip 24.1 will enforce this behaviour change. A possible replacement is to upgrade to a newer version of pyodbc or contact the author to suggest that they release a version with a conforming version number. Discussion can be found at https://github.com/pypa/pip/issues/12063\u001b[0m\u001b[33m\n",
      "\u001b[0m\u001b[33mWARNING: Running pip as the 'root' user can result in broken permissions and conflicting behaviour with the system package manager. It is recommended to use a virtual environment instead: https://pip.pypa.io/warnings/venv\u001b[0m\u001b[33m\n",
      "\u001b[0m"
     ]
    }
   ],
   "source": [
    "!pip install --disable-pip-version-check -q geopy"
   ]
  },
  {
   "cell_type": "markdown",
   "id": "a29e6512-7310-4e7d-bced-5dc33796e20f",
   "metadata": {},
   "source": [
    "## Summarize"
   ]
  },
  {
   "cell_type": "code",
   "execution_count": 22,
   "id": "ca64086d-a9b3-4466-a965-c29ce4f89fec",
   "metadata": {},
   "outputs": [
    {
     "name": "stdout",
     "output_type": "stream",
     "text": [
      "Collecting protobuf==3.20.*\n",
      "  Using cached protobuf-3.20.3-cp38-cp38-manylinux_2_5_x86_64.manylinux1_x86_64.whl.metadata (679 bytes)\n",
      "Using cached protobuf-3.20.3-cp38-cp38-manylinux_2_5_x86_64.manylinux1_x86_64.whl (1.0 MB)\n",
      "\u001b[33mDEPRECATION: pyodbc 4.0.0-unsupported has a non-standard version number. pip 24.1 will enforce this behaviour change. A possible replacement is to upgrade to a newer version of pyodbc or contact the author to suggest that they release a version with a conforming version number. Discussion can be found at https://github.com/pypa/pip/issues/12063\u001b[0m\u001b[33m\n",
      "\u001b[0mInstalling collected packages: protobuf\n",
      "  Attempting uninstall: protobuf\n",
      "    Found existing installation: protobuf 4.25.1\n",
      "    Uninstalling protobuf-4.25.1:\n",
      "      Successfully uninstalled protobuf-4.25.1\n",
      "\u001b[31mERROR: pip's dependency resolver does not currently take into account all the packages that are installed. This behaviour is the source of the following dependency conflicts.\n",
      "tensorflow 2.3.1 requires numpy<1.19.0,>=1.16.0, but you have numpy 1.24.4 which is incompatible.\u001b[0m\u001b[31m\n",
      "\u001b[0mSuccessfully installed protobuf-3.20.3\n",
      "\u001b[33mWARNING: Running pip as the 'root' user can result in broken permissions and conflicting behaviour with the system package manager. It is recommended to use a virtual environment instead: https://pip.pypa.io/warnings/venv\u001b[0m\u001b[33m\n",
      "\u001b[0mPython 3.8.13\n"
     ]
    }
   ],
   "source": [
    "!pip install protobuf==3.20.*\n",
    "!python --version"
   ]
  },
  {
   "cell_type": "code",
   "execution_count": 23,
   "id": "2b8a330c-896d-4930-816c-7564293f9e11",
   "metadata": {},
   "outputs": [
    {
     "name": "stdout",
     "output_type": "stream",
     "text": [
      "Package                              Version\n",
      "------------------------------------ --------------------\n",
      "absl-py                              2.1.0\n",
      "alabaster                            0.7.12\n",
      "anaconda-client                      1.9.0\n",
      "anaconda-project                     0.10.1\n",
      "anyio                                4.1.0\n",
      "appdirs                              1.4.4\n",
      "argh                                 0.26.2\n",
      "argon2-cffi                          20.1.0\n",
      "arrow                                1.3.0\n",
      "asn1crypto                           1.4.0\n",
      "astroid                              3.0.1\n",
      "astropy                              4.3.1\n",
      "asttokens                            2.4.1\n",
      "astunparse                           1.6.3\n",
      "async-generator                      1.10\n",
      "atomicwrites                         1.4.0\n",
      "attrs                                23.1.0\n",
      "autopep8                             1.5.7\n",
      "autovizwidget                        0.21.0\n",
      "awscli                               1.18.216\n",
      "awswrangler                          2.3.0\n",
      "Babel                                2.9.1\n",
      "backcall                             0.2.0\n",
      "backports.shutil-get-terminal-size   1.0.0\n",
      "basemap                              1.4.1\n",
      "basemap-data                         1.3.2\n",
      "beautifulsoup4                       4.10.0\n",
      "binaryornot                          0.4.4\n",
      "bitarray                             2.3.0\n",
      "bkcharts                             0.2\n",
      "black                                19.10b0\n",
      "bleach                               4.0.0\n",
      "blinker                              1.7.0\n",
      "bokeh                                3.1.1\n",
      "boto                                 2.49.0\n",
      "boto3                                1.16.56\n",
      "botocore                             1.19.56\n",
      "Bottleneck                           1.3.2\n",
      "brotlipy                             0.7.0\n",
      "cachetools                           5.3.3\n",
      "certifi                              2024.2.2\n",
      "cffi                                 1.14.6\n",
      "chardet                              4.0.0\n",
      "charset-normalizer                   2.0.4\n",
      "click                                8.1.7\n",
      "cloudpickle                          2.2.1\n",
      "clyent                               1.2.2\n",
      "colorama                             0.4.3\n",
      "comm                                 0.1.1\n",
      "conda                                22.9.0\n",
      "conda-content-trust                  0+unknown\n",
      "conda-pack                           0.6.0\n",
      "conda-package-handling               1.7.2\n",
      "conda-token                          0.3.0\n",
      "contextlib2                          0.6.0.post1\n",
      "contourpy                            1.1.1\n",
      "cookiecutter                         2.5.0\n",
      "cryptography                         41.0.7\n",
      "cycler                               0.10.0\n",
      "Cython                               0.29.24\n",
      "cytoolz                              0.11.0\n",
      "daal4py                              2021.3.0\n",
      "dask                                 2021.10.0\n",
      "debugpy                              1.4.1\n",
      "decorator                            5.1.0\n",
      "defusedxml                           0.7.1\n",
      "diff-match-patch                     20200713\n",
      "dill                                 0.3.7\n",
      "distributed                          2021.10.0\n",
      "docker                               6.1.3\n",
      "docutils                             0.15.2\n",
      "dparse                               0.6.3\n",
      "entrypoints                          0.3\n",
      "enum-compat                          0.0.3\n",
      "et-xmlfile                           1.1.0\n",
      "exceptiongroup                       1.2.0\n",
      "executing                            2.0.1\n",
      "fastapi                              0.95.2\n",
      "fastcache                            1.1.0\n",
      "fastjsonschema                       2.19.0\n",
      "filelock                             3.3.1\n",
      "flake8                               3.9.2\n",
      "Flask                                3.0.0\n",
      "fonttools                            4.25.0\n",
      "fqdn                                 1.5.1\n",
      "fsspec                               2021.8.1\n",
      "future                               0.18.3\n",
      "gast                                 0.3.3\n",
      "geographiclib                        2.0\n",
      "geopy                                2.4.1\n",
      "gevent                               21.8.0\n",
      "glob2                                0.7\n",
      "gmpy2                                2.0.8\n",
      "google-auth                          2.29.0\n",
      "google-auth-oauthlib                 1.0.0\n",
      "google-pasta                         0.2.0\n",
      "greenlet                             1.1.1\n",
      "grpcio                               1.62.1\n",
      "gssapi                               1.8.3\n",
      "h11                                  0.14.0\n",
      "h5py                                 2.10.0\n",
      "hdijupyterutils                      0.21.0\n",
      "HeapDict                             1.0.1\n",
      "html5lib                             1.1\n",
      "idna                                 3.2\n",
      "imagecodecs                          2021.8.26\n",
      "imageio                              2.9.0\n",
      "imagesize                            1.2.0\n",
      "importlib-metadata                   4.8.1\n",
      "importlib-resources                  6.1.1\n",
      "inflection                           0.5.1\n",
      "iniconfig                            1.1.1\n",
      "intervaltree                         3.1.0\n",
      "ipykernel                            6.20.2\n",
      "ipython                              8.12.3\n",
      "ipython-genutils                     0.2.0\n",
      "ipywidgets                           7.6.5\n",
      "isoduration                          20.11.0\n",
      "isort                                5.9.3\n",
      "itsdangerous                         2.1.2\n",
      "jdcal                                1.4.1\n",
      "jedi                                 0.18.0\n",
      "jeepney                              0.7.1\n",
      "Jinja2                               3.1.2\n",
      "jinja2-time                          0.2.0\n",
      "jmespath                             0.10.0\n",
      "joblib                               1.3.2\n",
      "json5                                0.9.6\n",
      "jsonpointer                          2.4\n",
      "jsonschema                           4.20.0\n",
      "jsonschema-specifications            2023.11.2\n",
      "jupyter                              1.0.0\n",
      "jupyter_client                       7.4.9\n",
      "jupyter-console                      6.4.0\n",
      "jupyter_core                         5.5.0\n",
      "jupyter-events                       0.9.0\n",
      "jupyter_server                       2.12.1\n",
      "jupyter_server_terminals             0.4.4\n",
      "jupyterlab                           3.2.1\n",
      "jupyterlab-pygments                  0.1.2\n",
      "jupyterlab-server                    2.8.2\n",
      "jupyterlab-widgets                   1.0.0\n",
      "Keras-Preprocessing                  1.1.2\n",
      "keyring                              23.1.0\n",
      "kiwisolver                           1.3.1\n",
      "krb5                                 0.5.1\n",
      "lazy-object-proxy                    1.6.0\n",
      "libarchive-c                         2.9\n",
      "llvmlite                             0.37.0\n",
      "locket                               0.2.1\n",
      "lxml                                 4.9.3\n",
      "Markdown                             3.6\n",
      "markdown-it-py                       3.0.0\n",
      "MarkupSafe                           2.1.3\n",
      "matplotlib                           3.1.3\n",
      "matplotlib-inline                    0.1.2\n",
      "mccabe                               0.6.1\n",
      "mdurl                                0.1.2\n",
      "mistune                              3.0.2\n",
      "mkl-fft                              1.3.1\n",
      "mkl-random                           1.2.2\n",
      "mkl-service                          2.4.0\n",
      "mock                                 4.0.3\n",
      "more-itertools                       8.10.0\n",
      "mpmath                               1.3.0\n",
      "msgpack                              1.0.2\n",
      "multipledispatch                     0.6.0\n",
      "multiprocess                         0.70.15\n",
      "munkres                              1.1.4\n",
      "mypy-extensions                      0.4.3\n",
      "nbclassic                            1.0.0\n",
      "nbclient                             0.5.3\n",
      "nbconvert                            7.12.0\n",
      "nbformat                             5.9.2\n",
      "nest-asyncio                         1.5.8\n",
      "networkx                             2.6.3\n",
      "nltk                                 3.8.1\n",
      "nose                                 1.3.7\n",
      "notebook                             6.5.6\n",
      "notebook_shim                        0.2.3\n",
      "numba                                0.54.1\n",
      "numexpr                              2.7.3\n",
      "numpy                                1.24.4\n",
      "numpydoc                             1.1.0\n",
      "oauthlib                             3.2.2\n",
      "olefile                              0.46\n",
      "openpyxl                             3.0.9\n",
      "opt-einsum                           3.3.0\n",
      "overrides                            7.4.0\n",
      "packaging                            21.0\n",
      "pandas                               1.2.0\n",
      "pandocfilters                        1.4.3\n",
      "papermill                            2.5.0\n",
      "parso                                0.8.2\n",
      "partd                                1.2.0\n",
      "path                                 16.0.0\n",
      "pathlib2                             2.3.6\n",
      "pathos                               0.3.1\n",
      "pathspec                             0.7.0\n",
      "patsy                                0.5.2\n",
      "pep8                                 1.7.1\n",
      "pexpect                              4.8.0\n",
      "pg8000                               1.16.6\n",
      "pickleshare                          0.7.5\n",
      "Pillow                               10.1.0\n",
      "pip                                  24.0\n",
      "pkginfo                              1.7.1\n",
      "pkgutil_resolve_name                 1.3.10\n",
      "platformdirs                         4.1.0\n",
      "plotly                               5.18.0\n",
      "pluggy                               0.13.1\n",
      "ply                                  3.11\n",
      "pox                                  0.3.3\n",
      "poyo                                 0.5.0\n",
      "ppft                                 1.7.6.7\n",
      "prometheus-client                    0.11.0\n",
      "prompt-toolkit                       3.0.41\n",
      "protobuf                             3.20.3\n",
      "protobuf3-to-dict                    0.1.5\n",
      "psutil                               5.8.0\n",
      "ptyprocess                           0.7.0\n",
      "pure-eval                            0.2.2\n",
      "pure-sasl                            0.6.2\n",
      "pyarrow                              2.0.0\n",
      "pyasn1                               0.5.1\n",
      "pyasn1_modules                       0.4.0\n",
      "pyathena                             2.1.0\n",
      "pycodestyle                          2.7.0\n",
      "pycosat                              0.6.3\n",
      "pycparser                            2.20\n",
      "pycurl                               7.44.1\n",
      "pydantic                             1.10.13\n",
      "pydocstyle                           6.1.1\n",
      "pyerfa                               2.0.0\n",
      "pyflakes                             2.3.1\n",
      "pyfunctional                         1.4.3\n",
      "Pygments                             2.17.2\n",
      "PyHive                               0.7.0\n",
      "pyinstrument                         4.6.2\n",
      "pykerberos                           1.2.1\n",
      "pylint                               3.0.2\n",
      "pyls-spyder                          0.4.0\n",
      "PyMySQL                              1.0.3\n",
      "pyodbc                               4.0.0-unsupported\n",
      "pyOpenSSL                            23.3.0\n",
      "pyparsing                            3.0.4\n",
      "pyproj                               3.5.0\n",
      "pyrsistent                           0.18.0\n",
      "pyshp                                2.3.1\n",
      "PySocks                              1.7.1\n",
      "pyspnego                             0.10.2\n",
      "pytest                               7.4.3\n",
      "python-dateutil                      2.8.2\n",
      "python-json-logger                   2.0.7\n",
      "python-lsp-black                     1.0.0\n",
      "python-lsp-jsonrpc                   1.0.0\n",
      "python-lsp-server                    1.2.4\n",
      "python-slugify                       5.0.2\n",
      "pytz                                 2021.3\n",
      "PyWavelets                           1.1.1\n",
      "pyxdg                                0.27\n",
      "PyYAML                               5.3.1\n",
      "pyzmq                                24.0.1\n",
      "QDarkStyle                           3.0.2\n",
      "qstylizer                            0.1.10\n",
      "QtAwesome                            1.0.2\n",
      "qtconsole                            5.1.1\n",
      "QtPy                                 1.10.0\n",
      "redshift-connector                   2.0.918\n",
      "referencing                          0.31.1\n",
      "regex                                2021.8.3\n",
      "requests                             2.31.0\n",
      "requests-kerberos                    0.14.0\n",
      "requests-oauthlib                    2.0.0\n",
      "rfc3339-validator                    0.1.4\n",
      "rfc3986-validator                    0.1.1\n",
      "rich                                 13.7.0\n",
      "rope                                 0.19.0\n",
      "rpds-py                              0.13.2\n",
      "rsa                                  4.5\n",
      "Rtree                                0.9.7\n",
      "ruamel.yaml                          0.18.5\n",
      "ruamel.yaml.clib                     0.2.8\n",
      "ruamel-yaml-conda                    0.15.100\n",
      "s3fs                                 0.4.2\n",
      "s3transfer                           0.3.7\n",
      "sacremoses                           0.1.1\n",
      "sagemaker                            2.29.0\n",
      "sagemaker-data-insights              0.3.3\n",
      "sagemaker-datawrangler               0.4.3\n",
      "sagemaker-experiments                0.1.26\n",
      "sagemaker-headless-execution-driver  0.0.12\n",
      "sagemaker-scikit-learn-extension     2.5.0\n",
      "sagemaker-studio-analytics-extension 0.0.21\n",
      "sagemaker-studio-sparkmagic-lib      0.1.4\n",
      "sasl                                 0.3.1\n",
      "schema                               0.7.5\n",
      "scikit-image                         0.18.3\n",
      "scikit-learn                         1.3.2\n",
      "scikit-learn-intelex                 2021.20210714.170431\n",
      "scipy                                1.10.1\n",
      "scramp                               1.2.0\n",
      "seaborn                              0.10.0\n",
      "SecretStorage                        3.3.1\n",
      "Send2Trash                           1.8.2\n",
      "sentencepiece                        0.1.91\n",
      "setuptools                           69.0.2\n",
      "simplegeneric                        0.8.1\n",
      "singledispatch                       3.7.0\n",
      "sip                                  4.19.13\n",
      "six                                  1.16.0\n",
      "smclarify                            0.5\n",
      "smdebug                              1.0.1\n",
      "smdebug-rulesconfig                  1.0.1\n",
      "sniffio                              1.2.0\n",
      "snowballstemmer                      2.1.0\n",
      "sortedcollections                    2.1.0\n",
      "sortedcontainers                     2.4.0\n",
      "soupsieve                            2.2.1\n",
      "sparkmagic                           0.21.0\n",
      "Sphinx                               4.2.0\n",
      "sphinxcontrib-applehelp              1.0.2\n",
      "sphinxcontrib-devhelp                1.0.2\n",
      "sphinxcontrib-htmlhelp               2.0.0\n",
      "sphinxcontrib-jsmath                 1.0.1\n",
      "sphinxcontrib-qthelp                 1.0.3\n",
      "sphinxcontrib-serializinghtml        1.1.5\n",
      "sphinxcontrib-websupport             1.2.4\n",
      "spyder                               5.1.5\n",
      "spyder-kernels                       2.1.3\n",
      "SQLAlchemy                           1.3.22\n",
      "stack-data                           0.6.3\n",
      "starlette                            0.27.0\n",
      "statsmodels                          0.12.2\n",
      "stepfunctions                        2.0.0rc1\n",
      "sympy                                1.9\n",
      "tables                               3.6.1\n",
      "tabulate                             0.9.0\n",
      "TBB                                  0.2\n",
      "tblib                                1.7.0\n",
      "tenacity                             8.2.3\n",
      "tensorboard                          2.14.0\n",
      "tensorboard-data-server              0.7.2\n",
      "tensorflow                           2.3.1\n",
      "tensorflow-estimator                 2.3.0\n",
      "termcolor                            2.4.0\n",
      "terminado                            0.9.4\n",
      "testpath                             0.5.0\n",
      "text-unidecode                       1.3\n",
      "textdistance                         4.2.1\n",
      "threadpoolctl                        2.2.0\n",
      "three-merge                          0.1.1\n",
      "thrift                               0.13.0\n",
      "thrift-sasl                          0.4.3\n",
      "tifffile                             2021.7.2\n",
      "tinycss                              0.4\n",
      "tinycss2                             1.2.1\n",
      "tokenizers                           0.9.3\n",
      "toml                                 0.10.2\n",
      "tomli                                2.0.1\n",
      "tomlkit                              0.12.3\n",
      "toolz                                0.11.1\n",
      "torch                                1.6.0\n",
      "torch-model-archiver                 0.3.0\n",
      "torchserve                           0.3.0\n",
      "tornado                              6.4\n",
      "tqdm                                 4.62.3\n",
      "traitlets                            5.14.0\n",
      "transformers                         3.5.1\n",
      "typed-ast                            1.4.3\n",
      "types-python-dateutil                2.8.19.14\n",
      "typing_extensions                    4.8.0\n",
      "ujson                                5.8.0\n",
      "unicodecsv                           0.14.1\n",
      "Unidecode                            1.2.0\n",
      "uri-template                         1.3.0\n",
      "urllib3                              1.26.18\n",
      "uvicorn                              0.22.0\n",
      "watchdog                             2.1.3\n",
      "wcwidth                              0.2.5\n",
      "webcolors                            1.13\n",
      "webencodings                         0.5.1\n",
      "websocket-client                     1.7.0\n",
      "Werkzeug                             2.3.8\n",
      "wheel                                0.42.0\n",
      "whichcraft                           0.6.1\n",
      "widgetsnbextension                   3.5.1\n",
      "wrapt                                1.16.0\n",
      "wurlitzer                            2.1.1\n",
      "xlrd                                 2.0.1\n",
      "XlsxWriter                           3.0.1\n",
      "xlwt                                 1.3.0\n",
      "xyzservices                          2023.10.1\n",
      "yapf                                 0.31.0\n",
      "zict                                 2.0.0\n",
      "zipp                                 3.6.0\n",
      "zope.event                           4.5.0\n",
      "zope.interface                       5.4.0\n"
     ]
    }
   ],
   "source": [
    "!pip list"
   ]
  },
  {
   "cell_type": "code",
   "execution_count": 24,
   "id": "39730e47-36ed-4e0c-aa2c-86fa4fa98bef",
   "metadata": {},
   "outputs": [],
   "source": [
    "setup_dependencies_passed = True"
   ]
  },
  {
   "cell_type": "code",
   "execution_count": 25,
   "id": "ce7d5385-70a7-45cd-9c0b-881ed6d32d15",
   "metadata": {},
   "outputs": [
    {
     "name": "stdout",
     "output_type": "stream",
     "text": [
      "Stored 'setup_dependencies_passed' (bool)\n"
     ]
    }
   ],
   "source": [
    "%store setup_dependencies_passed"
   ]
  },
  {
   "cell_type": "code",
   "execution_count": 26,
   "id": "d6de326c-d8b4-4177-8e8f-59c1df80c9b6",
   "metadata": {},
   "outputs": [
    {
     "name": "stdout",
     "output_type": "stream",
     "text": [
      "Stored variables and their in-db values:\n",
      "setup_dependencies_passed               -> True\n",
      "setup_iam_roles_passed                  -> True\n",
      "setup_instance_check_passed             -> True\n",
      "setup_s3_bucket_passed                  -> True\n"
     ]
    }
   ],
   "source": [
    "%store"
   ]
  },
  {
   "cell_type": "markdown",
   "id": "b6297fde-95a4-475d-87ed-cbbced5dc7da",
   "metadata": {},
   "source": [
    "# Check Environment was Created Correctly"
   ]
  },
  {
   "cell_type": "markdown",
   "id": "e47da26f-f615-4d35-b0ec-6b2ea97760e9",
   "metadata": {},
   "source": [
    "Note: This workshop requires SageMaker Studio and will not work properly in classic SageMaker Notebooks."
   ]
  },
  {
   "cell_type": "code",
   "execution_count": 27,
   "id": "f844da68-8dc1-46a4-a8a1-44b9cb1d9dcd",
   "metadata": {},
   "outputs": [],
   "source": [
    "import boto3\n",
    "\n",
    "region = boto3.Session().region_name\n",
    "session = boto3.session.Session()\n",
    "\n",
    "ec2 = boto3.Session().client(service_name=\"ec2\", region_name=region)\n",
    "sm = boto3.Session().client(service_name=\"sagemaker\", region_name=region)"
   ]
  },
  {
   "cell_type": "code",
   "execution_count": 28,
   "id": "6eb74234-5ac4-48b6-a94d-7aece35289b4",
   "metadata": {},
   "outputs": [
    {
     "name": "stdout",
     "output_type": "stream",
     "text": [
      "DomainId: d-selne6tu5ffe\n",
      "Name: sagemaker-data-scienc-ml-t3-medium-5812005f1de07e20cb211bb2dcf1\n"
     ]
    }
   ],
   "source": [
    "import json\n",
    "\n",
    "notebook_instance_name = None\n",
    "\n",
    "try:\n",
    "    with open(\"/opt/ml/metadata/resource-metadata.json\") as notebook_info:\n",
    "        data = json.load(notebook_info)\n",
    "        domain_id = data[\"DomainId\"]\n",
    "        resource_arn = data[\"ResourceArn\"]\n",
    "        region = resource_arn.split(\":\")[3]\n",
    "        name = data[\"ResourceName\"]\n",
    "    print(\"DomainId: {}\".format(domain_id))\n",
    "    print(\"Name: {}\".format(name))\n",
    "except:\n",
    "    print(\"+++++++++++++++++++++++++++++++++++++++++\")\n",
    "    print(\"[ERROR]: COULD NOT RETRIEVE THE METADATA.\")\n",
    "    print(\"+++++++++++++++++++++++++++++++++++++++++\")"
   ]
  },
  {
   "cell_type": "code",
   "execution_count": 29,
   "id": "bc1e7ce2-56dc-483d-a839-f5df5461d062",
   "metadata": {},
   "outputs": [
    {
     "name": "stdout",
     "output_type": "stream",
     "text": [
      "InService\n"
     ]
    }
   ],
   "source": [
    "describe_domain_response = sm.describe_domain(DomainId=domain_id)\n",
    "print(describe_domain_response[\"Status\"])"
   ]
  },
  {
   "cell_type": "code",
   "execution_count": 30,
   "id": "b5cc852f-4c9a-4a58-b14c-a323c4a8e801",
   "metadata": {},
   "outputs": [
    {
     "name": "stdout",
     "output_type": "stream",
     "text": [
      "Enabled\n"
     ]
    }
   ],
   "source": [
    "try:\n",
    "    get_status_response = sm.get_sagemaker_servicecatalog_portfolio_status()\n",
    "    print(get_status_response[\"Status\"])\n",
    "except:\n",
    "    pass"
   ]
  },
  {
   "cell_type": "markdown",
   "id": "e008317d-334d-4ff5-af0d-723cdbb3aefb",
   "metadata": {
    "tags": []
   },
   "source": [
    "## Summary: Check All Required Settings Are Set Correctly"
   ]
  },
  {
   "cell_type": "code",
   "execution_count": 31,
   "id": "bec83e57-33e1-46c3-ba6f-3b448a7b512a",
   "metadata": {},
   "outputs": [
    {
     "name": "stdout",
     "output_type": "stream",
     "text": [
      "[OK] Checks passed!  Great Job!!  Please Continue.\n"
     ]
    }
   ],
   "source": [
    "if (\n",
    "    describe_domain_response[\"Status\"] == \"InService\"\n",
    "    and get_status_response[\"Status\"] == \"Enabled\"\n",
    "    and \"data\" in name\n",
    "):\n",
    "    setup_instance_check_passed = True\n",
    "    print(\"[OK] Checks passed!  Great Job!!  Please Continue.\")\n",
    "else:\n",
    "    setup_instance_check_passed = False\n",
    "    print(\"+++++++++++++++++++++++++++++++++++++++++++++++\")\n",
    "    print(\"[ERROR]: WE HAVE IDENTIFIED A MISCONFIGURATION.\")\n",
    "    print(describe_domain_response[\"Status\"])\n",
    "    print(get_status_response[\"Status\"])\n",
    "    print(name)\n",
    "    print(\"+++++++++++++++++++++++++++++++++++++++++++++++\")"
   ]
  },
  {
   "cell_type": "markdown",
   "id": "72188b98-d27a-4531-bab0-bc249bba5731",
   "metadata": {},
   "source": [
    "If you see errors ^^ above ^^, make sure you have enabled \"Projects\" in SageMaker Studio and RE-RUN THIS NOTEBOOK."
   ]
  },
  {
   "cell_type": "code",
   "execution_count": 32,
   "id": "2639df80-b6bd-4a1e-9cf9-0e6915088acc",
   "metadata": {},
   "outputs": [
    {
     "name": "stdout",
     "output_type": "stream",
     "text": [
      "True\n"
     ]
    }
   ],
   "source": [
    "print(setup_instance_check_passed)"
   ]
  },
  {
   "cell_type": "code",
   "execution_count": 33,
   "id": "9b73848f-62ca-40af-b893-b0d5d3faee81",
   "metadata": {},
   "outputs": [
    {
     "name": "stdout",
     "output_type": "stream",
     "text": [
      "Stored 'setup_instance_check_passed' (bool)\n"
     ]
    }
   ],
   "source": [
    "%store setup_instance_check_passed"
   ]
  },
  {
   "cell_type": "code",
   "execution_count": 34,
   "id": "35bc6712-9773-4c34-84e8-338594b9a1cc",
   "metadata": {},
   "outputs": [
    {
     "name": "stdout",
     "output_type": "stream",
     "text": [
      "Stored variables and their in-db values:\n",
      "setup_dependencies_passed               -> True\n",
      "setup_iam_roles_passed                  -> True\n",
      "setup_instance_check_passed             -> True\n",
      "setup_s3_bucket_passed                  -> True\n"
     ]
    }
   ],
   "source": [
    "%store"
   ]
  },
  {
   "cell_type": "markdown",
   "id": "9a38da67-4b86-4d20-8b52-806ae67f6102",
   "metadata": {},
   "source": [
    "# Create S3 Bucket"
   ]
  },
  {
   "cell_type": "code",
   "execution_count": 35,
   "id": "0a458817-d02c-480d-9487-331c1e173870",
   "metadata": {},
   "outputs": [],
   "source": [
    "import boto3\n",
    "import sagemaker\n",
    "\n",
    "session = boto3.session.Session()\n",
    "region = session.region_name\n",
    "sagemaker_session = sagemaker.Session()\n",
    "bucket = sagemaker_session.default_bucket()\n",
    "\n",
    "s3 = boto3.Session().client(service_name=\"s3\", region_name=region)"
   ]
  },
  {
   "cell_type": "code",
   "execution_count": 36,
   "id": "ec199285-e6ae-445c-88c5-a53eb192e615",
   "metadata": {},
   "outputs": [],
   "source": [
    "setup_s3_bucket_passed = False"
   ]
  },
  {
   "cell_type": "code",
   "execution_count": 37,
   "id": "1c3372db-dfac-427c-80d4-7f893923c54e",
   "metadata": {},
   "outputs": [
    {
     "name": "stdout",
     "output_type": "stream",
     "text": [
      "Default bucket: sagemaker-us-east-1-533267092316\n"
     ]
    }
   ],
   "source": [
    "print(\"Default bucket: {}\".format(bucket))"
   ]
  },
  {
   "cell_type": "markdown",
   "id": "b856e4c4-ffe0-4a1b-9930-caf82060c371",
   "metadata": {},
   "source": [
    "## Verify S3_BUCKET Bucket Creation"
   ]
  },
  {
   "cell_type": "code",
   "execution_count": 38,
   "id": "47e87903-eb11-444b-8839-174b52b70049",
   "metadata": {},
   "outputs": [
    {
     "name": "stdout",
     "output_type": "stream",
     "text": [
      "2024-03-14 20:58:17 aws-athena-query-results-533267092316-us-east-1\n",
      "2024-03-03 05:33:23 sagemaker-studio-533267092316-dyovt3yk3yt\n",
      "2024-03-04 03:08:16 sagemaker-studio-533267092316-i40frmjv5go\n",
      "2024-03-03 05:33:25 sagemaker-us-east-1-533267092316\n",
      "2024-03-16 00:59:57 team6datasets\n"
     ]
    }
   ],
   "source": [
    "%%bash\n",
    "\n",
    "aws s3 ls s3://${bucket}/"
   ]
  },
  {
   "cell_type": "code",
   "execution_count": 39,
   "id": "180a0ab7-f136-42f9-b1a9-de7d223e46e7",
   "metadata": {},
   "outputs": [
    {
     "name": "stdout",
     "output_type": "stream",
     "text": [
      "{'ResponseMetadata': {'RequestId': '35PGP6FSSSXXGD94', 'HostId': 'J1KJI9ZPo33Z0iH29uuJMsZUnAtDquD7CEe8zPYG/KryMsoc7p84KvBBj4lhOLyjPsJ7w4zp5P8=', 'HTTPStatusCode': 200, 'HTTPHeaders': {'x-amz-id-2': 'J1KJI9ZPo33Z0iH29uuJMsZUnAtDquD7CEe8zPYG/KryMsoc7p84KvBBj4lhOLyjPsJ7w4zp5P8=', 'x-amz-request-id': '35PGP6FSSSXXGD94', 'date': 'Tue, 02 Apr 2024 02:55:13 GMT', 'x-amz-bucket-region': 'us-east-1', 'x-amz-access-point-alias': 'false', 'content-type': 'application/xml', 'server': 'AmazonS3'}, 'RetryAttempts': 0}}\n"
     ]
    }
   ],
   "source": [
    "from botocore.client import ClientError\n",
    "\n",
    "response = None\n",
    "\n",
    "try:\n",
    "    response = s3.head_bucket(Bucket=bucket)\n",
    "    print(response)\n",
    "    setup_s3_bucket_passed = True\n",
    "except ClientError as e:\n",
    "    print(\"[ERROR] Cannot find bucket {} in {} due to {}.\".format(bucket, response, e))"
   ]
  },
  {
   "cell_type": "markdown",
   "id": "d1b7e541-011a-4c98-a0b1-3ded6c4e7bd4",
   "metadata": {},
   "source": [
    "## Upload Data with S3"
   ]
  },
  {
   "cell_type": "code",
   "execution_count": 40,
   "id": "4656cefe-6f3f-4447-96f9-e7e91fd8e815",
   "metadata": {},
   "outputs": [
    {
     "name": "stdout",
     "output_type": "stream",
     "text": [
      "Bucket team6datasets found.\n"
     ]
    }
   ],
   "source": [
    "import boto3\n",
    "import sagemaker\n",
    "\n",
    "# Replace 'your-bucket-name' with your actual S3 bucket name\n",
    "bucket_name = 'team6datasets'\n",
    "\n",
    "s3 = boto3.Session().client(service_name=\"s3\")\n",
    "\n",
    "setup_s3_bucket_passed = False\n",
    "\n",
    "try:\n",
    "    # Verify if the bucket exists\n",
    "    response = s3.head_bucket(Bucket=bucket_name)\n",
    "    print(\"Bucket {} found.\".format(bucket_name))\n",
    "    setup_s3_bucket_passed = True\n",
    "except ClientError as e:\n",
    "    print(\"[ERROR] Cannot find bucket {} due to {}.\".format(bucket_name, e))"
   ]
  },
  {
   "cell_type": "code",
   "execution_count": 41,
   "id": "3ba229d0-f6a5-4b36-8141-5aaa12ab0684",
   "metadata": {},
   "outputs": [
    {
     "name": "stdout",
     "output_type": "stream",
     "text": [
      "Stored 'setup_s3_bucket_passed' (bool)\n"
     ]
    }
   ],
   "source": [
    "%store setup_s3_bucket_passed"
   ]
  },
  {
   "cell_type": "code",
   "execution_count": 42,
   "id": "ade652b1-8341-4b7b-ae44-3a4dcbffe016",
   "metadata": {},
   "outputs": [
    {
     "name": "stdout",
     "output_type": "stream",
     "text": [
      "Stored variables and their in-db values:\n",
      "setup_dependencies_passed               -> True\n",
      "setup_iam_roles_passed                  -> True\n",
      "setup_instance_check_passed             -> True\n",
      "setup_s3_bucket_passed                  -> True\n"
     ]
    }
   ],
   "source": [
    "%store"
   ]
  },
  {
   "cell_type": "markdown",
   "id": "83a9448f-527f-4e46-b291-22414b293226",
   "metadata": {},
   "source": [
    "# Update IAM Roles and Policies"
   ]
  },
  {
   "cell_type": "code",
   "execution_count": 43,
   "id": "f9668024-d008-4a19-813b-6158274d3396",
   "metadata": {},
   "outputs": [],
   "source": [
    "import boto3\n",
    "import sagemaker\n",
    "import time\n",
    "from time import gmtime, strftime\n",
    "\n",
    "sagemaker_session = sagemaker.Session()\n",
    "role = sagemaker.get_execution_role()\n",
    "bucket = sagemaker_session.default_bucket()\n",
    "region = boto3.Session().region_name\n",
    "\n",
    "from botocore.config import Config\n",
    "\n",
    "config = Config(retries={\"max_attempts\": 10, \"mode\": \"adaptive\"})\n",
    "\n",
    "iam = boto3.client(\"iam\", config=config)"
   ]
  },
  {
   "cell_type": "markdown",
   "id": "fd8ed96d-a5d1-4351-ae16-3214f76a69a0",
   "metadata": {},
   "source": [
    "## Get SageMaker Execution Role Name"
   ]
  },
  {
   "cell_type": "code",
   "execution_count": 44,
   "id": "0e1a0731-8f2f-4ee1-8930-2967ca9859d4",
   "metadata": {},
   "outputs": [
    {
     "name": "stdout",
     "output_type": "stream",
     "text": [
      "Role name: LabRole\n"
     ]
    }
   ],
   "source": [
    "role_name = role.split(\"/\")[-1]\n",
    "\n",
    "print(\"Role name: {}\".format(role_name))"
   ]
  },
  {
   "cell_type": "code",
   "execution_count": 45,
   "id": "906ce355-fe29-41d5-9484-9d64d32eba00",
   "metadata": {},
   "outputs": [],
   "source": [
    "setup_iam_roles_passed = False"
   ]
  },
  {
   "cell_type": "markdown",
   "id": "a01d5bcd-d24b-4e7d-8ee0-1fd81152ae71",
   "metadata": {},
   "source": [
    "## Pre-Requisite: SageMaker notebook instance ExecutionRole contains IAMFullAccess Policy."
   ]
  },
  {
   "cell_type": "code",
   "execution_count": 46,
   "id": "113f9060-9a96-47b3-9abc-48b0c16c205b",
   "metadata": {},
   "outputs": [
    {
     "name": "stdout",
     "output_type": "stream",
     "text": [
      "[OK] You are all set up to continue with this workshop!\n"
     ]
    }
   ],
   "source": [
    "admin = False\n",
    "post_policies = iam.list_attached_role_policies(RoleName=role_name)[\"AttachedPolicies\"]\n",
    "for post_policy in post_policies:\n",
    "    if post_policy[\"PolicyName\"] == \"AdministratorAccess\":\n",
    "        admin = True\n",
    "        break\n",
    "\n",
    "setup_iam_roles_passed = True\n",
    "print(\"[OK] You are all set up to continue with this workshop!\")"
   ]
  },
  {
   "cell_type": "code",
   "execution_count": 47,
   "id": "0c8c39d3-83f8-434a-9bd0-0f86264488ef",
   "metadata": {},
   "outputs": [
    {
     "name": "stdout",
     "output_type": "stream",
     "text": [
      "Stored 'setup_iam_roles_passed' (bool)\n"
     ]
    }
   ],
   "source": [
    "%store setup_iam_roles_passed"
   ]
  },
  {
   "cell_type": "code",
   "execution_count": 48,
   "id": "80787a13-9270-4e94-948f-2ce40bfd20a1",
   "metadata": {},
   "outputs": [
    {
     "name": "stdout",
     "output_type": "stream",
     "text": [
      "Stored variables and their in-db values:\n",
      "setup_dependencies_passed               -> True\n",
      "setup_iam_roles_passed                  -> True\n",
      "setup_instance_check_passed             -> True\n",
      "setup_s3_bucket_passed                  -> True\n"
     ]
    }
   ],
   "source": [
    "%store"
   ]
  },
  {
   "cell_type": "markdown",
   "id": "e8ff112c-f1cb-4c76-b176-7bcd983da85f",
   "metadata": {},
   "source": [
    "# Release Resources"
   ]
  },
  {
   "cell_type": "code",
   "execution_count": 49,
   "id": "ecac3081-acc7-448b-a703-597d4249ccad",
   "metadata": {},
   "outputs": [
    {
     "data": {
      "text/html": [
       "\n",
       "<p><b>Shutting down your kernel for this notebook to release resources.</b></p>\n",
       "<button class=\"sm-command-button\" data-commandlinker-command=\"kernelmenu:shutdown\" style=\"display:none;\">Shutdown Kernel</button>\n",
       "        \n",
       "<script>\n",
       "try {\n",
       "    els = document.getElementsByClassName(\"sm-command-button\");\n",
       "    els[0].click();\n",
       "}\n",
       "catch(err) {\n",
       "    // NoOp\n",
       "}    \n",
       "</script>\n"
      ],
      "text/plain": [
       "<IPython.core.display.HTML object>"
      ]
     },
     "metadata": {},
     "output_type": "display_data"
    }
   ],
   "source": [
    "%%html\n",
    "\n",
    "<p><b>Shutting down your kernel for this notebook to release resources.</b></p>\n",
    "<button class=\"sm-command-button\" data-commandlinker-command=\"kernelmenu:shutdown\" style=\"display:none;\">Shutdown Kernel</button>\n",
    "        \n",
    "<script>\n",
    "try {\n",
    "    els = document.getElementsByClassName(\"sm-command-button\");\n",
    "    els[0].click();\n",
    "}\n",
    "catch(err) {\n",
    "    // NoOp\n",
    "}    \n",
    "</script>"
   ]
  },
  {
   "cell_type": "markdown",
   "id": "0b99c20e-669d-4358-b6fd-a12e7f0510b6",
   "metadata": {},
   "source": [
    "Shutting down your kernel for this notebook to release resources."
   ]
  },
  {
   "cell_type": "code",
   "execution_count": 50,
   "id": "bee1be81-3f19-4beb-a95a-43d25c44ef86",
   "metadata": {
    "tags": []
   },
   "outputs": [
    {
     "data": {
      "application/javascript": [
       "\n",
       "try {\n",
       "    Jupyter.notebook.save_checkpoint();\n",
       "    Jupyter.notebook.session.delete();\n",
       "}\n",
       "catch(err) {\n",
       "    // NoOp\n",
       "}\n"
      ],
      "text/plain": [
       "<IPython.core.display.Javascript object>"
      ]
     },
     "metadata": {},
     "output_type": "display_data"
    }
   ],
   "source": [
    "%%javascript\n",
    "\n",
    "try {\n",
    "    Jupyter.notebook.save_checkpoint();\n",
    "    Jupyter.notebook.session.delete();\n",
    "}\n",
    "catch(err) {\n",
    "    // NoOp\n",
    "}"
   ]
  }
 ],
 "metadata": {
  "availableInstances": [
   {
    "_defaultOrder": 0,
    "_isFastLaunch": true,
    "category": "General purpose",
    "gpuNum": 0,
    "hideHardwareSpecs": false,
    "memoryGiB": 4,
    "name": "ml.t3.medium",
    "vcpuNum": 2
   },
   {
    "_defaultOrder": 1,
    "_isFastLaunch": false,
    "category": "General purpose",
    "gpuNum": 0,
    "hideHardwareSpecs": false,
    "memoryGiB": 8,
    "name": "ml.t3.large",
    "vcpuNum": 2
   },
   {
    "_defaultOrder": 2,
    "_isFastLaunch": false,
    "category": "General purpose",
    "gpuNum": 0,
    "hideHardwareSpecs": false,
    "memoryGiB": 16,
    "name": "ml.t3.xlarge",
    "vcpuNum": 4
   },
   {
    "_defaultOrder": 3,
    "_isFastLaunch": false,
    "category": "General purpose",
    "gpuNum": 0,
    "hideHardwareSpecs": false,
    "memoryGiB": 32,
    "name": "ml.t3.2xlarge",
    "vcpuNum": 8
   },
   {
    "_defaultOrder": 4,
    "_isFastLaunch": true,
    "category": "General purpose",
    "gpuNum": 0,
    "hideHardwareSpecs": false,
    "memoryGiB": 8,
    "name": "ml.m5.large",
    "vcpuNum": 2
   },
   {
    "_defaultOrder": 5,
    "_isFastLaunch": false,
    "category": "General purpose",
    "gpuNum": 0,
    "hideHardwareSpecs": false,
    "memoryGiB": 16,
    "name": "ml.m5.xlarge",
    "vcpuNum": 4
   },
   {
    "_defaultOrder": 6,
    "_isFastLaunch": false,
    "category": "General purpose",
    "gpuNum": 0,
    "hideHardwareSpecs": false,
    "memoryGiB": 32,
    "name": "ml.m5.2xlarge",
    "vcpuNum": 8
   },
   {
    "_defaultOrder": 7,
    "_isFastLaunch": false,
    "category": "General purpose",
    "gpuNum": 0,
    "hideHardwareSpecs": false,
    "memoryGiB": 64,
    "name": "ml.m5.4xlarge",
    "vcpuNum": 16
   },
   {
    "_defaultOrder": 8,
    "_isFastLaunch": false,
    "category": "General purpose",
    "gpuNum": 0,
    "hideHardwareSpecs": false,
    "memoryGiB": 128,
    "name": "ml.m5.8xlarge",
    "vcpuNum": 32
   },
   {
    "_defaultOrder": 9,
    "_isFastLaunch": false,
    "category": "General purpose",
    "gpuNum": 0,
    "hideHardwareSpecs": false,
    "memoryGiB": 192,
    "name": "ml.m5.12xlarge",
    "vcpuNum": 48
   },
   {
    "_defaultOrder": 10,
    "_isFastLaunch": false,
    "category": "General purpose",
    "gpuNum": 0,
    "hideHardwareSpecs": false,
    "memoryGiB": 256,
    "name": "ml.m5.16xlarge",
    "vcpuNum": 64
   },
   {
    "_defaultOrder": 11,
    "_isFastLaunch": false,
    "category": "General purpose",
    "gpuNum": 0,
    "hideHardwareSpecs": false,
    "memoryGiB": 384,
    "name": "ml.m5.24xlarge",
    "vcpuNum": 96
   },
   {
    "_defaultOrder": 12,
    "_isFastLaunch": false,
    "category": "General purpose",
    "gpuNum": 0,
    "hideHardwareSpecs": false,
    "memoryGiB": 8,
    "name": "ml.m5d.large",
    "vcpuNum": 2
   },
   {
    "_defaultOrder": 13,
    "_isFastLaunch": false,
    "category": "General purpose",
    "gpuNum": 0,
    "hideHardwareSpecs": false,
    "memoryGiB": 16,
    "name": "ml.m5d.xlarge",
    "vcpuNum": 4
   },
   {
    "_defaultOrder": 14,
    "_isFastLaunch": false,
    "category": "General purpose",
    "gpuNum": 0,
    "hideHardwareSpecs": false,
    "memoryGiB": 32,
    "name": "ml.m5d.2xlarge",
    "vcpuNum": 8
   },
   {
    "_defaultOrder": 15,
    "_isFastLaunch": false,
    "category": "General purpose",
    "gpuNum": 0,
    "hideHardwareSpecs": false,
    "memoryGiB": 64,
    "name": "ml.m5d.4xlarge",
    "vcpuNum": 16
   },
   {
    "_defaultOrder": 16,
    "_isFastLaunch": false,
    "category": "General purpose",
    "gpuNum": 0,
    "hideHardwareSpecs": false,
    "memoryGiB": 128,
    "name": "ml.m5d.8xlarge",
    "vcpuNum": 32
   },
   {
    "_defaultOrder": 17,
    "_isFastLaunch": false,
    "category": "General purpose",
    "gpuNum": 0,
    "hideHardwareSpecs": false,
    "memoryGiB": 192,
    "name": "ml.m5d.12xlarge",
    "vcpuNum": 48
   },
   {
    "_defaultOrder": 18,
    "_isFastLaunch": false,
    "category": "General purpose",
    "gpuNum": 0,
    "hideHardwareSpecs": false,
    "memoryGiB": 256,
    "name": "ml.m5d.16xlarge",
    "vcpuNum": 64
   },
   {
    "_defaultOrder": 19,
    "_isFastLaunch": false,
    "category": "General purpose",
    "gpuNum": 0,
    "hideHardwareSpecs": false,
    "memoryGiB": 384,
    "name": "ml.m5d.24xlarge",
    "vcpuNum": 96
   },
   {
    "_defaultOrder": 20,
    "_isFastLaunch": false,
    "category": "General purpose",
    "gpuNum": 0,
    "hideHardwareSpecs": true,
    "memoryGiB": 0,
    "name": "ml.geospatial.interactive",
    "supportedImageNames": [
     "sagemaker-geospatial-v1-0"
    ],
    "vcpuNum": 0
   },
   {
    "_defaultOrder": 21,
    "_isFastLaunch": true,
    "category": "Compute optimized",
    "gpuNum": 0,
    "hideHardwareSpecs": false,
    "memoryGiB": 4,
    "name": "ml.c5.large",
    "vcpuNum": 2
   },
   {
    "_defaultOrder": 22,
    "_isFastLaunch": false,
    "category": "Compute optimized",
    "gpuNum": 0,
    "hideHardwareSpecs": false,
    "memoryGiB": 8,
    "name": "ml.c5.xlarge",
    "vcpuNum": 4
   },
   {
    "_defaultOrder": 23,
    "_isFastLaunch": false,
    "category": "Compute optimized",
    "gpuNum": 0,
    "hideHardwareSpecs": false,
    "memoryGiB": 16,
    "name": "ml.c5.2xlarge",
    "vcpuNum": 8
   },
   {
    "_defaultOrder": 24,
    "_isFastLaunch": false,
    "category": "Compute optimized",
    "gpuNum": 0,
    "hideHardwareSpecs": false,
    "memoryGiB": 32,
    "name": "ml.c5.4xlarge",
    "vcpuNum": 16
   },
   {
    "_defaultOrder": 25,
    "_isFastLaunch": false,
    "category": "Compute optimized",
    "gpuNum": 0,
    "hideHardwareSpecs": false,
    "memoryGiB": 72,
    "name": "ml.c5.9xlarge",
    "vcpuNum": 36
   },
   {
    "_defaultOrder": 26,
    "_isFastLaunch": false,
    "category": "Compute optimized",
    "gpuNum": 0,
    "hideHardwareSpecs": false,
    "memoryGiB": 96,
    "name": "ml.c5.12xlarge",
    "vcpuNum": 48
   },
   {
    "_defaultOrder": 27,
    "_isFastLaunch": false,
    "category": "Compute optimized",
    "gpuNum": 0,
    "hideHardwareSpecs": false,
    "memoryGiB": 144,
    "name": "ml.c5.18xlarge",
    "vcpuNum": 72
   },
   {
    "_defaultOrder": 28,
    "_isFastLaunch": false,
    "category": "Compute optimized",
    "gpuNum": 0,
    "hideHardwareSpecs": false,
    "memoryGiB": 192,
    "name": "ml.c5.24xlarge",
    "vcpuNum": 96
   },
   {
    "_defaultOrder": 29,
    "_isFastLaunch": true,
    "category": "Accelerated computing",
    "gpuNum": 1,
    "hideHardwareSpecs": false,
    "memoryGiB": 16,
    "name": "ml.g4dn.xlarge",
    "vcpuNum": 4
   },
   {
    "_defaultOrder": 30,
    "_isFastLaunch": false,
    "category": "Accelerated computing",
    "gpuNum": 1,
    "hideHardwareSpecs": false,
    "memoryGiB": 32,
    "name": "ml.g4dn.2xlarge",
    "vcpuNum": 8
   },
   {
    "_defaultOrder": 31,
    "_isFastLaunch": false,
    "category": "Accelerated computing",
    "gpuNum": 1,
    "hideHardwareSpecs": false,
    "memoryGiB": 64,
    "name": "ml.g4dn.4xlarge",
    "vcpuNum": 16
   },
   {
    "_defaultOrder": 32,
    "_isFastLaunch": false,
    "category": "Accelerated computing",
    "gpuNum": 1,
    "hideHardwareSpecs": false,
    "memoryGiB": 128,
    "name": "ml.g4dn.8xlarge",
    "vcpuNum": 32
   },
   {
    "_defaultOrder": 33,
    "_isFastLaunch": false,
    "category": "Accelerated computing",
    "gpuNum": 4,
    "hideHardwareSpecs": false,
    "memoryGiB": 192,
    "name": "ml.g4dn.12xlarge",
    "vcpuNum": 48
   },
   {
    "_defaultOrder": 34,
    "_isFastLaunch": false,
    "category": "Accelerated computing",
    "gpuNum": 1,
    "hideHardwareSpecs": false,
    "memoryGiB": 256,
    "name": "ml.g4dn.16xlarge",
    "vcpuNum": 64
   },
   {
    "_defaultOrder": 35,
    "_isFastLaunch": false,
    "category": "Accelerated computing",
    "gpuNum": 1,
    "hideHardwareSpecs": false,
    "memoryGiB": 61,
    "name": "ml.p3.2xlarge",
    "vcpuNum": 8
   },
   {
    "_defaultOrder": 36,
    "_isFastLaunch": false,
    "category": "Accelerated computing",
    "gpuNum": 4,
    "hideHardwareSpecs": false,
    "memoryGiB": 244,
    "name": "ml.p3.8xlarge",
    "vcpuNum": 32
   },
   {
    "_defaultOrder": 37,
    "_isFastLaunch": false,
    "category": "Accelerated computing",
    "gpuNum": 8,
    "hideHardwareSpecs": false,
    "memoryGiB": 488,
    "name": "ml.p3.16xlarge",
    "vcpuNum": 64
   },
   {
    "_defaultOrder": 38,
    "_isFastLaunch": false,
    "category": "Accelerated computing",
    "gpuNum": 8,
    "hideHardwareSpecs": false,
    "memoryGiB": 768,
    "name": "ml.p3dn.24xlarge",
    "vcpuNum": 96
   },
   {
    "_defaultOrder": 39,
    "_isFastLaunch": false,
    "category": "Memory Optimized",
    "gpuNum": 0,
    "hideHardwareSpecs": false,
    "memoryGiB": 16,
    "name": "ml.r5.large",
    "vcpuNum": 2
   },
   {
    "_defaultOrder": 40,
    "_isFastLaunch": false,
    "category": "Memory Optimized",
    "gpuNum": 0,
    "hideHardwareSpecs": false,
    "memoryGiB": 32,
    "name": "ml.r5.xlarge",
    "vcpuNum": 4
   },
   {
    "_defaultOrder": 41,
    "_isFastLaunch": false,
    "category": "Memory Optimized",
    "gpuNum": 0,
    "hideHardwareSpecs": false,
    "memoryGiB": 64,
    "name": "ml.r5.2xlarge",
    "vcpuNum": 8
   },
   {
    "_defaultOrder": 42,
    "_isFastLaunch": false,
    "category": "Memory Optimized",
    "gpuNum": 0,
    "hideHardwareSpecs": false,
    "memoryGiB": 128,
    "name": "ml.r5.4xlarge",
    "vcpuNum": 16
   },
   {
    "_defaultOrder": 43,
    "_isFastLaunch": false,
    "category": "Memory Optimized",
    "gpuNum": 0,
    "hideHardwareSpecs": false,
    "memoryGiB": 256,
    "name": "ml.r5.8xlarge",
    "vcpuNum": 32
   },
   {
    "_defaultOrder": 44,
    "_isFastLaunch": false,
    "category": "Memory Optimized",
    "gpuNum": 0,
    "hideHardwareSpecs": false,
    "memoryGiB": 384,
    "name": "ml.r5.12xlarge",
    "vcpuNum": 48
   },
   {
    "_defaultOrder": 45,
    "_isFastLaunch": false,
    "category": "Memory Optimized",
    "gpuNum": 0,
    "hideHardwareSpecs": false,
    "memoryGiB": 512,
    "name": "ml.r5.16xlarge",
    "vcpuNum": 64
   },
   {
    "_defaultOrder": 46,
    "_isFastLaunch": false,
    "category": "Memory Optimized",
    "gpuNum": 0,
    "hideHardwareSpecs": false,
    "memoryGiB": 768,
    "name": "ml.r5.24xlarge",
    "vcpuNum": 96
   },
   {
    "_defaultOrder": 47,
    "_isFastLaunch": false,
    "category": "Accelerated computing",
    "gpuNum": 1,
    "hideHardwareSpecs": false,
    "memoryGiB": 16,
    "name": "ml.g5.xlarge",
    "vcpuNum": 4
   },
   {
    "_defaultOrder": 48,
    "_isFastLaunch": false,
    "category": "Accelerated computing",
    "gpuNum": 1,
    "hideHardwareSpecs": false,
    "memoryGiB": 32,
    "name": "ml.g5.2xlarge",
    "vcpuNum": 8
   },
   {
    "_defaultOrder": 49,
    "_isFastLaunch": false,
    "category": "Accelerated computing",
    "gpuNum": 1,
    "hideHardwareSpecs": false,
    "memoryGiB": 64,
    "name": "ml.g5.4xlarge",
    "vcpuNum": 16
   },
   {
    "_defaultOrder": 50,
    "_isFastLaunch": false,
    "category": "Accelerated computing",
    "gpuNum": 1,
    "hideHardwareSpecs": false,
    "memoryGiB": 128,
    "name": "ml.g5.8xlarge",
    "vcpuNum": 32
   },
   {
    "_defaultOrder": 51,
    "_isFastLaunch": false,
    "category": "Accelerated computing",
    "gpuNum": 1,
    "hideHardwareSpecs": false,
    "memoryGiB": 256,
    "name": "ml.g5.16xlarge",
    "vcpuNum": 64
   },
   {
    "_defaultOrder": 52,
    "_isFastLaunch": false,
    "category": "Accelerated computing",
    "gpuNum": 4,
    "hideHardwareSpecs": false,
    "memoryGiB": 192,
    "name": "ml.g5.12xlarge",
    "vcpuNum": 48
   },
   {
    "_defaultOrder": 53,
    "_isFastLaunch": false,
    "category": "Accelerated computing",
    "gpuNum": 4,
    "hideHardwareSpecs": false,
    "memoryGiB": 384,
    "name": "ml.g5.24xlarge",
    "vcpuNum": 96
   },
   {
    "_defaultOrder": 54,
    "_isFastLaunch": false,
    "category": "Accelerated computing",
    "gpuNum": 8,
    "hideHardwareSpecs": false,
    "memoryGiB": 768,
    "name": "ml.g5.48xlarge",
    "vcpuNum": 192
   },
   {
    "_defaultOrder": 55,
    "_isFastLaunch": false,
    "category": "Accelerated computing",
    "gpuNum": 8,
    "hideHardwareSpecs": false,
    "memoryGiB": 1152,
    "name": "ml.p4d.24xlarge",
    "vcpuNum": 96
   },
   {
    "_defaultOrder": 56,
    "_isFastLaunch": false,
    "category": "Accelerated computing",
    "gpuNum": 8,
    "hideHardwareSpecs": false,
    "memoryGiB": 1152,
    "name": "ml.p4de.24xlarge",
    "vcpuNum": 96
   },
   {
    "_defaultOrder": 57,
    "_isFastLaunch": false,
    "category": "Accelerated computing",
    "gpuNum": 0,
    "hideHardwareSpecs": false,
    "memoryGiB": 32,
    "name": "ml.trn1.2xlarge",
    "vcpuNum": 8
   },
   {
    "_defaultOrder": 58,
    "_isFastLaunch": false,
    "category": "Accelerated computing",
    "gpuNum": 0,
    "hideHardwareSpecs": false,
    "memoryGiB": 512,
    "name": "ml.trn1.32xlarge",
    "vcpuNum": 128
   },
   {
    "_defaultOrder": 59,
    "_isFastLaunch": false,
    "category": "Accelerated computing",
    "gpuNum": 0,
    "hideHardwareSpecs": false,
    "memoryGiB": 512,
    "name": "ml.trn1n.32xlarge",
    "vcpuNum": 128
   }
  ],
  "instance_type": "ml.t3.medium",
  "kernelspec": {
   "display_name": "Python 3 (Data Science 2.0)",
   "language": "python",
   "name": "python3__SAGEMAKER_INTERNAL__arn:aws:sagemaker:us-east-1:081325390199:image/sagemaker-data-science-38"
  },
  "language_info": {
   "codemirror_mode": {
    "name": "ipython",
    "version": 3
   },
   "file_extension": ".py",
   "mimetype": "text/x-python",
   "name": "python",
   "nbconvert_exporter": "python",
   "pygments_lexer": "ipython3",
   "version": "3.8.13"
  }
 },
 "nbformat": 4,
 "nbformat_minor": 5
}
